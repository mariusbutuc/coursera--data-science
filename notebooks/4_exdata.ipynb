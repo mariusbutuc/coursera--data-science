{
 "metadata": {
  "name": "",
  "signature": "sha256:29464b769b84444cec091f223b65db874b18310d7460a404c93b02b5d522c9aa"
 },
 "nbformat": 3,
 "nbformat_minor": 0,
 "worksheets": [
  {
   "cells": [
    {
     "cell_type": "markdown",
     "metadata": {},
     "source": [
      "#Exploratory Data Analysys"
     ]
    },
    {
     "cell_type": "markdown",
     "metadata": {},
     "source": [
      "## Intro\n",
      "  - 4th class\n",
      "  - prerequisites\n",
      "    1. [basic tools in the toolbox](https://www.coursera.org/course/datascitoolbox \"The Data Scientist's Toolbox\")\n",
      "    2. [basics of r programming](https://www.coursera.org/course/rprog \"R Programming\"): functions & operations on data\n",
      "    3. [getting & processing data](https://www.coursera.org/course/getdata \"Getting and Cleaning Data\") from the Internet & through various APIs\n",
      "  - now's the time for:\n",
      "    - look at your dataset & see what's going on\n",
      "    - what are the kinds of plots you want to make\n",
      "  - before we do:\n",
      "    - modelling\n",
      "    - prediction\n",
      "    - inference\n",
      "  - we'll talk about:\n",
      "    - plotting in R\n",
      "    - basic principles of making analytic graphics\n",
      "    - case studies of exploratory data analysis"
     ]
    },
    {
     "cell_type": "markdown",
     "metadata": {},
     "source": [
      "## Principles of Graphics\n",
      "  - general rules that one can follow when building analytic graphics from data, and we're trying to tell a story about what's happening in the data.\n",
      "  - [Beautiful Evidence, by Edward Tufte](http://www.amazon.ca/Beautiful-Evidence-Edward-R-Tufte/dp/0961392177)\n",
      "    1. **Show comparisons**\n",
      "      - always show something relative to something else\n",
      "        - evidence for a hypothesis or an idea about the world is always going to be _relative_ to another competing hypothesis\n",
      "        - Q: _compared to what?_\n",
      "    2. **Show causality, mechanism, explanation,** systematic structure.\n",
      "      - try to explain how the system is operating, how the world is working \u2013\u2013 at least according to your ideas\n",
      "        - what's the causal framework for thinking about the question you're interested in?\n",
      "        - Q: _why does dos it work that way?_ What's the explanation?\n",
      "    3. **Show multivariate data**\n",
      "      - always try to show more than 2 variables \u2013\u2013 because the world is complex and it involves many variables\n",
      "        - show as much data on a single plot as you can\n",
      "        - _the world is multivariate_ (more than 2 variables) so tell a much richer story\n",
      "        - need to escape \"flat land\"\n",
      "        - [Simpson's paradox](http://en.wikipedia.org/wiki/Simpson's_paradox)\n",
      "    4. **Integrate multiple modes of evidence**\n",
      "      - use tables and plots and text all together \u2013\u2013 you don't have to keep them separate if you don't want to.\n",
      "        - combine different modes of evidence into a single presentation\n",
      "        - don't let the tool drive the analysis \u2013\u2013 if you have a tool that only makes a plot, there is no reason to only show a plot\n",
      "    5. **Describe and document the evidence** with appropriate labels, scales, sources, etc\n",
      "      - always have sources and sourcecode to lend credibility to your plots\n",
      "        - you want to lend some credibility to the evidence that you present\n",
      "          - provide sources of where the data came from\n",
      "          - how you made the plot is also important \u2013\u2013 preserve the code\n",
      "    6. **Content is king**\n",
      "      - the story that you tell, the data that you use are the most important elements of any graphic\n",
      "        - if you don't have an interesting story to tell, there is no amount of presentation that will make it interesting\n",
      "        - Q: first ask _what's the content you want to present?_ \u2013\u2013 what's the _story_ you want to tell? what's the _data_ that you have?\n",
      "        - only then think about what's the best way to present it? \u2013\u2013 how am I going to present it? what is it going to look like?"
     ]
    },
    {
     "cell_type": "markdown",
     "metadata": {},
     "source": [
      "## Exploratory Graphs\n",
      "- why do we use graphs in data analysis?\n",
      "  - To understand data properties\n",
      "  - To find patterns in data\n",
      "  - To suggest modelling strategies\n",
      "  - To \"debug\" analyses\n",
      "  - ~~To communicate results~~ \n",
      "- underlying question \u2013\u2013 _What do my data look like?_"
     ]
    },
    {
     "cell_type": "code",
     "collapsed": false,
     "input": [
      "# http://nbviewer.ipython.org/github/ipython/ipython/blob/1.x/examples/notebooks/Cell%20Magics.ipynb#Rmagic-Functions-Extension\n",
      "# http://nbviewer.ipython.org/github/davidrpugh/cookbook-code/blob/master/notebooks/chapter07_stats/08_r.ipynb\n",
      "#\n",
      "# sudo apt-get install r-base-dev python-rpy2\n",
      "\n",
      "%load_ext rmagic"
     ],
     "language": "python",
     "metadata": {},
     "outputs": [
      {
       "output_type": "stream",
       "stream": "stdout",
       "text": [
        "The rmagic extension is already loaded. To reload it, use:\n",
        "  %reload_ext rmagic\n"
       ]
      }
     ],
     "prompt_number": 4
    },
    {
     "cell_type": "code",
     "collapsed": false,
     "input": [
      "%%R\n",
      "pollution <- read.csv(\"/science_data/avgpm25.csv\", colClasses = c(\"numeric\", \"character\", \"factor\", \"numeric\", \"numeric\"))"
     ],
     "language": "python",
     "metadata": {},
     "outputs": [
      {
       "ename": "AttributeError",
       "evalue": "'module' object has no attribute 'ri2py'",
       "output_type": "pyerr",
       "traceback": [
        "\u001b[1;31m---------------------------------------------------------------------------\u001b[0m\n\u001b[1;31mAttributeError\u001b[0m                            Traceback (most recent call last)",
        "\u001b[1;32m<ipython-input-3-b35f8ffbc61b>\u001b[0m in \u001b[0;36m<module>\u001b[1;34m()\u001b[0m\n\u001b[1;32m----> 1\u001b[1;33m \u001b[0mget_ipython\u001b[0m\u001b[1;33m(\u001b[0m\u001b[1;33m)\u001b[0m\u001b[1;33m.\u001b[0m\u001b[0mrun_cell_magic\u001b[0m\u001b[1;33m(\u001b[0m\u001b[1;34mu'R'\u001b[0m\u001b[1;33m,\u001b[0m \u001b[1;34mu''\u001b[0m\u001b[1;33m,\u001b[0m \u001b[1;34mu'pollution <- read.csv(\"/science_data/avgpm25.csv\", colClasses = c(\"numeric\", \"character\", \"factor\", \"numeric\", \"numeric\"))'\u001b[0m\u001b[1;33m)\u001b[0m\u001b[1;33m\u001b[0m\u001b[0m\n\u001b[0m",
        "\u001b[1;32m/usr/local/lib/python2.7/dist-packages/IPython/core/interactiveshell.pyc\u001b[0m in \u001b[0;36mrun_cell_magic\u001b[1;34m(self, magic_name, line, cell)\u001b[0m\n\u001b[0;32m   2160\u001b[0m             \u001b[0mmagic_arg_s\u001b[0m \u001b[1;33m=\u001b[0m \u001b[0mself\u001b[0m\u001b[1;33m.\u001b[0m\u001b[0mvar_expand\u001b[0m\u001b[1;33m(\u001b[0m\u001b[0mline\u001b[0m\u001b[1;33m,\u001b[0m \u001b[0mstack_depth\u001b[0m\u001b[1;33m)\u001b[0m\u001b[1;33m\u001b[0m\u001b[0m\n\u001b[0;32m   2161\u001b[0m             \u001b[1;32mwith\u001b[0m \u001b[0mself\u001b[0m\u001b[1;33m.\u001b[0m\u001b[0mbuiltin_trap\u001b[0m\u001b[1;33m:\u001b[0m\u001b[1;33m\u001b[0m\u001b[0m\n\u001b[1;32m-> 2162\u001b[1;33m                 \u001b[0mresult\u001b[0m \u001b[1;33m=\u001b[0m \u001b[0mfn\u001b[0m\u001b[1;33m(\u001b[0m\u001b[0mmagic_arg_s\u001b[0m\u001b[1;33m,\u001b[0m \u001b[0mcell\u001b[0m\u001b[1;33m)\u001b[0m\u001b[1;33m\u001b[0m\u001b[0m\n\u001b[0m\u001b[0;32m   2163\u001b[0m             \u001b[1;32mreturn\u001b[0m \u001b[0mresult\u001b[0m\u001b[1;33m\u001b[0m\u001b[0m\n\u001b[0;32m   2164\u001b[0m \u001b[1;33m\u001b[0m\u001b[0m\n",
        "\u001b[1;32m/usr/local/lib/python2.7/dist-packages/IPython/extensions/rmagic.pyc\u001b[0m in \u001b[0;36mR\u001b[1;34m(self, line, cell, local_ns)\u001b[0m\n",
        "\u001b[1;32m/usr/local/lib/python2.7/dist-packages/IPython/core/magic.pyc\u001b[0m in \u001b[0;36m<lambda>\u001b[1;34m(f, *a, **k)\u001b[0m\n\u001b[0;32m    191\u001b[0m     \u001b[1;31m# but it's overkill for just that one bit of state.\u001b[0m\u001b[1;33m\u001b[0m\u001b[1;33m\u001b[0m\u001b[0m\n\u001b[0;32m    192\u001b[0m     \u001b[1;32mdef\u001b[0m \u001b[0mmagic_deco\u001b[0m\u001b[1;33m(\u001b[0m\u001b[0marg\u001b[0m\u001b[1;33m)\u001b[0m\u001b[1;33m:\u001b[0m\u001b[1;33m\u001b[0m\u001b[0m\n\u001b[1;32m--> 193\u001b[1;33m         \u001b[0mcall\u001b[0m \u001b[1;33m=\u001b[0m \u001b[1;32mlambda\u001b[0m \u001b[0mf\u001b[0m\u001b[1;33m,\u001b[0m \u001b[1;33m*\u001b[0m\u001b[0ma\u001b[0m\u001b[1;33m,\u001b[0m \u001b[1;33m**\u001b[0m\u001b[0mk\u001b[0m\u001b[1;33m:\u001b[0m \u001b[0mf\u001b[0m\u001b[1;33m(\u001b[0m\u001b[1;33m*\u001b[0m\u001b[0ma\u001b[0m\u001b[1;33m,\u001b[0m \u001b[1;33m**\u001b[0m\u001b[0mk\u001b[0m\u001b[1;33m)\u001b[0m\u001b[1;33m\u001b[0m\u001b[0m\n\u001b[0m\u001b[0;32m    194\u001b[0m \u001b[1;33m\u001b[0m\u001b[0m\n\u001b[0;32m    195\u001b[0m         \u001b[1;32mif\u001b[0m \u001b[0mcallable\u001b[0m\u001b[1;33m(\u001b[0m\u001b[0marg\u001b[0m\u001b[1;33m)\u001b[0m\u001b[1;33m:\u001b[0m\u001b[1;33m\u001b[0m\u001b[0m\n",
        "\u001b[1;32m/usr/local/lib/python2.7/dist-packages/IPython/extensions/rmagic.pyc\u001b[0m in \u001b[0;36mR\u001b[1;34m(self, line, cell, local_ns)\u001b[0m\n\u001b[0;32m    610\u001b[0m                     \u001b[0mreturn_output\u001b[0m \u001b[1;33m=\u001b[0m \u001b[0mFalse\u001b[0m\u001b[1;33m\u001b[0m\u001b[0m\n\u001b[0;32m    611\u001b[0m             \u001b[1;32melse\u001b[0m\u001b[1;33m:\u001b[0m\u001b[1;33m\u001b[0m\u001b[0m\n\u001b[1;32m--> 612\u001b[1;33m                 \u001b[0mtext_result\u001b[0m\u001b[1;33m,\u001b[0m \u001b[0mresult\u001b[0m\u001b[1;33m,\u001b[0m \u001b[0mvisible\u001b[0m \u001b[1;33m=\u001b[0m \u001b[0mself\u001b[0m\u001b[1;33m.\u001b[0m\u001b[0meval\u001b[0m\u001b[1;33m(\u001b[0m\u001b[0mcode\u001b[0m\u001b[1;33m)\u001b[0m\u001b[1;33m\u001b[0m\u001b[0m\n\u001b[0m\u001b[0;32m    613\u001b[0m                 \u001b[0mtext_output\u001b[0m \u001b[1;33m+=\u001b[0m \u001b[0mtext_result\u001b[0m\u001b[1;33m\u001b[0m\u001b[0m\n\u001b[0;32m    614\u001b[0m                 \u001b[1;32mif\u001b[0m \u001b[0mvisible\u001b[0m\u001b[1;33m:\u001b[0m\u001b[1;33m\u001b[0m\u001b[0m\n",
        "\u001b[1;32m/usr/local/lib/python2.7/dist-packages/IPython/extensions/rmagic.pyc\u001b[0m in \u001b[0;36meval\u001b[1;34m(self, line)\u001b[0m\n\u001b[0;32m    212\u001b[0m             \u001b[0mres\u001b[0m \u001b[1;33m=\u001b[0m \u001b[0mro\u001b[0m\u001b[1;33m.\u001b[0m\u001b[0mr\u001b[0m\u001b[1;33m(\u001b[0m\u001b[1;34m\"withVisible({%s\\n})\"\u001b[0m \u001b[1;33m%\u001b[0m \u001b[0mline\u001b[0m\u001b[1;33m)\u001b[0m\u001b[1;33m\u001b[0m\u001b[0m\n\u001b[0;32m    213\u001b[0m             \u001b[0mvalue\u001b[0m \u001b[1;33m=\u001b[0m \u001b[0mres\u001b[0m\u001b[1;33m[\u001b[0m\u001b[1;36m0\u001b[0m\u001b[1;33m]\u001b[0m \u001b[1;31m#value (R object)\u001b[0m\u001b[1;33m\u001b[0m\u001b[0m\n\u001b[1;32m--> 214\u001b[1;33m             \u001b[0mvisible\u001b[0m \u001b[1;33m=\u001b[0m \u001b[0mro\u001b[0m\u001b[1;33m.\u001b[0m\u001b[0mconversion\u001b[0m\u001b[1;33m.\u001b[0m\u001b[0mri2py\u001b[0m\u001b[1;33m(\u001b[0m\u001b[0mres\u001b[0m\u001b[1;33m[\u001b[0m\u001b[1;36m1\u001b[0m\u001b[1;33m]\u001b[0m\u001b[1;33m)\u001b[0m\u001b[1;33m[\u001b[0m\u001b[1;36m0\u001b[0m\u001b[1;33m]\u001b[0m \u001b[1;31m#visible (boolean)\u001b[0m\u001b[1;33m\u001b[0m\u001b[0m\n\u001b[0m\u001b[0;32m    215\u001b[0m         \u001b[1;32mexcept\u001b[0m \u001b[1;33m(\u001b[0m\u001b[0mri\u001b[0m\u001b[1;33m.\u001b[0m\u001b[0mRRuntimeError\u001b[0m\u001b[1;33m,\u001b[0m \u001b[0mValueError\u001b[0m\u001b[1;33m)\u001b[0m \u001b[1;32mas\u001b[0m \u001b[0mexception\u001b[0m\u001b[1;33m:\u001b[0m\u001b[1;33m\u001b[0m\u001b[0m\n\u001b[0;32m    216\u001b[0m             \u001b[0mwarning_or_other_msg\u001b[0m \u001b[1;33m=\u001b[0m \u001b[0mself\u001b[0m\u001b[1;33m.\u001b[0m\u001b[0mflush\u001b[0m\u001b[1;33m(\u001b[0m\u001b[1;33m)\u001b[0m \u001b[1;31m# otherwise next return seems to have copy of error\u001b[0m\u001b[1;33m\u001b[0m\u001b[0m\n",
        "\u001b[1;31mAttributeError\u001b[0m: 'module' object has no attribute 'ri2py'"
       ]
      }
     ],
     "prompt_number": 3
    },
    {
     "cell_type": "code",
     "collapsed": false,
     "input": [],
     "language": "python",
     "metadata": {},
     "outputs": []
    }
   ],
   "metadata": {}
  }
 ]
}