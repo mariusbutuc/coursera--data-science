{
 "metadata": {
  "name": "",
  "signature": "sha256:8219e10f173f4b4a8a2d767f64abd2d4031403aa160baf1c67df81c70f3428a0"
 },
 "nbformat": 3,
 "nbformat_minor": 0,
 "worksheets": [
  {
   "cells": [
    {
     "cell_type": "heading",
     "level": 1,
     "metadata": {},
     "source": [
      "[The Data Scientist's Toolbox](https://www.coursera.org/course/datascitoolbox)"
     ]
    },
    {
     "cell_type": "markdown",
     "metadata": {},
     "source": [
      "![The Data Scientist's Toolbox](https://raw.githubusercontent.com/mariusbutuc/coursera--data-science/master/img/01-data_scientists_toolbox.jpg)"
     ]
    },
    {
     "cell_type": "heading",
     "level": 3,
     "metadata": {},
     "source": [
      "Nov 3<sup>rd</sup>&mdash;Dec 1<sup>st</sup> 2014 Edition"
     ]
    },
    {
     "cell_type": "markdown",
     "metadata": {},
     "source": [
      "> This course can serve as your first step on your path to working in the field.\n",
      ">\n",
      "> In this course you will get an introduction to the main tools and ideas in the data scientist's toolbox.  \n",
      "> The course gives an overview of the _data_, _questions_, and _tools_ that data analysts and data scientists work with. \n",
      ">\n",
      "> There are two components to this course:\n",
      ">   1. The first is a _conceptual_ introduction to the ideas behind turning data into actionable knowledge.\n",
      ">   2. The second is a _practical_ introduction to the tools that will be used in the program like version control, markdown, git, Github, R, and Rstudio.\n",
      ">\n",
      "> \u2014Jeff Leek"
     ]
    },
    {
     "cell_type": "markdown",
     "metadata": {},
     "source": [
      "Quick jump to:\n",
      "* [Week #1](#Week-#1)\n",
      "* [Week #2](#Week-#2)\n",
      "* [Week #3](#Week-#3)\n",
      "* [Week #4](#Week-#4)"
     ]
    },
    {
     "cell_type": "heading",
     "level": 1,
     "metadata": {},
     "source": [
      "Week #1"
     ]
    },
    {
     "cell_type": "markdown",
     "metadata": {},
     "source": [
      "---"
     ]
    },
    {
     "cell_type": "heading",
     "level": 1,
     "metadata": {},
     "source": [
      "Week #2"
     ]
    },
    {
     "cell_type": "heading",
     "level": 2,
     "metadata": {},
     "source": [
      "Intro to the CLI"
     ]
    },
    {
     "cell_type": "markdown",
     "metadata": {},
     "source": [
      "* command flags arguments\n",
      "* `pwd` \u2014 _print working directory_\n",
      "* `clear` \u2014 _clear the screen_\n",
      "* `ls -al` \u2014 _list files [all, with details]_\n",
      "* `cd` \u2014 _change working directory_\n",
      "* `mkdir` \u2014 _create directory_\n",
      "* `touch` \u2014 _create file_\n",
      "* `cp <source> <destination>` \u2014 _copy file(s)_\n",
      "* `cp -r <dir>` \u2014 _recursive copy_\n",
      "* `rm <file>` \u2014 _[permanently] delete file_\n",
      "* `rm -r <dir>` \u2014 _recursive delete_\n",
      "* `mv <source> <destination>` \u2014 _move / rename_\n",
      "* `echo` \u2014 _output contents_\n",
      "* `date` \u2014 _print current date, time_"
     ]
    },
    {
     "cell_type": "markdown",
     "metadata": {},
     "source": [
      "---"
     ]
    },
    {
     "cell_type": "markdown",
     "metadata": {},
     "source": [
      "Quick jump to:\n",
      "* [Week #1](#Week-#1)\n",
      "* [Week #2](#Week-#2)\n",
      "* [Week #3](#Week-#3)\n",
      "* [Week #4](#Week-#4)"
     ]
    },
    {
     "cell_type": "heading",
     "level": 1,
     "metadata": {},
     "source": [
      "Week #3"
     ]
    },
    {
     "cell_type": "code",
     "collapsed": false,
     "input": [],
     "language": "python",
     "metadata": {},
     "outputs": []
    },
    {
     "cell_type": "markdown",
     "metadata": {},
     "source": [
      "---"
     ]
    },
    {
     "cell_type": "markdown",
     "metadata": {},
     "source": [
      "Quick jump to:\n",
      "* [Week #1](#Week-#1)\n",
      "* [Week #2](#Week-#2)\n",
      "* [Week #3](#Week-#3)\n",
      "* [Week #4](#Week-#4)"
     ]
    },
    {
     "cell_type": "heading",
     "level": 1,
     "metadata": {},
     "source": [
      "Week #4"
     ]
    },
    {
     "cell_type": "code",
     "collapsed": false,
     "input": [],
     "language": "python",
     "metadata": {},
     "outputs": []
    },
    {
     "cell_type": "markdown",
     "metadata": {},
     "source": [
      "---"
     ]
    }
   ],
   "metadata": {}
  }
 ]
}