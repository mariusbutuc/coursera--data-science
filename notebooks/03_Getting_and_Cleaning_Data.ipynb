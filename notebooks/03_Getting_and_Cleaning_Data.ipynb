{
 "metadata": {
  "name": "",
  "signature": "sha256:c3c28a041432d6c0d46031cb3a0e1be26d05d2c6381e9efc0b95b972c67a5193"
 },
 "nbformat": 3,
 "nbformat_minor": 0,
 "worksheets": [
  {
   "cells": [
    {
     "cell_type": "heading",
     "level": 1,
     "metadata": {},
     "source": [
      "[Getting and Cleaning Data](https://www.coursera.org/course/getdata)"
     ]
    },
    {
     "cell_type": "markdown",
     "metadata": {},
     "source": [
      "![Getting and Cleaning Data](https://raw.githubusercontent.com/mariusbutuc/coursera--data-science/master/img/03-obtaining_data.jpg)"
     ]
    },
    {
     "cell_type": "heading",
     "level": 3,
     "metadata": {},
     "source": [
      "Nov 3<sup>rd</sup>\u2014Dec 1<sup>st</sup> 2014 Edition"
     ]
    },
    {
     "cell_type": "markdown",
     "metadata": {},
     "source": [
      "> Before you can work with data you have to get some. \n",
      ">\n",
      "> This course will cover the basic ways that data can be obtained. The course will cover _obtaining data_ from the web, from APIs, and from colleagues in various formats. It will also cover the basics of _data cleaning_ and how to make data \u201ctidy\u201d. Tidy data dramatically speed downstream data analysis tasks. The course will also cover the components of a complete data set including\n",
      ">   * raw data,\n",
      ">   * processing instructions,\n",
      ">   * codebooks, and\n",
      ">   * processed data.\n",
      ">\n",
      "> The course will cover the basics needed for collecting, cleaning, and sharing data.\n",
      ">\n",
      "> \u2014Jeff Leek"
     ]
    },
    {
     "cell_type": "heading",
     "level": 1,
     "metadata": {},
     "source": [
      "Week 1"
     ]
    },
    {
     "cell_type": "heading",
     "level": 2,
     "metadata": {},
     "source": [
      "Motivation"
     ]
    },
    {
     "cell_type": "heading",
     "level": 3,
     "metadata": {},
     "source": [
      "Goal: get your data ready to perform analysis on it:"
     ]
    },
    {
     "cell_type": "markdown",
     "metadata": {},
     "source": [
      "* finding and extracting data\n",
      "* tidy data\n",
      "* R packages to get the job done"
     ]
    },
    {
     "cell_type": "heading",
     "level": 3,
     "metadata": {},
     "source": [
      "What you _wished_ data looked like?"
     ]
    },
    {
     "cell_type": "markdown",
     "metadata": {},
     "source": [
      "* neatly organized, like a **matrix**\n",
      "* every single **row** has one **observation**\n",
      "* every single **column** has exactly one **variable**"
     ]
    },
    {
     "cell_type": "heading",
     "level": 3,
     "metadata": {},
     "source": [
      "What does data _really_ look like?"
     ]
    },
    {
     "cell_type": "markdown",
     "metadata": {},
     "source": [
      "* [fastq file](http://brianknaus.com/software/srtoolbox/s_4_1_sequence80.txt)\n",
      "* JSON data\n",
      "* [free text](http://bluebuttontoolkit.healthit.gov/challenge/)"
     ]
    },
    {
     "cell_type": "heading",
     "level": 3,
     "metadata": {},
     "source": [
      "Where is the data?"
     ]
    },
    {
     "cell_type": "markdown",
     "metadata": {},
     "source": [
      "* stored structured, in various DBs\n",
      "* a file stored locally\n",
      "* available online, via APIs or in downloadable files\n",
      "* (online) [open data](https://data.baltimorecity.gov/)"
     ]
    },
    {
     "cell_type": "heading",
     "level": 3,
     "metadata": {},
     "source": [
      "Data science pipeline:"
     ]
    },
    {
     "cell_type": "markdown",
     "metadata": {},
     "source": [
      "* _raw data_\n",
      "* _processing script_\n",
      "* _tidy data_\n",
      "* data analysis\n",
      "* data communication"
     ]
    },
    {
     "cell_type": "heading",
     "level": 2,
     "metadata": {},
     "source": [
      "Raw and Processed Data"
     ]
    },
    {
     "cell_type": "markdown",
     "metadata": {},
     "source": [
      "[Definition of data](http://en.wikipedia.org/wiki/Data):\n",
      "\n",
      "> Data are values of **qualitative** or **quantitative** **variables**, belonging to a **set of items**.\n",
      "\n",
      "* _set of items_: or **population**, the set of objects you're interested in\n",
      "* _variables_: a measurement, or a characteristic of an item\n",
      "* _qualitative_: country of origin, sex, treatment\n",
      "* _quantitative_: height, weight, blood pressure."
     ]
    },
    {
     "cell_type": "heading",
     "level": 3,
     "metadata": {},
     "source": [
      "Raw Data"
     ]
    },
    {
     "cell_type": "markdown",
     "metadata": {},
     "source": [
      "* The original source of data\n",
      "* Often hard to use for data analyses\n",
      "* Data analysis _includes_ processing\n",
      "* Raw data may only need to be processed once\n",
      "  * record your processing\n",
      "  * as they can have a major impact on downstream analysis"
     ]
    },
    {
     "cell_type": "heading",
     "level": 3,
     "metadata": {},
     "source": [
      "Processed Data"
     ]
    },
    {
     "cell_type": "markdown",
     "metadata": {},
     "source": [
      "* Data that is ready for analysis\n",
      "* Processing can include merging, subsetting, transforming etc.\n",
      "* There may be standards of processing\n",
      "* All steps should be recorded"
     ]
    },
    {
     "cell_type": "heading",
     "level": 2,
     "metadata": {},
     "source": [
      "Tidy Data: Components"
     ]
    },
    {
     "cell_type": "markdown",
     "metadata": {},
     "source": [
      "The 4 things you should have at the end of the process:\n",
      "1. The **raw data**\n",
      "2. A [**tidy data**](http://vita.had.co.nz/papers/tidy-data.pdf) set\n",
      "3. A code book, or **metadata**, explaining what the data is trying to say\n",
      "4. An _explicit_ and _exact_ **recipe** you used to go from 1 \u00bb 2,3."
     ]
    },
    {
     "cell_type": "heading",
     "level": 3,
     "metadata": {},
     "source": [
      "Raw Data, in its rawest form"
     ]
    },
    {
     "cell_type": "markdown",
     "metadata": {},
     "source": [
      "* Ran no software on the data\n",
      "* Did not manipulate any numbers in the data\n",
      "* You did not remove any data from the data set\n",
      "* You did not summarize the data in any way"
     ]
    },
    {
     "cell_type": "heading",
     "level": 3,
     "metadata": {},
     "source": [
      "Tidy Data, as the goal of the process"
     ]
    },
    {
     "cell_type": "markdown",
     "metadata": {},
     "source": [
      "* Each measured **variable** should be in exactly one **column**\n",
      "* Each different **observation** should be in a different **row**\n",
      "* There should be one **table** for each \"**kind**\"/source (from Twitter, Facebook etc.) of variable\n",
      "* If you have **multiple tables**, they should include a column in the table that allows them to be **linked** together."
     ]
    },
    {
     "cell_type": "heading",
     "level": 4,
     "metadata": {},
     "source": [
      "Tips:"
     ]
    },
    {
     "cell_type": "markdown",
     "metadata": {},
     "source": [
      "* Include a row at the top of each file with variable names.\n",
      "* Make variable names descriptive and human readable (AgeDx _vs._ AgeAtDiagnosis)\n",
      "  * error on the side of being more explicit\n",
      "* Save the data in one file per table."
     ]
    },
    {
     "cell_type": "heading",
     "level": 3,
     "metadata": {},
     "source": [
      "The Code Book, a.k.a. the metadata"
     ]
    },
    {
     "cell_type": "markdown",
     "metadata": {},
     "source": [
      "1. Information about the variables (including units!) in the data set not contained in the tidy data\n",
      "2. Information about the summary chouces you made: \n",
      "  * was it the _median_ or the _mean_ revenue that was taken into account?\n",
      "3. Information about the experimental study design you used\n",
      "  * how was the data collected? \n",
      "  * did it come out of a DB, or from an experiment, a randomized trial, or an A/B test..."
     ]
    },
    {
     "cell_type": "heading",
     "level": 4,
     "metadata": {},
     "source": [
      "Tips:"
     ]
    },
    {
     "cell_type": "markdown",
     "metadata": {},
     "source": [
      "* common formats: word, txt, **markdown**\n",
      "* contains a \"**Study design**\" section\n",
      "  * detailed description on how the data was collected\n",
      "    * how you picked which observations to collect?\n",
      "    * what was extracted from the DB, what was excluded?\n",
      "* contains a \"**Code book**\" section\n",
      "  * describes each variable and its units.\n",
      "  * [how to code variables](https://github.com/jtleek/datasharing#how-to-code-variables)"
     ]
    },
    {
     "cell_type": "heading",
     "level": 3,
     "metadata": {},
     "source": [
      "Instructions List"
     ]
    },
    {
     "cell_type": "markdown",
     "metadata": {},
     "source": [
      "* an R / Python script\n",
      "* the input is the raw data\n",
      "* the output is the processed, tidy data\n",
      "* the script doesn't take any paramenters\n",
      "  * re-processing the raw data with the script, exactly the same processed data should come out"
     ]
    },
    {
     "cell_type": "heading",
     "level": 2,
     "metadata": {},
     "source": [
      "Downloading files"
     ]
    },
    {
     "cell_type": "markdown",
     "metadata": {},
     "source": [
      "Why use R to download the files?\n",
      "  * this way the downloading process can be included in the processing script\n",
      "  * provides a better, more complete picture of how the data were collected and generated"
     ]
    },
    {
     "cell_type": "heading",
     "level": 3,
     "metadata": {},
     "source": [
      "Getting/setting the working directory"
     ]
    },
    {
     "cell_type": "markdown",
     "metadata": {},
     "source": [
      "* `getwd()` \u2014 return the working directory\n",
      "* `setwd(\"path/to/directory\")` \u2014 set the working directory"
     ]
    },
    {
     "cell_type": "code",
     "collapsed": false,
     "input": [
      "getwd()"
     ],
     "language": "python",
     "metadata": {},
     "outputs": [
      {
       "metadata": {},
       "output_type": "pyout",
       "prompt_number": 1,
       "text": [
        "[1] \"/home/vagrant\""
       ]
      }
     ],
     "prompt_number": 1
    },
    {
     "cell_type": "code",
     "collapsed": false,
     "input": [
      "# relative\n",
      "setwd('../../science_data')\n",
      "\n",
      "getwd()"
     ],
     "language": "python",
     "metadata": {},
     "outputs": [
      {
       "metadata": {},
       "output_type": "pyout",
       "prompt_number": 2,
       "text": [
        "[1] \"/science_data\""
       ]
      }
     ],
     "prompt_number": 2
    },
    {
     "cell_type": "code",
     "collapsed": false,
     "input": [
      "#absolute\n",
      "setwd('/science_data')\n",
      "\n",
      "getwd()"
     ],
     "language": "python",
     "metadata": {},
     "outputs": [
      {
       "metadata": {},
       "output_type": "pyout",
       "prompt_number": 4,
       "text": [
        "[1] \"/science_data\""
       ]
      }
     ],
     "prompt_number": 4
    },
    {
     "cell_type": "heading",
     "level": 3,
     "metadata": {},
     "source": [
      "Checking for, and creating directories"
     ]
    },
    {
     "cell_type": "markdown",
     "metadata": {},
     "source": [
      "* `file.exists(\"directoryName\")` \u2014 check to see if the _directory_ [?!?] exists\n",
      "* `dir.create(\"directoryName\")` \u2014 create the directory, if it doesn't exist"
     ]
    },
    {
     "cell_type": "code",
     "collapsed": false,
     "input": [
      "if (!file.exists('3_getdata')) {\n",
      "    dir.create('3_getdata')\n",
      "}\n",
      "\n",
      "setwd('./3_getdata')\n",
      "getwd()"
     ],
     "language": "python",
     "metadata": {},
     "outputs": [
      {
       "metadata": {},
       "output_type": "pyout",
       "prompt_number": 6,
       "text": [
        "[1] \"/science_data/3_getdata\""
       ]
      }
     ],
     "prompt_number": 6
    },
    {
     "cell_type": "heading",
     "level": 3,
     "metadata": {},
     "source": [
      "Getting data from the Internet"
     ]
    },
    {
     "cell_type": "markdown",
     "metadata": {},
     "source": [
      "* `download.file()` \u2014 downloads a file from the Internet\n",
      "  * even if you could do this by hand, helps with reproducibility\n",
      "  * important params: `url`, `destfile`, `method`"
     ]
    },
    {
     "cell_type": "heading",
     "level": 4,
     "metadata": {},
     "source": [
      "Download Baltimore camera open data"
     ]
    },
    {
     "cell_type": "code",
     "collapsed": false,
     "input": [
      "if (!file.exists('data')) {\n",
      "    dir.create('data')\n",
      "}"
     ],
     "language": "python",
     "metadata": {},
     "outputs": [],
     "prompt_number": 15
    },
    {
     "cell_type": "code",
     "collapsed": false,
     "input": [
      "fileUrl <- 'https://data.baltimorecity.gov/api/views/dz54-2aru/rows.csv?accessType=DOWNLOAD'\n",
      "download.file(fileUrl, destfile = './data/cameras.csv', method = 'wget')\n",
      "\n",
      "list.files('./data')"
     ],
     "language": "python",
     "metadata": {},
     "outputs": [
      {
       "metadata": {},
       "output_type": "pyout",
       "prompt_number": 24,
       "text": [
        "[1] \"cameras.csv\""
       ]
      }
     ],
     "prompt_number": 24
    },
    {
     "cell_type": "code",
     "collapsed": false,
     "input": [
      "dateDownloaded <- date()\n",
      "dateDownloaded"
     ],
     "language": "python",
     "metadata": {},
     "outputs": [
      {
       "metadata": {},
       "output_type": "pyout",
       "prompt_number": 25,
       "text": [
        "[1] \"Wed Nov 12 21:55:28 2014\""
       ]
      }
     ],
     "prompt_number": 25
    },
    {
     "cell_type": "heading",
     "level": 4,
     "metadata": {},
     "source": [
      "Is the date/time off?"
     ]
    },
    {
     "cell_type": "markdown",
     "metadata": {},
     "source": [
      "The timezone on the Ubuntu VM might be off\n",
      "  * `sudo dpkg-reconfigure tzdata`"
     ]
    },
    {
     "cell_type": "heading",
     "level": 4,
     "metadata": {},
     "source": [
      "`download.file()` tips:"
     ]
    },
    {
     "cell_type": "markdown",
     "metadata": {},
     "source": [
      "* HTTP: `download.file()` alone should work fine\n",
      "* **HTTPS**\n",
      "  * Windows: should work fine\n",
      "  * OS X: set `method=\"curl\"`\n",
      "  * Linux: set `method=\"wget\"`\n",
      "* If the file is big, it might take a while\n",
      "* Remember to **record when the file was downloaded**"
     ]
    },
    {
     "cell_type": "heading",
     "level": 2,
     "metadata": {},
     "source": [
      "Reading local flat files"
     ]
    },
    {
     "cell_type": "heading",
     "level": 3,
     "metadata": {},
     "source": [
      "`read.table()` to load flat files"
     ]
    },
    {
     "cell_type": "markdown",
     "metadata": {},
     "source": [
      "* most commonly used\n",
      "* most robust and most flexible\n",
      "* requires more parameters\n",
      "* can be slower than other methods\n",
      "* reads the data into RAM\n",
      "* important params: `file`, `header`, `sep`, `row.names`, `nrows`\n",
      "* related: `read.csv()` and `read.csv2()`"
     ]
    },
    {
     "cell_type": "heading",
     "level": 4,
     "metadata": {},
     "source": [
      "Baltimore example"
     ]
    },
    {
     "cell_type": "code",
     "collapsed": false,
     "input": [
      "cameraData <- read.table('./data/cameras.csv')"
     ],
     "language": "python",
     "metadata": {},
     "outputs": [
      {
       "ename": "ERROR",
       "evalue": "Error in scan(file, what, nmax, sep, dec, quote, skip, nlines, na.strings, : line 1 did not have 13 elements\n",
       "output_type": "pyerr",
       "traceback": [
        "Error in scan(file, what, nmax, sep, dec, quote, skip, nlines, na.strings, : line 1 did not have 13 elements\n"
       ]
      }
     ],
     "prompt_number": 26
    },
    {
     "cell_type": "markdown",
     "metadata": {},
     "source": [
      "* fails: by default `read.table()` expects a tab delimited file, yet we fed it a csv"
     ]
    },
    {
     "cell_type": "code",
     "collapsed": false,
     "input": [
      "head(cameraData)"
     ],
     "language": "python",
     "metadata": {},
     "outputs": [
      {
       "ename": "ERROR",
       "evalue": "Error in head(cameraData): object 'cameraData' not found\n",
       "output_type": "pyerr",
       "traceback": [
        "Error in head(cameraData): object 'cameraData' not found\n"
       ]
      }
     ],
     "prompt_number": 27
    },
    {
     "cell_type": "code",
     "collapsed": false,
     "input": [
      "cameraData <- read.table('./data/cameras.csv', sep = ',', header = TRUE)\n",
      "head(cameraData)"
     ],
     "language": "python",
     "metadata": {},
     "outputs": [
      {
       "metadata": {},
       "output_type": "pyout",
       "prompt_number": 28,
       "text": [
        "                         address direction      street  crossStreet\n",
        "1       S CATON AVE & BENSON AVE       N/B   Caton Ave   Benson Ave\n",
        "2       S CATON AVE & BENSON AVE       S/B   Caton Ave   Benson Ave\n",
        "3 WILKENS AVE & PINE HEIGHTS AVE       E/B Wilkens Ave Pine Heights\n",
        "4        THE ALAMEDA & E 33RD ST       S/B The Alameda      33rd St\n",
        "5        E 33RD ST & THE ALAMEDA       E/B      E 33rd  The Alameda\n",
        "6        ERDMAN AVE & N MACON ST       E/B      Erdman     Macon St\n",
        "                intersection                      Location.1\n",
        "1     Caton Ave & Benson Ave (39.2693779962, -76.6688185297)\n",
        "2     Caton Ave & Benson Ave (39.2693157898, -76.6689698176)\n",
        "3 Wilkens Ave & Pine Heights  (39.2720252302, -76.676960806)\n",
        "4     The Alameda  & 33rd St (39.3285013141, -76.5953545714)\n",
        "5      E 33rd  & The Alameda (39.3283410623, -76.5953594625)\n",
        "6         Erdman  & Macon St (39.3068045671, -76.5593167803)"
       ]
      }
     ],
     "prompt_number": 28
    },
    {
     "cell_type": "heading",
     "level": 4,
     "metadata": {},
     "source": [
      "`read.csv()` automatically sets `sep = \",\"` and `header = TRUE`"
     ]
    },
    {
     "cell_type": "code",
     "collapsed": false,
     "input": [
      "cameraData <- read.csv('./data/cameras.csv')\n",
      "head(cameraData)"
     ],
     "language": "python",
     "metadata": {},
     "outputs": [
      {
       "metadata": {},
       "output_type": "pyout",
       "prompt_number": 29,
       "text": [
        "                         address direction      street  crossStreet\n",
        "1       S CATON AVE & BENSON AVE       N/B   Caton Ave   Benson Ave\n",
        "2       S CATON AVE & BENSON AVE       S/B   Caton Ave   Benson Ave\n",
        "3 WILKENS AVE & PINE HEIGHTS AVE       E/B Wilkens Ave Pine Heights\n",
        "4        THE ALAMEDA & E 33RD ST       S/B The Alameda      33rd St\n",
        "5        E 33RD ST & THE ALAMEDA       E/B      E 33rd  The Alameda\n",
        "6        ERDMAN AVE & N MACON ST       E/B      Erdman     Macon St\n",
        "                intersection                      Location.1\n",
        "1     Caton Ave & Benson Ave (39.2693779962, -76.6688185297)\n",
        "2     Caton Ave & Benson Ave (39.2693157898, -76.6689698176)\n",
        "3 Wilkens Ave & Pine Heights  (39.2720252302, -76.676960806)\n",
        "4     The Alameda  & 33rd St (39.3285013141, -76.5953545714)\n",
        "5      E 33rd  & The Alameda (39.3283410623, -76.5953594625)\n",
        "6         Erdman  & Macon St (39.3068045671, -76.5593167803)"
       ]
      }
     ],
     "prompt_number": 29
    },
    {
     "cell_type": "heading",
     "level": 4,
     "metadata": {},
     "source": [
      "Tips:"
     ]
    },
    {
     "cell_type": "markdown",
     "metadata": {},
     "source": [
      "* `quote` \u2014 instruct R if to expect any quoted values\n",
      "  * declaring no quotes `quotes = \"\"` avoids the issues of reading flat files containing quotation marks in data values.\n",
      "* `na.strings` \u2014 which character(s) represent a missing value\n",
      "* `nrows` \u2014 limit the number of rows read from the file\n",
      "* `skip` \u2014 number of lines to skip before starting to read"
     ]
    },
    {
     "cell_type": "heading",
     "level": 2,
     "metadata": {},
     "source": [
      "The `xlsx` package for reading Excel files"
     ]
    },
    {
     "cell_type": "code",
     "collapsed": false,
     "input": [
      "if(!file.exists('data')) { dir.create('data') }\n",
      "fileUrl <- 'https://data.baltimorecity.gov/api/views/dz54-2aru/rows.xlsx?accessType=DOWNLOAD'\n",
      "download.file(fileUrl, destfile = './data/cameras.xlsx', method = 'wget')\n",
      "dateDownloaded <- date()\n",
      "\n",
      "dateDownloaded"
     ],
     "language": "python",
     "metadata": {},
     "outputs": [
      {
       "metadata": {},
       "output_type": "pyout",
       "prompt_number": 31,
       "text": [
        "[1] \"Thu Nov 13 06:43:37 2014\""
       ]
      }
     ],
     "prompt_number": 31
    },
    {
     "cell_type": "heading",
     "level": 3,
     "metadata": {},
     "source": [
      "read.xlsx(), read.xlsx2()"
     ]
    },
    {
     "cell_type": "code",
     "collapsed": false,
     "input": [
      "install.packages(\"xlsx\")"
     ],
     "language": "python",
     "metadata": {},
     "outputs": [
      {
       "output_type": "stream",
       "stream": "stderr",
       "text": [
        "Installing package into \u2018/home/vagrant/R/x86_64-pc-linux-gnu-library/3.1\u2019\n",
        "(as \u2018lib\u2019 is unspecified)\n"
       ]
      },
      {
       "ename": "ERROR",
       "evalue": "Error in contrib.url(repos, type): trying to use CRAN without setting a mirror\n",
       "output_type": "pyerr",
       "traceback": [
        "Error in contrib.url(repos, type): trying to use CRAN without setting a mirror\n"
       ]
      }
     ],
     "prompt_number": 33
    },
    {
     "cell_type": "code",
     "collapsed": false,
     "input": [
      "library(xlsx)"
     ],
     "language": "python",
     "metadata": {},
     "outputs": [
      {
       "ename": "ERROR",
       "evalue": "Error in library(xlsx): there is no package called \u2018xlsx\u2019\n",
       "output_type": "pyerr",
       "traceback": [
        "Error in library(xlsx): there is no package called \u2018xlsx\u2019\n"
       ]
      }
     ],
     "prompt_number": 32
    },
    {
     "cell_type": "heading",
     "level": 4,
     "metadata": {},
     "source": [
      "Installing Ubuntu dependencies"
     ]
    },
    {
     "cell_type": "markdown",
     "metadata": {},
     "source": [
      "1. install openjdk \n",
      "  * `sudo apt-get update`\n",
      "  * `sudo apt-get install openjdk-7-*`\n",
      "2. _(optional)_ if you have multiple alternatives in link group java, ensure we're using the one we just installled\n",
      "  * `update-alternatives --config java`\n",
      "3. java configuration for R should be updated before using the ubuntu package \n",
      "  * `sudo R CMD javareconf`\n",
      "4. `rJava` can now be installed\n",
      "  * `sudo apt-get install r-cran-rjava`\n",
      "5. and now, back to R\n",
      "  * `install.packages('xlsx')`"
     ]
    },
    {
     "cell_type": "code",
     "collapsed": false,
     "input": [
      "install.packages('xlsx', repos = 'http://cran.utstat.utoronto.ca/')"
     ],
     "language": "python",
     "metadata": {},
     "outputs": [
      {
       "output_type": "stream",
       "stream": "stderr",
       "text": [
        "Installing package into \u2018/home/vagrant/R/x86_64-pc-linux-gnu-library/3.1\u2019\n",
        "(as \u2018lib\u2019 is unspecified)\n"
       ]
      },
      {
       "output_type": "stream",
       "stream": "stderr",
       "text": [
        "also installing the dependency \u2018xlsxjars\u2019\n",
        "\n"
       ]
      },
      {
       "output_type": "stream",
       "stream": "stdout",
       "text": [
        "\n",
        "The downloaded source packages are in\n",
        "\t\u2018/tmp/RtmpMI7y4S/downloaded_packages\u2019\n"
       ]
      }
     ],
     "prompt_number": 36
    },
    {
     "cell_type": "heading",
     "level": 4,
     "metadata": {},
     "source": [
      "One more thing"
     ]
    },
    {
     "cell_type": "code",
     "collapsed": false,
     "input": [
      "library(xlsx)"
     ],
     "language": "python",
     "metadata": {},
     "outputs": [
      {
       "output_type": "stream",
       "stream": "stderr",
       "text": [
        "Loading required package: rJava\n"
       ]
      },
      {
       "ename": "ERROR",
       "evalue": "Error: package \u2018rJava\u2019 could not be loaded\n",
       "output_type": "pyerr",
       "traceback": [
        "Error: package \u2018rJava\u2019 could not be loaded\n"
       ]
      }
     ],
     "prompt_number": 37
    },
    {
     "cell_type": "markdown",
     "metadata": {},
     "source": [
      "Restart IPython Notebook so the version of R it runs is aware of all newly installed dependencies:\n",
      "\n",
      "```\n",
      "sudo ipython notebook \\\n",
      "  --profile=dst \\\n",
      "  --KernelManager.kernel_cmd=\"['R', '-e', 'IRkernel::main()', '--args', '{connection_file}']\"\n",
      "```"
     ]
    },
    {
     "cell_type": "code",
     "collapsed": false,
     "input": [
      "library(xlsx)"
     ],
     "language": "python",
     "metadata": {},
     "outputs": [
      {
       "output_type": "stream",
       "stream": "stderr",
       "text": [
        "Loading required package: rJava\n"
       ]
      },
      {
       "output_type": "stream",
       "stream": "stderr",
       "text": [
        "Loading required package: xlsxjars\n"
       ]
      }
     ],
     "prompt_number": 1
    },
    {
     "cell_type": "code",
     "collapsed": false,
     "input": [
      "cameraData <- read.xlsx('./data/cameras.xlsx', sheetIndex = 1, header = TRUE)\n",
      "head(cameraData)"
     ],
     "language": "python",
     "metadata": {},
     "outputs": [
      {
       "metadata": {},
       "output_type": "pyout",
       "prompt_number": 5,
       "text": [
        "                         address direction      street  crossStreet\n",
        "1       S CATON AVE & BENSON AVE       N/B   Caton Ave   Benson Ave\n",
        "2       S CATON AVE & BENSON AVE       S/B   Caton Ave   Benson Ave\n",
        "3 WILKENS AVE & PINE HEIGHTS AVE       E/B Wilkens Ave Pine Heights\n",
        "4        THE ALAMEDA & E 33RD ST       S/B The Alameda      33rd St\n",
        "5        E 33RD ST & THE ALAMEDA       E/B      E 33rd  The Alameda\n",
        "6        ERDMAN AVE & N MACON ST       E/B      Erdman     Macon St\n",
        "                intersection                      Location.1\n",
        "1     Caton Ave & Benson Ave (39.2693779962, -76.6688185297)\n",
        "2     Caton Ave & Benson Ave (39.2693157898, -76.6689698176)\n",
        "3 Wilkens Ave & Pine Heights  (39.2720252302, -76.676960806)\n",
        "4     The Alameda  & 33rd St (39.3285013141, -76.5953545714)\n",
        "5      E 33rd  & The Alameda (39.3283410623, -76.5953594625)\n",
        "6         Erdman  & Macon St (39.3068045671, -76.5593167803)"
       ]
      }
     ],
     "prompt_number": 5
    },
    {
     "cell_type": "heading",
     "level": 3,
     "metadata": {},
     "source": [
      "Reading specific rows and columns"
     ]
    },
    {
     "cell_type": "code",
     "collapsed": false,
     "input": [
      "colIndex <- 2:3\n",
      "rowIndex <- 1:4\n",
      "    \n",
      "# only extract part of the file you have\n",
      "cameraDataSubset <- read.xlsx('./data/cameras.xlsx', \n",
      "                              sheetIndex = 1, \n",
      "                              colIndex = colIndex, \n",
      "                              rowIndex = rowIndex)\n",
      "cameraDataSubset"
     ],
     "language": "python",
     "metadata": {},
     "outputs": [
      {
       "metadata": {},
       "output_type": "pyout",
       "prompt_number": 6,
       "text": [
        "  direction      street\n",
        "1       N/B   Caton Ave\n",
        "2       S/B   Caton Ave\n",
        "3       E/B Wilkens Ave"
       ]
      }
     ],
     "prompt_number": 6
    },
    {
     "cell_type": "heading",
     "level": 3,
     "metadata": {},
     "source": [
      "Further notes"
     ]
    },
    {
     "cell_type": "markdown",
     "metadata": {},
     "source": [
      "* `write.xlsx()`\n",
      "* `read.xlsx2()`\n",
      "  * quite a bit faster than `read.xlsx()`\n",
      "  * might prove slightly unstable when reading subsets of rows\n",
      "* `XLConnect` package\n",
      "  * a lot more flexible for writing and processing Excel files\n",
      "  * `XLConnect vignette` is a good place to start\n",
      "* .csv and .tab/.txt _versus_ Excel\n",
      "  * faster, easier to read\n",
      "  * easier to distribute, more cross platform\u2014not everybody has Excel."
     ]
    },
    {
     "cell_type": "heading",
     "level": 2,
     "metadata": {},
     "source": [
      "the `XML` package for reading XML"
     ]
    },
    {
     "cell_type": "markdown",
     "metadata": {},
     "source": [
      "Extracting XML is the basis for most **web scraping**.\n",
      "\n",
      "Components:\n",
      "* markup \u2014 labels that give the text structure\n",
      "  * tags\n",
      "    * start, end, empty tags\n",
      "  * elements\n",
      "    * contains the content\n",
      "  * attributes\n",
      "    * of the element\n",
      "* content \u2014 the actual text of the document"
     ]
    },
    {
     "cell_type": "heading",
     "level": 3,
     "metadata": {},
     "source": [
      "Reading XML files into R"
     ]
    },
    {
     "cell_type": "code",
     "collapsed": false,
     "input": [
      "library(XML)"
     ],
     "language": "python",
     "metadata": {},
     "outputs": [
      {
       "ename": "ERROR",
       "evalue": "Error in library(XML): there is no package called \u2018XML\u2019\n",
       "output_type": "pyerr",
       "traceback": [
        "Error in library(XML): there is no package called \u2018XML\u2019\n"
       ]
      }
     ],
     "prompt_number": 7
    },
    {
     "cell_type": "heading",
     "level": 4,
     "metadata": {},
     "source": [
      "Installing Ubuntu dependencies"
     ]
    },
    {
     "cell_type": "markdown",
     "metadata": {},
     "source": [
      "* `sudo apt-get update`\n",
      "* `sudo apt-get install libxml2-dev`"
     ]
    },
    {
     "cell_type": "code",
     "collapsed": false,
     "input": [
      "install.packages('XML', repos = 'http://cran.utstat.utoronto.ca/')"
     ],
     "language": "python",
     "metadata": {},
     "outputs": [
      {
       "output_type": "stream",
       "stream": "stderr",
       "text": [
        "Installing package into \u2018/home/vagrant/R/x86_64-pc-linux-gnu-library/3.1\u2019\n",
        "(as \u2018lib\u2019 is unspecified)\n"
       ]
      },
      {
       "output_type": "stream",
       "stream": "stdout",
       "text": [
        "\n",
        "The downloaded source packages are in\n",
        "\t\u2018/tmp/RtmpyC3c9a/downloaded_packages\u2019\n"
       ]
      }
     ],
     "prompt_number": 11
    },
    {
     "cell_type": "code",
     "collapsed": false,
     "input": [
      "# load the XML library\n",
      "library(XML)\n",
      "\n",
      "# set the URL of the XML document\n",
      "fileUrl <- 'http://www.w3schools.com/xml/simple.xml'\n",
      "\n",
      "# parse the XML document into memory, as an R structured object\n",
      "doc <- xmlTreeParse(fileUrl, useInternal = TRUE)\n",
      "dateDownloadedXML <- date()\n",
      "\n",
      "# get the wrapper  for the entire document\n",
      "rootNode <- xmlRoot(doc)\n",
      "\n",
      "# get the name of that specific node\n",
      "xmlName(rootNode)"
     ],
     "language": "python",
     "metadata": {},
     "outputs": [
      {
       "metadata": {},
       "output_type": "pyout",
       "prompt_number": 17,
       "text": [
        "[1] \"breakfast_menu\""
       ]
      }
     ],
     "prompt_number": 17
    },
    {
     "cell_type": "code",
     "collapsed": false,
     "input": [
      "# what are all the elements nested within the root node?\n",
      "# 5 different breakfast items on the menu, \n",
      "# each wrapped within a food element\n",
      "names(rootNode)"
     ],
     "language": "python",
     "metadata": {},
     "outputs": [
      {
       "metadata": {},
       "output_type": "pyout",
       "prompt_number": 4,
       "text": [
        "  food   food   food   food   food \n",
        "\"food\" \"food\" \"food\" \"food\" \"food\" "
       ]
      }
     ],
     "prompt_number": 4
    },
    {
     "cell_type": "heading",
     "level": 3,
     "metadata": {},
     "source": [
      "Directly access parts of the XML document"
     ]
    },
    {
     "cell_type": "markdown",
     "metadata": {},
     "source": [
      "* similar to the way lists are accessed in R\n"
     ]
    },
    {
     "cell_type": "code",
     "collapsed": false,
     "input": [
      "rootNode[[1]]"
     ],
     "language": "python",
     "metadata": {},
     "outputs": [
      {
       "metadata": {},
       "output_type": "pyout",
       "prompt_number": 6,
       "text": [
        "<food>\n",
        "  <name>Belgian Waffles</name>\n",
        "  <price>$5.95</price>\n",
        "  <description>Two of our famous Belgian Waffles with plenty of real maple syrup</description>\n",
        "  <calories>650</calories>\n",
        "</food> "
       ]
      }
     ],
     "prompt_number": 6
    },
    {
     "cell_type": "code",
     "collapsed": false,
     "input": [
      "rootNode[[1]][[1]]"
     ],
     "language": "python",
     "metadata": {},
     "outputs": [
      {
       "metadata": {},
       "output_type": "pyout",
       "prompt_number": 7,
       "text": [
        "<name>Belgian Waffles</name> "
       ]
      }
     ],
     "prompt_number": 7
    },
    {
     "cell_type": "heading",
     "level": 3,
     "metadata": {},
     "source": [
      "xmlSApply() \u2014 programatically extract parts of the file"
     ]
    },
    {
     "cell_type": "code",
     "collapsed": false,
     "input": [
      "# parameters:\n",
      "#   - parsed XML object\n",
      "#   - the function we wish to apply\n",
      "#\n",
      "# loop through all the elements of the `rootNode`, and get the `xmlValue`\n",
      "# applied recursively\n",
      "\n",
      "xmlSApply(rootNode, xmlValue)"
     ],
     "language": "python",
     "metadata": {},
     "outputs": [
      {
       "metadata": {},
       "output_type": "pyout",
       "prompt_number": 13,
       "text": [
        "                                                                                                                    food \n",
        "                              \"Belgian Waffles$5.95Two of our famous Belgian Waffles with plenty of real maple syrup650\" \n",
        "                                                                                                                    food \n",
        "                   \"Strawberry Belgian Waffles$7.95Light Belgian waffles covered with strawberries and whipped cream900\" \n",
        "                                                                                                                    food \n",
        "\"Berry-Berry Belgian Waffles$8.95Light Belgian waffles covered with an assortment of fresh berries and whipped cream900\" \n",
        "                                                                                                                    food \n",
        "                                               \"French Toast$4.50Thick slices made from our homemade sourdough bread600\" \n",
        "                                                                                                                    food \n",
        "                        \"Homestyle Breakfast$6.95Two eggs, bacon or sausage, toast, and our ever-popular hash browns950\" "
       ]
      }
     ],
     "prompt_number": 13
    },
    {
     "cell_type": "heading",
     "level": 3,
     "metadata": {},
     "source": [
      "xpathSApply() \u2013 XPath"
     ]
    },
    {
     "cell_type": "markdown",
     "metadata": {},
     "source": [
      "To be more specific, we need more specific selectors:\n",
      "* `/node` \u2014 top level node\n",
      "* `//node` \u2014 node at any level\n",
      "* `node[@attr-name]` \u2014 node with an attribute name\n",
      "* `node[@attr-name='bob']` \u2014 node with attribute name attr-name='bob'"
     ]
    },
    {
     "cell_type": "heading",
     "level": 3,
     "metadata": {},
     "source": [
      "Get the items on the menu and their prices"
     ]
    },
    {
     "cell_type": "code",
     "collapsed": false,
     "input": [
      "# get the items on the menu:\n",
      "#   - get all the elements that correspond to an element with the title \"name\"\n",
      "\n",
      "xpathSApply(rootNode, '//name', xmlValue)"
     ],
     "language": "python",
     "metadata": {},
     "outputs": [
      {
       "metadata": {},
       "output_type": "pyout",
       "prompt_number": 14,
       "text": [
        "[1] \"Belgian Waffles\"             \"Strawberry Belgian Waffles\" \n",
        "[3] \"Berry-Berry Belgian Waffles\" \"French Toast\"               \n",
        "[5] \"Homestyle Breakfast\"        "
       ]
      }
     ],
     "prompt_number": 14
    },
    {
     "cell_type": "code",
     "collapsed": false,
     "input": [
      "# get their prices\n",
      "\n",
      "xpathSApply(rootNode, '//price', xmlValue)"
     ],
     "language": "python",
     "metadata": {},
     "outputs": [
      {
       "metadata": {},
       "output_type": "pyout",
       "prompt_number": 15,
       "text": [
        "[1] \"$5.95\" \"$7.95\" \"$8.95\" \"$4.50\" \"$6.95\""
       ]
      }
     ],
     "prompt_number": 15
    },
    {
     "cell_type": "heading",
     "level": 3,
     "metadata": {},
     "source": [
      "`htmlTreeParse()` for reading HTML"
     ]
    },
    {
     "cell_type": "markdown",
     "metadata": {},
     "source": [
      "* `htmlTreeParse()` is optimized for HTML\n",
      "* setting `useInternal=TRUE` so we can get all the different nodes inside the HTML file"
     ]
    },
    {
     "cell_type": "code",
     "collapsed": false,
     "input": [
      "fileUrl <- 'http://espn.go.com/nfl/team/_/name/bal/baltimore-ravens'\n",
      "doc <- htmlTreeParse(fileUrl, useInternal = TRUE)"
     ],
     "language": "python",
     "metadata": {},
     "outputs": [],
     "prompt_number": 2
    },
    {
     "cell_type": "code",
     "collapsed": false,
     "input": [
      "scores <- xpathSApply(doc, \"//li[@class='score']\", xmlValue)\n",
      "teams <- xpathSApply(doc, \"//li[@class='team-name']\", xmlValue)\n",
      "\n",
      "scores"
     ],
     "language": "python",
     "metadata": {},
     "outputs": [
      {
       "metadata": {},
       "output_type": "pyout",
       "prompt_number": 3,
       "text": [
        " [1] \"23-16\" \"26-6\"  \"23-21\" \"38-10\" \"20-13\" \"48-17\" \"29-7\"  \"27-24\" \"43-23\"\n",
        "[10] \"21-7\" "
       ]
      }
     ],
     "prompt_number": 3
    },
    {
     "cell_type": "code",
     "collapsed": false,
     "input": [
      "teams"
     ],
     "language": "python",
     "metadata": {},
     "outputs": [
      {
       "metadata": {},
       "output_type": "pyout",
       "prompt_number": 4,
       "text": [
        " [1] \"Cincinnati\"   \"Pittsburgh\"   \"Cleveland\"    \"Carolina\"     \"Indianapolis\"\n",
        " [6] \"Tampa Bay\"    \"Atlanta\"      \"Cincinnati\"   \"Pittsburgh\"   \"Tennessee\"   \n",
        "[11] \"New Orleans\"  \"San Diego\"    \"Miami\"        \"Jacksonville\" \"Houston\"     \n",
        "[16] \"Cleveland\"   "
       ]
      }
     ],
     "prompt_number": 4
    },
    {
     "cell_type": "markdown",
     "metadata": {},
     "source": [
      "---"
     ]
    },
    {
     "cell_type": "heading",
     "level": 2,
     "metadata": {},
     "source": [
      "Using the `jsonlite` package to read JSON"
     ]
    },
    {
     "cell_type": "markdown",
     "metadata": {},
     "source": [
      "* lightweight data storage\n",
      "* common format for data from APIs\n",
      "* data stored as:\n",
      "  * numbers (double)\n",
      "  * strings (double quoted)\n",
      "  * boolean\n",
      "  * array ([], ordered, comma separated)\n",
      "  * onject ({}, unordered, comma separated collections of &lt;key&gt;:&lt;value&gt; pairs)"
     ]
    },
    {
     "cell_type": "code",
     "collapsed": false,
     "input": [
      "library(jsonlite)"
     ],
     "language": "python",
     "metadata": {},
     "outputs": [
      {
       "output_type": "stream",
       "stream": "stderr",
       "text": [
        "\n",
        "Attaching package: \u2018jsonlite\u2019\n",
        "\n"
       ]
      },
      {
       "output_type": "stream",
       "stream": "stderr",
       "text": [
        "The following object is masked from \u2018package:utils\u2019:\n",
        "\n",
        "    View\n",
        "\n"
       ]
      }
     ],
     "prompt_number": 5
    },
    {
     "cell_type": "heading",
     "level": 4,
     "metadata": {},
     "source": [
      "`fromJSON()`"
     ]
    },
    {
     "cell_type": "markdown",
     "metadata": {},
     "source": [
      "* in: the URL where the JSON appears\n",
      "* out: a structured data frame\n",
      "* the `names()` of that dataframe contains all the top level variables"
     ]
    },
    {
     "cell_type": "code",
     "collapsed": true,
     "input": [
      "jsonData <- fromJSON(\"https://api.github.com/users/mariusbutuc/repos\")\n",
      "\n",
      "names(jsonData)"
     ],
     "language": "python",
     "metadata": {},
     "outputs": [
      {
       "metadata": {},
       "output_type": "pyout",
       "prompt_number": 8,
       "text": [
        " [1] \"id\"                \"name\"              \"full_name\"        \n",
        " [4] \"owner\"             \"private\"           \"html_url\"         \n",
        " [7] \"description\"       \"fork\"              \"url\"              \n",
        "[10] \"forks_url\"         \"keys_url\"          \"collaborators_url\"\n",
        "[13] \"teams_url\"         \"hooks_url\"         \"issue_events_url\" \n",
        "[16] \"events_url\"        \"assignees_url\"     \"branches_url\"     \n",
        "[19] \"tags_url\"          \"blobs_url\"         \"git_tags_url\"     \n",
        "[22] \"git_refs_url\"      \"trees_url\"         \"statuses_url\"     \n",
        "[25] \"languages_url\"     \"stargazers_url\"    \"contributors_url\" \n",
        "[28] \"subscribers_url\"   \"subscription_url\"  \"commits_url\"      \n",
        "[31] \"git_commits_url\"   \"comments_url\"      \"issue_comment_url\"\n",
        "[34] \"contents_url\"      \"compare_url\"       \"merges_url\"       \n",
        "[37] \"archive_url\"       \"downloads_url\"     \"issues_url\"       \n",
        "[40] \"pulls_url\"         \"milestones_url\"    \"notifications_url\"\n",
        "[43] \"labels_url\"        \"releases_url\"      \"created_at\"       \n",
        "[46] \"updated_at\"        \"pushed_at\"         \"git_url\"          \n",
        "[49] \"ssh_url\"           \"clone_url\"         \"svn_url\"          \n",
        "[52] \"homepage\"          \"size\"              \"stargazers_count\" \n",
        "[55] \"watchers_count\"    \"language\"          \"has_issues\"       \n",
        "[58] \"has_downloads\"     \"has_wiki\"          \"has_pages\"        \n",
        "[61] \"forks_count\"       \"mirror_url\"        \"open_issues_count\"\n",
        "[64] \"forks\"             \"open_issues\"       \"watchers\"         \n",
        "[67] \"default_branch\"   "
       ]
      }
     ],
     "prompt_number": 8
    },
    {
     "cell_type": "code",
     "collapsed": false,
     "input": [
      "# one of these top-level variables, of these components of the data frame, \n",
      "# is `owner` which is exposed as a dataframe withing the main dataframe.\n",
      "names(jsonData$owner)"
     ],
     "language": "python",
     "metadata": {},
     "outputs": [
      {
       "metadata": {},
       "output_type": "pyout",
       "prompt_number": 10,
       "text": [
        " [1] \"login\"               \"id\"                  \"avatar_url\"         \n",
        " [4] \"gravatar_id\"         \"url\"                 \"html_url\"           \n",
        " [7] \"followers_url\"       \"following_url\"       \"gists_url\"          \n",
        "[10] \"starred_url\"         \"subscriptions_url\"   \"organizations_url\"  \n",
        "[13] \"repos_url\"           \"events_url\"          \"received_events_url\"\n",
        "[16] \"type\"                \"site_admin\"         "
       ]
      }
     ],
     "prompt_number": 10
    },
    {
     "cell_type": "code",
     "collapsed": false,
     "input": [
      "# get the login for all the different repos on that page\n",
      "\n",
      "jsonData$owner$login"
     ],
     "language": "python",
     "metadata": {},
     "outputs": [
      {
       "metadata": {},
       "output_type": "pyout",
       "prompt_number": 13,
       "text": [
        " [1] \"mariusbutuc\" \"mariusbutuc\" \"mariusbutuc\" \"mariusbutuc\" \"mariusbutuc\"\n",
        " [6] \"mariusbutuc\" \"mariusbutuc\" \"mariusbutuc\" \"mariusbutuc\" \"mariusbutuc\"\n",
        "[11] \"mariusbutuc\" \"mariusbutuc\" \"mariusbutuc\" \"mariusbutuc\" \"mariusbutuc\"\n",
        "[16] \"mariusbutuc\" \"mariusbutuc\" \"mariusbutuc\" \"mariusbutuc\" \"mariusbutuc\"\n",
        "[21] \"mariusbutuc\" \"mariusbutuc\" \"mariusbutuc\" \"mariusbutuc\" \"mariusbutuc\"\n",
        "[26] \"mariusbutuc\" \"mariusbutuc\" \"mariusbutuc\" \"mariusbutuc\" \"mariusbutuc\""
       ]
      }
     ],
     "prompt_number": 13
    },
    {
     "cell_type": "heading",
     "level": 2,
     "metadata": {},
     "source": [
      "Writing data frames to JSON \u2013 `toJSON()`"
     ]
    },
    {
     "cell_type": "code",
     "collapsed": true,
     "input": [
      "# export data to an API that requires JSON\n",
      "\n",
      "myJson <- toJSON(iris, pretty = TRUE)\n",
      "\n",
      "cat(myJson)"
     ],
     "language": "python",
     "metadata": {},
     "outputs": [
      {
       "output_type": "stream",
       "stream": "stdout",
       "text": [
        "[\n",
        "    {\n",
        "        \"Sepal.Length\": 5.1,\n",
        "        \"Sepal.Width\": 3.5,\n",
        "        \"Petal.Length\": 1.4,\n",
        "        \"Petal.Width\": 0.2,\n",
        "        \"Species\": \"setosa\"\n",
        "    },\n",
        "    {\n",
        "        \"Sepal.Length\": 4.9,\n",
        "        \"Sepal.Width\": 3,\n",
        "        \"Petal.Length\": 1.4,\n",
        "        \"Petal.Width\": 0.2,\n",
        "        \"Species\": \"setosa\"\n",
        "    },\n",
        "    {\n",
        "        \"Sepal.Length\": 4.7,\n",
        "        \"Sepal.Width\": 3.2,\n",
        "        \"Petal.Length\": 1.3,\n",
        "        \"Petal.Width\": 0.2,\n",
        "        \"Species\": \"setosa\"\n",
        "    },\n",
        "    {\n",
        "        \"Sepal.Length\": 4.6,\n",
        "        \"Sepal.Width\": 3.1,\n",
        "        \"Petal.Length\": 1.5,\n",
        "        \"Petal.Width\": 0.2,\n",
        "        \"Species\": \"setosa\"\n",
        "    },\n",
        "    {\n",
        "        \"Sepal.Length\": 5,\n",
        "        \"Sepal.Width\": 3.6,\n",
        "        \"Petal.Length\": 1.4,\n",
        "        \"Petal.Width\": 0.2,\n",
        "        \"Species\": \"setosa\"\n",
        "    },\n",
        "    {\n",
        "        \"Sepal.Length\": 5.4,\n",
        "        \"Sepal.Width\": 3.9,\n",
        "        \"Petal.Length\": 1.7,\n",
        "        \"Petal.Width\": 0.4,\n",
        "        \"Species\": \"setosa\"\n",
        "    },\n",
        "    {\n",
        "        \"Sepal.Length\": 4.6,\n",
        "        \"Sepal.Width\": 3.4,\n",
        "        \"Petal.Length\": 1.4,\n",
        "        \"Petal.Width\": 0.3,\n",
        "        \"Species\": \"setosa\"\n",
        "    },\n",
        "    {\n",
        "        \"Sepal.Length\": 5,\n",
        "        \"Sepal.Width\": 3.4,\n",
        "        \"Petal.Length\": 1.5,\n",
        "        \"Petal.Width\": 0.2,\n",
        "        \"Species\": \"setosa\"\n",
        "    },\n",
        "    {\n",
        "        \"Sepal.Length\": 4.4,\n",
        "        \"Sepal.Width\": 2.9,\n",
        "        \"Petal.Length\": 1.4,\n",
        "        \"Petal.Width\": 0.2,\n",
        "        \"Species\": \"setosa\"\n",
        "    },\n",
        "    {\n",
        "        \"Sepal.Length\": 4.9,\n",
        "        \"Sepal.Width\": 3.1,\n",
        "        \"Petal.Length\": 1.5,\n",
        "        \"Petal.Width\": 0.1,\n",
        "        \"Species\": \"setosa\"\n",
        "    },\n",
        "    {\n",
        "        \"Sepal.Length\": 5.4,\n",
        "        \"Sepal.Width\": 3.7,\n",
        "        \"Petal.Length\": 1.5,\n",
        "        \"Petal.Width\": 0.2,\n",
        "        \"Species\": \"setosa\"\n",
        "    },\n",
        "    {\n",
        "        \"Sepal.Length\": 4.8,\n",
        "        \"Sepal.Width\": 3.4,\n",
        "        \"Petal.Length\": 1.6,\n",
        "        \"Petal.Width\": 0.2,\n",
        "        \"Species\": \"setosa\"\n",
        "    },\n",
        "    {\n",
        "        \"Sepal.Length\": 4.8,\n",
        "        \"Sepal.Width\": 3,\n",
        "        \"Petal.Length\": 1.4,\n",
        "        \"Petal.Width\": 0.1,\n",
        "        \"Species\": \"setosa\"\n",
        "    },\n",
        "    {\n",
        "        \"Sepal.Length\": 4.3,\n",
        "        \"Sepal.Width\": 3,\n",
        "        \"Petal.Length\": 1.1,\n",
        "        \"Petal.Width\": 0.1,\n",
        "        \"Species\": \"setosa\"\n",
        "    },\n",
        "    {\n",
        "        \"Sepal.Length\": 5.8,\n",
        "        \"Sepal.Width\": 4,\n",
        "        \"Petal.Length\": 1.2,\n",
        "        \"Petal.Width\": 0.2,\n",
        "        \"Species\": \"setosa\"\n",
        "    },\n",
        "    {\n",
        "        \"Sepal.Length\": 5.7,\n",
        "        \"Sepal.Width\": 4.4,\n",
        "        \"Petal.Length\": 1.5,\n",
        "        \"Petal.Width\": 0.4,\n",
        "        \"Species\": \"setosa\"\n",
        "    },\n",
        "    {\n",
        "        \"Sepal.Length\": 5.4,\n",
        "        \"Sepal.Width\": 3.9,\n",
        "        \"Petal.Length\": 1.3,\n",
        "        \"Petal.Width\": 0.4,\n",
        "        \"Species\": \"setosa\"\n",
        "    },\n",
        "    {\n",
        "        \"Sepal.Length\": 5.1,\n",
        "        \"Sepal.Width\": 3.5,\n",
        "        \"Petal.Length\": 1.4,\n",
        "        \"Petal.Width\": 0.3,\n",
        "        \"Species\": \"setosa\"\n",
        "    },\n",
        "    {\n",
        "        \"Sepal.Length\": 5.7,\n",
        "        \"Sepal.Width\": 3.8,\n",
        "        \"Petal.Length\": 1.7,\n",
        "        \"Petal.Width\": 0.3,\n",
        "        \"Species\": \"setosa\"\n",
        "    },\n",
        "    {\n",
        "        \"Sepal.Length\": 5.1,\n",
        "        \"Sepal.Width\": 3.8,\n",
        "        \"Petal.Length\": 1.5,\n",
        "        \"Petal.Width\": 0.3,\n",
        "        \"Species\": \"setosa\"\n",
        "    },\n",
        "    {\n",
        "        \"Sepal.Length\": 5.4,\n",
        "        \"Sepal.Width\": 3.4,\n",
        "        \"Petal.Length\": 1.7,\n",
        "        \"Petal.Width\": 0.2,\n",
        "        \"Species\": \"setosa\"\n",
        "    },\n",
        "    {\n",
        "        \"Sepal.Length\": 5.1,\n",
        "        \"Sepal.Width\": 3.7,\n",
        "        \"Petal.Length\": 1.5,\n",
        "        \"Petal.Width\": 0.4,\n",
        "        \"Species\": \"setosa\"\n",
        "    },\n",
        "    {\n",
        "        \"Sepal.Length\": 4.6,\n",
        "        \"Sepal.Width\": 3.6,\n",
        "        \"Petal.Length\": 1,\n",
        "        \"Petal.Width\": 0.2,\n",
        "        \"Species\": \"setosa\"\n",
        "    },\n",
        "    {\n",
        "        \"Sepal.Length\": 5.1,\n",
        "        \"Sepal.Width\": 3.3,\n",
        "        \"Petal.Length\": 1.7,\n",
        "        \"Petal.Width\": 0.5,\n",
        "        \"Species\": \"setosa\"\n",
        "    },\n",
        "    {\n",
        "        \"Sepal.Length\": 4.8,\n",
        "        \"Sepal.Width\": 3.4,\n",
        "        \"Petal.Length\": 1.9,\n",
        "        \"Petal.Width\": 0.2,\n",
        "        \"Species\": \"setosa\"\n",
        "    },\n",
        "    {\n",
        "        \"Sepal.Length\": 5,\n",
        "        \"Sepal.Width\": 3,\n",
        "        \"Petal.Length\": 1.6,\n",
        "        \"Petal.Width\": 0.2,\n",
        "        \"Species\": \"setosa\"\n",
        "    },\n",
        "    {\n",
        "        \"Sepal.Length\": 5,\n",
        "        \"Sepal.Width\": 3.4,\n",
        "        \"Petal.Length\": 1.6,\n",
        "        \"Petal.Width\": 0.4,\n",
        "        \"Species\": \"setosa\"\n",
        "    },\n",
        "    {\n",
        "        \"Sepal.Length\": 5.2,\n",
        "        \"Sepal.Width\": 3.5,\n",
        "        \"Petal.Length\": 1.5,\n",
        "        \"Petal.Width\": 0.2,\n",
        "        \"Species\": \"setosa\"\n",
        "    },\n",
        "    {\n",
        "        \"Sepal.Length\": 5.2,\n",
        "        \"Sepal.Width\": 3.4,\n",
        "        \"Petal.Length\": 1.4,\n",
        "        \"Petal.Width\": 0.2,\n",
        "        \"Species\": \"setosa\"\n",
        "    },\n",
        "    {\n",
        "        \"Sepal.Length\": 4.7,\n",
        "        \"Sepal.Width\": 3.2,\n",
        "        \"Petal.Length\": 1.6,\n",
        "        \"Petal.Width\": 0.2,\n",
        "        \"Species\": \"setosa\"\n",
        "    },\n",
        "    {\n",
        "        \"Sepal.Length\": 4.8,\n",
        "        \"Sepal.Width\": 3.1,\n",
        "        \"Petal.Length\": 1.6,\n",
        "        \"Petal.Width\": 0.2,\n",
        "        \"Species\": \"setosa\"\n",
        "    },\n",
        "    {\n",
        "        \"Sepal.Length\": 5.4,\n",
        "        \"Sepal.Width\": 3.4,\n",
        "        \"Petal.Length\": 1.5,\n",
        "        \"Petal.Width\": 0.4,\n",
        "        \"Species\": \"setosa\"\n",
        "    },\n",
        "    {\n",
        "        \"Sepal.Length\": 5.2,\n",
        "        \"Sepal.Width\": 4.1,\n",
        "        \"Petal.Length\": 1.5,\n",
        "        \"Petal.Width\": 0.1,\n",
        "        \"Species\": \"setosa\"\n",
        "    },\n",
        "    {\n",
        "        \"Sepal.Length\": 5.5,\n",
        "        \"Sepal.Width\": 4.2,\n",
        "        \"Petal.Length\": 1.4,\n",
        "        \"Petal.Width\": 0.2,\n",
        "        \"Species\": \"setosa\"\n",
        "    },\n",
        "    {\n",
        "        \"Sepal.Length\": 4.9,\n",
        "        \"Sepal.Width\": 3.1,\n",
        "        \"Petal.Length\": 1.5,\n",
        "        \"Petal.Width\": 0.2,\n",
        "        \"Species\": \"setosa\"\n",
        "    },\n",
        "    {\n",
        "        \"Sepal.Length\": 5,\n",
        "        \"Sepal.Width\": 3.2,\n",
        "        \"Petal.Length\": 1.2,\n",
        "        \"Petal.Width\": 0.2,\n",
        "        \"Species\": \"setosa\"\n",
        "    },\n",
        "    {\n",
        "        \"Sepal.Length\": 5.5,\n",
        "        \"Sepal.Width\": 3.5,\n",
        "        \"Petal.Length\": 1.3,\n",
        "        \"Petal.Width\": 0.2,\n",
        "        \"Species\": \"setosa\"\n",
        "    },\n",
        "    {\n",
        "        \"Sepal.Length\": 4.9,\n",
        "        \"Sepal.Width\": 3.6,\n",
        "        \"Petal.Length\": 1.4,\n",
        "        \"Petal.Width\": 0.1,\n",
        "        \"Species\": \"setosa\"\n",
        "    },\n",
        "    {\n",
        "        \"Sepal.Length\": 4.4,\n",
        "        \"Sepal.Width\": 3,\n",
        "        \"Petal.Length\": 1.3,\n",
        "        \"Petal.Width\": 0.2,\n",
        "        \"Species\": \"setosa\"\n",
        "    },\n",
        "    {\n",
        "        \"Sepal.Length\": 5.1,\n",
        "        \"Sepal.Width\": 3.4,\n",
        "        \"Petal.Length\": 1.5,\n",
        "        \"Petal.Width\": 0.2,\n",
        "        \"Species\": \"setosa\"\n",
        "    },\n",
        "    {\n",
        "        \"Sepal.Length\": 5,\n",
        "        \"Sepal.Width\": 3.5,\n",
        "        \"Petal.Length\": 1.3,\n",
        "        \"Petal.Width\": 0.3,\n",
        "        \"Species\": \"setosa\"\n",
        "    },\n",
        "    {\n",
        "        \"Sepal.Length\": 4.5,\n",
        "        \"Sepal.Width\": 2.3,\n",
        "        \"Petal.Length\": 1.3,\n",
        "        \"Petal.Width\": 0.3,\n",
        "        \"Species\": \"setosa\"\n",
        "    },\n",
        "    {\n",
        "        \"Sepal.Length\": 4.4,\n",
        "        \"Sepal.Width\": 3.2,\n",
        "        \"Petal.Length\": 1.3,\n",
        "        \"Petal.Width\": 0.2,\n",
        "        \"Species\": \"setosa\"\n",
        "    },\n",
        "    {\n",
        "        \"Sepal.Length\": 5,\n",
        "        \"Sepal.Width\": 3.5,\n",
        "        \"Petal.Length\": 1.6,\n",
        "        \"Petal.Width\": 0.6,\n",
        "        \"Species\": \"setosa\"\n",
        "    },\n",
        "    {\n",
        "        \"Sepal.Length\": 5.1,\n",
        "        \"Sepal.Width\": 3.8,\n",
        "        \"Petal.Length\": 1.9,\n",
        "        \"Petal.Width\": 0.4,\n",
        "        \"Species\": \"setosa\"\n",
        "    },\n",
        "    {\n",
        "        \"Sepal.Length\": 4.8,\n",
        "        \"Sepal.Width\": 3,\n",
        "        \"Petal.Length\": 1.4,\n",
        "        \"Petal.Width\": 0.3,\n",
        "        \"Species\": \"setosa\"\n",
        "    },\n",
        "    {\n",
        "        \"Sepal.Length\": 5.1,\n",
        "        \"Sepal.Width\": 3.8,\n",
        "        \"Petal.Length\": 1.6,\n",
        "        \"Petal.Width\": 0.2,\n",
        "        \"Species\": \"setosa\"\n",
        "    },\n",
        "    {\n",
        "        \"Sepal.Length\": 4.6,\n",
        "        \"Sepal.Width\": 3.2,\n",
        "        \"Petal.Length\": 1.4,\n",
        "        \"Petal.Width\": 0.2,\n",
        "        \"Species\": \"setosa\"\n",
        "    },\n",
        "    {\n",
        "        \"Sepal.Length\": 5.3,\n",
        "        \"Sepal.Width\": 3.7,\n",
        "        \"Petal.Length\": 1.5,\n",
        "        \"Petal.Width\": 0.2,\n",
        "        \"Species\": \"setosa\"\n",
        "    },\n",
        "    {\n",
        "        \"Sepal.Length\": 5,\n",
        "        \"Sepal.Width\": 3.3,\n",
        "        \"Petal.Length\": 1.4,\n",
        "        \"Petal.Width\": 0.2,\n",
        "        \"Species\": \"setosa\"\n",
        "    },\n",
        "    {\n",
        "        \"Sepal.Length\": 7,\n",
        "        \"Sepal.Width\": 3.2,\n",
        "        \"Petal.Length\": 4.7,\n",
        "        \"Petal.Width\": 1.4,\n",
        "        \"Species\": \"versicolor\"\n",
        "    },\n",
        "    {\n",
        "        \"Sepal.Length\": 6.4,\n",
        "        \"Sepal.Width\": 3.2,\n",
        "        \"Petal.Length\": 4.5,\n",
        "        \"Petal.Width\": 1.5,\n",
        "        \"Species\": \"versicolor\"\n",
        "    },\n",
        "    {\n",
        "        \"Sepal.Length\": 6.9,\n",
        "        \"Sepal.Width\": 3.1,\n",
        "        \"Petal.Length\": 4.9,\n",
        "        \"Petal.Width\": 1.5,\n",
        "        \"Species\": \"versicolor\"\n",
        "    },\n",
        "    {\n",
        "        \"Sepal.Length\": 5.5,\n",
        "        \"Sepal.Width\": 2.3,\n",
        "        \"Petal.Length\": 4,\n",
        "        \"Petal.Width\": 1.3,\n",
        "        \"Species\": \"versicolor\"\n",
        "    },\n",
        "    {\n",
        "        \"Sepal.Length\": 6.5,\n",
        "        \"Sepal.Width\": 2.8,\n",
        "        \"Petal.Length\": 4.6,\n",
        "        \"Petal.Width\": 1.5,\n",
        "        \"Species\": \"versicolor\"\n",
        "    },\n",
        "    {\n",
        "        \"Sepal.Length\": 5.7,\n",
        "        \"Sepal.Width\": 2.8,\n",
        "        \"Petal.Length\": 4.5,\n",
        "        \"Petal.Width\": 1.3,\n",
        "        \"Species\": \"versicolor\"\n",
        "    },\n",
        "    {\n",
        "        \"Sepal.Length\": 6.3,\n",
        "        \"Sepal.Width\": 3.3,\n",
        "        \"Petal.Length\": 4.7,\n",
        "        \"Petal.Width\": 1.6,\n",
        "        \"Species\": \"versicolor\"\n",
        "    },\n",
        "    {\n",
        "        \"Sepal.Length\": 4.9,\n",
        "        \"Sepal.Width\": 2.4,\n",
        "        \"Petal.Length\": 3.3,\n",
        "        \"Petal.Width\": 1,\n",
        "        \"Species\": \"versicolor\"\n",
        "    },\n",
        "    {\n",
        "        \"Sepal.Length\": 6.6,\n",
        "        \"Sepal.Width\": 2.9,\n",
        "        \"Petal.Length\": 4.6,\n",
        "        \"Petal.Width\": 1.3,\n",
        "        \"Species\": \"versicolor\"\n",
        "    },\n",
        "    {\n",
        "        \"Sepal.Length\": 5.2,\n",
        "        \"Sepal.Width\": 2.7,\n",
        "        \"Petal.Length\": 3.9,\n",
        "        \"Petal.Width\": 1.4,\n",
        "        \"Species\": \"versicolor\"\n",
        "    },\n",
        "    {\n",
        "        \"Sepal.Length\": 5,\n",
        "        \"Sepal.Width\": 2,\n",
        "        \"Petal.Length\": 3.5,\n",
        "        \"Petal.Width\": 1,\n",
        "        \"Species\": \"versicolor\"\n",
        "    },\n",
        "    {\n",
        "        \"Sepal.Length\": 5.9,\n",
        "        \"Sepal.Width\": 3,\n",
        "        \"Petal.Length\": 4.2,\n",
        "        \"Petal.Width\": 1.5,\n",
        "        \"Species\": \"versicolor\"\n",
        "    },\n",
        "    {\n",
        "        \"Sepal.Length\": 6,\n",
        "        \"Sepal.Width\": 2.2,\n",
        "        \"Petal.Length\": 4,\n",
        "        \"Petal.Width\": 1,\n",
        "        \"Species\": \"versicolor\"\n",
        "    },\n",
        "    {\n",
        "        \"Sepal.Length\": 6.1,\n",
        "        \"Sepal.Width\": 2.9,\n",
        "        \"Petal.Length\": 4.7,\n",
        "        \"Petal.Width\": 1.4,\n",
        "        \"Species\": \"versicolor\"\n",
        "    },\n",
        "    {\n",
        "        \"Sepal.Length\": 5.6,\n",
        "        \"Sepal.Width\": 2.9,\n",
        "        \"Petal.Length\": 3.6,\n",
        "        \"Petal.Width\": 1.3,\n",
        "        \"Species\": \"versicolor\"\n",
        "    },\n",
        "    {\n",
        "        \"Sepal.Length\": 6.7,\n",
        "        \"Sepal.Width\": 3.1,\n",
        "        \"Petal.Length\": 4.4,\n",
        "        \"Petal.Width\": 1.4,\n",
        "        \"Species\": \"versicolor\"\n",
        "    },\n",
        "    {\n",
        "        \"Sepal.Length\": 5.6,\n",
        "        \"Sepal.Width\": 3,\n",
        "        \"Petal.Length\": 4.5,\n",
        "        \"Petal.Width\": 1.5,\n",
        "        \"Species\": \"versicolor\"\n",
        "    },\n",
        "    {\n",
        "        \"Sepal.Length\": 5.8,\n",
        "        \"Sepal.Width\": 2.7,\n",
        "        \"Petal.Length\": 4.1,\n",
        "        \"Petal.Width\": 1,\n",
        "        \"Species\": \"versicolor\"\n",
        "    },\n",
        "    {\n",
        "        \"Sepal.Length\": 6.2,\n",
        "        \"Sepal.Width\": 2.2,\n",
        "        \"Petal.Length\": 4.5,\n",
        "        \"Petal.Width\": 1.5,\n",
        "        \"Species\": \"versicolor\"\n",
        "    },\n",
        "    {\n",
        "        \"Sepal.Length\": 5.6,\n",
        "        \"Sepal.Width\": 2.5,\n",
        "        \"Petal.Length\": 3.9,\n",
        "        \"Petal.Width\": 1.1,\n",
        "        \"Species\": \"versicolor\"\n",
        "    },\n",
        "    {\n",
        "        \"Sepal.Length\": 5.9,\n",
        "        \"Sepal.Width\": 3.2,\n",
        "        \"Petal.Length\": 4.8,\n",
        "        \"Petal.Width\": 1.8,\n",
        "        \"Species\": \"versicolor\"\n",
        "    },\n",
        "    {\n",
        "        \"Sepal.Length\": 6.1,\n",
        "        \"Sepal.Width\": 2.8,\n",
        "        \"Petal.Length\": 4,\n",
        "        \"Petal.Width\": 1.3,\n",
        "        \"Species\": \"versicolor\"\n",
        "    },\n",
        "    {\n",
        "        \"Sepal.Length\": 6.3,\n",
        "        \"Sepal.Width\": 2.5,\n",
        "        \"Petal.Length\": 4.9,\n",
        "        \"Petal.Width\": 1.5,\n",
        "        \"Species\": \"versicolor\"\n",
        "    },\n",
        "    {\n",
        "        \"Sepal.Length\": 6.1,\n",
        "        \"Sepal.Width\": 2.8,\n",
        "        \"Petal.Length\": 4.7,\n",
        "        \"Petal.Width\": 1.2,\n",
        "        \"Species\": \"versicolor\"\n",
        "    },\n",
        "    {\n",
        "        \"Sepal.Length\": 6.4,\n",
        "        \"Sepal.Width\": 2.9,\n",
        "        \"Petal.Length\": 4.3,\n",
        "        \"Petal.Width\": 1.3,\n",
        "        \"Species\": \"versicolor\"\n",
        "    },\n",
        "    {\n",
        "        \"Sepal.Length\": 6.6,\n",
        "        \"Sepal.Width\": 3,\n",
        "        \"Petal.Length\": 4.4,\n",
        "        \"Petal.Width\": 1.4,\n",
        "        \"Species\": \"versicolor\"\n",
        "    },\n",
        "    {\n",
        "        \"Sepal.Length\": 6.8,\n",
        "        \"Sepal.Width\": 2.8,\n",
        "        \"Petal.Length\": 4.8,\n",
        "        \"Petal.Width\": 1.4,\n",
        "        \"Species\": \"versicolor\"\n",
        "    },\n",
        "    {\n",
        "        \"Sepal.Length\": 6.7,\n",
        "        \"Sepal.Width\": 3,\n",
        "        \"Petal.Length\": 5,\n",
        "        \"Petal.Width\": 1.7,\n",
        "        \"Species\": \"versicolor\"\n",
        "    },\n",
        "    {\n",
        "        \"Sepal.Length\": 6,\n",
        "        \"Sepal.Width\": 2.9,\n",
        "        \"Petal.Length\": 4.5,\n",
        "        \"Petal.Width\": 1.5,\n",
        "        \"Species\": \"versicolor\"\n",
        "    },\n",
        "    {\n",
        "        \"Sepal.Length\": 5.7,\n",
        "        \"Sepal.Width\": 2.6,\n",
        "        \"Petal.Length\": 3.5,\n",
        "        \"Petal.Width\": 1,\n",
        "        \"Species\": \"versicolor\"\n",
        "    },\n",
        "    {\n",
        "        \"Sepal.Length\": 5.5,\n",
        "        \"Sepal.Width\": 2.4,\n",
        "        \"Petal.Length\": 3.8,\n",
        "        \"Petal.Width\": 1.1,\n",
        "        \"Species\": \"versicolor\"\n",
        "    },\n",
        "    {\n",
        "        \"Sepal.Length\": 5.5,\n",
        "        \"Sepal.Width\": 2.4,\n",
        "        \"Petal.Length\": 3.7,\n",
        "        \"Petal.Width\": 1,\n",
        "        \"Species\": \"versicolor\"\n",
        "    },\n",
        "    {\n",
        "        \"Sepal.Length\": 5.8,\n",
        "        \"Sepal.Width\": 2.7,\n",
        "        \"Petal.Length\": 3.9,\n",
        "        \"Petal.Width\": 1.2,\n",
        "        \"Species\": \"versicolor\"\n",
        "    },\n",
        "    {\n",
        "        \"Sepal.Length\": 6,\n",
        "        \"Sepal.Width\": 2.7,\n",
        "        \"Petal.Length\": 5.1,\n",
        "        \"Petal.Width\": 1.6,\n",
        "        \"Species\": \"versicolor\"\n",
        "    },\n",
        "    {\n",
        "        \"Sepal.Length\": 5.4,\n",
        "        \"Sepal.Width\": 3,\n",
        "        \"Petal.Length\": 4.5,\n",
        "        \"Petal.Width\": 1.5,\n",
        "        \"Species\": \"versicolor\"\n",
        "    },\n",
        "    {\n",
        "        \"Sepal.Length\": 6,\n",
        "        \"Sepal.Width\": 3.4,\n",
        "        \"Petal.Length\": 4.5,\n",
        "        \"Petal.Width\": 1.6,\n",
        "        \"Species\": \"versicolor\"\n",
        "    },\n",
        "    {\n",
        "        \"Sepal.Length\": 6.7,\n",
        "        \"Sepal.Width\": 3.1,\n",
        "        \"Petal.Length\": 4.7,\n",
        "        \"Petal.Width\": 1.5,\n",
        "        \"Species\": \"versicolor\"\n",
        "    },\n",
        "    {\n",
        "        \"Sepal.Length\": 6.3,\n",
        "        \"Sepal.Width\": 2.3,\n",
        "        \"Petal.Length\": 4.4,\n",
        "        \"Petal.Width\": 1.3,\n",
        "        \"Species\": \"versicolor\"\n",
        "    },\n",
        "    {\n",
        "        \"Sepal.Length\": 5.6,\n",
        "        \"Sepal.Width\": 3,\n",
        "        \"Petal.Length\": 4.1,\n",
        "        \"Petal.Width\": 1.3,\n",
        "        \"Species\": \"versicolor\"\n",
        "    },\n",
        "    {\n",
        "        \"Sepal.Length\": 5.5,\n",
        "        \"Sepal.Width\": 2.5,\n",
        "        \"Petal.Length\": 4,\n",
        "        \"Petal.Width\": 1.3,\n",
        "        \"Species\": \"versicolor\"\n",
        "    },\n",
        "    {\n",
        "        \"Sepal.Length\": 5.5,\n",
        "        \"Sepal.Width\": 2.6,\n",
        "        \"Petal.Length\": 4.4,\n",
        "        \"Petal.Width\": 1.2,\n",
        "        \"Species\": \"versicolor\"\n",
        "    },\n",
        "    {\n",
        "        \"Sepal.Length\": 6.1,\n",
        "        \"Sepal.Width\": 3,\n",
        "        \"Petal.Length\": 4.6,\n",
        "        \"Petal.Width\": 1.4,\n",
        "        \"Species\": \"versicolor\"\n",
        "    },\n",
        "    {\n",
        "        \"Sepal.Length\": 5.8,\n",
        "        \"Sepal.Width\": 2.6,\n",
        "        \"Petal.Length\": 4,\n",
        "        \"Petal.Width\": 1.2,\n",
        "        \"Species\": \"versicolor\"\n",
        "    },\n",
        "    {\n",
        "        \"Sepal.Length\": 5,\n",
        "        \"Sepal.Width\": 2.3,\n",
        "        \"Petal.Length\": 3.3,\n",
        "        \"Petal.Width\": 1,\n",
        "        \"Species\": \"versicolor\"\n",
        "    },\n",
        "    {\n",
        "        \"Sepal.Length\": 5.6,\n",
        "        \"Sepal.Width\": 2.7,\n",
        "        \"Petal.Length\": 4.2,\n",
        "        \"Petal.Width\": 1.3,\n",
        "        \"Species\": \"versicolor\"\n",
        "    },\n",
        "    {\n",
        "        \"Sepal.Length\": 5.7,\n",
        "        \"Sepal.Width\": 3,\n",
        "        \"Petal.Length\": 4.2,\n",
        "        \"Petal.Width\": 1.2,\n",
        "        \"Species\": \"versicolor\"\n",
        "    },\n",
        "    {\n",
        "        \"Sepal.Length\": 5.7,\n",
        "        \"Sepal.Width\": 2.9,\n",
        "        \"Petal.Length\": 4.2,\n",
        "        \"Petal.Width\": 1.3,\n",
        "        \"Species\": \"versicolor\"\n",
        "    },\n",
        "    {\n",
        "        \"Sepal.Length\": 6.2,\n",
        "        \"Sepal.Width\": 2.9,\n",
        "        \"Petal.Length\": 4.3,\n",
        "        \"Petal.Width\": 1.3,\n",
        "        \"Species\": \"versicolor\"\n",
        "    },\n",
        "    {\n",
        "        \"Sepal.Length\": 5.1,\n",
        "        \"Sepal.Width\": 2.5,\n",
        "        \"Petal.Length\": 3,\n",
        "        \"Petal.Width\": 1.1,\n",
        "        \"Species\": \"versicolor\"\n",
        "    },\n",
        "    {\n",
        "        \"Sepal.Length\": 5.7,\n",
        "        \"Sepal.Width\": 2.8,\n",
        "        \"Petal.Length\": 4.1,\n",
        "        \"Petal.Width\": 1.3,\n",
        "        \"Species\": \"versicolor\"\n",
        "    },\n",
        "    {\n",
        "        \"Sepal.Length\": 6.3,\n",
        "        \"Sepal.Width\": 3.3,\n",
        "        \"Petal.Length\": 6,\n",
        "        \"Petal.Width\": 2.5,\n",
        "        \"Species\": \"virginica\"\n",
        "    },\n",
        "    {\n",
        "        \"Sepal.Length\": 5.8,\n",
        "        \"Sepal.Width\": 2.7,\n",
        "        \"Petal.Length\": 5.1,\n",
        "        \"Petal.Width\": 1.9,\n",
        "        \"Species\": \"virginica\"\n",
        "    },\n",
        "    {\n",
        "        \"Sepal.Length\": 7.1,\n",
        "        \"Sepal.Width\": 3,\n",
        "        \"Petal.Length\": 5.9,\n",
        "        \"Petal.Width\": 2.1,\n",
        "        \"Species\": \"virginica\"\n",
        "    },\n",
        "    {\n",
        "        \"Sepal.Length\": 6.3,\n",
        "        \"Sepal.Width\": 2.9,\n",
        "        \"Petal.Length\": 5.6,\n",
        "        \"Petal.Width\": 1.8,\n",
        "        \"Species\": \"virginica\"\n",
        "    },\n",
        "    {\n",
        "        \"Sepal.Length\": 6.5,\n",
        "        \"Sepal.Width\": 3,\n",
        "        \"Petal.Length\": 5.8,\n",
        "        \"Petal.Width\": 2.2,\n",
        "        \"Species\": \"virginica\"\n",
        "    },\n",
        "    {\n",
        "        \"Sepal.Length\": 7.6,\n",
        "        \"Sepal.Width\": 3,\n",
        "        \"Petal.Length\": 6.6,\n",
        "        \"Petal.Width\": 2.1,\n",
        "        \"Species\": \"virginica\"\n",
        "    },\n",
        "    {\n",
        "        \"Sepal.Length\": 4.9,\n",
        "        \"Sepal.Width\": 2.5,\n",
        "        \"Petal.Length\": 4.5,\n",
        "        \"Petal.Width\": 1.7,\n",
        "        \"Species\": \"virginica\"\n",
        "    },\n",
        "    {\n",
        "        \"Sepal.Length\": 7.3,\n",
        "        \"Sepal.Width\": 2.9,\n",
        "        \"Petal.Length\": 6.3,\n",
        "        \"Petal.Width\": 1.8,\n",
        "        \"Species\": \"virginica\"\n",
        "    },\n",
        "    {\n",
        "        \"Sepal.Length\": 6.7,\n",
        "        \"Sepal.Width\": 2.5,\n",
        "        \"Petal.Length\": 5.8,\n",
        "        \"Petal.Width\": 1.8,\n",
        "        \"Species\": \"virginica\"\n",
        "    },\n",
        "    {\n",
        "        \"Sepal.Length\": 7.2,\n",
        "        \"Sepal.Width\": 3.6,\n",
        "        \"Petal.Length\": 6.1,\n",
        "        \"Petal.Width\": 2.5,\n",
        "        \"Species\": \"virginica\"\n",
        "    },\n",
        "    {\n",
        "        \"Sepal.Length\": 6.5,\n",
        "        \"Sepal.Width\": 3.2,\n",
        "        \"Petal.Length\": 5.1,\n",
        "        \"Petal.Width\": 2,\n",
        "        \"Species\": \"virginica\"\n",
        "    },\n",
        "    {\n",
        "        \"Sepal.Length\": 6.4,\n",
        "        \"Sepal.Width\": 2.7,\n",
        "        \"Petal.Length\": 5.3,\n",
        "        \"Petal.Width\": 1.9,\n",
        "        \"Species\": \"virginica\"\n",
        "    },\n",
        "    {\n",
        "        \"Sepal.Length\": 6.8,\n",
        "        \"Sepal.Width\": 3,\n",
        "        \"Petal.Length\": 5.5,\n",
        "        \"Petal.Width\": 2.1,\n",
        "        \"Species\": \"virginica\"\n",
        "    },\n",
        "    {\n",
        "        \"Sepal.Length\": 5.7,\n",
        "        \"Sepal.Width\": 2.5,\n",
        "        \"Petal.Length\": 5,\n",
        "        \"Petal.Width\": 2,\n",
        "        \"Species\": \"virginica\"\n",
        "    },\n",
        "    {\n",
        "        \"Sepal.Length\": 5.8,\n",
        "        \"Sepal.Width\": 2.8,\n",
        "        \"Petal.Length\": 5.1,\n",
        "        \"Petal.Width\": 2.4,\n",
        "        \"Species\": \"virginica\"\n",
        "    },\n",
        "    {\n",
        "        \"Sepal.Length\": 6.4,\n",
        "        \"Sepal.Width\": 3.2,\n",
        "        \"Petal.Length\": 5.3,\n",
        "        \"Petal.Width\": 2.3,\n",
        "        \"Species\": \"virginica\"\n",
        "    },\n",
        "    {\n",
        "        \"Sepal.Length\": 6.5,\n",
        "        \"Sepal.Width\": 3,\n",
        "        \"Petal.Length\": 5.5,\n",
        "        \"Petal.Width\": 1.8,\n",
        "        \"Species\": \"virginica\"\n",
        "    },\n",
        "    {\n",
        "        \"Sepal.Length\": 7.7,\n",
        "        \"Sepal.Width\": 3.8,\n",
        "        \"Petal.Length\": 6.7,\n",
        "        \"Petal.Width\": 2.2,\n",
        "        \"Species\": \"virginica\"\n",
        "    },\n",
        "    {\n",
        "        \"Sepal.Length\": 7.7,\n",
        "        \"Sepal.Width\": 2.6,\n",
        "        \"Petal.Length\": 6.9,\n",
        "        \"Petal.Width\": 2.3,\n",
        "        \"Species\": \"virginica\"\n",
        "    },\n",
        "    {\n",
        "        \"Sepal.Length\": 6,\n",
        "        \"Sepal.Width\": 2.2,\n",
        "        \"Petal.Length\": 5,\n",
        "        \"Petal.Width\": 1.5,\n",
        "        \"Species\": \"virginica\"\n",
        "    },\n",
        "    {\n",
        "        \"Sepal.Length\": 6.9,\n",
        "        \"Sepal.Width\": 3.2,\n",
        "        \"Petal.Length\": 5.7,\n",
        "        \"Petal.Width\": 2.3,\n",
        "        \"Species\": \"virginica\"\n",
        "    },\n",
        "    {\n",
        "        \"Sepal.Length\": 5.6,\n",
        "        \"Sepal.Width\": 2.8,\n",
        "        \"Petal.Length\": 4.9,\n",
        "        \"Petal.Width\": 2,\n",
        "        \"Species\": \"virginica\"\n",
        "    },\n",
        "    {\n",
        "        \"Sepal.Length\": 7.7,\n",
        "        \"Sepal.Width\": 2.8,\n",
        "        \"Petal.Length\": 6.7,\n",
        "        \"Petal.Width\": 2,\n",
        "        \"Species\": \"virginica\"\n",
        "    },\n",
        "    {\n",
        "        \"Sepal.Length\": 6.3,\n",
        "        \"Sepal.Width\": 2.7,\n",
        "        \"Petal.Length\": 4.9,\n",
        "        \"Petal.Width\": 1.8,\n",
        "        \"Species\": \"virginica\"\n",
        "    },\n",
        "    {\n",
        "        \"Sepal.Length\": 6.7,\n",
        "        \"Sepal.Width\": 3.3,\n",
        "        \"Petal.Length\": 5.7,\n",
        "        \"Petal.Width\": 2.1,\n",
        "        \"Species\": \"virginica\"\n",
        "    },\n",
        "    {\n",
        "        \"Sepal.Length\": 7.2,\n",
        "        \"Sepal.Width\": 3.2,\n",
        "        \"Petal.Length\": 6,\n",
        "        \"Petal.Width\": 1.8,\n",
        "        \"Species\": \"virginica\"\n",
        "    },\n",
        "    {\n",
        "        \"Sepal.Length\": 6.2,\n",
        "        \"Sepal.Width\": 2.8,\n",
        "        \"Petal.Length\": 4.8,\n",
        "        \"Petal.Width\": 1.8,\n",
        "        \"Species\": \"virginica\"\n",
        "    },\n",
        "    {\n",
        "        \"Sepal.Length\": 6.1,\n",
        "        \"Sepal.Width\": 3,\n",
        "        \"Petal.Length\": 4.9,\n",
        "        \"Petal.Width\": 1.8,\n",
        "        \"Species\": \"virginica\"\n",
        "    },\n",
        "    {\n",
        "        \"Sepal.Length\": 6.4,\n",
        "        \"Sepal.Width\": 2.8,\n",
        "        \"Petal.Length\": 5.6,\n",
        "        \"Petal.Width\": 2.1,\n",
        "        \"Species\": \"virginica\"\n",
        "    },\n",
        "    {\n",
        "        \"Sepal.Length\": 7.2,\n",
        "        \"Sepal.Width\": 3,\n",
        "        \"Petal.Length\": 5.8,\n",
        "        \"Petal.Width\": 1.6,\n",
        "        \"Species\": \"virginica\"\n",
        "    },\n",
        "    {\n",
        "        \"Sepal.Length\": 7.4,\n",
        "        \"Sepal.Width\": 2.8,\n",
        "        \"Petal.Length\": 6.1,\n",
        "        \"Petal.Width\": 1.9,\n",
        "        \"Species\": \"virginica\"\n",
        "    },\n",
        "    {\n",
        "        \"Sepal.Length\": 7.9,\n",
        "        \"Sepal.Width\": 3.8,\n",
        "        \"Petal.Length\": 6.4,\n",
        "        \"Petal.Width\": 2,\n",
        "        \"Species\": \"virginica\"\n",
        "    },\n",
        "    {\n",
        "        \"Sepal.Length\": 6.4,\n",
        "        \"Sepal.Width\": 2.8,\n",
        "        \"Petal.Length\": 5.6,\n",
        "        \"Petal.Width\": 2.2,\n",
        "        \"Species\": \"virginica\"\n",
        "    },\n",
        "    {\n",
        "        \"Sepal.Length\": 6.3,\n",
        "        \"Sepal.Width\": 2.8,\n",
        "        \"Petal.Length\": 5.1,\n",
        "        \"Petal.Width\": 1.5,\n",
        "        \"Species\": \"virginica\"\n",
        "    },\n",
        "    {\n",
        "        \"Sepal.Length\": 6.1,\n",
        "        \"Sepal.Width\": 2.6,\n",
        "        \"Petal.Length\": 5.6,\n",
        "        \"Petal.Width\": 1.4,\n",
        "        \"Species\": \"virginica\"\n",
        "    },\n",
        "    {\n",
        "        \"Sepal.Length\": 7.7,\n",
        "        \"Sepal.Width\": 3,\n",
        "        \"Petal.Length\": 6.1,\n",
        "        \"Petal.Width\": 2.3,\n",
        "        \"Species\": \"virginica\"\n",
        "    },\n",
        "    {\n",
        "        \"Sepal.Length\": 6.3,\n",
        "        \"Sepal.Width\": 3.4,\n",
        "        \"Petal.Length\": 5.6,\n",
        "        \"Petal.Width\": 2.4,\n",
        "        \"Species\": \"virginica\"\n",
        "    },\n",
        "    {\n",
        "        \"Sepal.Length\": 6.4,\n",
        "        \"Sepal.Width\": 3.1,\n",
        "        \"Petal.Length\": 5.5,\n",
        "        \"Petal.Width\": 1.8,\n",
        "        \"Species\": \"virginica\"\n",
        "    },\n",
        "    {\n",
        "        \"Sepal.Length\": 6,\n",
        "        \"Sepal.Width\": 3,\n",
        "        \"Petal.Length\": 4.8,\n",
        "        \"Petal.Width\": 1.8,\n",
        "        \"Species\": \"virginica\"\n",
        "    },\n",
        "    {\n",
        "        \"Sepal.Length\": 6.9,\n",
        "        \"Sepal.Width\": 3.1,\n",
        "        \"Petal.Length\": 5.4,\n",
        "        \"Petal.Width\": 2.1,\n",
        "        \"Species\": \"virginica\"\n",
        "    },\n",
        "    {\n",
        "        \"Sepal.Length\": 6.7,\n",
        "        \"Sepal.Width\": 3.1,\n",
        "        \"Petal.Length\": 5.6,\n",
        "        \"Petal.Width\": 2.4,\n",
        "        \"Species\": \"virginica\"\n",
        "    },\n",
        "    {\n",
        "        \"Sepal.Length\": 6.9,\n",
        "        \"Sepal.Width\": 3.1,\n",
        "        \"Petal.Length\": 5.1,\n",
        "        \"Petal.Width\": 2.3,\n",
        "        \"Species\": \"virginica\"\n",
        "    },\n",
        "    {\n",
        "        \"Sepal.Length\": 5.8,\n",
        "        \"Sepal.Width\": 2.7,\n",
        "        \"Petal.Length\": 5.1,\n",
        "        \"Petal.Width\": 1.9,\n",
        "        \"Species\": \"virginica\"\n",
        "    },\n",
        "    {\n",
        "        \"Sepal.Length\": 6.8,\n",
        "        \"Sepal.Width\": 3.2,\n",
        "        \"Petal.Length\": 5.9,\n",
        "        \"Petal.Width\": 2.3,\n",
        "        \"Species\": \"virginica\"\n",
        "    },\n",
        "    {\n",
        "        \"Sepal.Length\": 6.7,\n",
        "        \"Sepal.Width\": 3.3,\n",
        "        \"Petal.Length\": 5.7,\n",
        "        \"Petal.Width\": 2.5,\n",
        "        \"Species\": \"virginica\"\n",
        "    },\n",
        "    {\n",
        "        \"Sepal.Length\": 6.7,\n",
        "        \"Sepal.Width\": 3,\n",
        "        \"Petal.Length\": 5.2,\n",
        "        \"Petal.Width\": 2.3,\n",
        "        \"Species\": \"virginica\"\n",
        "    },\n",
        "    {\n",
        "        \"Sepal.Length\": 6.3,\n",
        "        \"Sepal.Width\": 2.5,\n",
        "        \"Petal.Length\": 5,\n",
        "        \"Petal.Width\": 1.9,\n",
        "        \"Species\": \"virginica\"\n",
        "    },\n",
        "    {\n",
        "        \"Sepal.Length\": 6.5,\n",
        "        \"Sepal.Width\": 3,\n",
        "        \"Petal.Length\": 5.2,\n",
        "        \"Petal.Width\": 2,\n",
        "        \"Species\": \"virginica\"\n",
        "    },\n",
        "    {\n",
        "        \"Sepal.Length\": 6.2,\n",
        "        \"Sepal.Width\": 3.4,\n",
        "        \"Petal.Length\": 5.4,\n",
        "        \"Petal.Width\": 2.3,\n",
        "        \"Species\": \"virginica\"\n",
        "    },\n",
        "    {\n",
        "        \"Sepal.Length\": 5.9,\n",
        "        \"Sepal.Width\": 3,\n",
        "        \"Petal.Length\": 5.1,\n",
        "        \"Petal.Width\": 1.8,\n",
        "        \"Species\": \"virginica\"\n",
        "    }\n",
        "]\n"
       ]
      }
     ],
     "prompt_number": 16
    },
    {
     "cell_type": "heading",
     "level": 3,
     "metadata": {},
     "source": [
      "Convert back to JSON"
     ]
    },
    {
     "cell_type": "code",
     "collapsed": false,
     "input": [
      "iris2 <- fromJSON(myJson) # this time from a JSON string literal\n",
      "\n",
      "head(iris2)"
     ],
     "language": "python",
     "metadata": {},
     "outputs": [
      {
       "metadata": {},
       "output_type": "pyout",
       "prompt_number": 17,
       "text": [
        "  Sepal.Length Sepal.Width Petal.Length Petal.Width Species\n",
        "1          5.1         3.5          1.4         0.2  setosa\n",
        "2          4.9         3.0          1.4         0.2  setosa\n",
        "3          4.7         3.2          1.3         0.2  setosa\n",
        "4          4.6         3.1          1.5         0.2  setosa\n",
        "5          5.0         3.6          1.4         0.2  setosa\n",
        "6          5.4         3.9          1.7         0.4  setosa"
       ]
      }
     ],
     "prompt_number": 17
    },
    {
     "cell_type": "heading",
     "level": 3,
     "metadata": {},
     "source": [
      "Further resources"
     ]
    },
    {
     "cell_type": "markdown",
     "metadata": {},
     "source": [
      "* [`jsonlite` tutorial on R-bloggers](http://www.r-bloggers.com/new-package-jsonlite-a-smarter-json-encoderdecoder/)\n",
      "* jsonlite vignette"
     ]
    },
    {
     "cell_type": "heading",
     "level": 2,
     "metadata": {},
     "source": [
      "Using the `data.table` package"
     ]
    },
    {
     "cell_type": "markdown",
     "metadata": {},
     "source": [
      "Often **faster**, more **memory efficient** version of the `data.frame`\n",
      "* \\+ inherits from `data.frame` \u2014 all functions that accept `data.frame` work on `data.table`\n",
      "* \\+ frequent updates \u2014 [Rdatatable/data.table](https://github.com/Rdatatable/data.table)\n",
      "* \\+ written in C \u2014 so it's much faster\n",
      "* \\+ much, much faster at subsetting, grouping, and updating variables\n",
      "* \\- requires learning a new syntax"
     ]
    },
    {
     "cell_type": "heading",
     "level": 4,
     "metadata": {},
     "source": [
      "Installation"
     ]
    },
    {
     "cell_type": "code",
     "collapsed": false,
     "input": [
      "library(data.table)"
     ],
     "language": "python",
     "metadata": {},
     "outputs": [
      {
       "ename": "ERROR",
       "evalue": "Error in library(data.table): there is no package called \u2018data.table\u2019\n",
       "output_type": "pyerr",
       "traceback": [
        "Error in library(data.table): there is no package called \u2018data.table\u2019\n"
       ]
      }
     ],
     "prompt_number": 18
    },
    {
     "cell_type": "code",
     "collapsed": false,
     "input": [
      "install.packages('data.table', repos = 'http://cran.utstat.utoronto.ca/')"
     ],
     "language": "python",
     "metadata": {},
     "outputs": [
      {
       "output_type": "stream",
       "stream": "stderr",
       "text": [
        "Installing package into \u2018/home/vagrant/R/x86_64-pc-linux-gnu-library/3.1\u2019\n",
        "(as \u2018lib\u2019 is unspecified)\n"
       ]
      },
      {
       "output_type": "stream",
       "stream": "stdout",
       "text": [
        "\n",
        "The downloaded source packages are in\n",
        "\t\u2018/tmp/RtmpMASxuU/downloaded_packages\u2019\n"
       ]
      }
     ],
     "prompt_number": 21
    },
    {
     "cell_type": "code",
     "collapsed": false,
     "input": [
      "library(data.table)"
     ],
     "language": "python",
     "metadata": {},
     "outputs": [],
     "prompt_number": 2
    },
    {
     "cell_type": "code",
     "collapsed": false,
     "input": [
      "df = data.frame(x = rnorm(9), y = rep(c('a', 'b', 'c'), each = 3), z = rnorm(9))\n",
      "\n",
      "head(df, 3)"
     ],
     "language": "python",
     "metadata": {},
     "outputs": [
      {
       "metadata": {},
       "output_type": "pyout",
       "prompt_number": 26,
       "text": [
        "          x y          z\n",
        "1  2.882078 a -0.6238394\n",
        "2 -0.483355 a -0.7390769\n",
        "3 -2.337320 a -0.7401446"
       ]
      }
     ],
     "prompt_number": 26
    },
    {
     "cell_type": "code",
     "collapsed": false,
     "input": [
      "dt = data.table(x = rnorm(9), y = rep(c('a', 'b', 'c'), each = 3), z = rnorm(9))\n",
      "\n",
      "head(dt, 3)"
     ],
     "language": "python",
     "metadata": {},
     "outputs": [
      {
       "metadata": {},
       "output_type": "pyout",
       "prompt_number": 3,
       "text": [
        "            x y         z\n",
        "1: -2.2787270 a 0.4473685\n",
        "2:  0.1519253 a 1.2863841\n",
        "3:  1.8079666 a 0.1639194"
       ]
      }
     ],
     "prompt_number": 3
    },
    {
     "cell_type": "heading",
     "level": 3,
     "metadata": {},
     "source": [
      "See all `data.tables` in memory"
     ]
    },
    {
     "cell_type": "code",
     "collapsed": false,
     "input": [
      "tables()"
     ],
     "language": "python",
     "metadata": {},
     "outputs": [
      {
       "output_type": "stream",
       "stream": "stdout",
       "text": [
        "     NAME NROW NCOL MB COLS  KEY\n",
        "[1,] dt      9    3  1 x,y,z    \n",
        "[2,] DT      9    3  1 x,y,z    \n",
        "Total: 2MB\n"
       ]
      }
     ],
     "prompt_number": 28
    },
    {
     "cell_type": "heading",
     "level": 3,
     "metadata": {},
     "source": [
      "Subsetting rows"
     ]
    },
    {
     "cell_type": "code",
     "collapsed": false,
     "input": [
      "dt[2, ]"
     ],
     "language": "python",
     "metadata": {},
     "outputs": [
      {
       "metadata": {},
       "output_type": "pyout",
       "prompt_number": 29,
       "text": [
        "          x y        z\n",
        "1: 1.220698 a 0.700225"
       ]
      }
     ],
     "prompt_number": 29
    },
    {
     "cell_type": "code",
     "collapsed": false,
     "input": [
      "dt[dt$y == 'a', ]"
     ],
     "language": "python",
     "metadata": {},
     "outputs": [
      {
       "metadata": {},
       "output_type": "pyout",
       "prompt_number": 30,
       "text": [
        "            x y          z\n",
        "1: -0.4636571 a -0.1468292\n",
        "2:  1.2206981 a  0.7002250\n",
        "3:  0.4833383 a  1.6642703"
       ]
      }
     ],
     "prompt_number": 30
    },
    {
     "cell_type": "code",
     "collapsed": false,
     "input": [
      "# subsetting with only one index, it subsets by rows\n",
      "\n",
      "dt[c(2, 3)] # getting the 2nd and 3rd element gets us the 2nd and 3rd row"
     ],
     "language": "python",
     "metadata": {},
     "outputs": [
      {
       "metadata": {},
       "output_type": "pyout",
       "prompt_number": 31,
       "text": [
        "           x y        z\n",
        "1: 1.2206981 a 0.700225\n",
        "2: 0.4833383 a 1.664270"
       ]
      }
     ],
     "prompt_number": 31
    },
    {
     "cell_type": "heading",
     "level": 3,
     "metadata": {},
     "source": [
      "Subsetting columns!?"
     ]
    },
    {
     "cell_type": "code",
     "collapsed": false,
     "input": [
      "dt[, c(2, 3)]"
     ],
     "language": "python",
     "metadata": {},
     "outputs": [
      {
       "metadata": {},
       "output_type": "pyout",
       "prompt_number": 32,
       "text": [
        "[1] 2 3"
       ]
      }
     ],
     "prompt_number": 32
    },
    {
     "cell_type": "code",
     "collapsed": true,
     "input": [
      "df"
     ],
     "language": "python",
     "metadata": {},
     "outputs": [
      {
       "metadata": {},
       "output_type": "pyout",
       "prompt_number": 33,
       "text": [
        "             x y           z\n",
        "1  2.882078457 a -0.62383942\n",
        "2 -0.483355001 a -0.73907690\n",
        "3 -2.337319853 a -0.74014465\n",
        "4  0.007447045 b  0.61805804\n",
        "5  2.528046832 b  0.05954925\n",
        "6 -0.467770272 b -1.79303185\n",
        "7  0.274749082 c -2.46107996\n",
        "8  0.917928259 c  0.15356871\n",
        "9  0.578027913 c -0.27912018"
       ]
      }
     ],
     "prompt_number": 33
    },
    {
     "cell_type": "code",
     "collapsed": false,
     "input": [
      "df[, c(2, 3)]"
     ],
     "language": "python",
     "metadata": {},
     "outputs": [
      {
       "metadata": {},
       "output_type": "pyout",
       "prompt_number": 34,
       "text": [
        "  y           z\n",
        "1 a -0.62383942\n",
        "2 a -0.73907690\n",
        "3 a -0.74014465\n",
        "4 b  0.61805804\n",
        "5 b  0.05954925\n",
        "6 b -1.79303185\n",
        "7 c -2.46107996\n",
        "8 c  0.15356871\n",
        "9 c -0.27912018"
       ]
      }
     ],
     "prompt_number": 34
    },
    {
     "cell_type": "heading",
     "level": 3,
     "metadata": {},
     "source": [
      "Column subsetting in `data.table`"
     ]
    },
    {
     "cell_type": "markdown",
     "metadata": {},
     "source": [
      "* the subsetting function is modified for `data.table`\n",
      "* the argument you pass after the comma is called an **expression**\n",
      "  * are expressions similar to \n",
      "    * **anonymous functions** (in javascript), in the fact that they are anonymous?\n",
      "    * **procs** or **lambdas** in ruby, in the the fact that they are anonymous _and_ they implicitly return what's evaluated in the last statement?\n",
      "* in R, an expression is a collection of statements enclosed in curly brackets"
     ]
    },
    {
     "cell_type": "code",
     "collapsed": false,
     "input": [
      "{\n",
      "  x = 1\n",
      "  y = 2\n",
      "}\n",
      "\n",
      "k = { print(10); 5 }"
     ],
     "language": "python",
     "metadata": {},
     "outputs": [
      {
       "output_type": "stream",
       "stream": "stdout",
       "text": [
        "[1] 10\n"
       ]
      }
     ],
     "prompt_number": 35
    },
    {
     "cell_type": "code",
     "collapsed": false,
     "input": [
      "print(k)"
     ],
     "language": "python",
     "metadata": {},
     "outputs": [
      {
       "output_type": "stream",
       "stream": "stdout",
       "text": [
        "[1] 5\n"
       ]
      }
     ],
     "prompt_number": 36
    },
    {
     "cell_type": "markdown",
     "metadata": {},
     "source": [
      "* later, we'll use expressions to summarize data sets"
     ]
    },
    {
     "cell_type": "heading",
     "level": 3,
     "metadata": {},
     "source": [
      "Summarizing data: calculate values for variables with expressions"
     ]
    },
    {
     "cell_type": "markdown",
     "metadata": {},
     "source": [
      "* A list as the 2nd argument \n",
      "  * perform those functions & return the values"
     ]
    },
    {
     "cell_type": "code",
     "collapsed": false,
     "input": [
      "# instead of an index, you can pass a list of functions \n",
      "# that you want to perform, where the functions are applied to \n",
      "# variables named by columns\n",
      "\n",
      "dt[, list(mean(x), sum(z))]"
     ],
     "language": "python",
     "metadata": {},
     "outputs": [
      {
       "metadata": {},
       "output_type": "pyout",
       "prompt_number": 46,
       "text": [
        "          V1         V2\n",
        "1: 0.4283283 -0.5666147"
       ]
      }
     ],
     "prompt_number": 46
    },
    {
     "cell_type": "code",
     "collapsed": false,
     "input": [
      "# pretty much any function can be performed that way\n",
      "\n",
      "dt[, table(y)]"
     ],
     "language": "python",
     "metadata": {},
     "outputs": [
      {
       "metadata": {},
       "output_type": "pyout",
       "prompt_number": 47,
       "text": [
        "y\n",
        "a b c \n",
        "3 3 3 "
       ]
      }
     ],
     "prompt_number": 47
    },
    {
     "cell_type": "heading",
     "level": 3,
     "metadata": {},
     "source": [
      "Adding new columns"
     ]
    },
    {
     "cell_type": "markdown",
     "metadata": {},
     "source": [
      "* `:=`\n",
      "* very fast\n",
      "* memory efficient\n",
      "  * \\+ doesn't copy the data.table, but alters in memory\n",
      "* when adding a new variable to a `data.frame`\n",
      "  * \\- R will copy the entire `data.frame` and add the new variable to it.\n",
      "    * this results in having 2 copies of the `data.frame` in memory \u2014 big data sets!!!"
     ]
    },
    {
     "cell_type": "code",
     "collapsed": false,
     "input": [
      "dt[, w := z^2]"
     ],
     "language": "python",
     "metadata": {},
     "outputs": [
      {
       "metadata": {},
       "output_type": "pyout",
       "prompt_number": 4,
       "text": [
        "             x y          z          w\n",
        "1: -2.27872699 a  0.4473685 0.20013858\n",
        "2:  0.15192526 a  1.2863841 1.65478394\n",
        "3:  1.80796661 a  0.1639194 0.02686958\n",
        "4: -0.42060353 b -1.0729186 1.15115434\n",
        "5:  0.23608970 b  1.1538239 1.33130964\n",
        "6: -0.02567535 b  1.0429627 1.08777110\n",
        "7:  2.25954607 c -0.6909442 0.47740389\n",
        "8: -0.44152010 c -0.1954731 0.03820973\n",
        "9: -0.10990141 c -1.3180652 1.73729590"
       ]
      }
     ],
     "prompt_number": 4
    },
    {
     "cell_type": "heading",
     "level": 3,
     "metadata": {},
     "source": [
      "`data.table`s are copied by reference, not by value"
     ]
    },
    {
     "cell_type": "code",
     "collapsed": false,
     "input": [
      "dt2 <- dt\n",
      "\n",
      "dt"
     ],
     "language": "python",
     "metadata": {},
     "outputs": [
      {
       "metadata": {},
       "output_type": "pyout",
       "prompt_number": 5,
       "text": [
        "             x y          z          w\n",
        "1: -2.27872699 a  0.4473685 0.20013858\n",
        "2:  0.15192526 a  1.2863841 1.65478394\n",
        "3:  1.80796661 a  0.1639194 0.02686958\n",
        "4: -0.42060353 b -1.0729186 1.15115434\n",
        "5:  0.23608970 b  1.1538239 1.33130964\n",
        "6: -0.02567535 b  1.0429627 1.08777110\n",
        "7:  2.25954607 c -0.6909442 0.47740389\n",
        "8: -0.44152010 c -0.1954731 0.03820973\n",
        "9: -0.10990141 c -1.3180652 1.73729590"
       ]
      }
     ],
     "prompt_number": 5
    },
    {
     "cell_type": "code",
     "collapsed": false,
     "input": [
      "dt[, y := 2]"
     ],
     "language": "python",
     "metadata": {},
     "outputs": [
      {
       "output_type": "stream",
       "stream": "stderr",
       "text": [
        "Warning message:\n",
        "In `[.data.table`(dt, , `:=`(y, 2)): Coerced 'double' RHS to 'character' to match the column's type; may have truncated precision. Either change the target column to 'double' first (by creating a new 'double' vector length 9 (nrows of entire table) and assign that; i.e. 'replace' column), or coerce RHS to 'character' (e.g. 1L, NA_[real|integer]_, as.*, etc) to make your intent clear and for speed. Or, set the column type correctly up front when you create the table and stick to it, please."
       ]
      },
      {
       "metadata": {},
       "output_type": "pyout",
       "prompt_number": 6,
       "text": [
        "             x y          z          w\n",
        "1: -2.27872699 2  0.4473685 0.20013858\n",
        "2:  0.15192526 2  1.2863841 1.65478394\n",
        "3:  1.80796661 2  0.1639194 0.02686958\n",
        "4: -0.42060353 2 -1.0729186 1.15115434\n",
        "5:  0.23608970 2  1.1538239 1.33130964\n",
        "6: -0.02567535 2  1.0429627 1.08777110\n",
        "7:  2.25954607 2 -0.6909442 0.47740389\n",
        "8: -0.44152010 2 -0.1954731 0.03820973\n",
        "9: -0.10990141 2 -1.3180652 1.73729590"
       ]
      }
     ],
     "prompt_number": 6
    },
    {
     "cell_type": "code",
     "collapsed": false,
     "input": [
      "head(dt, n = 3)"
     ],
     "language": "python",
     "metadata": {},
     "outputs": [
      {
       "metadata": {},
       "output_type": "pyout",
       "prompt_number": 7,
       "text": [
        "            x y         z          w\n",
        "1: -2.2787270 2 0.4473685 0.20013858\n",
        "2:  0.1519253 2 1.2863841 1.65478394\n",
        "3:  1.8079666 2 0.1639194 0.02686958"
       ]
      }
     ],
     "prompt_number": 7
    },
    {
     "cell_type": "markdown",
     "metadata": {},
     "source": [
      "* use **`copy()`** if this is not the wanted behaviour."
     ]
    },
    {
     "cell_type": "heading",
     "level": 3,
     "metadata": {},
     "source": [
      "Multiple operations"
     ]
    },
    {
     "cell_type": "code",
     "collapsed": false,
     "input": [
      "dt[, m := { tmp <- (x + z); log2(tmp + 5) }]"
     ],
     "language": "python",
     "metadata": {},
     "outputs": [
      {
       "metadata": {},
       "output_type": "pyout",
       "prompt_number": 8,
       "text": [
        "             x y          z          w        m\n",
        "1: -2.27872699 2  0.4473685 0.20013858 1.663864\n",
        "2:  0.15192526 2  1.2863841 1.65478394 2.686682\n",
        "3:  1.80796661 2  0.1639194 0.02686958 2.801549\n",
        "4: -0.42060353 2 -1.0729186 1.15115434 1.810023\n",
        "5:  0.23608970 2  1.1538239 1.33130964 2.675796\n",
        "6: -0.02567535 2  1.0429627 1.08777110 2.589113\n",
        "7:  2.25954607 2 -0.6909442 0.47740389 2.715586\n",
        "8: -0.44152010 2 -0.1954731 0.03820973 2.125323\n",
        "9: -0.10990141 2 -1.3180652 1.73729590 1.836746"
       ]
      }
     ],
     "prompt_number": 8
    },
    {
     "cell_type": "heading",
     "level": 3,
     "metadata": {},
     "source": [
      "`plyr`-like operations"
     ]
    },
    {
     "cell_type": "code",
     "collapsed": false,
     "input": [
      "dt[, a := x > 0]"
     ],
     "language": "python",
     "metadata": {},
     "outputs": [
      {
       "metadata": {},
       "output_type": "pyout",
       "prompt_number": 9,
       "text": [
        "             x y          z          w        m     a\n",
        "1: -2.27872699 2  0.4473685 0.20013858 1.663864 FALSE\n",
        "2:  0.15192526 2  1.2863841 1.65478394 2.686682  TRUE\n",
        "3:  1.80796661 2  0.1639194 0.02686958 2.801549  TRUE\n",
        "4: -0.42060353 2 -1.0729186 1.15115434 1.810023 FALSE\n",
        "5:  0.23608970 2  1.1538239 1.33130964 2.675796  TRUE\n",
        "6: -0.02567535 2  1.0429627 1.08777110 2.589113 FALSE\n",
        "7:  2.25954607 2 -0.6909442 0.47740389 2.715586  TRUE\n",
        "8: -0.44152010 2 -0.1954731 0.03820973 2.125323 FALSE\n",
        "9: -0.10990141 2 -1.3180652 1.73729590 1.836746 FALSE"
       ]
      }
     ],
     "prompt_number": 9
    },
    {
     "cell_type": "heading",
     "level": 4,
     "metadata": {},
     "source": [
      "Summarize another variable grouped by specific cases"
     ]
    },
    {
     "cell_type": "markdown",
     "metadata": {},
     "source": [
      "* create a new variable holding the aggregated mean, aggregated over the variable that you use `by` for:\n",
      "  * take the mean of `x+w` when `a=TRUE` and place it in all rows where `a=TRUE`\n",
      "  * then take the mean of `x+w` when `a=FALSE` and place that mean in all rows where `a=FALSE`"
     ]
    },
    {
     "cell_type": "code",
     "collapsed": false,
     "input": [
      "dt[, b := mean(x + w), by = a]"
     ],
     "language": "python",
     "metadata": {},
     "outputs": [
      {
       "metadata": {},
       "output_type": "pyout",
       "prompt_number": 10,
       "text": [
        "             x y          z          w        m     a         b\n",
        "1: -2.27872699 2  0.4473685 0.20013858 1.663864 FALSE 0.1876285\n",
        "2:  0.15192526 2  1.2863841 1.65478394 2.686682  TRUE 1.9864737\n",
        "3:  1.80796661 2  0.1639194 0.02686958 2.801549  TRUE 1.9864737\n",
        "4: -0.42060353 2 -1.0729186 1.15115434 1.810023 FALSE 0.1876285\n",
        "5:  0.23608970 2  1.1538239 1.33130964 2.675796  TRUE 1.9864737\n",
        "6: -0.02567535 2  1.0429627 1.08777110 2.589113 FALSE 0.1876285\n",
        "7:  2.25954607 2 -0.6909442 0.47740389 2.715586  TRUE 1.9864737\n",
        "8: -0.44152010 2 -0.1954731 0.03820973 2.125323 FALSE 0.1876285\n",
        "9: -0.10990141 2 -1.3180652 1.73729590 1.836746 FALSE 0.1876285"
       ]
      }
     ],
     "prompt_number": 10
    },
    {
     "cell_type": "heading",
     "level": 3,
     "metadata": {},
     "source": [
      "Special, really fast, variables"
     ]
    },
    {
     "cell_type": "heading",
     "level": 4,
     "metadata": {},
     "source": [
      "`.N` \u2014 counter of occurences"
     ]
    },
    {
     "cell_type": "markdown",
     "metadata": {},
     "source": [
      "* integer\n",
      "* length 1\n",
      "* contains the number of times that a particular group appears\n",
      "* a lot faster than counting the size of a `dt$x` table"
     ]
    },
    {
     "cell_type": "code",
     "collapsed": false,
     "input": [
      "set.seed(123)\n",
      "dt <- data.table(x = sample(letters[1:3], 1E5, TRUE))\n",
      "\n",
      "# count the number of times all of these numbers appear\n",
      "dt[, .N, by = x]"
     ],
     "language": "python",
     "metadata": {},
     "outputs": [
      {
       "metadata": {},
       "output_type": "pyout",
       "prompt_number": 12,
       "text": [
        "   x     N\n",
        "1: a 33387\n",
        "2: c 33201\n",
        "3: b 33412"
       ]
      }
     ],
     "prompt_number": 12
    },
    {
     "cell_type": "heading",
     "level": 3,
     "metadata": {},
     "source": [
      "Keys: `setkey()`"
     ]
    },
    {
     "cell_type": "markdown",
     "metadata": {},
     "source": [
      "Having keys set, increased speed for:\n",
      "* subset \n",
      "* sort a `data.table`."
     ]
    },
    {
     "cell_type": "code",
     "collapsed": false,
     "input": [
      "dt <- data.table(x = rep(c('a', 'b', 'c'), each = 100), y = rnorm(300))\n",
      "\n",
      "setkey(dt, x)\n",
      "\n",
      "dt['a']"
     ],
     "language": "python",
     "metadata": {},
     "outputs": [
      {
       "metadata": {},
       "output_type": "pyout",
       "prompt_number": 13,
       "text": [
        "     x           y\n",
        "  1: a  0.25958973\n",
        "  2: a  0.91751072\n",
        "  3: a -0.72231834\n",
        "  4: a -0.80828402\n",
        "  5: a -0.14135202\n",
        "  6: a  2.25701345\n",
        "  7: a -2.37955015\n",
        "  8: a -0.45425393\n",
        "  9: a -0.06007418\n",
        " 10: a  0.86090061\n",
        " 11: a -1.78466393\n",
        " 12: a -0.13074225\n",
        " 13: a -0.36983749\n",
        " 14: a -0.18065990\n",
        " 15: a -1.04973030\n",
        " 16: a  0.37831550\n",
        " 17: a -1.37079353\n",
        " 18: a -0.31611578\n",
        " 19: a  0.39435003\n",
        " 20: a -1.68987831\n",
        " 21: a -1.46233527\n",
        " 22: a  2.55837664\n",
        " 23: a  0.08788697\n",
        " 24: a  1.73141492\n",
        " 25: a  1.21512638\n",
        " 26: a  0.29954390\n",
        " 27: a -0.17245754\n",
        " 28: a  1.13249663\n",
        " 29: a  0.02319828\n",
        " 30: a  1.33587399\n",
        " 31: a -1.09879007\n",
        " 32: a -0.58176064\n",
        " 33: a  0.03892452\n",
        " 34: a  1.07315441\n",
        " 35: a  1.34969593\n",
        " 36: a  1.19527937\n",
        " 37: a -0.02217912\n",
        " 38: a  0.69849448\n",
        " 39: a  0.67240626\n",
        " 40: a -0.79164585\n",
        " 41: a -0.21790545\n",
        " 42: a  0.02307037\n",
        " 43: a  0.11539395\n",
        " 44: a -0.27708029\n",
        " 45: a  0.03688377\n",
        " 46: a  0.47520014\n",
        " 47: a  1.70748924\n",
        " 48: a  1.07600560\n",
        " 49: a -1.34571320\n",
        " 50: a -1.44024891\n",
        " 51: a -0.39392783\n",
        " 52: a  0.58106297\n",
        " 53: a -0.17078819\n",
        " 54: a -0.90585446\n",
        " 55: a  0.15621346\n",
        " 56: a -0.37322530\n",
        " 57: a -0.34587104\n",
        " 58: a -0.35828720\n",
        " 59: a -0.13306601\n",
        " 60: a -0.08959642\n",
        " 61: a  0.62793032\n",
        " 62: a -1.42882873\n",
        " 63: a  0.17255399\n",
        " 64: a -0.79115025\n",
        " 65: a  1.26204078\n",
        " 66: a -0.26940548\n",
        " 67: a  0.15698296\n",
        " 68: a -0.76059823\n",
        " 69: a  1.37060069\n",
        " 70: a  0.03758155\n",
        " 71: a  0.44949417\n",
        " 72: a  2.78868764\n",
        " 73: a -0.46848614\n",
        " 74: a  1.01260608\n",
        " 75: a -0.04374086\n",
        " 76: a  1.40669725\n",
        " 77: a  0.41992874\n",
        " 78: a  0.31008615\n",
        " 79: a  1.11904687\n",
        " 80: a -1.29814018\n",
        " 81: a -1.28248182\n",
        " 82: a  1.65942788\n",
        " 83: a  0.78374544\n",
        " 84: a  0.57771022\n",
        " 85: a -0.26724640\n",
        " 86: a -0.64569141\n",
        " 87: a -0.44952912\n",
        " 88: a -0.82619821\n",
        " 89: a  1.05503854\n",
        " 90: a -0.87926983\n",
        " 91: a -1.27712832\n",
        " 92: a -0.63412243\n",
        " 93: a  0.66470047\n",
        " 94: a -0.50958183\n",
        " 95: a  0.40736335\n",
        " 96: a  1.67774776\n",
        " 97: a -1.05205570\n",
        " 98: a -0.63690737\n",
        " 99: a  0.56539163\n",
        "100: a  0.38015779\n",
        "     x           y"
       ]
      }
     ],
     "prompt_number": 13
    },
    {
     "cell_type": "heading",
     "level": 3,
     "metadata": {},
     "source": [
      "Joins: `merge()`"
     ]
    },
    {
     "cell_type": "markdown",
     "metadata": {},
     "source": [
      "* inner join?\n",
      "* quite a bit faster compared to merging `data.frame`s\n",
      "* needs the same key for both `data.tables`"
     ]
    },
    {
     "cell_type": "code",
     "collapsed": false,
     "input": [
      "dt1 <- data.table(x = c('a', 'a', 'b', 'dt1'), y = 1:4)\n",
      "dt2 <- data.table(x = c('a', 'b', 'dt2'), z = 5:7)\n",
      "\n",
      "dt1"
     ],
     "language": "python",
     "metadata": {},
     "outputs": [
      {
       "metadata": {},
       "output_type": "pyout",
       "prompt_number": 15,
       "text": [
        "     x y\n",
        "1:   a 1\n",
        "2:   a 2\n",
        "3:   b 3\n",
        "4: dt1 4"
       ]
      }
     ],
     "prompt_number": 15
    },
    {
     "cell_type": "code",
     "collapsed": false,
     "input": [
      "dt2"
     ],
     "language": "python",
     "metadata": {},
     "outputs": [
      {
       "metadata": {},
       "output_type": "pyout",
       "prompt_number": 16,
       "text": [
        "     x z\n",
        "1:   a 5\n",
        "2:   b 6\n",
        "3: dt2 7"
       ]
      }
     ],
     "prompt_number": 16
    },
    {
     "cell_type": "code",
     "collapsed": false,
     "input": [
      "setkey(dt1, x); setkey(dt2, x)"
     ],
     "language": "python",
     "metadata": {},
     "outputs": [],
     "prompt_number": 17
    },
    {
     "cell_type": "code",
     "collapsed": false,
     "input": [
      "merge(dt1, dt2)"
     ],
     "language": "python",
     "metadata": {},
     "outputs": [
      {
       "metadata": {},
       "output_type": "pyout",
       "prompt_number": 19,
       "text": [
        "   x y z\n",
        "1: a 1 5\n",
        "2: a 2 5\n",
        "3: b 3 6"
       ]
      }
     ],
     "prompt_number": 19
    },
    {
     "cell_type": "heading",
     "level": 3,
     "metadata": {},
     "source": [
      "Fast reading: `fread()`"
     ]
    },
    {
     "cell_type": "code",
     "collapsed": false,
     "input": [
      "bigDf <- data.frame(x = rnorm(1E6), y = rnorm(1E6))\n",
      "file <- tempfile()\n",
      "\n",
      "write.table(\n",
      "  bigDf,\n",
      "  file = file,\n",
      "  row.names = FALSE,\n",
      "  col.names = FALSE,\n",
      "  sep = \"\\t\",\n",
      "  quote = FALSE\n",
      ")"
     ],
     "language": "python",
     "metadata": {},
     "outputs": [],
     "prompt_number": 20
    },
    {
     "cell_type": "code",
     "collapsed": false,
     "input": [
      "system.time(fread(file))"
     ],
     "language": "python",
     "metadata": {},
     "outputs": [
      {
       "metadata": {},
       "output_type": "pyout",
       "prompt_number": 21,
       "text": [
        "   user  system elapsed \n",
        "  0.635   0.083   0.718 "
       ]
      }
     ],
     "prompt_number": 21
    },
    {
     "cell_type": "code",
     "collapsed": false,
     "input": [
      "system.time(read.table(file, header = TRUE, sep = \"\\t\"))"
     ],
     "language": "python",
     "metadata": {},
     "outputs": [
      {
       "metadata": {},
       "output_type": "pyout",
       "prompt_number": 22,
       "text": [
        "   user  system elapsed \n",
        " 13.134   1.475  14.619 "
       ]
      }
     ],
     "prompt_number": 22
    },
    {
     "cell_type": "heading",
     "level": 3,
     "metadata": {},
     "source": [
      "Further reading"
     ]
    },
    {
     "cell_type": "markdown",
     "metadata": {},
     "source": [
      "* [data.table: Extension of data.frame](http://cran.r-project.org/web/packages/data.table/index.html)\n",
      "\n",
      "> Fast aggregation of large data (e.g. 100GB in RAM), fast ordered joins, fast add/modify/delete of columns by group using no copies at all, list columns and a fast file reader (fread). Offers a natural and flexible syntax, for faster development. \n",
      "\n",
      "* [Rdatatable/data.table](https://github.com/Rdatatable/data.table)\n",
      "* [What you can do with `data.frame` that you can't in `data.table`?](http://stackoverflow.com/q/13618488/341929)\n",
      "* [Advanced Data Manipulation](https://github.com/raphg/Biostat-578/blob/master/Advanced_data_manipulation.Rpres) by Raphael Gottardo "
     ]
    },
    {
     "cell_type": "markdown",
     "metadata": {},
     "source": [
      "---"
     ]
    },
    {
     "cell_type": "code",
     "collapsed": false,
     "input": [],
     "language": "python",
     "metadata": {},
     "outputs": []
    }
   ],
   "metadata": {}
  }
 ]
}