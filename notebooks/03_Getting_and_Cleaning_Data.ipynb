{
 "metadata": {
  "name": "",
  "signature": "sha256:5771f5a38cf8454f8eafd6644b61a56dee5d8a2b66467548b98bbee53f254e7c"
 },
 "nbformat": 3,
 "nbformat_minor": 0,
 "worksheets": [
  {
   "cells": [
    {
     "cell_type": "heading",
     "level": 1,
     "metadata": {},
     "source": [
      "[Getting and Cleaning Data](https://www.coursera.org/course/getdata)"
     ]
    },
    {
     "cell_type": "markdown",
     "metadata": {},
     "source": [
      "![Getting and Cleaning Data](https://raw.githubusercontent.com/mariusbutuc/coursera--data-science/master/img/03-obtaining_data.jpg)"
     ]
    },
    {
     "cell_type": "heading",
     "level": 3,
     "metadata": {},
     "source": [
      "Nov 3<sup>rd</sup>\u2014Dec 1<sup>st</sup> 2014 Edition"
     ]
    },
    {
     "cell_type": "markdown",
     "metadata": {},
     "source": [
      "> Before you can work with data you have to get some. \n",
      ">\n",
      "> This course will cover the basic ways that data can be obtained. The course will cover _obtaining data_ from the web, from APIs, and from colleagues in various formats. It will also cover the basics of _data cleaning_ and how to make data \u201ctidy\u201d. Tidy data dramatically speed downstream data analysis tasks. The course will also cover the components of a complete data set including\n",
      ">   * raw data,\n",
      ">   * processing instructions,\n",
      ">   * codebooks, and\n",
      ">   * processed data.\n",
      ">\n",
      "> The course will cover the basics needed for collecting, cleaning, and sharing data.\n",
      ">\n",
      "> \u2014Jeff Leek"
     ]
    },
    {
     "cell_type": "heading",
     "level": 1,
     "metadata": {},
     "source": [
      "Week 1"
     ]
    },
    {
     "cell_type": "heading",
     "level": 2,
     "metadata": {},
     "source": [
      "Motivation"
     ]
    },
    {
     "cell_type": "heading",
     "level": 3,
     "metadata": {},
     "source": [
      "Goal: get your data ready to perform analysis on it:"
     ]
    },
    {
     "cell_type": "markdown",
     "metadata": {},
     "source": [
      "* finding and extracting data\n",
      "* tidy data\n",
      "* R packages to get the job done"
     ]
    },
    {
     "cell_type": "heading",
     "level": 3,
     "metadata": {},
     "source": [
      "What you _wished_ data looked like?"
     ]
    },
    {
     "cell_type": "markdown",
     "metadata": {},
     "source": [
      "* neatly organized, like a **matrix**\n",
      "* every single **row** has one **observation**\n",
      "* every single **column** has exactly one **variable**"
     ]
    },
    {
     "cell_type": "heading",
     "level": 3,
     "metadata": {},
     "source": [
      "What does data _really_ look like?"
     ]
    },
    {
     "cell_type": "markdown",
     "metadata": {},
     "source": [
      "* [fastq file](http://brianknaus.com/software/srtoolbox/s_4_1_sequence80.txt)\n",
      "* JSON data\n",
      "* [free text](http://bluebuttontoolkit.healthit.gov/challenge/)"
     ]
    },
    {
     "cell_type": "heading",
     "level": 3,
     "metadata": {},
     "source": [
      "Where is the data?"
     ]
    },
    {
     "cell_type": "markdown",
     "metadata": {},
     "source": [
      "* stored structured, in various DBs\n",
      "* a file stored locally\n",
      "* available online, via APIs or in downloadable files\n",
      "* (online) [open data](https://data.baltimorecity.gov/)"
     ]
    },
    {
     "cell_type": "heading",
     "level": 3,
     "metadata": {},
     "source": [
      "Data science pipeline:"
     ]
    },
    {
     "cell_type": "markdown",
     "metadata": {},
     "source": [
      "* _raw data_\n",
      "* _processing script_\n",
      "* _tidy data_\n",
      "* data analysis\n",
      "* data communication"
     ]
    },
    {
     "cell_type": "heading",
     "level": 2,
     "metadata": {},
     "source": [
      "Raw and Processed Data"
     ]
    },
    {
     "cell_type": "markdown",
     "metadata": {},
     "source": [
      "[Definition of data](http://en.wikipedia.org/wiki/Data):\n",
      "\n",
      "> Data are values of **qualitative** or **quantitative** **variables**, belonging to a **set of items**.\n",
      "\n",
      "* _set of items_: or **population**, the set of objects you're interested in\n",
      "* _variables_: a measurement, or a characteristic of an item\n",
      "* _qualitative_: country of origin, sex, treatment\n",
      "* _quantitative_: height, weight, blood pressure."
     ]
    },
    {
     "cell_type": "heading",
     "level": 3,
     "metadata": {},
     "source": [
      "Raw Data"
     ]
    },
    {
     "cell_type": "markdown",
     "metadata": {},
     "source": [
      "* The original source of data\n",
      "* Often hard to use for data analyses\n",
      "* Data analysis _includes_ processing\n",
      "* Raw data may only need to be processed once\n",
      "  * record your processing\n",
      "  * as they can have a major impact on downstream analysis"
     ]
    },
    {
     "cell_type": "heading",
     "level": 3,
     "metadata": {},
     "source": [
      "Processed Data"
     ]
    },
    {
     "cell_type": "markdown",
     "metadata": {},
     "source": [
      "* Data that is ready for analysis\n",
      "* Processing can include merging, subsetting, transforming etc.\n",
      "* There may be standards of processing\n",
      "* All steps should be recorded"
     ]
    },
    {
     "cell_type": "heading",
     "level": 2,
     "metadata": {},
     "source": [
      "Tidy Data: Components"
     ]
    },
    {
     "cell_type": "markdown",
     "metadata": {},
     "source": [
      "The 4 things you should have at the end of the process:\n",
      "1. The **raw data**\n",
      "2. A [**tidy data**](http://vita.had.co.nz/papers/tidy-data.pdf) set\n",
      "3. A code book, or **metadata**, explaining what the data is trying to say\n",
      "4. An _explicit_ and _exact_ **recipe** you used to go from 1 \u00bb 2,3."
     ]
    },
    {
     "cell_type": "heading",
     "level": 3,
     "metadata": {},
     "source": [
      "Raw Data, in its rawest form"
     ]
    },
    {
     "cell_type": "markdown",
     "metadata": {},
     "source": [
      "* Ran no software on the data\n",
      "* Did not manipulate any numbers in the data\n",
      "* You did not remove any data from the data set\n",
      "* You did not summarize the data in any way"
     ]
    },
    {
     "cell_type": "heading",
     "level": 3,
     "metadata": {},
     "source": [
      "Tidy Data, as the goal of the process"
     ]
    },
    {
     "cell_type": "markdown",
     "metadata": {},
     "source": [
      "* Each measured **variable** should be in exactly one **column**\n",
      "* Each different **observation** should be in a different **row**\n",
      "* There should be one **table** for each \"**kind**\"/source (from Twitter, Facebook etc.) of variable\n",
      "* If you have **multiple tables**, they should include a column in the table that allows them to be **linked** together."
     ]
    },
    {
     "cell_type": "heading",
     "level": 4,
     "metadata": {},
     "source": [
      "Tips:"
     ]
    },
    {
     "cell_type": "markdown",
     "metadata": {},
     "source": [
      "* Include a row at the top of each file with variable names.\n",
      "* Make variable names descriptive and human readable (AgeDx _vs._ AgeAtDiagnosis)\n",
      "  * error on the side of being more explicit\n",
      "* Save the data in one file per table."
     ]
    },
    {
     "cell_type": "heading",
     "level": 3,
     "metadata": {},
     "source": [
      "The Code Book, a.k.a. the metadata"
     ]
    },
    {
     "cell_type": "markdown",
     "metadata": {},
     "source": [
      "1. Information about the variables (including units!) in the data set not contained in the tidy data\n",
      "2. Information about the summary chouces you made: \n",
      "  * was it the _median_ or the _mean_ revenue that was taken into account?\n",
      "3. Information about the experimental study design you used\n",
      "  * how was the data collected? \n",
      "  * did it come out of a DB, or from an experiment, a randomized trial, or an A/B test..."
     ]
    },
    {
     "cell_type": "heading",
     "level": 4,
     "metadata": {},
     "source": [
      "Tips:"
     ]
    },
    {
     "cell_type": "markdown",
     "metadata": {},
     "source": [
      "* common formats: word, txt, **markdown**\n",
      "* contains a \"**Study design**\" section\n",
      "  * detailed description on how the data was collected\n",
      "    * how you picked which observations to collect?\n",
      "    * what was extracted from the DB, what was excluded?\n",
      "* contains a \"**Code book**\" section\n",
      "  * describes each variable and its units.\n",
      "  * [how to code variables](https://github.com/jtleek/datasharing#how-to-code-variables)"
     ]
    },
    {
     "cell_type": "heading",
     "level": 3,
     "metadata": {},
     "source": [
      "Instructions List"
     ]
    },
    {
     "cell_type": "markdown",
     "metadata": {},
     "source": [
      "* an R / Python script\n",
      "* the input is the raw data\n",
      "* the output is the processed, tidy data\n",
      "* the script doesn't take any paramenters\n",
      "  * re-processing the raw data with the script, exactly the same processed data should come out"
     ]
    },
    {
     "cell_type": "heading",
     "level": 2,
     "metadata": {},
     "source": [
      "Downloading files"
     ]
    },
    {
     "cell_type": "markdown",
     "metadata": {},
     "source": [
      "Why use R to download the files?\n",
      "  * this way the downloading process can be included in the processing script\n",
      "  * provides a better, more complete picture of how the data were collected and generated"
     ]
    },
    {
     "cell_type": "heading",
     "level": 3,
     "metadata": {},
     "source": [
      "Getting/setting the working directory"
     ]
    },
    {
     "cell_type": "markdown",
     "metadata": {},
     "source": [
      "* `getwd()`\u2014return the working directory\n",
      "* `setwd(\"path/to/directory\")`\u2014set the working directory"
     ]
    },
    {
     "cell_type": "code",
     "collapsed": false,
     "input": [
      "getwd()"
     ],
     "language": "python",
     "metadata": {},
     "outputs": [
      {
       "metadata": {},
       "output_type": "pyout",
       "prompt_number": 1,
       "text": [
        "[1] \"/home/vagrant\""
       ]
      }
     ],
     "prompt_number": 1
    },
    {
     "cell_type": "code",
     "collapsed": false,
     "input": [
      "# relative\n",
      "setwd('../../science_data')\n",
      "\n",
      "getwd()"
     ],
     "language": "python",
     "metadata": {},
     "outputs": [
      {
       "metadata": {},
       "output_type": "pyout",
       "prompt_number": 2,
       "text": [
        "[1] \"/science_data\""
       ]
      }
     ],
     "prompt_number": 2
    },
    {
     "cell_type": "code",
     "collapsed": false,
     "input": [
      "#absolute\n",
      "setwd('/science_data')\n",
      "\n",
      "getwd()"
     ],
     "language": "python",
     "metadata": {},
     "outputs": [
      {
       "metadata": {},
       "output_type": "pyout",
       "prompt_number": 4,
       "text": [
        "[1] \"/science_data\""
       ]
      }
     ],
     "prompt_number": 4
    },
    {
     "cell_type": "heading",
     "level": 3,
     "metadata": {},
     "source": [
      "Checking for, and creating directories"
     ]
    },
    {
     "cell_type": "markdown",
     "metadata": {},
     "source": [
      "* `file.exists(\"directoryName\")`\u2014check to see if the _directory_ [?!?] exists\n",
      "* `dir.create(\"directoryName\")`\u2014create the directory, if it doesn't exist"
     ]
    },
    {
     "cell_type": "code",
     "collapsed": false,
     "input": [
      "if (!file.exists('3_getdata')) {\n",
      "    dir.create('3_getdata')\n",
      "}\n",
      "\n",
      "setwd('./3_getdata')\n",
      "getwd()"
     ],
     "language": "python",
     "metadata": {},
     "outputs": [
      {
       "metadata": {},
       "output_type": "pyout",
       "prompt_number": 6,
       "text": [
        "[1] \"/science_data/3_getdata\""
       ]
      }
     ],
     "prompt_number": 6
    },
    {
     "cell_type": "heading",
     "level": 3,
     "metadata": {},
     "source": [
      "Getting data from the Internet"
     ]
    },
    {
     "cell_type": "markdown",
     "metadata": {},
     "source": [
      "* `download.file()`\u2014downloads a file from the Internet\n",
      "  * even if you could do this by hand, helps with reproducibility\n",
      "  * important params: `url`, `destfile`, `method`"
     ]
    },
    {
     "cell_type": "heading",
     "level": 4,
     "metadata": {},
     "source": [
      "Download Baltimore camera open data"
     ]
    },
    {
     "cell_type": "code",
     "collapsed": false,
     "input": [
      "if (!file.exists('data')) {\n",
      "    dir.create('data')\n",
      "}"
     ],
     "language": "python",
     "metadata": {},
     "outputs": [],
     "prompt_number": 15
    },
    {
     "cell_type": "code",
     "collapsed": false,
     "input": [
      "fileUrl <- 'https://data.baltimorecity.gov/api/views/dz54-2aru/rows.csv?accessType=DOWNLOAD'\n",
      "download.file(fileUrl, destfile = './data/cameras.csv', method = 'wget')\n",
      "\n",
      "list.files('./data')"
     ],
     "language": "python",
     "metadata": {},
     "outputs": [
      {
       "metadata": {},
       "output_type": "pyout",
       "prompt_number": 24,
       "text": [
        "[1] \"cameras.csv\""
       ]
      }
     ],
     "prompt_number": 24
    },
    {
     "cell_type": "code",
     "collapsed": false,
     "input": [
      "dateDownloaded <- date()\n",
      "dateDownloaded"
     ],
     "language": "python",
     "metadata": {},
     "outputs": [
      {
       "metadata": {},
       "output_type": "pyout",
       "prompt_number": 25,
       "text": [
        "[1] \"Wed Nov 12 21:55:28 2014\""
       ]
      }
     ],
     "prompt_number": 25
    },
    {
     "cell_type": "heading",
     "level": 4,
     "metadata": {},
     "source": [
      "`download.file()` tips:"
     ]
    },
    {
     "cell_type": "markdown",
     "metadata": {},
     "source": [
      "* HTTP: `download.file()` alone should work fine\n",
      "* **HTTPS**\n",
      "  * Windows: should work fine\n",
      "  * OS X: set `method=\"curl\"`\n",
      "  * Linux: set `method=\"wget\"`\n",
      "* If the file is big, it might take a while\n",
      "* Remember to **record when the file was downloaded**\n",
      "* Bonus: notice a weird date? \n",
      "    * might be the timezone on the Ubuntu VM\n",
      "    * upon ssh-ing in, try `sudo dpkg-reconfigure tzdata`"
     ]
    },
    {
     "cell_type": "code",
     "collapsed": false,
     "input": [],
     "language": "python",
     "metadata": {},
     "outputs": []
    }
   ],
   "metadata": {}
  }
 ]
}