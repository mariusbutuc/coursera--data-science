{
 "metadata": {
  "name": "",
  "signature": "sha256:125b9347b5814ee722c22052b823de275a3a850a052b63e18f4010ab17065402"
 },
 "nbformat": 3,
 "nbformat_minor": 0,
 "worksheets": [
  {
   "cells": [
    {
     "cell_type": "heading",
     "level": 1,
     "metadata": {},
     "source": [
      "[Getting and Cleaning Data](https://www.coursera.org/course/getdata)"
     ]
    },
    {
     "cell_type": "markdown",
     "metadata": {},
     "source": [
      "![Getting and Cleaning Data](https://raw.githubusercontent.com/mariusbutuc/coursera--data-science/master/img/03-obtaining_data.jpg)"
     ]
    },
    {
     "cell_type": "heading",
     "level": 3,
     "metadata": {},
     "source": [
      "Nov 3<sup>rd</sup>\u2014Dec 1<sup>st</sup> 2014 Edition"
     ]
    },
    {
     "cell_type": "markdown",
     "metadata": {},
     "source": [
      "> Before you can work with data you have to get some. \n",
      ">\n",
      "> This course will cover the basic ways that data can be obtained. The course will cover _obtaining data_ from the web, from APIs, and from colleagues in various formats. It will also cover the basics of _data cleaning_ and how to make data \u201ctidy\u201d. Tidy data dramatically speed downstream data analysis tasks. The course will also cover the components of a complete data set including\n",
      ">   * raw data,\n",
      ">   * processing instructions,\n",
      ">   * codebooks, and\n",
      ">   * processed data.\n",
      ">\n",
      "> The course will cover the basics needed for collecting, cleaning, and sharing data.\n",
      ">\n",
      "> \u2014Jeff Leek"
     ]
    },
    {
     "cell_type": "markdown",
     "metadata": {},
     "source": [
      "Quick jump to:\n",
      "* [Week #1](#Week-#1)\n",
      "* [Week #2](#Week-#2)\n",
      "* [Week #3](#Week-#3)\n",
      "* [Week #4](#Week-#4)"
     ]
    },
    {
     "cell_type": "heading",
     "level": 1,
     "metadata": {},
     "source": [
      "Week #1"
     ]
    },
    {
     "cell_type": "heading",
     "level": 2,
     "metadata": {},
     "source": [
      "Motivation"
     ]
    },
    {
     "cell_type": "heading",
     "level": 3,
     "metadata": {},
     "source": [
      "Goal: get your data ready to perform analysis on it:"
     ]
    },
    {
     "cell_type": "markdown",
     "metadata": {},
     "source": [
      "* finding and extracting data\n",
      "* tidy data\n",
      "* R packages to get the job done"
     ]
    },
    {
     "cell_type": "heading",
     "level": 3,
     "metadata": {},
     "source": [
      "What you _wished_ data looked like?"
     ]
    },
    {
     "cell_type": "markdown",
     "metadata": {},
     "source": [
      "* neatly organized, like a **matrix**\n",
      "* every single **row** has one **observation**\n",
      "* every single **column** has exactly one **variable**"
     ]
    },
    {
     "cell_type": "heading",
     "level": 3,
     "metadata": {},
     "source": [
      "What does data _really_ look like?"
     ]
    },
    {
     "cell_type": "markdown",
     "metadata": {},
     "source": [
      "* [fastq file](http://brianknaus.com/software/srtoolbox/s_4_1_sequence80.txt)\n",
      "* JSON data\n",
      "* [free text](http://bluebuttontoolkit.healthit.gov/challenge/)"
     ]
    },
    {
     "cell_type": "heading",
     "level": 3,
     "metadata": {},
     "source": [
      "Where is the data?"
     ]
    },
    {
     "cell_type": "markdown",
     "metadata": {},
     "source": [
      "* stored structured, in various DBs\n",
      "* a file stored locally\n",
      "* available online, via APIs or in downloadable files\n",
      "* (online) [open data](https://data.baltimorecity.gov/)"
     ]
    },
    {
     "cell_type": "heading",
     "level": 3,
     "metadata": {},
     "source": [
      "Data science pipeline:"
     ]
    },
    {
     "cell_type": "markdown",
     "metadata": {},
     "source": [
      "* _raw data_\n",
      "* _processing script_\n",
      "* _tidy data_\n",
      "* data analysis\n",
      "* data communication"
     ]
    },
    {
     "cell_type": "heading",
     "level": 2,
     "metadata": {},
     "source": [
      "Raw and Processed Data"
     ]
    },
    {
     "cell_type": "markdown",
     "metadata": {},
     "source": [
      "[Definition of data](http://en.wikipedia.org/wiki/Data):\n",
      "\n",
      "> Data are values of **qualitative** or **quantitative** **variables**, belonging to a **set of items**.\n",
      "\n",
      "* _set of items_: or **population**, the set of objects you're interested in\n",
      "* _variables_: a measurement, or a characteristic of an item\n",
      "* _qualitative_: country of origin, sex, treatment\n",
      "* _quantitative_: height, weight, blood pressure."
     ]
    },
    {
     "cell_type": "heading",
     "level": 3,
     "metadata": {},
     "source": [
      "Raw Data"
     ]
    },
    {
     "cell_type": "markdown",
     "metadata": {},
     "source": [
      "* The original source of data\n",
      "* Often hard to use for data analyses\n",
      "* Data analysis _includes_ processing\n",
      "* Raw data may only need to be processed once\n",
      "  * record your processing\n",
      "  * as they can have a major impact on downstream analysis"
     ]
    },
    {
     "cell_type": "heading",
     "level": 3,
     "metadata": {},
     "source": [
      "Processed Data"
     ]
    },
    {
     "cell_type": "markdown",
     "metadata": {},
     "source": [
      "* Data that is ready for analysis\n",
      "* Processing can include merging, subsetting, transforming etc.\n",
      "* There may be standards of processing\n",
      "* All steps should be recorded"
     ]
    },
    {
     "cell_type": "heading",
     "level": 2,
     "metadata": {},
     "source": [
      "Tidy Data: Components"
     ]
    },
    {
     "cell_type": "markdown",
     "metadata": {},
     "source": [
      "The 4 things you should have at the end of the process:\n",
      "1. The **raw data**\n",
      "2. A [**tidy data**](http://vita.had.co.nz/papers/tidy-data.pdf) set\n",
      "3. A code book, or **metadata**, explaining what the data is trying to say\n",
      "4. An _explicit_ and _exact_ **recipe** you used to go from 1 \u00bb 2,3."
     ]
    },
    {
     "cell_type": "heading",
     "level": 3,
     "metadata": {},
     "source": [
      "Raw Data, in its rawest form"
     ]
    },
    {
     "cell_type": "markdown",
     "metadata": {},
     "source": [
      "* Ran no software on the data\n",
      "* Did not manipulate any numbers in the data\n",
      "* You did not remove any data from the data set\n",
      "* You did not summarize the data in any way"
     ]
    },
    {
     "cell_type": "heading",
     "level": 3,
     "metadata": {},
     "source": [
      "Tidy Data, as the goal of the process"
     ]
    },
    {
     "cell_type": "markdown",
     "metadata": {},
     "source": [
      "* Each measured **variable** should be in exactly one **column**\n",
      "* Each different **observation** should be in a different **row**\n",
      "* There should be one **table** for each \"**kind**\"/source (from Twitter, Facebook etc.) of variable\n",
      "* If you have **multiple tables**, they should include a column in the table that allows them to be **linked** together."
     ]
    },
    {
     "cell_type": "heading",
     "level": 4,
     "metadata": {},
     "source": [
      "Tips:"
     ]
    },
    {
     "cell_type": "markdown",
     "metadata": {},
     "source": [
      "* Include a row at the top of each file with variable names.\n",
      "* Make variable names descriptive and human readable (AgeDx _vs._ AgeAtDiagnosis)\n",
      "  * error on the side of being more explicit\n",
      "* Save the data in one file per table."
     ]
    },
    {
     "cell_type": "heading",
     "level": 3,
     "metadata": {},
     "source": [
      "The Code Book, a.k.a. the metadata"
     ]
    },
    {
     "cell_type": "markdown",
     "metadata": {},
     "source": [
      "1. Information about the variables (including units!) in the data set not contained in the tidy data\n",
      "2. Information about the summary chouces you made: \n",
      "  * was it the _median_ or the _mean_ revenue that was taken into account?\n",
      "3. Information about the experimental study design you used\n",
      "  * how was the data collected? \n",
      "  * did it come out of a DB, or from an experiment, a randomized trial, or an A/B test..."
     ]
    },
    {
     "cell_type": "heading",
     "level": 4,
     "metadata": {},
     "source": [
      "Tips:"
     ]
    },
    {
     "cell_type": "markdown",
     "metadata": {},
     "source": [
      "* common formats: word, txt, **markdown**\n",
      "* contains a \"**Study design**\" section\n",
      "  * detailed description on how the data was collected\n",
      "    * how you picked which observations to collect?\n",
      "    * what was extracted from the DB, what was excluded?\n",
      "* contains a \"**Code book**\" section\n",
      "  * describes each variable and its units.\n",
      "  * [how to code variables](https://github.com/jtleek/datasharing#how-to-code-variables)"
     ]
    },
    {
     "cell_type": "heading",
     "level": 3,
     "metadata": {},
     "source": [
      "Instructions List"
     ]
    },
    {
     "cell_type": "markdown",
     "metadata": {},
     "source": [
      "* an R / Python script\n",
      "* the input is the raw data\n",
      "* the output is the processed, tidy data\n",
      "* the script doesn't take any paramenters\n",
      "  * re-processing the raw data with the script, exactly the same processed data should come out"
     ]
    },
    {
     "cell_type": "heading",
     "level": 2,
     "metadata": {},
     "source": [
      "Downloading files"
     ]
    },
    {
     "cell_type": "markdown",
     "metadata": {},
     "source": [
      "Why use R to download the files?\n",
      "  * this way the downloading process can be included in the processing script\n",
      "  * provides a better, more complete picture of how the data were collected and generated"
     ]
    },
    {
     "cell_type": "heading",
     "level": 3,
     "metadata": {},
     "source": [
      "Getting/setting the working directory"
     ]
    },
    {
     "cell_type": "markdown",
     "metadata": {},
     "source": [
      "* `getwd()` \u2014 return the working directory\n",
      "* `setwd(\"path/to/directory\")` \u2014 set the working directory"
     ]
    },
    {
     "cell_type": "code",
     "collapsed": false,
     "input": [
      "getwd()"
     ],
     "language": "python",
     "metadata": {},
     "outputs": [
      {
       "metadata": {},
       "output_type": "pyout",
       "prompt_number": 1,
       "text": [
        "[1] \"/home/vagrant\""
       ]
      }
     ],
     "prompt_number": 1
    },
    {
     "cell_type": "code",
     "collapsed": false,
     "input": [
      "# relative\n",
      "setwd('../../science_data')\n",
      "\n",
      "getwd()"
     ],
     "language": "python",
     "metadata": {},
     "outputs": [
      {
       "metadata": {},
       "output_type": "pyout",
       "prompt_number": 2,
       "text": [
        "[1] \"/science_data\""
       ]
      }
     ],
     "prompt_number": 2
    },
    {
     "cell_type": "code",
     "collapsed": false,
     "input": [
      "#absolute\n",
      "setwd('/science_data')\n",
      "\n",
      "getwd()"
     ],
     "language": "python",
     "metadata": {},
     "outputs": [
      {
       "metadata": {},
       "output_type": "pyout",
       "prompt_number": 4,
       "text": [
        "[1] \"/science_data\""
       ]
      }
     ],
     "prompt_number": 4
    },
    {
     "cell_type": "heading",
     "level": 3,
     "metadata": {},
     "source": [
      "Checking for, and creating directories"
     ]
    },
    {
     "cell_type": "markdown",
     "metadata": {},
     "source": [
      "* `file.exists(\"directoryName\")` \u2014 check to see if the _directory_ [?!?] exists\n",
      "* `dir.create(\"directoryName\")` \u2014 create the directory, if it doesn't exist"
     ]
    },
    {
     "cell_type": "code",
     "collapsed": false,
     "input": [
      "if (!file.exists('3_getdata')) {\n",
      "    dir.create('3_getdata')\n",
      "}\n",
      "\n",
      "setwd('./3_getdata')\n",
      "getwd()"
     ],
     "language": "python",
     "metadata": {},
     "outputs": [
      {
       "metadata": {},
       "output_type": "pyout",
       "prompt_number": 6,
       "text": [
        "[1] \"/science_data/3_getdata\""
       ]
      }
     ],
     "prompt_number": 6
    },
    {
     "cell_type": "heading",
     "level": 3,
     "metadata": {},
     "source": [
      "Getting data from the Internet"
     ]
    },
    {
     "cell_type": "markdown",
     "metadata": {},
     "source": [
      "* `download.file()` \u2014 downloads a file from the Internet\n",
      "  * even if you could do this by hand, helps with reproducibility\n",
      "  * important params: `url`, `destfile`, `method`"
     ]
    },
    {
     "cell_type": "heading",
     "level": 4,
     "metadata": {},
     "source": [
      "Download Baltimore camera open data"
     ]
    },
    {
     "cell_type": "code",
     "collapsed": false,
     "input": [
      "if (!file.exists('data')) {\n",
      "    dir.create('data')\n",
      "}"
     ],
     "language": "python",
     "metadata": {},
     "outputs": [],
     "prompt_number": 15
    },
    {
     "cell_type": "code",
     "collapsed": false,
     "input": [
      "fileUrl <- 'https://data.baltimorecity.gov/api/views/dz54-2aru/rows.csv?accessType=DOWNLOAD'\n",
      "download.file(fileUrl, destfile = './data/cameras.csv', method = 'wget')\n",
      "\n",
      "list.files('./data')"
     ],
     "language": "python",
     "metadata": {},
     "outputs": [
      {
       "metadata": {},
       "output_type": "pyout",
       "prompt_number": 24,
       "text": [
        "[1] \"cameras.csv\""
       ]
      }
     ],
     "prompt_number": 24
    },
    {
     "cell_type": "code",
     "collapsed": false,
     "input": [
      "dateDownloaded <- date()\n",
      "dateDownloaded"
     ],
     "language": "python",
     "metadata": {},
     "outputs": [
      {
       "metadata": {},
       "output_type": "pyout",
       "prompt_number": 25,
       "text": [
        "[1] \"Wed Nov 12 21:55:28 2014\""
       ]
      }
     ],
     "prompt_number": 25
    },
    {
     "cell_type": "heading",
     "level": 4,
     "metadata": {},
     "source": [
      "Is the date/time off?"
     ]
    },
    {
     "cell_type": "markdown",
     "metadata": {},
     "source": [
      "The timezone on the Ubuntu VM might be off\n",
      "  * `sudo dpkg-reconfigure tzdata`"
     ]
    },
    {
     "cell_type": "heading",
     "level": 4,
     "metadata": {},
     "source": [
      "`download.file()` tips:"
     ]
    },
    {
     "cell_type": "markdown",
     "metadata": {},
     "source": [
      "* HTTP: `download.file()` alone should work fine\n",
      "* **HTTPS**\n",
      "  * Windows: should work fine\n",
      "  * OS X: set `method=\"curl\"`\n",
      "  * Linux: set `method=\"wget\"`\n",
      "* If the file is big, it might take a while\n",
      "* Remember to **record when the file was downloaded**"
     ]
    },
    {
     "cell_type": "heading",
     "level": 2,
     "metadata": {},
     "source": [
      "Reading local flat files"
     ]
    },
    {
     "cell_type": "heading",
     "level": 3,
     "metadata": {},
     "source": [
      "`read.table()` to load flat files"
     ]
    },
    {
     "cell_type": "markdown",
     "metadata": {},
     "source": [
      "* most commonly used\n",
      "* most robust and most flexible\n",
      "* requires more parameters\n",
      "* can be slower than other methods\n",
      "* reads the data into RAM\n",
      "* important params: `file`, `header`, `sep`, `row.names`, `nrows`\n",
      "* related: `read.csv()` and `read.csv2()`"
     ]
    },
    {
     "cell_type": "heading",
     "level": 4,
     "metadata": {},
     "source": [
      "Baltimore example"
     ]
    },
    {
     "cell_type": "code",
     "collapsed": false,
     "input": [
      "cameraData <- read.table('./data/cameras.csv')"
     ],
     "language": "python",
     "metadata": {},
     "outputs": [
      {
       "ename": "ERROR",
       "evalue": "Error in scan(file, what, nmax, sep, dec, quote, skip, nlines, na.strings, : line 1 did not have 13 elements\n",
       "output_type": "pyerr",
       "traceback": [
        "Error in scan(file, what, nmax, sep, dec, quote, skip, nlines, na.strings, : line 1 did not have 13 elements\n"
       ]
      }
     ],
     "prompt_number": 26
    },
    {
     "cell_type": "markdown",
     "metadata": {},
     "source": [
      "* fails: by default `read.table()` expects a tab delimited file, yet we fed it a csv"
     ]
    },
    {
     "cell_type": "code",
     "collapsed": false,
     "input": [
      "head(cameraData)"
     ],
     "language": "python",
     "metadata": {},
     "outputs": [
      {
       "ename": "ERROR",
       "evalue": "Error in head(cameraData): object 'cameraData' not found\n",
       "output_type": "pyerr",
       "traceback": [
        "Error in head(cameraData): object 'cameraData' not found\n"
       ]
      }
     ],
     "prompt_number": 27
    },
    {
     "cell_type": "code",
     "collapsed": false,
     "input": [
      "cameraData <- read.table('./data/cameras.csv', sep = ',', header = TRUE)\n",
      "head(cameraData)"
     ],
     "language": "python",
     "metadata": {},
     "outputs": [
      {
       "metadata": {},
       "output_type": "pyout",
       "prompt_number": 28,
       "text": [
        "                         address direction      street  crossStreet\n",
        "1       S CATON AVE & BENSON AVE       N/B   Caton Ave   Benson Ave\n",
        "2       S CATON AVE & BENSON AVE       S/B   Caton Ave   Benson Ave\n",
        "3 WILKENS AVE & PINE HEIGHTS AVE       E/B Wilkens Ave Pine Heights\n",
        "4        THE ALAMEDA & E 33RD ST       S/B The Alameda      33rd St\n",
        "5        E 33RD ST & THE ALAMEDA       E/B      E 33rd  The Alameda\n",
        "6        ERDMAN AVE & N MACON ST       E/B      Erdman     Macon St\n",
        "                intersection                      Location.1\n",
        "1     Caton Ave & Benson Ave (39.2693779962, -76.6688185297)\n",
        "2     Caton Ave & Benson Ave (39.2693157898, -76.6689698176)\n",
        "3 Wilkens Ave & Pine Heights  (39.2720252302, -76.676960806)\n",
        "4     The Alameda  & 33rd St (39.3285013141, -76.5953545714)\n",
        "5      E 33rd  & The Alameda (39.3283410623, -76.5953594625)\n",
        "6         Erdman  & Macon St (39.3068045671, -76.5593167803)"
       ]
      }
     ],
     "prompt_number": 28
    },
    {
     "cell_type": "heading",
     "level": 4,
     "metadata": {},
     "source": [
      "`read.csv()` automatically sets `sep = \",\"` and `header = TRUE`"
     ]
    },
    {
     "cell_type": "code",
     "collapsed": false,
     "input": [
      "cameraData <- read.csv('./data/cameras.csv')\n",
      "head(cameraData)"
     ],
     "language": "python",
     "metadata": {},
     "outputs": [
      {
       "metadata": {},
       "output_type": "pyout",
       "prompt_number": 29,
       "text": [
        "                         address direction      street  crossStreet\n",
        "1       S CATON AVE & BENSON AVE       N/B   Caton Ave   Benson Ave\n",
        "2       S CATON AVE & BENSON AVE       S/B   Caton Ave   Benson Ave\n",
        "3 WILKENS AVE & PINE HEIGHTS AVE       E/B Wilkens Ave Pine Heights\n",
        "4        THE ALAMEDA & E 33RD ST       S/B The Alameda      33rd St\n",
        "5        E 33RD ST & THE ALAMEDA       E/B      E 33rd  The Alameda\n",
        "6        ERDMAN AVE & N MACON ST       E/B      Erdman     Macon St\n",
        "                intersection                      Location.1\n",
        "1     Caton Ave & Benson Ave (39.2693779962, -76.6688185297)\n",
        "2     Caton Ave & Benson Ave (39.2693157898, -76.6689698176)\n",
        "3 Wilkens Ave & Pine Heights  (39.2720252302, -76.676960806)\n",
        "4     The Alameda  & 33rd St (39.3285013141, -76.5953545714)\n",
        "5      E 33rd  & The Alameda (39.3283410623, -76.5953594625)\n",
        "6         Erdman  & Macon St (39.3068045671, -76.5593167803)"
       ]
      }
     ],
     "prompt_number": 29
    },
    {
     "cell_type": "heading",
     "level": 4,
     "metadata": {},
     "source": [
      "Tips:"
     ]
    },
    {
     "cell_type": "markdown",
     "metadata": {},
     "source": [
      "* `quote` \u2014 instruct R if to expect any quoted values\n",
      "  * declaring no quotes `quotes = \"\"` avoids the issues of reading flat files containing quotation marks in data values.\n",
      "* `na.strings` \u2014 which character(s) represent a missing value\n",
      "* `nrows` \u2014 limit the number of rows read from the file\n",
      "* `skip` \u2014 number of lines to skip before starting to read"
     ]
    },
    {
     "cell_type": "heading",
     "level": 2,
     "metadata": {},
     "source": [
      "The `xlsx` package for reading Excel files"
     ]
    },
    {
     "cell_type": "code",
     "collapsed": false,
     "input": [
      "if(!file.exists('data')) { dir.create('data') }\n",
      "fileUrl <- 'https://data.baltimorecity.gov/api/views/dz54-2aru/rows.xlsx?accessType=DOWNLOAD'\n",
      "download.file(fileUrl, destfile = './data/cameras.xlsx', method = 'wget')\n",
      "dateDownloaded <- date()\n",
      "\n",
      "dateDownloaded"
     ],
     "language": "python",
     "metadata": {},
     "outputs": [
      {
       "metadata": {},
       "output_type": "pyout",
       "prompt_number": 31,
       "text": [
        "[1] \"Thu Nov 13 06:43:37 2014\""
       ]
      }
     ],
     "prompt_number": 31
    },
    {
     "cell_type": "heading",
     "level": 3,
     "metadata": {},
     "source": [
      "read.xlsx(), read.xlsx2()"
     ]
    },
    {
     "cell_type": "code",
     "collapsed": false,
     "input": [
      "install.packages(\"xlsx\")"
     ],
     "language": "python",
     "metadata": {},
     "outputs": [
      {
       "output_type": "stream",
       "stream": "stderr",
       "text": [
        "Installing package into \u2018/home/vagrant/R/x86_64-pc-linux-gnu-library/3.1\u2019\n",
        "(as \u2018lib\u2019 is unspecified)\n"
       ]
      },
      {
       "ename": "ERROR",
       "evalue": "Error in contrib.url(repos, type): trying to use CRAN without setting a mirror\n",
       "output_type": "pyerr",
       "traceback": [
        "Error in contrib.url(repos, type): trying to use CRAN without setting a mirror\n"
       ]
      }
     ],
     "prompt_number": 33
    },
    {
     "cell_type": "code",
     "collapsed": false,
     "input": [
      "library(xlsx)"
     ],
     "language": "python",
     "metadata": {},
     "outputs": [
      {
       "ename": "ERROR",
       "evalue": "Error in library(xlsx): there is no package called \u2018xlsx\u2019\n",
       "output_type": "pyerr",
       "traceback": [
        "Error in library(xlsx): there is no package called \u2018xlsx\u2019\n"
       ]
      }
     ],
     "prompt_number": 32
    },
    {
     "cell_type": "heading",
     "level": 4,
     "metadata": {},
     "source": [
      "Installing Ubuntu dependencies"
     ]
    },
    {
     "cell_type": "markdown",
     "metadata": {},
     "source": [
      "1. install openjdk \n",
      "  * `sudo apt-get update`\n",
      "  * `sudo apt-get install openjdk-7-*`\n",
      "2. _(optional)_ if you have multiple alternatives in link group java, ensure we're using the one we just installled\n",
      "  * `update-alternatives --config java`\n",
      "3. java configuration for R should be updated before using the ubuntu package \n",
      "  * `sudo R CMD javareconf`\n",
      "4. `rJava` can now be installed\n",
      "  * `sudo apt-get install r-cran-rjava`\n",
      "5. and now, back to R\n",
      "  * `install.packages('xlsx')`"
     ]
    },
    {
     "cell_type": "code",
     "collapsed": false,
     "input": [
      "install.packages('xlsx', repos = 'http://cran.utstat.utoronto.ca/')"
     ],
     "language": "python",
     "metadata": {},
     "outputs": [
      {
       "output_type": "stream",
       "stream": "stderr",
       "text": [
        "Installing package into \u2018/home/vagrant/R/x86_64-pc-linux-gnu-library/3.1\u2019\n",
        "(as \u2018lib\u2019 is unspecified)\n"
       ]
      },
      {
       "output_type": "stream",
       "stream": "stderr",
       "text": [
        "also installing the dependency \u2018xlsxjars\u2019\n",
        "\n"
       ]
      },
      {
       "output_type": "stream",
       "stream": "stdout",
       "text": [
        "\n",
        "The downloaded source packages are in\n",
        "\t\u2018/tmp/RtmpMI7y4S/downloaded_packages\u2019\n"
       ]
      }
     ],
     "prompt_number": 36
    },
    {
     "cell_type": "heading",
     "level": 4,
     "metadata": {},
     "source": [
      "One more thing"
     ]
    },
    {
     "cell_type": "code",
     "collapsed": false,
     "input": [
      "library(xlsx)"
     ],
     "language": "python",
     "metadata": {},
     "outputs": [
      {
       "output_type": "stream",
       "stream": "stderr",
       "text": [
        "Loading required package: rJava\n"
       ]
      },
      {
       "ename": "ERROR",
       "evalue": "Error: package \u2018rJava\u2019 could not be loaded\n",
       "output_type": "pyerr",
       "traceback": [
        "Error: package \u2018rJava\u2019 could not be loaded\n"
       ]
      }
     ],
     "prompt_number": 37
    },
    {
     "cell_type": "markdown",
     "metadata": {},
     "source": [
      "Restart IPython Notebook so the version of R it runs is aware of all newly installed dependencies:\n",
      "\n",
      "```\n",
      "sudo ipython notebook \\\n",
      "  --profile=dst \\\n",
      "  --KernelManager.kernel_cmd=\"['R', '-e', 'IRkernel::main()', '--args', '{connection_file}']\"\n",
      "```"
     ]
    },
    {
     "cell_type": "code",
     "collapsed": false,
     "input": [
      "library(xlsx)"
     ],
     "language": "python",
     "metadata": {},
     "outputs": [
      {
       "output_type": "stream",
       "stream": "stderr",
       "text": [
        "Loading required package: rJava\n"
       ]
      },
      {
       "output_type": "stream",
       "stream": "stderr",
       "text": [
        "Loading required package: xlsxjars\n"
       ]
      }
     ],
     "prompt_number": 1
    },
    {
     "cell_type": "code",
     "collapsed": false,
     "input": [
      "cameraData <- read.xlsx('./data/cameras.xlsx', sheetIndex = 1, header = TRUE)\n",
      "head(cameraData)"
     ],
     "language": "python",
     "metadata": {},
     "outputs": [
      {
       "metadata": {},
       "output_type": "pyout",
       "prompt_number": 5,
       "text": [
        "                         address direction      street  crossStreet\n",
        "1       S CATON AVE & BENSON AVE       N/B   Caton Ave   Benson Ave\n",
        "2       S CATON AVE & BENSON AVE       S/B   Caton Ave   Benson Ave\n",
        "3 WILKENS AVE & PINE HEIGHTS AVE       E/B Wilkens Ave Pine Heights\n",
        "4        THE ALAMEDA & E 33RD ST       S/B The Alameda      33rd St\n",
        "5        E 33RD ST & THE ALAMEDA       E/B      E 33rd  The Alameda\n",
        "6        ERDMAN AVE & N MACON ST       E/B      Erdman     Macon St\n",
        "                intersection                      Location.1\n",
        "1     Caton Ave & Benson Ave (39.2693779962, -76.6688185297)\n",
        "2     Caton Ave & Benson Ave (39.2693157898, -76.6689698176)\n",
        "3 Wilkens Ave & Pine Heights  (39.2720252302, -76.676960806)\n",
        "4     The Alameda  & 33rd St (39.3285013141, -76.5953545714)\n",
        "5      E 33rd  & The Alameda (39.3283410623, -76.5953594625)\n",
        "6         Erdman  & Macon St (39.3068045671, -76.5593167803)"
       ]
      }
     ],
     "prompt_number": 5
    },
    {
     "cell_type": "heading",
     "level": 3,
     "metadata": {},
     "source": [
      "Reading specific rows and columns"
     ]
    },
    {
     "cell_type": "code",
     "collapsed": false,
     "input": [
      "colIndex <- 2:3\n",
      "rowIndex <- 1:4\n",
      "    \n",
      "# only extract part of the file you have\n",
      "cameraDataSubset <- read.xlsx('./data/cameras.xlsx', \n",
      "                              sheetIndex = 1, \n",
      "                              colIndex = colIndex, \n",
      "                              rowIndex = rowIndex)\n",
      "cameraDataSubset"
     ],
     "language": "python",
     "metadata": {},
     "outputs": [
      {
       "metadata": {},
       "output_type": "pyout",
       "prompt_number": 6,
       "text": [
        "  direction      street\n",
        "1       N/B   Caton Ave\n",
        "2       S/B   Caton Ave\n",
        "3       E/B Wilkens Ave"
       ]
      }
     ],
     "prompt_number": 6
    },
    {
     "cell_type": "heading",
     "level": 3,
     "metadata": {},
     "source": [
      "Further notes"
     ]
    },
    {
     "cell_type": "markdown",
     "metadata": {},
     "source": [
      "* `write.xlsx()`\n",
      "* `read.xlsx2()`\n",
      "  * quite a bit faster than `read.xlsx()`\n",
      "  * might prove slightly unstable when reading subsets of rows\n",
      "* `XLConnect` package\n",
      "  * a lot more flexible for writing and processing Excel files\n",
      "  * `XLConnect vignette` is a good place to start\n",
      "* .csv and .tab/.txt _versus_ Excel\n",
      "  * faster, easier to read\n",
      "  * easier to distribute, more cross platform\u2014not everybody has Excel."
     ]
    },
    {
     "cell_type": "heading",
     "level": 2,
     "metadata": {},
     "source": [
      "the `XML` package for reading XML"
     ]
    },
    {
     "cell_type": "markdown",
     "metadata": {},
     "source": [
      "Extracting XML is the basis for most **web scraping**.\n",
      "\n",
      "Components:\n",
      "* markup \u2014 labels that give the text structure\n",
      "  * tags\n",
      "    * start, end, empty tags\n",
      "  * elements\n",
      "    * contains the content\n",
      "  * attributes\n",
      "    * of the element\n",
      "* content \u2014 the actual text of the document"
     ]
    },
    {
     "cell_type": "heading",
     "level": 3,
     "metadata": {},
     "source": [
      "Reading XML files into R"
     ]
    },
    {
     "cell_type": "code",
     "collapsed": false,
     "input": [
      "library(XML)"
     ],
     "language": "python",
     "metadata": {},
     "outputs": [
      {
       "ename": "ERROR",
       "evalue": "Error in library(XML): there is no package called \u2018XML\u2019\n",
       "output_type": "pyerr",
       "traceback": [
        "Error in library(XML): there is no package called \u2018XML\u2019\n"
       ]
      }
     ],
     "prompt_number": 7
    },
    {
     "cell_type": "heading",
     "level": 4,
     "metadata": {},
     "source": [
      "Installing Ubuntu dependencies"
     ]
    },
    {
     "cell_type": "markdown",
     "metadata": {},
     "source": [
      "* `sudo apt-get update`\n",
      "* `sudo apt-get install libxml2-dev`"
     ]
    },
    {
     "cell_type": "code",
     "collapsed": false,
     "input": [
      "install.packages('XML', repos = 'http://cran.utstat.utoronto.ca/')"
     ],
     "language": "python",
     "metadata": {},
     "outputs": [
      {
       "output_type": "stream",
       "stream": "stderr",
       "text": [
        "Installing package into \u2018/home/vagrant/R/x86_64-pc-linux-gnu-library/3.1\u2019\n",
        "(as \u2018lib\u2019 is unspecified)\n"
       ]
      },
      {
       "output_type": "stream",
       "stream": "stdout",
       "text": [
        "\n",
        "The downloaded source packages are in\n",
        "\t\u2018/tmp/RtmpyC3c9a/downloaded_packages\u2019\n"
       ]
      }
     ],
     "prompt_number": 11
    },
    {
     "cell_type": "code",
     "collapsed": false,
     "input": [
      "# load the XML library\n",
      "library(XML)\n",
      "\n",
      "# set the URL of the XML document\n",
      "fileUrl <- 'http://www.w3schools.com/xml/simple.xml'\n",
      "\n",
      "# parse the XML document into memory, as an R structured object\n",
      "doc <- xmlTreeParse(fileUrl, useInternal = TRUE)\n",
      "dateDownloadedXML <- date()\n",
      "\n",
      "# get the wrapper  for the entire document\n",
      "rootNode <- xmlRoot(doc)\n",
      "\n",
      "# get the name of that specific node\n",
      "xmlName(rootNode)"
     ],
     "language": "python",
     "metadata": {},
     "outputs": [
      {
       "metadata": {},
       "output_type": "pyout",
       "prompt_number": 17,
       "text": [
        "[1] \"breakfast_menu\""
       ]
      }
     ],
     "prompt_number": 17
    },
    {
     "cell_type": "code",
     "collapsed": false,
     "input": [
      "# what are all the elements nested within the root node?\n",
      "# 5 different breakfast items on the menu, \n",
      "# each wrapped within a food element\n",
      "names(rootNode)"
     ],
     "language": "python",
     "metadata": {},
     "outputs": [
      {
       "metadata": {},
       "output_type": "pyout",
       "prompt_number": 4,
       "text": [
        "  food   food   food   food   food \n",
        "\"food\" \"food\" \"food\" \"food\" \"food\" "
       ]
      }
     ],
     "prompt_number": 4
    },
    {
     "cell_type": "heading",
     "level": 3,
     "metadata": {},
     "source": [
      "Directly access parts of the XML document"
     ]
    },
    {
     "cell_type": "markdown",
     "metadata": {},
     "source": [
      "* similar to the way lists are accessed in R\n"
     ]
    },
    {
     "cell_type": "code",
     "collapsed": false,
     "input": [
      "rootNode[[1]]"
     ],
     "language": "python",
     "metadata": {},
     "outputs": [
      {
       "metadata": {},
       "output_type": "pyout",
       "prompt_number": 6,
       "text": [
        "<food>\n",
        "  <name>Belgian Waffles</name>\n",
        "  <price>$5.95</price>\n",
        "  <description>Two of our famous Belgian Waffles with plenty of real maple syrup</description>\n",
        "  <calories>650</calories>\n",
        "</food> "
       ]
      }
     ],
     "prompt_number": 6
    },
    {
     "cell_type": "code",
     "collapsed": false,
     "input": [
      "rootNode[[1]][[1]]"
     ],
     "language": "python",
     "metadata": {},
     "outputs": [
      {
       "metadata": {},
       "output_type": "pyout",
       "prompt_number": 7,
       "text": [
        "<name>Belgian Waffles</name> "
       ]
      }
     ],
     "prompt_number": 7
    },
    {
     "cell_type": "heading",
     "level": 3,
     "metadata": {},
     "source": [
      "xmlSApply() \u2014 programatically extract parts of the file"
     ]
    },
    {
     "cell_type": "code",
     "collapsed": false,
     "input": [
      "# parameters:\n",
      "#   - parsed XML object\n",
      "#   - the function we wish to apply\n",
      "#\n",
      "# loop through all the elements of the `rootNode`, and get the `xmlValue`\n",
      "# applied recursively\n",
      "\n",
      "xmlSApply(rootNode, xmlValue)"
     ],
     "language": "python",
     "metadata": {},
     "outputs": [
      {
       "metadata": {},
       "output_type": "pyout",
       "prompt_number": 13,
       "text": [
        "                                                                                                                    food \n",
        "                              \"Belgian Waffles$5.95Two of our famous Belgian Waffles with plenty of real maple syrup650\" \n",
        "                                                                                                                    food \n",
        "                   \"Strawberry Belgian Waffles$7.95Light Belgian waffles covered with strawberries and whipped cream900\" \n",
        "                                                                                                                    food \n",
        "\"Berry-Berry Belgian Waffles$8.95Light Belgian waffles covered with an assortment of fresh berries and whipped cream900\" \n",
        "                                                                                                                    food \n",
        "                                               \"French Toast$4.50Thick slices made from our homemade sourdough bread600\" \n",
        "                                                                                                                    food \n",
        "                        \"Homestyle Breakfast$6.95Two eggs, bacon or sausage, toast, and our ever-popular hash browns950\" "
       ]
      }
     ],
     "prompt_number": 13
    },
    {
     "cell_type": "heading",
     "level": 3,
     "metadata": {},
     "source": [
      "xpathSApply() \u2013 XPath"
     ]
    },
    {
     "cell_type": "markdown",
     "metadata": {},
     "source": [
      "To be more specific, we need more specific selectors:\n",
      "* `/node` \u2014 top level node\n",
      "* `//node` \u2014 node at any level\n",
      "* `node[@attr-name]` \u2014 node with an attribute name\n",
      "* `node[@attr-name='bob']` \u2014 node with attribute name attr-name='bob'"
     ]
    },
    {
     "cell_type": "heading",
     "level": 3,
     "metadata": {},
     "source": [
      "Get the items on the menu and their prices"
     ]
    },
    {
     "cell_type": "code",
     "collapsed": false,
     "input": [
      "# get the items on the menu:\n",
      "#   - get all the elements that correspond to an element with the title \"name\"\n",
      "\n",
      "xpathSApply(rootNode, '//name', xmlValue)"
     ],
     "language": "python",
     "metadata": {},
     "outputs": [
      {
       "metadata": {},
       "output_type": "pyout",
       "prompt_number": 14,
       "text": [
        "[1] \"Belgian Waffles\"             \"Strawberry Belgian Waffles\" \n",
        "[3] \"Berry-Berry Belgian Waffles\" \"French Toast\"               \n",
        "[5] \"Homestyle Breakfast\"        "
       ]
      }
     ],
     "prompt_number": 14
    },
    {
     "cell_type": "code",
     "collapsed": false,
     "input": [
      "# get their prices\n",
      "\n",
      "xpathSApply(rootNode, '//price', xmlValue)"
     ],
     "language": "python",
     "metadata": {},
     "outputs": [
      {
       "metadata": {},
       "output_type": "pyout",
       "prompt_number": 15,
       "text": [
        "[1] \"$5.95\" \"$7.95\" \"$8.95\" \"$4.50\" \"$6.95\""
       ]
      }
     ],
     "prompt_number": 15
    },
    {
     "cell_type": "heading",
     "level": 3,
     "metadata": {},
     "source": [
      "`htmlTreeParse()` for reading HTML"
     ]
    },
    {
     "cell_type": "markdown",
     "metadata": {},
     "source": [
      "* `htmlTreeParse()` is optimized for HTML\n",
      "* setting `useInternal=TRUE` so we can get all the different nodes inside the HTML file"
     ]
    },
    {
     "cell_type": "code",
     "collapsed": false,
     "input": [
      "fileUrl <- 'http://espn.go.com/nfl/team/_/name/bal/baltimore-ravens'\n",
      "doc <- htmlTreeParse(fileUrl, useInternal = TRUE)"
     ],
     "language": "python",
     "metadata": {},
     "outputs": [],
     "prompt_number": 2
    },
    {
     "cell_type": "code",
     "collapsed": false,
     "input": [
      "scores <- xpathSApply(doc, \"//li[@class='score']\", xmlValue)\n",
      "teams <- xpathSApply(doc, \"//li[@class='team-name']\", xmlValue)\n",
      "\n",
      "scores"
     ],
     "language": "python",
     "metadata": {},
     "outputs": [
      {
       "metadata": {},
       "output_type": "pyout",
       "prompt_number": 3,
       "text": [
        " [1] \"23-16\" \"26-6\"  \"23-21\" \"38-10\" \"20-13\" \"48-17\" \"29-7\"  \"27-24\" \"43-23\"\n",
        "[10] \"21-7\" "
       ]
      }
     ],
     "prompt_number": 3
    },
    {
     "cell_type": "code",
     "collapsed": false,
     "input": [
      "teams"
     ],
     "language": "python",
     "metadata": {},
     "outputs": [
      {
       "metadata": {},
       "output_type": "pyout",
       "prompt_number": 4,
       "text": [
        " [1] \"Cincinnati\"   \"Pittsburgh\"   \"Cleveland\"    \"Carolina\"     \"Indianapolis\"\n",
        " [6] \"Tampa Bay\"    \"Atlanta\"      \"Cincinnati\"   \"Pittsburgh\"   \"Tennessee\"   \n",
        "[11] \"New Orleans\"  \"San Diego\"    \"Miami\"        \"Jacksonville\" \"Houston\"     \n",
        "[16] \"Cleveland\"   "
       ]
      }
     ],
     "prompt_number": 4
    },
    {
     "cell_type": "markdown",
     "metadata": {},
     "source": [
      "---"
     ]
    },
    {
     "cell_type": "heading",
     "level": 2,
     "metadata": {},
     "source": [
      "Using the `jsonlite` package to read JSON"
     ]
    },
    {
     "cell_type": "markdown",
     "metadata": {},
     "source": [
      "* lightweight data storage\n",
      "* common format for data from APIs\n",
      "* data stored as:\n",
      "  * numbers (double)\n",
      "  * strings (double quoted)\n",
      "  * boolean\n",
      "  * array ([], ordered, comma separated)\n",
      "  * onject ({}, unordered, comma separated collections of &lt;key&gt;:&lt;value&gt; pairs)"
     ]
    },
    {
     "cell_type": "code",
     "collapsed": false,
     "input": [
      "library(jsonlite)"
     ],
     "language": "python",
     "metadata": {},
     "outputs": [
      {
       "output_type": "stream",
       "stream": "stderr",
       "text": [
        "\n",
        "Attaching package: \u2018jsonlite\u2019\n",
        "\n"
       ]
      },
      {
       "output_type": "stream",
       "stream": "stderr",
       "text": [
        "The following object is masked from \u2018package:utils\u2019:\n",
        "\n",
        "    View\n",
        "\n"
       ]
      }
     ],
     "prompt_number": 5
    },
    {
     "cell_type": "heading",
     "level": 4,
     "metadata": {},
     "source": [
      "`fromJSON()`"
     ]
    },
    {
     "cell_type": "markdown",
     "metadata": {},
     "source": [
      "* in: the URL where the JSON appears\n",
      "* out: a structured data frame\n",
      "* the `names()` of that dataframe contains all the top level variables"
     ]
    },
    {
     "cell_type": "code",
     "collapsed": true,
     "input": [
      "jsonData <- fromJSON(\"https://api.github.com/users/mariusbutuc/repos\")\n",
      "\n",
      "names(jsonData)"
     ],
     "language": "python",
     "metadata": {},
     "outputs": [
      {
       "metadata": {},
       "output_type": "pyout",
       "prompt_number": 8,
       "text": [
        " [1] \"id\"                \"name\"              \"full_name\"        \n",
        " [4] \"owner\"             \"private\"           \"html_url\"         \n",
        " [7] \"description\"       \"fork\"              \"url\"              \n",
        "[10] \"forks_url\"         \"keys_url\"          \"collaborators_url\"\n",
        "[13] \"teams_url\"         \"hooks_url\"         \"issue_events_url\" \n",
        "[16] \"events_url\"        \"assignees_url\"     \"branches_url\"     \n",
        "[19] \"tags_url\"          \"blobs_url\"         \"git_tags_url\"     \n",
        "[22] \"git_refs_url\"      \"trees_url\"         \"statuses_url\"     \n",
        "[25] \"languages_url\"     \"stargazers_url\"    \"contributors_url\" \n",
        "[28] \"subscribers_url\"   \"subscription_url\"  \"commits_url\"      \n",
        "[31] \"git_commits_url\"   \"comments_url\"      \"issue_comment_url\"\n",
        "[34] \"contents_url\"      \"compare_url\"       \"merges_url\"       \n",
        "[37] \"archive_url\"       \"downloads_url\"     \"issues_url\"       \n",
        "[40] \"pulls_url\"         \"milestones_url\"    \"notifications_url\"\n",
        "[43] \"labels_url\"        \"releases_url\"      \"created_at\"       \n",
        "[46] \"updated_at\"        \"pushed_at\"         \"git_url\"          \n",
        "[49] \"ssh_url\"           \"clone_url\"         \"svn_url\"          \n",
        "[52] \"homepage\"          \"size\"              \"stargazers_count\" \n",
        "[55] \"watchers_count\"    \"language\"          \"has_issues\"       \n",
        "[58] \"has_downloads\"     \"has_wiki\"          \"has_pages\"        \n",
        "[61] \"forks_count\"       \"mirror_url\"        \"open_issues_count\"\n",
        "[64] \"forks\"             \"open_issues\"       \"watchers\"         \n",
        "[67] \"default_branch\"   "
       ]
      }
     ],
     "prompt_number": 8
    },
    {
     "cell_type": "code",
     "collapsed": false,
     "input": [
      "# one of these top-level variables, of these components of the data frame, \n",
      "# is `owner` which is exposed as a dataframe withing the main dataframe.\n",
      "names(jsonData$owner)"
     ],
     "language": "python",
     "metadata": {},
     "outputs": [
      {
       "metadata": {},
       "output_type": "pyout",
       "prompt_number": 10,
       "text": [
        " [1] \"login\"               \"id\"                  \"avatar_url\"         \n",
        " [4] \"gravatar_id\"         \"url\"                 \"html_url\"           \n",
        " [7] \"followers_url\"       \"following_url\"       \"gists_url\"          \n",
        "[10] \"starred_url\"         \"subscriptions_url\"   \"organizations_url\"  \n",
        "[13] \"repos_url\"           \"events_url\"          \"received_events_url\"\n",
        "[16] \"type\"                \"site_admin\"         "
       ]
      }
     ],
     "prompt_number": 10
    },
    {
     "cell_type": "code",
     "collapsed": false,
     "input": [
      "# get the login for all the different repos on that page\n",
      "\n",
      "jsonData$owner$login"
     ],
     "language": "python",
     "metadata": {},
     "outputs": [
      {
       "metadata": {},
       "output_type": "pyout",
       "prompt_number": 13,
       "text": [
        " [1] \"mariusbutuc\" \"mariusbutuc\" \"mariusbutuc\" \"mariusbutuc\" \"mariusbutuc\"\n",
        " [6] \"mariusbutuc\" \"mariusbutuc\" \"mariusbutuc\" \"mariusbutuc\" \"mariusbutuc\"\n",
        "[11] \"mariusbutuc\" \"mariusbutuc\" \"mariusbutuc\" \"mariusbutuc\" \"mariusbutuc\"\n",
        "[16] \"mariusbutuc\" \"mariusbutuc\" \"mariusbutuc\" \"mariusbutuc\" \"mariusbutuc\"\n",
        "[21] \"mariusbutuc\" \"mariusbutuc\" \"mariusbutuc\" \"mariusbutuc\" \"mariusbutuc\"\n",
        "[26] \"mariusbutuc\" \"mariusbutuc\" \"mariusbutuc\" \"mariusbutuc\" \"mariusbutuc\""
       ]
      }
     ],
     "prompt_number": 13
    },
    {
     "cell_type": "heading",
     "level": 2,
     "metadata": {},
     "source": [
      "Writing data frames to JSON \u2013 `toJSON()`"
     ]
    },
    {
     "cell_type": "code",
     "collapsed": true,
     "input": [
      "# export data to an API that requires JSON\n",
      "\n",
      "myJson <- toJSON(iris, pretty = TRUE)\n",
      "\n",
      "cat(myJson)"
     ],
     "language": "python",
     "metadata": {},
     "outputs": [
      {
       "output_type": "stream",
       "stream": "stdout",
       "text": [
        "[\n",
        "    {\n",
        "        \"Sepal.Length\": 5.1,\n",
        "        \"Sepal.Width\": 3.5,\n",
        "        \"Petal.Length\": 1.4,\n",
        "        \"Petal.Width\": 0.2,\n",
        "        \"Species\": \"setosa\"\n",
        "    },\n",
        "    {\n",
        "        \"Sepal.Length\": 4.9,\n",
        "        \"Sepal.Width\": 3,\n",
        "        \"Petal.Length\": 1.4,\n",
        "        \"Petal.Width\": 0.2,\n",
        "        \"Species\": \"setosa\"\n",
        "    },\n",
        "    {\n",
        "        \"Sepal.Length\": 4.7,\n",
        "        \"Sepal.Width\": 3.2,\n",
        "        \"Petal.Length\": 1.3,\n",
        "        \"Petal.Width\": 0.2,\n",
        "        \"Species\": \"setosa\"\n",
        "    },\n",
        "    {\n",
        "        \"Sepal.Length\": 4.6,\n",
        "        \"Sepal.Width\": 3.1,\n",
        "        \"Petal.Length\": 1.5,\n",
        "        \"Petal.Width\": 0.2,\n",
        "        \"Species\": \"setosa\"\n",
        "    },\n",
        "    {\n",
        "        \"Sepal.Length\": 5,\n",
        "        \"Sepal.Width\": 3.6,\n",
        "        \"Petal.Length\": 1.4,\n",
        "        \"Petal.Width\": 0.2,\n",
        "        \"Species\": \"setosa\"\n",
        "    },\n",
        "    {\n",
        "        \"Sepal.Length\": 5.4,\n",
        "        \"Sepal.Width\": 3.9,\n",
        "        \"Petal.Length\": 1.7,\n",
        "        \"Petal.Width\": 0.4,\n",
        "        \"Species\": \"setosa\"\n",
        "    },\n",
        "    {\n",
        "        \"Sepal.Length\": 4.6,\n",
        "        \"Sepal.Width\": 3.4,\n",
        "        \"Petal.Length\": 1.4,\n",
        "        \"Petal.Width\": 0.3,\n",
        "        \"Species\": \"setosa\"\n",
        "    },\n",
        "    {\n",
        "        \"Sepal.Length\": 5,\n",
        "        \"Sepal.Width\": 3.4,\n",
        "        \"Petal.Length\": 1.5,\n",
        "        \"Petal.Width\": 0.2,\n",
        "        \"Species\": \"setosa\"\n",
        "    },\n",
        "    {\n",
        "        \"Sepal.Length\": 4.4,\n",
        "        \"Sepal.Width\": 2.9,\n",
        "        \"Petal.Length\": 1.4,\n",
        "        \"Petal.Width\": 0.2,\n",
        "        \"Species\": \"setosa\"\n",
        "    },\n",
        "    {\n",
        "        \"Sepal.Length\": 4.9,\n",
        "        \"Sepal.Width\": 3.1,\n",
        "        \"Petal.Length\": 1.5,\n",
        "        \"Petal.Width\": 0.1,\n",
        "        \"Species\": \"setosa\"\n",
        "    },\n",
        "    {\n",
        "        \"Sepal.Length\": 5.4,\n",
        "        \"Sepal.Width\": 3.7,\n",
        "        \"Petal.Length\": 1.5,\n",
        "        \"Petal.Width\": 0.2,\n",
        "        \"Species\": \"setosa\"\n",
        "    },\n",
        "    {\n",
        "        \"Sepal.Length\": 4.8,\n",
        "        \"Sepal.Width\": 3.4,\n",
        "        \"Petal.Length\": 1.6,\n",
        "        \"Petal.Width\": 0.2,\n",
        "        \"Species\": \"setosa\"\n",
        "    },\n",
        "    {\n",
        "        \"Sepal.Length\": 4.8,\n",
        "        \"Sepal.Width\": 3,\n",
        "        \"Petal.Length\": 1.4,\n",
        "        \"Petal.Width\": 0.1,\n",
        "        \"Species\": \"setosa\"\n",
        "    },\n",
        "    {\n",
        "        \"Sepal.Length\": 4.3,\n",
        "        \"Sepal.Width\": 3,\n",
        "        \"Petal.Length\": 1.1,\n",
        "        \"Petal.Width\": 0.1,\n",
        "        \"Species\": \"setosa\"\n",
        "    },\n",
        "    {\n",
        "        \"Sepal.Length\": 5.8,\n",
        "        \"Sepal.Width\": 4,\n",
        "        \"Petal.Length\": 1.2,\n",
        "        \"Petal.Width\": 0.2,\n",
        "        \"Species\": \"setosa\"\n",
        "    },\n",
        "    {\n",
        "        \"Sepal.Length\": 5.7,\n",
        "        \"Sepal.Width\": 4.4,\n",
        "        \"Petal.Length\": 1.5,\n",
        "        \"Petal.Width\": 0.4,\n",
        "        \"Species\": \"setosa\"\n",
        "    },\n",
        "    {\n",
        "        \"Sepal.Length\": 5.4,\n",
        "        \"Sepal.Width\": 3.9,\n",
        "        \"Petal.Length\": 1.3,\n",
        "        \"Petal.Width\": 0.4,\n",
        "        \"Species\": \"setosa\"\n",
        "    },\n",
        "    {\n",
        "        \"Sepal.Length\": 5.1,\n",
        "        \"Sepal.Width\": 3.5,\n",
        "        \"Petal.Length\": 1.4,\n",
        "        \"Petal.Width\": 0.3,\n",
        "        \"Species\": \"setosa\"\n",
        "    },\n",
        "    {\n",
        "        \"Sepal.Length\": 5.7,\n",
        "        \"Sepal.Width\": 3.8,\n",
        "        \"Petal.Length\": 1.7,\n",
        "        \"Petal.Width\": 0.3,\n",
        "        \"Species\": \"setosa\"\n",
        "    },\n",
        "    {\n",
        "        \"Sepal.Length\": 5.1,\n",
        "        \"Sepal.Width\": 3.8,\n",
        "        \"Petal.Length\": 1.5,\n",
        "        \"Petal.Width\": 0.3,\n",
        "        \"Species\": \"setosa\"\n",
        "    },\n",
        "    {\n",
        "        \"Sepal.Length\": 5.4,\n",
        "        \"Sepal.Width\": 3.4,\n",
        "        \"Petal.Length\": 1.7,\n",
        "        \"Petal.Width\": 0.2,\n",
        "        \"Species\": \"setosa\"\n",
        "    },\n",
        "    {\n",
        "        \"Sepal.Length\": 5.1,\n",
        "        \"Sepal.Width\": 3.7,\n",
        "        \"Petal.Length\": 1.5,\n",
        "        \"Petal.Width\": 0.4,\n",
        "        \"Species\": \"setosa\"\n",
        "    },\n",
        "    {\n",
        "        \"Sepal.Length\": 4.6,\n",
        "        \"Sepal.Width\": 3.6,\n",
        "        \"Petal.Length\": 1,\n",
        "        \"Petal.Width\": 0.2,\n",
        "        \"Species\": \"setosa\"\n",
        "    },\n",
        "    {\n",
        "        \"Sepal.Length\": 5.1,\n",
        "        \"Sepal.Width\": 3.3,\n",
        "        \"Petal.Length\": 1.7,\n",
        "        \"Petal.Width\": 0.5,\n",
        "        \"Species\": \"setosa\"\n",
        "    },\n",
        "    {\n",
        "        \"Sepal.Length\": 4.8,\n",
        "        \"Sepal.Width\": 3.4,\n",
        "        \"Petal.Length\": 1.9,\n",
        "        \"Petal.Width\": 0.2,\n",
        "        \"Species\": \"setosa\"\n",
        "    },\n",
        "    {\n",
        "        \"Sepal.Length\": 5,\n",
        "        \"Sepal.Width\": 3,\n",
        "        \"Petal.Length\": 1.6,\n",
        "        \"Petal.Width\": 0.2,\n",
        "        \"Species\": \"setosa\"\n",
        "    },\n",
        "    {\n",
        "        \"Sepal.Length\": 5,\n",
        "        \"Sepal.Width\": 3.4,\n",
        "        \"Petal.Length\": 1.6,\n",
        "        \"Petal.Width\": 0.4,\n",
        "        \"Species\": \"setosa\"\n",
        "    },\n",
        "    {\n",
        "        \"Sepal.Length\": 5.2,\n",
        "        \"Sepal.Width\": 3.5,\n",
        "        \"Petal.Length\": 1.5,\n",
        "        \"Petal.Width\": 0.2,\n",
        "        \"Species\": \"setosa\"\n",
        "    },\n",
        "    {\n",
        "        \"Sepal.Length\": 5.2,\n",
        "        \"Sepal.Width\": 3.4,\n",
        "        \"Petal.Length\": 1.4,\n",
        "        \"Petal.Width\": 0.2,\n",
        "        \"Species\": \"setosa\"\n",
        "    },\n",
        "    {\n",
        "        \"Sepal.Length\": 4.7,\n",
        "        \"Sepal.Width\": 3.2,\n",
        "        \"Petal.Length\": 1.6,\n",
        "        \"Petal.Width\": 0.2,\n",
        "        \"Species\": \"setosa\"\n",
        "    },\n",
        "    {\n",
        "        \"Sepal.Length\": 4.8,\n",
        "        \"Sepal.Width\": 3.1,\n",
        "        \"Petal.Length\": 1.6,\n",
        "        \"Petal.Width\": 0.2,\n",
        "        \"Species\": \"setosa\"\n",
        "    },\n",
        "    {\n",
        "        \"Sepal.Length\": 5.4,\n",
        "        \"Sepal.Width\": 3.4,\n",
        "        \"Petal.Length\": 1.5,\n",
        "        \"Petal.Width\": 0.4,\n",
        "        \"Species\": \"setosa\"\n",
        "    },\n",
        "    {\n",
        "        \"Sepal.Length\": 5.2,\n",
        "        \"Sepal.Width\": 4.1,\n",
        "        \"Petal.Length\": 1.5,\n",
        "        \"Petal.Width\": 0.1,\n",
        "        \"Species\": \"setosa\"\n",
        "    },\n",
        "    {\n",
        "        \"Sepal.Length\": 5.5,\n",
        "        \"Sepal.Width\": 4.2,\n",
        "        \"Petal.Length\": 1.4,\n",
        "        \"Petal.Width\": 0.2,\n",
        "        \"Species\": \"setosa\"\n",
        "    },\n",
        "    {\n",
        "        \"Sepal.Length\": 4.9,\n",
        "        \"Sepal.Width\": 3.1,\n",
        "        \"Petal.Length\": 1.5,\n",
        "        \"Petal.Width\": 0.2,\n",
        "        \"Species\": \"setosa\"\n",
        "    },\n",
        "    {\n",
        "        \"Sepal.Length\": 5,\n",
        "        \"Sepal.Width\": 3.2,\n",
        "        \"Petal.Length\": 1.2,\n",
        "        \"Petal.Width\": 0.2,\n",
        "        \"Species\": \"setosa\"\n",
        "    },\n",
        "    {\n",
        "        \"Sepal.Length\": 5.5,\n",
        "        \"Sepal.Width\": 3.5,\n",
        "        \"Petal.Length\": 1.3,\n",
        "        \"Petal.Width\": 0.2,\n",
        "        \"Species\": \"setosa\"\n",
        "    },\n",
        "    {\n",
        "        \"Sepal.Length\": 4.9,\n",
        "        \"Sepal.Width\": 3.6,\n",
        "        \"Petal.Length\": 1.4,\n",
        "        \"Petal.Width\": 0.1,\n",
        "        \"Species\": \"setosa\"\n",
        "    },\n",
        "    {\n",
        "        \"Sepal.Length\": 4.4,\n",
        "        \"Sepal.Width\": 3,\n",
        "        \"Petal.Length\": 1.3,\n",
        "        \"Petal.Width\": 0.2,\n",
        "        \"Species\": \"setosa\"\n",
        "    },\n",
        "    {\n",
        "        \"Sepal.Length\": 5.1,\n",
        "        \"Sepal.Width\": 3.4,\n",
        "        \"Petal.Length\": 1.5,\n",
        "        \"Petal.Width\": 0.2,\n",
        "        \"Species\": \"setosa\"\n",
        "    },\n",
        "    {\n",
        "        \"Sepal.Length\": 5,\n",
        "        \"Sepal.Width\": 3.5,\n",
        "        \"Petal.Length\": 1.3,\n",
        "        \"Petal.Width\": 0.3,\n",
        "        \"Species\": \"setosa\"\n",
        "    },\n",
        "    {\n",
        "        \"Sepal.Length\": 4.5,\n",
        "        \"Sepal.Width\": 2.3,\n",
        "        \"Petal.Length\": 1.3,\n",
        "        \"Petal.Width\": 0.3,\n",
        "        \"Species\": \"setosa\"\n",
        "    },\n",
        "    {\n",
        "        \"Sepal.Length\": 4.4,\n",
        "        \"Sepal.Width\": 3.2,\n",
        "        \"Petal.Length\": 1.3,\n",
        "        \"Petal.Width\": 0.2,\n",
        "        \"Species\": \"setosa\"\n",
        "    },\n",
        "    {\n",
        "        \"Sepal.Length\": 5,\n",
        "        \"Sepal.Width\": 3.5,\n",
        "        \"Petal.Length\": 1.6,\n",
        "        \"Petal.Width\": 0.6,\n",
        "        \"Species\": \"setosa\"\n",
        "    },\n",
        "    {\n",
        "        \"Sepal.Length\": 5.1,\n",
        "        \"Sepal.Width\": 3.8,\n",
        "        \"Petal.Length\": 1.9,\n",
        "        \"Petal.Width\": 0.4,\n",
        "        \"Species\": \"setosa\"\n",
        "    },\n",
        "    {\n",
        "        \"Sepal.Length\": 4.8,\n",
        "        \"Sepal.Width\": 3,\n",
        "        \"Petal.Length\": 1.4,\n",
        "        \"Petal.Width\": 0.3,\n",
        "        \"Species\": \"setosa\"\n",
        "    },\n",
        "    {\n",
        "        \"Sepal.Length\": 5.1,\n",
        "        \"Sepal.Width\": 3.8,\n",
        "        \"Petal.Length\": 1.6,\n",
        "        \"Petal.Width\": 0.2,\n",
        "        \"Species\": \"setosa\"\n",
        "    },\n",
        "    {\n",
        "        \"Sepal.Length\": 4.6,\n",
        "        \"Sepal.Width\": 3.2,\n",
        "        \"Petal.Length\": 1.4,\n",
        "        \"Petal.Width\": 0.2,\n",
        "        \"Species\": \"setosa\"\n",
        "    },\n",
        "    {\n",
        "        \"Sepal.Length\": 5.3,\n",
        "        \"Sepal.Width\": 3.7,\n",
        "        \"Petal.Length\": 1.5,\n",
        "        \"Petal.Width\": 0.2,\n",
        "        \"Species\": \"setosa\"\n",
        "    },\n",
        "    {\n",
        "        \"Sepal.Length\": 5,\n",
        "        \"Sepal.Width\": 3.3,\n",
        "        \"Petal.Length\": 1.4,\n",
        "        \"Petal.Width\": 0.2,\n",
        "        \"Species\": \"setosa\"\n",
        "    },\n",
        "    {\n",
        "        \"Sepal.Length\": 7,\n",
        "        \"Sepal.Width\": 3.2,\n",
        "        \"Petal.Length\": 4.7,\n",
        "        \"Petal.Width\": 1.4,\n",
        "        \"Species\": \"versicolor\"\n",
        "    },\n",
        "    {\n",
        "        \"Sepal.Length\": 6.4,\n",
        "        \"Sepal.Width\": 3.2,\n",
        "        \"Petal.Length\": 4.5,\n",
        "        \"Petal.Width\": 1.5,\n",
        "        \"Species\": \"versicolor\"\n",
        "    },\n",
        "    {\n",
        "        \"Sepal.Length\": 6.9,\n",
        "        \"Sepal.Width\": 3.1,\n",
        "        \"Petal.Length\": 4.9,\n",
        "        \"Petal.Width\": 1.5,\n",
        "        \"Species\": \"versicolor\"\n",
        "    },\n",
        "    {\n",
        "        \"Sepal.Length\": 5.5,\n",
        "        \"Sepal.Width\": 2.3,\n",
        "        \"Petal.Length\": 4,\n",
        "        \"Petal.Width\": 1.3,\n",
        "        \"Species\": \"versicolor\"\n",
        "    },\n",
        "    {\n",
        "        \"Sepal.Length\": 6.5,\n",
        "        \"Sepal.Width\": 2.8,\n",
        "        \"Petal.Length\": 4.6,\n",
        "        \"Petal.Width\": 1.5,\n",
        "        \"Species\": \"versicolor\"\n",
        "    },\n",
        "    {\n",
        "        \"Sepal.Length\": 5.7,\n",
        "        \"Sepal.Width\": 2.8,\n",
        "        \"Petal.Length\": 4.5,\n",
        "        \"Petal.Width\": 1.3,\n",
        "        \"Species\": \"versicolor\"\n",
        "    },\n",
        "    {\n",
        "        \"Sepal.Length\": 6.3,\n",
        "        \"Sepal.Width\": 3.3,\n",
        "        \"Petal.Length\": 4.7,\n",
        "        \"Petal.Width\": 1.6,\n",
        "        \"Species\": \"versicolor\"\n",
        "    },\n",
        "    {\n",
        "        \"Sepal.Length\": 4.9,\n",
        "        \"Sepal.Width\": 2.4,\n",
        "        \"Petal.Length\": 3.3,\n",
        "        \"Petal.Width\": 1,\n",
        "        \"Species\": \"versicolor\"\n",
        "    },\n",
        "    {\n",
        "        \"Sepal.Length\": 6.6,\n",
        "        \"Sepal.Width\": 2.9,\n",
        "        \"Petal.Length\": 4.6,\n",
        "        \"Petal.Width\": 1.3,\n",
        "        \"Species\": \"versicolor\"\n",
        "    },\n",
        "    {\n",
        "        \"Sepal.Length\": 5.2,\n",
        "        \"Sepal.Width\": 2.7,\n",
        "        \"Petal.Length\": 3.9,\n",
        "        \"Petal.Width\": 1.4,\n",
        "        \"Species\": \"versicolor\"\n",
        "    },\n",
        "    {\n",
        "        \"Sepal.Length\": 5,\n",
        "        \"Sepal.Width\": 2,\n",
        "        \"Petal.Length\": 3.5,\n",
        "        \"Petal.Width\": 1,\n",
        "        \"Species\": \"versicolor\"\n",
        "    },\n",
        "    {\n",
        "        \"Sepal.Length\": 5.9,\n",
        "        \"Sepal.Width\": 3,\n",
        "        \"Petal.Length\": 4.2,\n",
        "        \"Petal.Width\": 1.5,\n",
        "        \"Species\": \"versicolor\"\n",
        "    },\n",
        "    {\n",
        "        \"Sepal.Length\": 6,\n",
        "        \"Sepal.Width\": 2.2,\n",
        "        \"Petal.Length\": 4,\n",
        "        \"Petal.Width\": 1,\n",
        "        \"Species\": \"versicolor\"\n",
        "    },\n",
        "    {\n",
        "        \"Sepal.Length\": 6.1,\n",
        "        \"Sepal.Width\": 2.9,\n",
        "        \"Petal.Length\": 4.7,\n",
        "        \"Petal.Width\": 1.4,\n",
        "        \"Species\": \"versicolor\"\n",
        "    },\n",
        "    {\n",
        "        \"Sepal.Length\": 5.6,\n",
        "        \"Sepal.Width\": 2.9,\n",
        "        \"Petal.Length\": 3.6,\n",
        "        \"Petal.Width\": 1.3,\n",
        "        \"Species\": \"versicolor\"\n",
        "    },\n",
        "    {\n",
        "        \"Sepal.Length\": 6.7,\n",
        "        \"Sepal.Width\": 3.1,\n",
        "        \"Petal.Length\": 4.4,\n",
        "        \"Petal.Width\": 1.4,\n",
        "        \"Species\": \"versicolor\"\n",
        "    },\n",
        "    {\n",
        "        \"Sepal.Length\": 5.6,\n",
        "        \"Sepal.Width\": 3,\n",
        "        \"Petal.Length\": 4.5,\n",
        "        \"Petal.Width\": 1.5,\n",
        "        \"Species\": \"versicolor\"\n",
        "    },\n",
        "    {\n",
        "        \"Sepal.Length\": 5.8,\n",
        "        \"Sepal.Width\": 2.7,\n",
        "        \"Petal.Length\": 4.1,\n",
        "        \"Petal.Width\": 1,\n",
        "        \"Species\": \"versicolor\"\n",
        "    },\n",
        "    {\n",
        "        \"Sepal.Length\": 6.2,\n",
        "        \"Sepal.Width\": 2.2,\n",
        "        \"Petal.Length\": 4.5,\n",
        "        \"Petal.Width\": 1.5,\n",
        "        \"Species\": \"versicolor\"\n",
        "    },\n",
        "    {\n",
        "        \"Sepal.Length\": 5.6,\n",
        "        \"Sepal.Width\": 2.5,\n",
        "        \"Petal.Length\": 3.9,\n",
        "        \"Petal.Width\": 1.1,\n",
        "        \"Species\": \"versicolor\"\n",
        "    },\n",
        "    {\n",
        "        \"Sepal.Length\": 5.9,\n",
        "        \"Sepal.Width\": 3.2,\n",
        "        \"Petal.Length\": 4.8,\n",
        "        \"Petal.Width\": 1.8,\n",
        "        \"Species\": \"versicolor\"\n",
        "    },\n",
        "    {\n",
        "        \"Sepal.Length\": 6.1,\n",
        "        \"Sepal.Width\": 2.8,\n",
        "        \"Petal.Length\": 4,\n",
        "        \"Petal.Width\": 1.3,\n",
        "        \"Species\": \"versicolor\"\n",
        "    },\n",
        "    {\n",
        "        \"Sepal.Length\": 6.3,\n",
        "        \"Sepal.Width\": 2.5,\n",
        "        \"Petal.Length\": 4.9,\n",
        "        \"Petal.Width\": 1.5,\n",
        "        \"Species\": \"versicolor\"\n",
        "    },\n",
        "    {\n",
        "        \"Sepal.Length\": 6.1,\n",
        "        \"Sepal.Width\": 2.8,\n",
        "        \"Petal.Length\": 4.7,\n",
        "        \"Petal.Width\": 1.2,\n",
        "        \"Species\": \"versicolor\"\n",
        "    },\n",
        "    {\n",
        "        \"Sepal.Length\": 6.4,\n",
        "        \"Sepal.Width\": 2.9,\n",
        "        \"Petal.Length\": 4.3,\n",
        "        \"Petal.Width\": 1.3,\n",
        "        \"Species\": \"versicolor\"\n",
        "    },\n",
        "    {\n",
        "        \"Sepal.Length\": 6.6,\n",
        "        \"Sepal.Width\": 3,\n",
        "        \"Petal.Length\": 4.4,\n",
        "        \"Petal.Width\": 1.4,\n",
        "        \"Species\": \"versicolor\"\n",
        "    },\n",
        "    {\n",
        "        \"Sepal.Length\": 6.8,\n",
        "        \"Sepal.Width\": 2.8,\n",
        "        \"Petal.Length\": 4.8,\n",
        "        \"Petal.Width\": 1.4,\n",
        "        \"Species\": \"versicolor\"\n",
        "    },\n",
        "    {\n",
        "        \"Sepal.Length\": 6.7,\n",
        "        \"Sepal.Width\": 3,\n",
        "        \"Petal.Length\": 5,\n",
        "        \"Petal.Width\": 1.7,\n",
        "        \"Species\": \"versicolor\"\n",
        "    },\n",
        "    {\n",
        "        \"Sepal.Length\": 6,\n",
        "        \"Sepal.Width\": 2.9,\n",
        "        \"Petal.Length\": 4.5,\n",
        "        \"Petal.Width\": 1.5,\n",
        "        \"Species\": \"versicolor\"\n",
        "    },\n",
        "    {\n",
        "        \"Sepal.Length\": 5.7,\n",
        "        \"Sepal.Width\": 2.6,\n",
        "        \"Petal.Length\": 3.5,\n",
        "        \"Petal.Width\": 1,\n",
        "        \"Species\": \"versicolor\"\n",
        "    },\n",
        "    {\n",
        "        \"Sepal.Length\": 5.5,\n",
        "        \"Sepal.Width\": 2.4,\n",
        "        \"Petal.Length\": 3.8,\n",
        "        \"Petal.Width\": 1.1,\n",
        "        \"Species\": \"versicolor\"\n",
        "    },\n",
        "    {\n",
        "        \"Sepal.Length\": 5.5,\n",
        "        \"Sepal.Width\": 2.4,\n",
        "        \"Petal.Length\": 3.7,\n",
        "        \"Petal.Width\": 1,\n",
        "        \"Species\": \"versicolor\"\n",
        "    },\n",
        "    {\n",
        "        \"Sepal.Length\": 5.8,\n",
        "        \"Sepal.Width\": 2.7,\n",
        "        \"Petal.Length\": 3.9,\n",
        "        \"Petal.Width\": 1.2,\n",
        "        \"Species\": \"versicolor\"\n",
        "    },\n",
        "    {\n",
        "        \"Sepal.Length\": 6,\n",
        "        \"Sepal.Width\": 2.7,\n",
        "        \"Petal.Length\": 5.1,\n",
        "        \"Petal.Width\": 1.6,\n",
        "        \"Species\": \"versicolor\"\n",
        "    },\n",
        "    {\n",
        "        \"Sepal.Length\": 5.4,\n",
        "        \"Sepal.Width\": 3,\n",
        "        \"Petal.Length\": 4.5,\n",
        "        \"Petal.Width\": 1.5,\n",
        "        \"Species\": \"versicolor\"\n",
        "    },\n",
        "    {\n",
        "        \"Sepal.Length\": 6,\n",
        "        \"Sepal.Width\": 3.4,\n",
        "        \"Petal.Length\": 4.5,\n",
        "        \"Petal.Width\": 1.6,\n",
        "        \"Species\": \"versicolor\"\n",
        "    },\n",
        "    {\n",
        "        \"Sepal.Length\": 6.7,\n",
        "        \"Sepal.Width\": 3.1,\n",
        "        \"Petal.Length\": 4.7,\n",
        "        \"Petal.Width\": 1.5,\n",
        "        \"Species\": \"versicolor\"\n",
        "    },\n",
        "    {\n",
        "        \"Sepal.Length\": 6.3,\n",
        "        \"Sepal.Width\": 2.3,\n",
        "        \"Petal.Length\": 4.4,\n",
        "        \"Petal.Width\": 1.3,\n",
        "        \"Species\": \"versicolor\"\n",
        "    },\n",
        "    {\n",
        "        \"Sepal.Length\": 5.6,\n",
        "        \"Sepal.Width\": 3,\n",
        "        \"Petal.Length\": 4.1,\n",
        "        \"Petal.Width\": 1.3,\n",
        "        \"Species\": \"versicolor\"\n",
        "    },\n",
        "    {\n",
        "        \"Sepal.Length\": 5.5,\n",
        "        \"Sepal.Width\": 2.5,\n",
        "        \"Petal.Length\": 4,\n",
        "        \"Petal.Width\": 1.3,\n",
        "        \"Species\": \"versicolor\"\n",
        "    },\n",
        "    {\n",
        "        \"Sepal.Length\": 5.5,\n",
        "        \"Sepal.Width\": 2.6,\n",
        "        \"Petal.Length\": 4.4,\n",
        "        \"Petal.Width\": 1.2,\n",
        "        \"Species\": \"versicolor\"\n",
        "    },\n",
        "    {\n",
        "        \"Sepal.Length\": 6.1,\n",
        "        \"Sepal.Width\": 3,\n",
        "        \"Petal.Length\": 4.6,\n",
        "        \"Petal.Width\": 1.4,\n",
        "        \"Species\": \"versicolor\"\n",
        "    },\n",
        "    {\n",
        "        \"Sepal.Length\": 5.8,\n",
        "        \"Sepal.Width\": 2.6,\n",
        "        \"Petal.Length\": 4,\n",
        "        \"Petal.Width\": 1.2,\n",
        "        \"Species\": \"versicolor\"\n",
        "    },\n",
        "    {\n",
        "        \"Sepal.Length\": 5,\n",
        "        \"Sepal.Width\": 2.3,\n",
        "        \"Petal.Length\": 3.3,\n",
        "        \"Petal.Width\": 1,\n",
        "        \"Species\": \"versicolor\"\n",
        "    },\n",
        "    {\n",
        "        \"Sepal.Length\": 5.6,\n",
        "        \"Sepal.Width\": 2.7,\n",
        "        \"Petal.Length\": 4.2,\n",
        "        \"Petal.Width\": 1.3,\n",
        "        \"Species\": \"versicolor\"\n",
        "    },\n",
        "    {\n",
        "        \"Sepal.Length\": 5.7,\n",
        "        \"Sepal.Width\": 3,\n",
        "        \"Petal.Length\": 4.2,\n",
        "        \"Petal.Width\": 1.2,\n",
        "        \"Species\": \"versicolor\"\n",
        "    },\n",
        "    {\n",
        "        \"Sepal.Length\": 5.7,\n",
        "        \"Sepal.Width\": 2.9,\n",
        "        \"Petal.Length\": 4.2,\n",
        "        \"Petal.Width\": 1.3,\n",
        "        \"Species\": \"versicolor\"\n",
        "    },\n",
        "    {\n",
        "        \"Sepal.Length\": 6.2,\n",
        "        \"Sepal.Width\": 2.9,\n",
        "        \"Petal.Length\": 4.3,\n",
        "        \"Petal.Width\": 1.3,\n",
        "        \"Species\": \"versicolor\"\n",
        "    },\n",
        "    {\n",
        "        \"Sepal.Length\": 5.1,\n",
        "        \"Sepal.Width\": 2.5,\n",
        "        \"Petal.Length\": 3,\n",
        "        \"Petal.Width\": 1.1,\n",
        "        \"Species\": \"versicolor\"\n",
        "    },\n",
        "    {\n",
        "        \"Sepal.Length\": 5.7,\n",
        "        \"Sepal.Width\": 2.8,\n",
        "        \"Petal.Length\": 4.1,\n",
        "        \"Petal.Width\": 1.3,\n",
        "        \"Species\": \"versicolor\"\n",
        "    },\n",
        "    {\n",
        "        \"Sepal.Length\": 6.3,\n",
        "        \"Sepal.Width\": 3.3,\n",
        "        \"Petal.Length\": 6,\n",
        "        \"Petal.Width\": 2.5,\n",
        "        \"Species\": \"virginica\"\n",
        "    },\n",
        "    {\n",
        "        \"Sepal.Length\": 5.8,\n",
        "        \"Sepal.Width\": 2.7,\n",
        "        \"Petal.Length\": 5.1,\n",
        "        \"Petal.Width\": 1.9,\n",
        "        \"Species\": \"virginica\"\n",
        "    },\n",
        "    {\n",
        "        \"Sepal.Length\": 7.1,\n",
        "        \"Sepal.Width\": 3,\n",
        "        \"Petal.Length\": 5.9,\n",
        "        \"Petal.Width\": 2.1,\n",
        "        \"Species\": \"virginica\"\n",
        "    },\n",
        "    {\n",
        "        \"Sepal.Length\": 6.3,\n",
        "        \"Sepal.Width\": 2.9,\n",
        "        \"Petal.Length\": 5.6,\n",
        "        \"Petal.Width\": 1.8,\n",
        "        \"Species\": \"virginica\"\n",
        "    },\n",
        "    {\n",
        "        \"Sepal.Length\": 6.5,\n",
        "        \"Sepal.Width\": 3,\n",
        "        \"Petal.Length\": 5.8,\n",
        "        \"Petal.Width\": 2.2,\n",
        "        \"Species\": \"virginica\"\n",
        "    },\n",
        "    {\n",
        "        \"Sepal.Length\": 7.6,\n",
        "        \"Sepal.Width\": 3,\n",
        "        \"Petal.Length\": 6.6,\n",
        "        \"Petal.Width\": 2.1,\n",
        "        \"Species\": \"virginica\"\n",
        "    },\n",
        "    {\n",
        "        \"Sepal.Length\": 4.9,\n",
        "        \"Sepal.Width\": 2.5,\n",
        "        \"Petal.Length\": 4.5,\n",
        "        \"Petal.Width\": 1.7,\n",
        "        \"Species\": \"virginica\"\n",
        "    },\n",
        "    {\n",
        "        \"Sepal.Length\": 7.3,\n",
        "        \"Sepal.Width\": 2.9,\n",
        "        \"Petal.Length\": 6.3,\n",
        "        \"Petal.Width\": 1.8,\n",
        "        \"Species\": \"virginica\"\n",
        "    },\n",
        "    {\n",
        "        \"Sepal.Length\": 6.7,\n",
        "        \"Sepal.Width\": 2.5,\n",
        "        \"Petal.Length\": 5.8,\n",
        "        \"Petal.Width\": 1.8,\n",
        "        \"Species\": \"virginica\"\n",
        "    },\n",
        "    {\n",
        "        \"Sepal.Length\": 7.2,\n",
        "        \"Sepal.Width\": 3.6,\n",
        "        \"Petal.Length\": 6.1,\n",
        "        \"Petal.Width\": 2.5,\n",
        "        \"Species\": \"virginica\"\n",
        "    },\n",
        "    {\n",
        "        \"Sepal.Length\": 6.5,\n",
        "        \"Sepal.Width\": 3.2,\n",
        "        \"Petal.Length\": 5.1,\n",
        "        \"Petal.Width\": 2,\n",
        "        \"Species\": \"virginica\"\n",
        "    },\n",
        "    {\n",
        "        \"Sepal.Length\": 6.4,\n",
        "        \"Sepal.Width\": 2.7,\n",
        "        \"Petal.Length\": 5.3,\n",
        "        \"Petal.Width\": 1.9,\n",
        "        \"Species\": \"virginica\"\n",
        "    },\n",
        "    {\n",
        "        \"Sepal.Length\": 6.8,\n",
        "        \"Sepal.Width\": 3,\n",
        "        \"Petal.Length\": 5.5,\n",
        "        \"Petal.Width\": 2.1,\n",
        "        \"Species\": \"virginica\"\n",
        "    },\n",
        "    {\n",
        "        \"Sepal.Length\": 5.7,\n",
        "        \"Sepal.Width\": 2.5,\n",
        "        \"Petal.Length\": 5,\n",
        "        \"Petal.Width\": 2,\n",
        "        \"Species\": \"virginica\"\n",
        "    },\n",
        "    {\n",
        "        \"Sepal.Length\": 5.8,\n",
        "        \"Sepal.Width\": 2.8,\n",
        "        \"Petal.Length\": 5.1,\n",
        "        \"Petal.Width\": 2.4,\n",
        "        \"Species\": \"virginica\"\n",
        "    },\n",
        "    {\n",
        "        \"Sepal.Length\": 6.4,\n",
        "        \"Sepal.Width\": 3.2,\n",
        "        \"Petal.Length\": 5.3,\n",
        "        \"Petal.Width\": 2.3,\n",
        "        \"Species\": \"virginica\"\n",
        "    },\n",
        "    {\n",
        "        \"Sepal.Length\": 6.5,\n",
        "        \"Sepal.Width\": 3,\n",
        "        \"Petal.Length\": 5.5,\n",
        "        \"Petal.Width\": 1.8,\n",
        "        \"Species\": \"virginica\"\n",
        "    },\n",
        "    {\n",
        "        \"Sepal.Length\": 7.7,\n",
        "        \"Sepal.Width\": 3.8,\n",
        "        \"Petal.Length\": 6.7,\n",
        "        \"Petal.Width\": 2.2,\n",
        "        \"Species\": \"virginica\"\n",
        "    },\n",
        "    {\n",
        "        \"Sepal.Length\": 7.7,\n",
        "        \"Sepal.Width\": 2.6,\n",
        "        \"Petal.Length\": 6.9,\n",
        "        \"Petal.Width\": 2.3,\n",
        "        \"Species\": \"virginica\"\n",
        "    },\n",
        "    {\n",
        "        \"Sepal.Length\": 6,\n",
        "        \"Sepal.Width\": 2.2,\n",
        "        \"Petal.Length\": 5,\n",
        "        \"Petal.Width\": 1.5,\n",
        "        \"Species\": \"virginica\"\n",
        "    },\n",
        "    {\n",
        "        \"Sepal.Length\": 6.9,\n",
        "        \"Sepal.Width\": 3.2,\n",
        "        \"Petal.Length\": 5.7,\n",
        "        \"Petal.Width\": 2.3,\n",
        "        \"Species\": \"virginica\"\n",
        "    },\n",
        "    {\n",
        "        \"Sepal.Length\": 5.6,\n",
        "        \"Sepal.Width\": 2.8,\n",
        "        \"Petal.Length\": 4.9,\n",
        "        \"Petal.Width\": 2,\n",
        "        \"Species\": \"virginica\"\n",
        "    },\n",
        "    {\n",
        "        \"Sepal.Length\": 7.7,\n",
        "        \"Sepal.Width\": 2.8,\n",
        "        \"Petal.Length\": 6.7,\n",
        "        \"Petal.Width\": 2,\n",
        "        \"Species\": \"virginica\"\n",
        "    },\n",
        "    {\n",
        "        \"Sepal.Length\": 6.3,\n",
        "        \"Sepal.Width\": 2.7,\n",
        "        \"Petal.Length\": 4.9,\n",
        "        \"Petal.Width\": 1.8,\n",
        "        \"Species\": \"virginica\"\n",
        "    },\n",
        "    {\n",
        "        \"Sepal.Length\": 6.7,\n",
        "        \"Sepal.Width\": 3.3,\n",
        "        \"Petal.Length\": 5.7,\n",
        "        \"Petal.Width\": 2.1,\n",
        "        \"Species\": \"virginica\"\n",
        "    },\n",
        "    {\n",
        "        \"Sepal.Length\": 7.2,\n",
        "        \"Sepal.Width\": 3.2,\n",
        "        \"Petal.Length\": 6,\n",
        "        \"Petal.Width\": 1.8,\n",
        "        \"Species\": \"virginica\"\n",
        "    },\n",
        "    {\n",
        "        \"Sepal.Length\": 6.2,\n",
        "        \"Sepal.Width\": 2.8,\n",
        "        \"Petal.Length\": 4.8,\n",
        "        \"Petal.Width\": 1.8,\n",
        "        \"Species\": \"virginica\"\n",
        "    },\n",
        "    {\n",
        "        \"Sepal.Length\": 6.1,\n",
        "        \"Sepal.Width\": 3,\n",
        "        \"Petal.Length\": 4.9,\n",
        "        \"Petal.Width\": 1.8,\n",
        "        \"Species\": \"virginica\"\n",
        "    },\n",
        "    {\n",
        "        \"Sepal.Length\": 6.4,\n",
        "        \"Sepal.Width\": 2.8,\n",
        "        \"Petal.Length\": 5.6,\n",
        "        \"Petal.Width\": 2.1,\n",
        "        \"Species\": \"virginica\"\n",
        "    },\n",
        "    {\n",
        "        \"Sepal.Length\": 7.2,\n",
        "        \"Sepal.Width\": 3,\n",
        "        \"Petal.Length\": 5.8,\n",
        "        \"Petal.Width\": 1.6,\n",
        "        \"Species\": \"virginica\"\n",
        "    },\n",
        "    {\n",
        "        \"Sepal.Length\": 7.4,\n",
        "        \"Sepal.Width\": 2.8,\n",
        "        \"Petal.Length\": 6.1,\n",
        "        \"Petal.Width\": 1.9,\n",
        "        \"Species\": \"virginica\"\n",
        "    },\n",
        "    {\n",
        "        \"Sepal.Length\": 7.9,\n",
        "        \"Sepal.Width\": 3.8,\n",
        "        \"Petal.Length\": 6.4,\n",
        "        \"Petal.Width\": 2,\n",
        "        \"Species\": \"virginica\"\n",
        "    },\n",
        "    {\n",
        "        \"Sepal.Length\": 6.4,\n",
        "        \"Sepal.Width\": 2.8,\n",
        "        \"Petal.Length\": 5.6,\n",
        "        \"Petal.Width\": 2.2,\n",
        "        \"Species\": \"virginica\"\n",
        "    },\n",
        "    {\n",
        "        \"Sepal.Length\": 6.3,\n",
        "        \"Sepal.Width\": 2.8,\n",
        "        \"Petal.Length\": 5.1,\n",
        "        \"Petal.Width\": 1.5,\n",
        "        \"Species\": \"virginica\"\n",
        "    },\n",
        "    {\n",
        "        \"Sepal.Length\": 6.1,\n",
        "        \"Sepal.Width\": 2.6,\n",
        "        \"Petal.Length\": 5.6,\n",
        "        \"Petal.Width\": 1.4,\n",
        "        \"Species\": \"virginica\"\n",
        "    },\n",
        "    {\n",
        "        \"Sepal.Length\": 7.7,\n",
        "        \"Sepal.Width\": 3,\n",
        "        \"Petal.Length\": 6.1,\n",
        "        \"Petal.Width\": 2.3,\n",
        "        \"Species\": \"virginica\"\n",
        "    },\n",
        "    {\n",
        "        \"Sepal.Length\": 6.3,\n",
        "        \"Sepal.Width\": 3.4,\n",
        "        \"Petal.Length\": 5.6,\n",
        "        \"Petal.Width\": 2.4,\n",
        "        \"Species\": \"virginica\"\n",
        "    },\n",
        "    {\n",
        "        \"Sepal.Length\": 6.4,\n",
        "        \"Sepal.Width\": 3.1,\n",
        "        \"Petal.Length\": 5.5,\n",
        "        \"Petal.Width\": 1.8,\n",
        "        \"Species\": \"virginica\"\n",
        "    },\n",
        "    {\n",
        "        \"Sepal.Length\": 6,\n",
        "        \"Sepal.Width\": 3,\n",
        "        \"Petal.Length\": 4.8,\n",
        "        \"Petal.Width\": 1.8,\n",
        "        \"Species\": \"virginica\"\n",
        "    },\n",
        "    {\n",
        "        \"Sepal.Length\": 6.9,\n",
        "        \"Sepal.Width\": 3.1,\n",
        "        \"Petal.Length\": 5.4,\n",
        "        \"Petal.Width\": 2.1,\n",
        "        \"Species\": \"virginica\"\n",
        "    },\n",
        "    {\n",
        "        \"Sepal.Length\": 6.7,\n",
        "        \"Sepal.Width\": 3.1,\n",
        "        \"Petal.Length\": 5.6,\n",
        "        \"Petal.Width\": 2.4,\n",
        "        \"Species\": \"virginica\"\n",
        "    },\n",
        "    {\n",
        "        \"Sepal.Length\": 6.9,\n",
        "        \"Sepal.Width\": 3.1,\n",
        "        \"Petal.Length\": 5.1,\n",
        "        \"Petal.Width\": 2.3,\n",
        "        \"Species\": \"virginica\"\n",
        "    },\n",
        "    {\n",
        "        \"Sepal.Length\": 5.8,\n",
        "        \"Sepal.Width\": 2.7,\n",
        "        \"Petal.Length\": 5.1,\n",
        "        \"Petal.Width\": 1.9,\n",
        "        \"Species\": \"virginica\"\n",
        "    },\n",
        "    {\n",
        "        \"Sepal.Length\": 6.8,\n",
        "        \"Sepal.Width\": 3.2,\n",
        "        \"Petal.Length\": 5.9,\n",
        "        \"Petal.Width\": 2.3,\n",
        "        \"Species\": \"virginica\"\n",
        "    },\n",
        "    {\n",
        "        \"Sepal.Length\": 6.7,\n",
        "        \"Sepal.Width\": 3.3,\n",
        "        \"Petal.Length\": 5.7,\n",
        "        \"Petal.Width\": 2.5,\n",
        "        \"Species\": \"virginica\"\n",
        "    },\n",
        "    {\n",
        "        \"Sepal.Length\": 6.7,\n",
        "        \"Sepal.Width\": 3,\n",
        "        \"Petal.Length\": 5.2,\n",
        "        \"Petal.Width\": 2.3,\n",
        "        \"Species\": \"virginica\"\n",
        "    },\n",
        "    {\n",
        "        \"Sepal.Length\": 6.3,\n",
        "        \"Sepal.Width\": 2.5,\n",
        "        \"Petal.Length\": 5,\n",
        "        \"Petal.Width\": 1.9,\n",
        "        \"Species\": \"virginica\"\n",
        "    },\n",
        "    {\n",
        "        \"Sepal.Length\": 6.5,\n",
        "        \"Sepal.Width\": 3,\n",
        "        \"Petal.Length\": 5.2,\n",
        "        \"Petal.Width\": 2,\n",
        "        \"Species\": \"virginica\"\n",
        "    },\n",
        "    {\n",
        "        \"Sepal.Length\": 6.2,\n",
        "        \"Sepal.Width\": 3.4,\n",
        "        \"Petal.Length\": 5.4,\n",
        "        \"Petal.Width\": 2.3,\n",
        "        \"Species\": \"virginica\"\n",
        "    },\n",
        "    {\n",
        "        \"Sepal.Length\": 5.9,\n",
        "        \"Sepal.Width\": 3,\n",
        "        \"Petal.Length\": 5.1,\n",
        "        \"Petal.Width\": 1.8,\n",
        "        \"Species\": \"virginica\"\n",
        "    }\n",
        "]\n"
       ]
      }
     ],
     "prompt_number": 1
    },
    {
     "cell_type": "heading",
     "level": 3,
     "metadata": {},
     "source": [
      "Convert back to JSON"
     ]
    },
    {
     "cell_type": "code",
     "collapsed": false,
     "input": [
      "iris2 <- fromJSON(myJson) # this time from a JSON string literal\n",
      "\n",
      "head(iris2)"
     ],
     "language": "python",
     "metadata": {},
     "outputs": [
      {
       "metadata": {},
       "output_type": "pyout",
       "prompt_number": 17,
       "text": [
        "  Sepal.Length Sepal.Width Petal.Length Petal.Width Species\n",
        "1          5.1         3.5          1.4         0.2  setosa\n",
        "2          4.9         3.0          1.4         0.2  setosa\n",
        "3          4.7         3.2          1.3         0.2  setosa\n",
        "4          4.6         3.1          1.5         0.2  setosa\n",
        "5          5.0         3.6          1.4         0.2  setosa\n",
        "6          5.4         3.9          1.7         0.4  setosa"
       ]
      }
     ],
     "prompt_number": 17
    },
    {
     "cell_type": "heading",
     "level": 3,
     "metadata": {},
     "source": [
      "Further resources"
     ]
    },
    {
     "cell_type": "markdown",
     "metadata": {},
     "source": [
      "* [`jsonlite` tutorial on R-bloggers](http://www.r-bloggers.com/new-package-jsonlite-a-smarter-json-encoderdecoder/)\n",
      "* jsonlite vignette"
     ]
    },
    {
     "cell_type": "heading",
     "level": 2,
     "metadata": {},
     "source": [
      "Using the `data.table` package"
     ]
    },
    {
     "cell_type": "markdown",
     "metadata": {},
     "source": [
      "Often **faster**, more **memory efficient** version of the `data.frame`\n",
      "* \\+ inherits from `data.frame` \u2014 all functions that accept `data.frame` work on `data.table`\n",
      "* \\+ frequent updates \u2014 [Rdatatable/data.table](https://github.com/Rdatatable/data.table)\n",
      "* \\+ written in C \u2014 so it's much faster\n",
      "* \\+ much, much faster at subsetting, grouping, and updating variables\n",
      "* \\- requires learning a new syntax"
     ]
    },
    {
     "cell_type": "heading",
     "level": 4,
     "metadata": {},
     "source": [
      "Installation"
     ]
    },
    {
     "cell_type": "code",
     "collapsed": false,
     "input": [
      "library(data.table)"
     ],
     "language": "python",
     "metadata": {},
     "outputs": [
      {
       "ename": "ERROR",
       "evalue": "Error in library(data.table): there is no package called \u2018data.table\u2019\n",
       "output_type": "pyerr",
       "traceback": [
        "Error in library(data.table): there is no package called \u2018data.table\u2019\n"
       ]
      }
     ],
     "prompt_number": 18
    },
    {
     "cell_type": "code",
     "collapsed": false,
     "input": [
      "install.packages('data.table', repos = 'http://cran.utstat.utoronto.ca/')"
     ],
     "language": "python",
     "metadata": {},
     "outputs": [
      {
       "output_type": "stream",
       "stream": "stderr",
       "text": [
        "Installing package into \u2018/home/vagrant/R/x86_64-pc-linux-gnu-library/3.1\u2019\n",
        "(as \u2018lib\u2019 is unspecified)\n"
       ]
      },
      {
       "output_type": "stream",
       "stream": "stdout",
       "text": [
        "\n",
        "The downloaded source packages are in\n",
        "\t\u2018/tmp/RtmpMASxuU/downloaded_packages\u2019\n"
       ]
      }
     ],
     "prompt_number": 21
    },
    {
     "cell_type": "code",
     "collapsed": false,
     "input": [
      "library(data.table)"
     ],
     "language": "python",
     "metadata": {},
     "outputs": [],
     "prompt_number": 2
    },
    {
     "cell_type": "code",
     "collapsed": false,
     "input": [
      "df = data.frame(x = rnorm(9), y = rep(c('a', 'b', 'c'), each = 3), z = rnorm(9))\n",
      "\n",
      "head(df, 3)"
     ],
     "language": "python",
     "metadata": {},
     "outputs": [
      {
       "metadata": {},
       "output_type": "pyout",
       "prompt_number": 26,
       "text": [
        "          x y          z\n",
        "1  2.882078 a -0.6238394\n",
        "2 -0.483355 a -0.7390769\n",
        "3 -2.337320 a -0.7401446"
       ]
      }
     ],
     "prompt_number": 26
    },
    {
     "cell_type": "code",
     "collapsed": false,
     "input": [
      "dt = data.table(x = rnorm(9), y = rep(c('a', 'b', 'c'), each = 3), z = rnorm(9))\n",
      "\n",
      "head(dt, 3)"
     ],
     "language": "python",
     "metadata": {},
     "outputs": [
      {
       "metadata": {},
       "output_type": "pyout",
       "prompt_number": 3,
       "text": [
        "            x y         z\n",
        "1: -2.2787270 a 0.4473685\n",
        "2:  0.1519253 a 1.2863841\n",
        "3:  1.8079666 a 0.1639194"
       ]
      }
     ],
     "prompt_number": 3
    },
    {
     "cell_type": "heading",
     "level": 3,
     "metadata": {},
     "source": [
      "See all `data.tables` in memory"
     ]
    },
    {
     "cell_type": "code",
     "collapsed": false,
     "input": [
      "tables()"
     ],
     "language": "python",
     "metadata": {},
     "outputs": [
      {
       "output_type": "stream",
       "stream": "stdout",
       "text": [
        "     NAME NROW NCOL MB COLS  KEY\n",
        "[1,] dt      9    3  1 x,y,z    \n",
        "[2,] DT      9    3  1 x,y,z    \n",
        "Total: 2MB\n"
       ]
      }
     ],
     "prompt_number": 28
    },
    {
     "cell_type": "heading",
     "level": 3,
     "metadata": {},
     "source": [
      "Subsetting rows"
     ]
    },
    {
     "cell_type": "code",
     "collapsed": false,
     "input": [
      "dt[2, ]"
     ],
     "language": "python",
     "metadata": {},
     "outputs": [
      {
       "metadata": {},
       "output_type": "pyout",
       "prompt_number": 29,
       "text": [
        "          x y        z\n",
        "1: 1.220698 a 0.700225"
       ]
      }
     ],
     "prompt_number": 29
    },
    {
     "cell_type": "code",
     "collapsed": false,
     "input": [
      "dt[dt$y == 'a', ]"
     ],
     "language": "python",
     "metadata": {},
     "outputs": [
      {
       "metadata": {},
       "output_type": "pyout",
       "prompt_number": 30,
       "text": [
        "            x y          z\n",
        "1: -0.4636571 a -0.1468292\n",
        "2:  1.2206981 a  0.7002250\n",
        "3:  0.4833383 a  1.6642703"
       ]
      }
     ],
     "prompt_number": 30
    },
    {
     "cell_type": "code",
     "collapsed": false,
     "input": [
      "# subsetting with only one index, it subsets by rows\n",
      "\n",
      "dt[c(2, 3)] # getting the 2nd and 3rd element gets us the 2nd and 3rd row"
     ],
     "language": "python",
     "metadata": {},
     "outputs": [
      {
       "metadata": {},
       "output_type": "pyout",
       "prompt_number": 31,
       "text": [
        "           x y        z\n",
        "1: 1.2206981 a 0.700225\n",
        "2: 0.4833383 a 1.664270"
       ]
      }
     ],
     "prompt_number": 31
    },
    {
     "cell_type": "heading",
     "level": 3,
     "metadata": {},
     "source": [
      "Subsetting columns!?"
     ]
    },
    {
     "cell_type": "code",
     "collapsed": false,
     "input": [
      "dt[, c(2, 3)]"
     ],
     "language": "python",
     "metadata": {},
     "outputs": [
      {
       "metadata": {},
       "output_type": "pyout",
       "prompt_number": 32,
       "text": [
        "[1] 2 3"
       ]
      }
     ],
     "prompt_number": 32
    },
    {
     "cell_type": "code",
     "collapsed": true,
     "input": [
      "df"
     ],
     "language": "python",
     "metadata": {},
     "outputs": [
      {
       "metadata": {},
       "output_type": "pyout",
       "prompt_number": 33,
       "text": [
        "             x y           z\n",
        "1  2.882078457 a -0.62383942\n",
        "2 -0.483355001 a -0.73907690\n",
        "3 -2.337319853 a -0.74014465\n",
        "4  0.007447045 b  0.61805804\n",
        "5  2.528046832 b  0.05954925\n",
        "6 -0.467770272 b -1.79303185\n",
        "7  0.274749082 c -2.46107996\n",
        "8  0.917928259 c  0.15356871\n",
        "9  0.578027913 c -0.27912018"
       ]
      }
     ],
     "prompt_number": 33
    },
    {
     "cell_type": "code",
     "collapsed": false,
     "input": [
      "df[, c(2, 3)]"
     ],
     "language": "python",
     "metadata": {},
     "outputs": [
      {
       "metadata": {},
       "output_type": "pyout",
       "prompt_number": 34,
       "text": [
        "  y           z\n",
        "1 a -0.62383942\n",
        "2 a -0.73907690\n",
        "3 a -0.74014465\n",
        "4 b  0.61805804\n",
        "5 b  0.05954925\n",
        "6 b -1.79303185\n",
        "7 c -2.46107996\n",
        "8 c  0.15356871\n",
        "9 c -0.27912018"
       ]
      }
     ],
     "prompt_number": 34
    },
    {
     "cell_type": "heading",
     "level": 3,
     "metadata": {},
     "source": [
      "Column subsetting in `data.table`"
     ]
    },
    {
     "cell_type": "markdown",
     "metadata": {},
     "source": [
      "* the subsetting function is modified for `data.table`\n",
      "* the argument you pass after the comma is called an **expression**\n",
      "  * are expressions similar to \n",
      "    * **anonymous functions** (in javascript), in the fact that they are anonymous?\n",
      "    * **procs** or **lambdas** in ruby, in the the fact that they are anonymous _and_ they implicitly return what's evaluated in the last statement?\n",
      "* in R, an expression is a collection of statements enclosed in curly brackets"
     ]
    },
    {
     "cell_type": "code",
     "collapsed": false,
     "input": [
      "{\n",
      "  x = 1\n",
      "  y = 2\n",
      "}\n",
      "\n",
      "k = { print(10); 5 }"
     ],
     "language": "python",
     "metadata": {},
     "outputs": [
      {
       "output_type": "stream",
       "stream": "stdout",
       "text": [
        "[1] 10\n"
       ]
      }
     ],
     "prompt_number": 35
    },
    {
     "cell_type": "code",
     "collapsed": false,
     "input": [
      "print(k)"
     ],
     "language": "python",
     "metadata": {},
     "outputs": [
      {
       "output_type": "stream",
       "stream": "stdout",
       "text": [
        "[1] 5\n"
       ]
      }
     ],
     "prompt_number": 36
    },
    {
     "cell_type": "markdown",
     "metadata": {},
     "source": [
      "* later, we'll use expressions to summarize data sets"
     ]
    },
    {
     "cell_type": "heading",
     "level": 3,
     "metadata": {},
     "source": [
      "Summarizing data: calculate values for variables with expressions"
     ]
    },
    {
     "cell_type": "markdown",
     "metadata": {},
     "source": [
      "* A list as the 2nd argument \n",
      "  * perform those functions & return the values"
     ]
    },
    {
     "cell_type": "code",
     "collapsed": false,
     "input": [
      "# instead of an index, you can pass a list of functions \n",
      "# that you want to perform, where the functions are applied to \n",
      "# variables named by columns\n",
      "\n",
      "dt[, list(mean(x), sum(z))]"
     ],
     "language": "python",
     "metadata": {},
     "outputs": [
      {
       "metadata": {},
       "output_type": "pyout",
       "prompt_number": 46,
       "text": [
        "          V1         V2\n",
        "1: 0.4283283 -0.5666147"
       ]
      }
     ],
     "prompt_number": 46
    },
    {
     "cell_type": "code",
     "collapsed": false,
     "input": [
      "# pretty much any function can be performed that way\n",
      "\n",
      "dt[, table(y)]"
     ],
     "language": "python",
     "metadata": {},
     "outputs": [
      {
       "metadata": {},
       "output_type": "pyout",
       "prompt_number": 47,
       "text": [
        "y\n",
        "a b c \n",
        "3 3 3 "
       ]
      }
     ],
     "prompt_number": 47
    },
    {
     "cell_type": "heading",
     "level": 3,
     "metadata": {},
     "source": [
      "Adding new columns"
     ]
    },
    {
     "cell_type": "markdown",
     "metadata": {},
     "source": [
      "* `:=`\n",
      "* very fast\n",
      "* memory efficient\n",
      "  * \\+ doesn't copy the data.table, but alters in memory\n",
      "* when adding a new variable to a `data.frame`\n",
      "  * \\- R will copy the entire `data.frame` and add the new variable to it.\n",
      "    * this results in having 2 copies of the `data.frame` in memory \u2014 big data sets!!!"
     ]
    },
    {
     "cell_type": "code",
     "collapsed": false,
     "input": [
      "dt[, w := z^2]"
     ],
     "language": "python",
     "metadata": {},
     "outputs": [
      {
       "metadata": {},
       "output_type": "pyout",
       "prompt_number": 4,
       "text": [
        "             x y          z          w\n",
        "1: -2.27872699 a  0.4473685 0.20013858\n",
        "2:  0.15192526 a  1.2863841 1.65478394\n",
        "3:  1.80796661 a  0.1639194 0.02686958\n",
        "4: -0.42060353 b -1.0729186 1.15115434\n",
        "5:  0.23608970 b  1.1538239 1.33130964\n",
        "6: -0.02567535 b  1.0429627 1.08777110\n",
        "7:  2.25954607 c -0.6909442 0.47740389\n",
        "8: -0.44152010 c -0.1954731 0.03820973\n",
        "9: -0.10990141 c -1.3180652 1.73729590"
       ]
      }
     ],
     "prompt_number": 4
    },
    {
     "cell_type": "heading",
     "level": 3,
     "metadata": {},
     "source": [
      "`data.table`s are copied by reference, not by value"
     ]
    },
    {
     "cell_type": "code",
     "collapsed": false,
     "input": [
      "dt2 <- dt\n",
      "\n",
      "dt"
     ],
     "language": "python",
     "metadata": {},
     "outputs": [
      {
       "metadata": {},
       "output_type": "pyout",
       "prompt_number": 5,
       "text": [
        "             x y          z          w\n",
        "1: -2.27872699 a  0.4473685 0.20013858\n",
        "2:  0.15192526 a  1.2863841 1.65478394\n",
        "3:  1.80796661 a  0.1639194 0.02686958\n",
        "4: -0.42060353 b -1.0729186 1.15115434\n",
        "5:  0.23608970 b  1.1538239 1.33130964\n",
        "6: -0.02567535 b  1.0429627 1.08777110\n",
        "7:  2.25954607 c -0.6909442 0.47740389\n",
        "8: -0.44152010 c -0.1954731 0.03820973\n",
        "9: -0.10990141 c -1.3180652 1.73729590"
       ]
      }
     ],
     "prompt_number": 5
    },
    {
     "cell_type": "code",
     "collapsed": false,
     "input": [
      "dt[, y := 2]"
     ],
     "language": "python",
     "metadata": {},
     "outputs": [
      {
       "output_type": "stream",
       "stream": "stderr",
       "text": [
        "Warning message:\n",
        "In `[.data.table`(dt, , `:=`(y, 2)): Coerced 'double' RHS to 'character' to match the column's type; may have truncated precision. Either change the target column to 'double' first (by creating a new 'double' vector length 9 (nrows of entire table) and assign that; i.e. 'replace' column), or coerce RHS to 'character' (e.g. 1L, NA_[real|integer]_, as.*, etc) to make your intent clear and for speed. Or, set the column type correctly up front when you create the table and stick to it, please."
       ]
      },
      {
       "metadata": {},
       "output_type": "pyout",
       "prompt_number": 6,
       "text": [
        "             x y          z          w\n",
        "1: -2.27872699 2  0.4473685 0.20013858\n",
        "2:  0.15192526 2  1.2863841 1.65478394\n",
        "3:  1.80796661 2  0.1639194 0.02686958\n",
        "4: -0.42060353 2 -1.0729186 1.15115434\n",
        "5:  0.23608970 2  1.1538239 1.33130964\n",
        "6: -0.02567535 2  1.0429627 1.08777110\n",
        "7:  2.25954607 2 -0.6909442 0.47740389\n",
        "8: -0.44152010 2 -0.1954731 0.03820973\n",
        "9: -0.10990141 2 -1.3180652 1.73729590"
       ]
      }
     ],
     "prompt_number": 6
    },
    {
     "cell_type": "code",
     "collapsed": false,
     "input": [
      "head(dt, n = 3)"
     ],
     "language": "python",
     "metadata": {},
     "outputs": [
      {
       "metadata": {},
       "output_type": "pyout",
       "prompt_number": 7,
       "text": [
        "            x y         z          w\n",
        "1: -2.2787270 2 0.4473685 0.20013858\n",
        "2:  0.1519253 2 1.2863841 1.65478394\n",
        "3:  1.8079666 2 0.1639194 0.02686958"
       ]
      }
     ],
     "prompt_number": 7
    },
    {
     "cell_type": "markdown",
     "metadata": {},
     "source": [
      "* use **`copy()`** if this is not the wanted behaviour."
     ]
    },
    {
     "cell_type": "heading",
     "level": 3,
     "metadata": {},
     "source": [
      "Multiple operations"
     ]
    },
    {
     "cell_type": "code",
     "collapsed": false,
     "input": [
      "dt[, m := { tmp <- (x + z); log2(tmp + 5) }]"
     ],
     "language": "python",
     "metadata": {},
     "outputs": [
      {
       "metadata": {},
       "output_type": "pyout",
       "prompt_number": 8,
       "text": [
        "             x y          z          w        m\n",
        "1: -2.27872699 2  0.4473685 0.20013858 1.663864\n",
        "2:  0.15192526 2  1.2863841 1.65478394 2.686682\n",
        "3:  1.80796661 2  0.1639194 0.02686958 2.801549\n",
        "4: -0.42060353 2 -1.0729186 1.15115434 1.810023\n",
        "5:  0.23608970 2  1.1538239 1.33130964 2.675796\n",
        "6: -0.02567535 2  1.0429627 1.08777110 2.589113\n",
        "7:  2.25954607 2 -0.6909442 0.47740389 2.715586\n",
        "8: -0.44152010 2 -0.1954731 0.03820973 2.125323\n",
        "9: -0.10990141 2 -1.3180652 1.73729590 1.836746"
       ]
      }
     ],
     "prompt_number": 8
    },
    {
     "cell_type": "heading",
     "level": 3,
     "metadata": {},
     "source": [
      "`plyr`-like operations"
     ]
    },
    {
     "cell_type": "code",
     "collapsed": false,
     "input": [
      "dt[, a := x > 0]"
     ],
     "language": "python",
     "metadata": {},
     "outputs": [
      {
       "metadata": {},
       "output_type": "pyout",
       "prompt_number": 9,
       "text": [
        "             x y          z          w        m     a\n",
        "1: -2.27872699 2  0.4473685 0.20013858 1.663864 FALSE\n",
        "2:  0.15192526 2  1.2863841 1.65478394 2.686682  TRUE\n",
        "3:  1.80796661 2  0.1639194 0.02686958 2.801549  TRUE\n",
        "4: -0.42060353 2 -1.0729186 1.15115434 1.810023 FALSE\n",
        "5:  0.23608970 2  1.1538239 1.33130964 2.675796  TRUE\n",
        "6: -0.02567535 2  1.0429627 1.08777110 2.589113 FALSE\n",
        "7:  2.25954607 2 -0.6909442 0.47740389 2.715586  TRUE\n",
        "8: -0.44152010 2 -0.1954731 0.03820973 2.125323 FALSE\n",
        "9: -0.10990141 2 -1.3180652 1.73729590 1.836746 FALSE"
       ]
      }
     ],
     "prompt_number": 9
    },
    {
     "cell_type": "heading",
     "level": 4,
     "metadata": {},
     "source": [
      "Summarize another variable grouped by specific cases"
     ]
    },
    {
     "cell_type": "markdown",
     "metadata": {},
     "source": [
      "* create a new variable holding the aggregated mean, aggregated over the variable that you use `by` for:\n",
      "  * take the mean of `x+w` when `a=TRUE` and place it in all rows where `a=TRUE`\n",
      "  * then take the mean of `x+w` when `a=FALSE` and place that mean in all rows where `a=FALSE`"
     ]
    },
    {
     "cell_type": "code",
     "collapsed": false,
     "input": [
      "dt[, b := mean(x + w), by = a]"
     ],
     "language": "python",
     "metadata": {},
     "outputs": [
      {
       "metadata": {},
       "output_type": "pyout",
       "prompt_number": 10,
       "text": [
        "             x y          z          w        m     a         b\n",
        "1: -2.27872699 2  0.4473685 0.20013858 1.663864 FALSE 0.1876285\n",
        "2:  0.15192526 2  1.2863841 1.65478394 2.686682  TRUE 1.9864737\n",
        "3:  1.80796661 2  0.1639194 0.02686958 2.801549  TRUE 1.9864737\n",
        "4: -0.42060353 2 -1.0729186 1.15115434 1.810023 FALSE 0.1876285\n",
        "5:  0.23608970 2  1.1538239 1.33130964 2.675796  TRUE 1.9864737\n",
        "6: -0.02567535 2  1.0429627 1.08777110 2.589113 FALSE 0.1876285\n",
        "7:  2.25954607 2 -0.6909442 0.47740389 2.715586  TRUE 1.9864737\n",
        "8: -0.44152010 2 -0.1954731 0.03820973 2.125323 FALSE 0.1876285\n",
        "9: -0.10990141 2 -1.3180652 1.73729590 1.836746 FALSE 0.1876285"
       ]
      }
     ],
     "prompt_number": 10
    },
    {
     "cell_type": "heading",
     "level": 3,
     "metadata": {},
     "source": [
      "Special, really fast, variables"
     ]
    },
    {
     "cell_type": "heading",
     "level": 4,
     "metadata": {},
     "source": [
      "`.N` \u2014 counter of occurences"
     ]
    },
    {
     "cell_type": "markdown",
     "metadata": {},
     "source": [
      "* integer\n",
      "* length 1\n",
      "* contains the number of times that a particular group appears\n",
      "* a lot faster than counting the size of a `dt$x` table"
     ]
    },
    {
     "cell_type": "code",
     "collapsed": false,
     "input": [
      "set.seed(123)\n",
      "dt <- data.table(x = sample(letters[1:3], 1E5, TRUE))\n",
      "\n",
      "# count the number of times all of these numbers appear\n",
      "dt[, .N, by = x]"
     ],
     "language": "python",
     "metadata": {},
     "outputs": [
      {
       "metadata": {},
       "output_type": "pyout",
       "prompt_number": 12,
       "text": [
        "   x     N\n",
        "1: a 33387\n",
        "2: c 33201\n",
        "3: b 33412"
       ]
      }
     ],
     "prompt_number": 12
    },
    {
     "cell_type": "heading",
     "level": 3,
     "metadata": {},
     "source": [
      "Keys: `setkey()`"
     ]
    },
    {
     "cell_type": "markdown",
     "metadata": {},
     "source": [
      "Having keys set, increased speed for:\n",
      "* subset \n",
      "* sort a `data.table`."
     ]
    },
    {
     "cell_type": "code",
     "collapsed": true,
     "input": [
      "dt <- data.table(x = rep(c('a', 'b', 'c'), each = 100), y = rnorm(300))\n",
      "\n",
      "setkey(dt, x)\n",
      "\n",
      "dt['a']"
     ],
     "language": "python",
     "metadata": {},
     "outputs": [
      {
       "metadata": {},
       "output_type": "pyout",
       "prompt_number": 13,
       "text": [
        "     x           y\n",
        "  1: a  0.25958973\n",
        "  2: a  0.91751072\n",
        "  3: a -0.72231834\n",
        "  4: a -0.80828402\n",
        "  5: a -0.14135202\n",
        "  6: a  2.25701345\n",
        "  7: a -2.37955015\n",
        "  8: a -0.45425393\n",
        "  9: a -0.06007418\n",
        " 10: a  0.86090061\n",
        " 11: a -1.78466393\n",
        " 12: a -0.13074225\n",
        " 13: a -0.36983749\n",
        " 14: a -0.18065990\n",
        " 15: a -1.04973030\n",
        " 16: a  0.37831550\n",
        " 17: a -1.37079353\n",
        " 18: a -0.31611578\n",
        " 19: a  0.39435003\n",
        " 20: a -1.68987831\n",
        " 21: a -1.46233527\n",
        " 22: a  2.55837664\n",
        " 23: a  0.08788697\n",
        " 24: a  1.73141492\n",
        " 25: a  1.21512638\n",
        " 26: a  0.29954390\n",
        " 27: a -0.17245754\n",
        " 28: a  1.13249663\n",
        " 29: a  0.02319828\n",
        " 30: a  1.33587399\n",
        " 31: a -1.09879007\n",
        " 32: a -0.58176064\n",
        " 33: a  0.03892452\n",
        " 34: a  1.07315441\n",
        " 35: a  1.34969593\n",
        " 36: a  1.19527937\n",
        " 37: a -0.02217912\n",
        " 38: a  0.69849448\n",
        " 39: a  0.67240626\n",
        " 40: a -0.79164585\n",
        " 41: a -0.21790545\n",
        " 42: a  0.02307037\n",
        " 43: a  0.11539395\n",
        " 44: a -0.27708029\n",
        " 45: a  0.03688377\n",
        " 46: a  0.47520014\n",
        " 47: a  1.70748924\n",
        " 48: a  1.07600560\n",
        " 49: a -1.34571320\n",
        " 50: a -1.44024891\n",
        " 51: a -0.39392783\n",
        " 52: a  0.58106297\n",
        " 53: a -0.17078819\n",
        " 54: a -0.90585446\n",
        " 55: a  0.15621346\n",
        " 56: a -0.37322530\n",
        " 57: a -0.34587104\n",
        " 58: a -0.35828720\n",
        " 59: a -0.13306601\n",
        " 60: a -0.08959642\n",
        " 61: a  0.62793032\n",
        " 62: a -1.42882873\n",
        " 63: a  0.17255399\n",
        " 64: a -0.79115025\n",
        " 65: a  1.26204078\n",
        " 66: a -0.26940548\n",
        " 67: a  0.15698296\n",
        " 68: a -0.76059823\n",
        " 69: a  1.37060069\n",
        " 70: a  0.03758155\n",
        " 71: a  0.44949417\n",
        " 72: a  2.78868764\n",
        " 73: a -0.46848614\n",
        " 74: a  1.01260608\n",
        " 75: a -0.04374086\n",
        " 76: a  1.40669725\n",
        " 77: a  0.41992874\n",
        " 78: a  0.31008615\n",
        " 79: a  1.11904687\n",
        " 80: a -1.29814018\n",
        " 81: a -1.28248182\n",
        " 82: a  1.65942788\n",
        " 83: a  0.78374544\n",
        " 84: a  0.57771022\n",
        " 85: a -0.26724640\n",
        " 86: a -0.64569141\n",
        " 87: a -0.44952912\n",
        " 88: a -0.82619821\n",
        " 89: a  1.05503854\n",
        " 90: a -0.87926983\n",
        " 91: a -1.27712832\n",
        " 92: a -0.63412243\n",
        " 93: a  0.66470047\n",
        " 94: a -0.50958183\n",
        " 95: a  0.40736335\n",
        " 96: a  1.67774776\n",
        " 97: a -1.05205570\n",
        " 98: a -0.63690737\n",
        " 99: a  0.56539163\n",
        "100: a  0.38015779\n",
        "     x           y"
       ]
      }
     ],
     "prompt_number": 13
    },
    {
     "cell_type": "heading",
     "level": 3,
     "metadata": {},
     "source": [
      "Joins: `merge()`"
     ]
    },
    {
     "cell_type": "markdown",
     "metadata": {},
     "source": [
      "* inner join?\n",
      "* quite a bit faster compared to merging `data.frame`s\n",
      "* needs the same key for both `data.tables`"
     ]
    },
    {
     "cell_type": "code",
     "collapsed": false,
     "input": [
      "dt1 <- data.table(x = c('a', 'a', 'b', 'dt1'), y = 1:4)\n",
      "dt2 <- data.table(x = c('a', 'b', 'dt2'), z = 5:7)\n",
      "\n",
      "dt1"
     ],
     "language": "python",
     "metadata": {},
     "outputs": [
      {
       "metadata": {},
       "output_type": "pyout",
       "prompt_number": 15,
       "text": [
        "     x y\n",
        "1:   a 1\n",
        "2:   a 2\n",
        "3:   b 3\n",
        "4: dt1 4"
       ]
      }
     ],
     "prompt_number": 15
    },
    {
     "cell_type": "code",
     "collapsed": false,
     "input": [
      "dt2"
     ],
     "language": "python",
     "metadata": {},
     "outputs": [
      {
       "metadata": {},
       "output_type": "pyout",
       "prompt_number": 16,
       "text": [
        "     x z\n",
        "1:   a 5\n",
        "2:   b 6\n",
        "3: dt2 7"
       ]
      }
     ],
     "prompt_number": 16
    },
    {
     "cell_type": "code",
     "collapsed": false,
     "input": [
      "setkey(dt1, x); setkey(dt2, x)"
     ],
     "language": "python",
     "metadata": {},
     "outputs": [],
     "prompt_number": 17
    },
    {
     "cell_type": "code",
     "collapsed": false,
     "input": [
      "merge(dt1, dt2)"
     ],
     "language": "python",
     "metadata": {},
     "outputs": [
      {
       "metadata": {},
       "output_type": "pyout",
       "prompt_number": 19,
       "text": [
        "   x y z\n",
        "1: a 1 5\n",
        "2: a 2 5\n",
        "3: b 3 6"
       ]
      }
     ],
     "prompt_number": 19
    },
    {
     "cell_type": "heading",
     "level": 3,
     "metadata": {},
     "source": [
      "Fast reading: `fread()`"
     ]
    },
    {
     "cell_type": "code",
     "collapsed": false,
     "input": [
      "bigDf <- data.frame(x = rnorm(1E6), y = rnorm(1E6))\n",
      "file <- tempfile()\n",
      "\n",
      "write.table(\n",
      "  bigDf,\n",
      "  file = file,\n",
      "  row.names = FALSE,\n",
      "  col.names = FALSE,\n",
      "  sep = \"\\t\",\n",
      "  quote = FALSE\n",
      ")"
     ],
     "language": "python",
     "metadata": {},
     "outputs": [],
     "prompt_number": 20
    },
    {
     "cell_type": "code",
     "collapsed": false,
     "input": [
      "system.time(fread(file))"
     ],
     "language": "python",
     "metadata": {},
     "outputs": [
      {
       "metadata": {},
       "output_type": "pyout",
       "prompt_number": 21,
       "text": [
        "   user  system elapsed \n",
        "  0.635   0.083   0.718 "
       ]
      }
     ],
     "prompt_number": 21
    },
    {
     "cell_type": "code",
     "collapsed": false,
     "input": [
      "system.time(read.table(file, header = TRUE, sep = \"\\t\"))"
     ],
     "language": "python",
     "metadata": {},
     "outputs": [
      {
       "metadata": {},
       "output_type": "pyout",
       "prompt_number": 22,
       "text": [
        "   user  system elapsed \n",
        " 13.134   1.475  14.619 "
       ]
      }
     ],
     "prompt_number": 22
    },
    {
     "cell_type": "heading",
     "level": 3,
     "metadata": {},
     "source": [
      "Further reading"
     ]
    },
    {
     "cell_type": "markdown",
     "metadata": {},
     "source": [
      "* [data.table: Extension of data.frame](http://cran.r-project.org/web/packages/data.table/index.html)\n",
      "\n",
      "> Fast aggregation of large data (e.g. 100GB in RAM), fast ordered joins, fast add/modify/delete of columns by group using no copies at all, list columns and a fast file reader (fread). Offers a natural and flexible syntax, for faster development. \n",
      "\n",
      "* [Rdatatable/data.table](https://github.com/Rdatatable/data.table)\n",
      "* [What you can do with `data.frame` that you can't in `data.table`?](http://stackoverflow.com/q/13618488/341929)\n",
      "* [Advanced Data Manipulation](https://github.com/raphg/Biostat-578/blob/master/Advanced_data_manipulation.Rpres) by Raphael Gottardo "
     ]
    },
    {
     "cell_type": "markdown",
     "metadata": {},
     "source": [
      "---"
     ]
    },
    {
     "cell_type": "markdown",
     "metadata": {},
     "source": [
      "Quick jump to:\n",
      "* [Week #1](#Week-#1)\n",
      "* [Week #2](#Week-#2)\n",
      "* [Week #3](#Week-#3)\n",
      "* [Week #4](#Week-#4)"
     ]
    },
    {
     "cell_type": "heading",
     "level": 1,
     "metadata": {},
     "source": [
      "Week #2"
     ]
    },
    {
     "cell_type": "markdown",
     "metadata": {},
     "source": [
      "> The primary goal is to introduce you to the most common data storage systems and the appropriate tools to extract data from web or from databases like MySQL. "
     ]
    },
    {
     "cell_type": "heading",
     "level": 2,
     "metadata": {},
     "source": [
      "Reading Data from MySQL"
     ]
    },
    {
     "cell_type": "code",
     "collapsed": false,
     "input": [
      "install.packages('RMySQL')"
     ],
     "language": "python",
     "metadata": {},
     "outputs": [
      {
       "output_type": "stream",
       "stream": "stderr",
       "text": [
        "Installing package into \u2018/home/vagrant/R/x86_64-pc-linux-gnu-library/3.1\u2019\n",
        "(as \u2018lib\u2019 is unspecified)\n"
       ]
      },
      {
       "output_type": "stream",
       "stream": "stdout",
       "text": [
        "\n",
        "The downloaded source packages are in\n",
        "\t\u2018/tmp/RtmpAwIJ7p/downloaded_packages\u2019\n"
       ]
      }
     ],
     "prompt_number": 1
    },
    {
     "cell_type": "markdown",
     "metadata": {},
     "source": [
      "> UCSC Genome Bioinformatics \u00bb [Downloading Data using MySQL](https://genome.ucsc.edu/goldenPath/help/mysql.html)\n",
      "\n",
      "> Connect to the MySQL server using the command:\n",
      "```\n",
      "mysql --user=genome --host=genome-mysql.cse.ucsc.edu -A\n",
      "```"
     ]
    },
    {
     "cell_type": "code",
     "collapsed": false,
     "input": [
      "library(RMySQL)"
     ],
     "language": "python",
     "metadata": {},
     "outputs": [
      {
       "output_type": "stream",
       "stream": "stderr",
       "text": [
        "Loading required package: DBI\n"
       ]
      }
     ],
     "prompt_number": 2
    },
    {
     "cell_type": "heading",
     "level": 3,
     "metadata": {},
     "source": [
      "Connecting and listing DBs \u2014 `dbConnect()` and `dbGetQuery()`"
     ]
    },
    {
     "cell_type": "code",
     "collapsed": false,
     "input": [
      "# create connection handle\n",
      "ucscDb <- dbConnect(\n",
      "    MySQL(),\n",
      "    host = 'genome-mysql.cse.ucsc.edu',\n",
      "    user = 'genome'\n",
      ")\n",
      "\n",
      "# run the MySQL query\n",
      "result <- dbGetQuery(ucscDb, 'SHOW DATABASES;')\n",
      "\n",
      "# disconnect from the MySQL server\n",
      "dbDisconnect(ucscDb)"
     ],
     "language": "python",
     "metadata": {},
     "outputs": [
      {
       "metadata": {},
       "output_type": "pyout",
       "prompt_number": 3,
       "text": [
        "[1] TRUE"
       ]
      }
     ],
     "prompt_number": 3
    },
    {
     "cell_type": "code",
     "collapsed": true,
     "input": [
      "result"
     ],
     "language": "python",
     "metadata": {},
     "outputs": [
      {
       "metadata": {},
       "output_type": "pyout",
       "prompt_number": 4,
       "text": [
        "              Database\n",
        "1   information_schema\n",
        "2              ailMel1\n",
        "3              allMis1\n",
        "4              anoCar1\n",
        "5              anoCar2\n",
        "6              anoGam1\n",
        "7              apiMel1\n",
        "8              apiMel2\n",
        "9              aplCal1\n",
        "10             balAcu1\n",
        "11             bosTau2\n",
        "12             bosTau3\n",
        "13             bosTau4\n",
        "14             bosTau5\n",
        "15             bosTau6\n",
        "16             bosTau7\n",
        "17           bosTauMd3\n",
        "18             braFlo1\n",
        "19             caeJap1\n",
        "20              caePb1\n",
        "21              caePb2\n",
        "22             caeRem2\n",
        "23             caeRem3\n",
        "24             calJac1\n",
        "25             calJac3\n",
        "26             calMil1\n",
        "27             canFam1\n",
        "28             canFam2\n",
        "29             canFam3\n",
        "30             cavPor3\n",
        "31                 cb1\n",
        "32                 cb3\n",
        "33                ce10\n",
        "34                 ce2\n",
        "35                 ce4\n",
        "36                 ce6\n",
        "37             cerSim1\n",
        "38             choHof1\n",
        "39             chrPic1\n",
        "40                 ci1\n",
        "41                 ci2\n",
        "42             criGri1\n",
        "43             danRer1\n",
        "44             danRer2\n",
        "45             danRer3\n",
        "46             danRer4\n",
        "47             danRer5\n",
        "48             danRer6\n",
        "49             danRer7\n",
        "50             dasNov3\n",
        "51             dipOrd1\n",
        "52                 dm1\n",
        "53                 dm2\n",
        "54                 dm3\n",
        "55                 dp2\n",
        "56                 dp3\n",
        "57             droAna1\n",
        "58             droAna2\n",
        "59             droEre1\n",
        "60             droGri1\n",
        "61             droMoj1\n",
        "62             droMoj2\n",
        "63             droPer1\n",
        "64             droSec1\n",
        "65             droSim1\n",
        "66             droVir1\n",
        "67             droVir2\n",
        "68             droYak1\n",
        "69             droYak2\n",
        "70             eboVir3\n",
        "71             echTel1\n",
        "72             echTel2\n",
        "73             equCab1\n",
        "74             equCab2\n",
        "75             eriEur1\n",
        "76             eriEur2\n",
        "77             felCat3\n",
        "78             felCat4\n",
        "79             felCat5\n",
        "80                 fr1\n",
        "81                 fr2\n",
        "82                 fr3\n",
        "83             gadMor1\n",
        "84             galGal2\n",
        "85             galGal3\n",
        "86             galGal4\n",
        "87             gasAcu1\n",
        "88             geoFor1\n",
        "89                  go\n",
        "90            go080130\n",
        "91            go140213\n",
        "92             gorGor3\n",
        "93             hetGla1\n",
        "94             hetGla2\n",
        "95                hg16\n",
        "96                hg17\n",
        "97                hg18\n",
        "98                hg19\n",
        "99         hg19Patch10\n",
        "100         hg19Patch2\n",
        "101         hg19Patch5\n",
        "102         hg19Patch9\n",
        "103               hg38\n",
        "104            hgFixed\n",
        "105             hgTemp\n",
        "106          hgcentral\n",
        "107            latCha1\n",
        "108            loxAfr3\n",
        "109            macEug1\n",
        "110            macEug2\n",
        "111            melGal1\n",
        "112            melUnd1\n",
        "113            micMur1\n",
        "114               mm10\n",
        "115         mm10Patch1\n",
        "116                mm5\n",
        "117                mm6\n",
        "118                mm7\n",
        "119                mm8\n",
        "120                mm9\n",
        "121            monDom1\n",
        "122            monDom4\n",
        "123            monDom5\n",
        "124            musFur1\n",
        "125            myoLuc2\n",
        "126            nomLeu1\n",
        "127            nomLeu2\n",
        "128            nomLeu3\n",
        "129            ochPri2\n",
        "130            ochPri3\n",
        "131            oreNil1\n",
        "132            oreNil2\n",
        "133            ornAna1\n",
        "134            oryCun2\n",
        "135            oryLat2\n",
        "136            otoGar3\n",
        "137            oviAri1\n",
        "138            oviAri3\n",
        "139            panTro1\n",
        "140            panTro2\n",
        "141            panTro3\n",
        "142            panTro4\n",
        "143            papAnu2\n",
        "144            papHam1\n",
        "145 performance_schema\n",
        "146            petMar1\n",
        "147            petMar2\n",
        "148            ponAbe2\n",
        "149            priPac1\n",
        "150            proCap1\n",
        "151     proteins120806\n",
        "152     proteins121210\n",
        "153     proteins140122\n",
        "154           proteome\n",
        "155            pteVam1\n",
        "156            rheMac1\n",
        "157            rheMac2\n",
        "158            rheMac3\n",
        "159                rn3\n",
        "160                rn4\n",
        "161                rn5\n",
        "162                rn6\n",
        "163            sacCer1\n",
        "164            sacCer2\n",
        "165            sacCer3\n",
        "166            saiBol1\n",
        "167            sarHar1\n",
        "168            sorAra1\n",
        "169            sorAra2\n",
        "170           sp120323\n",
        "171           sp121210\n",
        "172           sp140122\n",
        "173            speTri2\n",
        "174            strPur1\n",
        "175            strPur2\n",
        "176            susScr2\n",
        "177            susScr3\n",
        "178            taeGut1\n",
        "179            taeGut2\n",
        "180            tarSyr1\n",
        "181               test\n",
        "182            tetNig1\n",
        "183            tetNig2\n",
        "184            triMan1\n",
        "185            tupBel1\n",
        "186            turTru2\n",
        "187            uniProt\n",
        "188            vicPac1\n",
        "189            vicPac2\n",
        "190           visiGene\n",
        "191            xenTro1\n",
        "192            xenTro2\n",
        "193            xenTro3"
       ]
      }
     ],
     "prompt_number": 4
    },
    {
     "cell_type": "heading",
     "level": 3,
     "metadata": {},
     "source": [
      "Connecting to `hg19` and listing tables \u2014 `dbListTables()` "
     ]
    },
    {
     "cell_type": "code",
     "collapsed": false,
     "input": [
      "# Connect to the hg19 DB\n",
      "hg19 <- dbConnect(\n",
      "    MySQL(),\n",
      "    host = 'genome-mysql.cse.ucsc.edu',\n",
      "    user = 'genome',\n",
      "    db = 'hg19'\n",
      ")\n",
      "\n",
      "allTables <- dbListTables(hg19)\n",
      "length(allTables)"
     ],
     "language": "python",
     "metadata": {},
     "outputs": [
      {
       "metadata": {},
       "output_type": "pyout",
       "prompt_number": 5,
       "text": [
        "[1] 11015"
       ]
      }
     ],
     "prompt_number": 5
    },
    {
     "cell_type": "code",
     "collapsed": false,
     "input": [
      "allTables[1:5]"
     ],
     "language": "python",
     "metadata": {},
     "outputs": [
      {
       "metadata": {},
       "output_type": "pyout",
       "prompt_number": 6,
       "text": [
        "[1] \"HInv\"         \"HInvGeneMrna\" \"acembly\"      \"acemblyClass\" \"acemblyPep\"  "
       ]
      }
     ],
     "prompt_number": 6
    },
    {
     "cell_type": "heading",
     "level": 3,
     "metadata": {},
     "source": [
      "Get dimensions of specific table \u2014 `dbListFields()`"
     ]
    },
    {
     "cell_type": "code",
     "collapsed": false,
     "input": [
      "# which are the attributes (columns) available to us?\n",
      "dbListFields(hg19, 'affyU133Plus2')"
     ],
     "language": "python",
     "metadata": {},
     "outputs": [
      {
       "metadata": {},
       "output_type": "pyout",
       "prompt_number": 7,
       "text": [
        " [1] \"bin\"         \"matches\"     \"misMatches\"  \"repMatches\"  \"nCount\"     \n",
        " [6] \"qNumInsert\"  \"qBaseInsert\" \"tNumInsert\"  \"tBaseInsert\" \"strand\"     \n",
        "[11] \"qName\"       \"qSize\"       \"qStart\"      \"qEnd\"        \"tName\"      \n",
        "[16] \"tSize\"       \"tStart\"      \"tEnd\"        \"blockCount\"  \"blockSizes\" \n",
        "[21] \"qStarts\"     \"tStarts\"    "
       ]
      }
     ],
     "prompt_number": 7
    },
    {
     "cell_type": "code",
     "collapsed": false,
     "input": [
      "# how many observations (records) to we have in our table?\n",
      "dbGetQuery(hg19, 'SELECT COUNT(*) FROM affyU133Plus2')"
     ],
     "language": "python",
     "metadata": {},
     "outputs": [
      {
       "metadata": {},
       "output_type": "pyout",
       "prompt_number": 8,
       "text": [
        "  COUNT(*)\n",
        "1    58463"
       ]
      }
     ],
     "prompt_number": 8
    },
    {
     "cell_type": "heading",
     "level": 3,
     "metadata": {},
     "source": [
      "Read from the table \u2014 `dbReadTable()`"
     ]
    },
    {
     "cell_type": "code",
     "collapsed": true,
     "input": [
      "affyData <- dbReadTable(hg19, 'affyU133Plus2')\n",
      "\n",
      "head(affyData)"
     ],
     "language": "python",
     "metadata": {},
     "outputs": [
      {
       "metadata": {},
       "output_type": "pyout",
       "prompt_number": 9,
       "text": [
        "  bin matches misMatches repMatches nCount qNumInsert qBaseInsert tNumInsert\n",
        "1 585     530          4          0     23          3          41          3\n",
        "2 585    3355         17          0    109          9          67          9\n",
        "3 585    4156         14          0     83         16          18          2\n",
        "4 585    4667          9          0     68         21          42          3\n",
        "5 585    5180         14          0    167         10          38          1\n",
        "6 585     468          5          0     14          0           0          0\n",
        "  tBaseInsert strand        qName qSize qStart qEnd tName     tSize tStart\n",
        "1         898      -  225995_x_at   637      5  603  chr1 249250621  14361\n",
        "2       11621      -  225035_x_at  3635      0 3548  chr1 249250621  14381\n",
        "3          93      -  226340_x_at  4318      3 4274  chr1 249250621  14399\n",
        "4        5743      - 1557034_s_at  4834     48 4834  chr1 249250621  14406\n",
        "5          29      -    231811_at  5399      0 5399  chr1 249250621  19688\n",
        "6           0      -    236841_at   487      0  487  chr1 249250621  27542\n",
        "   tEnd blockCount\n",
        "1 15816          5\n",
        "2 29483         17\n",
        "3 18745         18\n",
        "4 24893         23\n",
        "5 25078         11\n",
        "6 28029          1\n",
        "                                                                  blockSizes\n",
        "1                                                          93,144,229,70,21,\n",
        "2              73,375,71,165,303,360,198,661,201,1,260,250,74,73,98,155,163,\n",
        "3                 690,10,32,33,376,4,5,15,5,11,7,41,277,859,141,51,443,1253,\n",
        "4 99,352,286,24,49,14,6,5,8,149,14,44,98,12,10,355,837,59,8,1500,133,624,58,\n",
        "5                                       131,26,1300,6,4,11,4,7,358,3359,155,\n",
        "6                                                                       487,\n",
        "                                                                                                 qStarts\n",
        "1                                                                                    34,132,278,541,611,\n",
        "2                        87,165,540,647,818,1123,1484,1682,2343,2545,2546,2808,3058,3133,3206,3317,3472,\n",
        "3                   44,735,746,779,813,1190,1195,1201,1217,1223,1235,1243,1285,1564,2423,2565,2617,3062,\n",
        "4 0,99,452,739,764,814,829,836,842,851,1001,1016,1061,1160,1173,1184,1540,2381,2441,2450,3951,4103,4728,\n",
        "5                                                     0,132,159,1460,1467,1472,1484,1489,1497,1856,5244,\n",
        "6                                                                                                     0,\n",
        "                                                                                                                                     tStarts\n",
        "1                                                                                                             14361,14454,14599,14968,15795,\n",
        "2                                     14381,14454,14969,15075,15240,15543,15903,16104,16853,17054,17232,17492,17914,17988,18267,24736,29320,\n",
        "3                               14399,15089,15099,15131,15164,15540,15544,15549,15564,15569,15580,15587,15628,15906,16857,16998,17049,17492,\n",
        "4 14406,20227,20579,20865,20889,20938,20952,20958,20963,20971,21120,21134,21178,21276,21288,21298,21653,22492,22551,22559,24059,24211,24835,\n",
        "5                                                                         19688,19819,19845,21145,21151,21155,21166,21170,21177,21535,24923,\n",
        "6                                                                                                                                     27542,"
       ]
      }
     ],
     "prompt_number": 9
    },
    {
     "cell_type": "heading",
     "level": 3,
     "metadata": {},
     "source": [
      "Select a specific subset \u2014 `dbSendQuery()` and `fetch()`"
     ]
    },
    {
     "cell_type": "code",
     "collapsed": false,
     "input": [
      "# send the query, w/o sucking the data back\n",
      "query <- dbSendQuery(hg19, \"SELECT * FROM affyU133Plus2 WHERE misMatches BETWEEN 1 AND 3\")\n",
      "# fetch the results of the query\n",
      "affyMis <- fetch(query)\n",
      "\n",
      "quantile(affyMis$misMatches)"
     ],
     "language": "python",
     "metadata": {},
     "outputs": [
      {
       "metadata": {},
       "output_type": "pyout",
       "prompt_number": 11,
       "text": [
        "  0%  25%  50%  75% 100% \n",
        "   1    1    2    2    3 "
       ]
      }
     ],
     "prompt_number": 11
    },
    {
     "cell_type": "code",
     "collapsed": false,
     "input": [
      "dim(affyMis)"
     ],
     "language": "python",
     "metadata": {},
     "outputs": [
      {
       "metadata": {},
       "output_type": "pyout",
       "prompt_number": 14,
       "text": [
        "[1] 500  22"
       ]
      }
     ],
     "prompt_number": 14
    },
    {
     "cell_type": "code",
     "collapsed": false,
     "input": [
      "# limit the returned result set\n",
      "affyMisSmall <- fetch(query, n = 10)\n",
      "\n",
      "# clear the query result from the server\n",
      "dbClearResult(query)"
     ],
     "language": "python",
     "metadata": {},
     "outputs": [
      {
       "metadata": {},
       "output_type": "pyout",
       "prompt_number": 12,
       "text": [
        "[1] TRUE"
       ]
      }
     ],
     "prompt_number": 12
    },
    {
     "cell_type": "code",
     "collapsed": false,
     "input": [
      "dim(affyMisSmall)"
     ],
     "language": "python",
     "metadata": {},
     "outputs": [
      {
       "metadata": {},
       "output_type": "pyout",
       "prompt_number": 13,
       "text": [
        "[1] 10 22"
       ]
      }
     ],
     "prompt_number": 13
    },
    {
     "cell_type": "code",
     "collapsed": false,
     "input": [
      "# remember to close the connection as soon as it's not needed anymore\n",
      "# ideally immediately after extracting the data we're interested in\n",
      "dbDisconnect(hg19)"
     ],
     "language": "python",
     "metadata": {},
     "outputs": [
      {
       "metadata": {},
       "output_type": "pyout",
       "prompt_number": 15,
       "text": [
        "[1] TRUE"
       ]
      }
     ],
     "prompt_number": 15
    },
    {
     "cell_type": "heading",
     "level": 3,
     "metadata": {},
     "source": [
      "Further Resources"
     ]
    },
    {
     "cell_type": "markdown",
     "metadata": {},
     "source": [
      "---"
     ]
    },
    {
     "cell_type": "heading",
     "level": 2,
     "metadata": {},
     "source": [
      "Reading data from HDF5"
     ]
    },
    {
     "cell_type": "markdown",
     "metadata": {},
     "source": [
      "[Hierarchical Data Format](http://www.hdfgroup.org/HDF5/)\n",
      "* used to store large data sets\n",
      "* supports a range of data types\n",
      "* **groups** \u2014 0+ data sets and metadata\n",
      "  * **group header** \u2014 group name and list of attributes\n",
      "  * **group symbol table** \u2014 list of objects in group\n",
      "* **datasets** \u2014 multidimensional array of data elements with metadata\n",
      "  * **header** with name, datatype, dataspace, and storage layout\n",
      "  * **data array** with the data, like a data frame"
     ]
    },
    {
     "cell_type": "heading",
     "level": 3,
     "metadata": {},
     "source": [
      "R HDF5 package"
     ]
    },
    {
     "cell_type": "code",
     "collapsed": true,
     "input": [
      "source('http://bioconductor.org/biocLite.R')\n",
      "biocLite('rhdf5')"
     ],
     "language": "python",
     "metadata": {},
     "outputs": [
      {
       "output_type": "stream",
       "stream": "stderr",
       "text": [
        "Installing package into \u2018/home/vagrant/R/x86_64-pc-linux-gnu-library/3.1\u2019\n",
        "(as \u2018lib\u2019 is unspecified)\n"
       ]
      },
      {
       "output_type": "stream",
       "stream": "stdout",
       "text": [
        "\n",
        "The downloaded source packages are in\n",
        "\t\u2018/tmp/RtmpAwIJ7p/downloaded_packages\u2019\n"
       ]
      },
      {
       "output_type": "stream",
       "stream": "stderr",
       "text": [
        "Bioconductor version 3.0 (BiocInstaller 1.16.1), ?biocLite for help\n"
       ]
      },
      {
       "output_type": "stream",
       "stream": "stderr",
       "text": [
        "BioC_mirror: http://bioconductor.org\n"
       ]
      },
      {
       "output_type": "stream",
       "stream": "stderr",
       "text": [
        "Using Bioconductor version 3.0 (BiocInstaller 1.16.1), R version 3.1.1.\n"
       ]
      },
      {
       "output_type": "stream",
       "stream": "stderr",
       "text": [
        "Installing package(s) 'rhdf5'\n"
       ]
      },
      {
       "output_type": "stream",
       "stream": "stderr",
       "text": [
        "also installing the dependency \u2018zlibbioc\u2019\n",
        "\n"
       ]
      },
      {
       "output_type": "stream",
       "stream": "stdout",
       "text": [
        "\n",
        "The downloaded source packages are in\n",
        "\t\u2018/tmp/RtmpAwIJ7p/downloaded_packages\u2019\n"
       ]
      },
      {
       "output_type": "stream",
       "stream": "stderr",
       "text": [
        "Old packages: 'BH', 'DBI', 'dplyr', 'forecast', 'MASS', 'Rcpp',\n",
        "  'RcppArmadillo', 'RSQLite', 'sqldf', 'timeDate'\n"
       ]
      }
     ],
     "prompt_number": 16
    },
    {
     "cell_type": "code",
     "collapsed": false,
     "input": [
      "setwd('/science_data/3_getdata/data')"
     ],
     "language": "python",
     "metadata": {},
     "outputs": [],
     "prompt_number": 19
    },
    {
     "cell_type": "code",
     "collapsed": false,
     "input": [
      "library(rhdf5)\n",
      "created = h5createFile('example.h5')\n",
      "created"
     ],
     "language": "python",
     "metadata": {},
     "outputs": [
      {
       "metadata": {},
       "output_type": "pyout",
       "prompt_number": 25,
       "text": [
        "[1] TRUE"
       ]
      }
     ],
     "prompt_number": 25
    },
    {
     "cell_type": "heading",
     "level": 3,
     "metadata": {},
     "source": [
      "Create Groups \u2014 `h5createGroup()`"
     ]
    },
    {
     "cell_type": "code",
     "collapsed": false,
     "input": [
      "noOutput = h5createGroup('example.h5', 'foo')\n",
      "noOutput = h5createGroup('example.h5', 'baa')\n",
      "noOutput = h5createGroup('example.h5', 'foo/foobaa')\n",
      "\n",
      "h5ls('example.h5')"
     ],
     "language": "python",
     "metadata": {},
     "outputs": [
      {
       "metadata": {},
       "output_type": "pyout",
       "prompt_number": 26,
       "text": [
        "  group   name     otype dclass dim\n",
        "0     /    baa H5I_GROUP           \n",
        "1     /    foo H5I_GROUP           \n",
        "2  /foo foobaa H5I_GROUP           "
       ]
      }
     ],
     "prompt_number": 26
    },
    {
     "cell_type": "heading",
     "level": 3,
     "metadata": {},
     "source": [
      "Write to groups \u2014 `h5write()`"
     ]
    },
    {
     "cell_type": "code",
     "collapsed": false,
     "input": [
      "A = matrix(1:10, nr = 5, nc = 2)\n",
      "h5write(A, 'example.h5', 'foo/A')\n",
      "\n",
      "B = array(seq(0.1, 2.0, by = 0.1), dim = c(5, 2, 2))\n",
      "attr(B, 'scale') <- 'liter'\n",
      "h5write(B, 'example.h5', 'foo/foobaa/B')\n",
      "\n",
      "h5ls('example.h5')"
     ],
     "language": "python",
     "metadata": {},
     "outputs": [
      {
       "metadata": {},
       "output_type": "pyout",
       "prompt_number": 27,
       "text": [
        "        group   name       otype  dclass       dim\n",
        "0           /    baa   H5I_GROUP                  \n",
        "1           /    foo   H5I_GROUP                  \n",
        "2        /foo      A H5I_DATASET INTEGER     5 x 2\n",
        "3        /foo foobaa   H5I_GROUP                  \n",
        "4 /foo/foobaa      B H5I_DATASET   FLOAT 5 x 2 x 2"
       ]
      }
     ],
     "prompt_number": 27
    },
    {
     "cell_type": "heading",
     "level": 3,
     "metadata": {},
     "source": [
      "Write a data set"
     ]
    },
    {
     "cell_type": "code",
     "collapsed": false,
     "input": [
      "df = data.frame(1L:5L, seq(0, 1, length.out=5), \n",
      "                c('ab', 'cde', 'fghi', 'a', 's'),\n",
      "                stringAsFactors = FALSE)\n",
      "h5write(df, 'example.h5', 'df')\n",
      "\n",
      "h5ls('example.h5')"
     ],
     "language": "python",
     "metadata": {},
     "outputs": [
      {
       "metadata": {},
       "output_type": "pyout",
       "prompt_number": 29,
       "text": [
        "        group   name       otype   dclass       dim\n",
        "0           /    baa   H5I_GROUP                   \n",
        "1           /     df H5I_DATASET COMPOUND         5\n",
        "2           /    foo   H5I_GROUP                   \n",
        "3        /foo      A H5I_DATASET  INTEGER     5 x 2\n",
        "4        /foo foobaa   H5I_GROUP                   \n",
        "5 /foo/foobaa      B H5I_DATASET    FLOAT 5 x 2 x 2"
       ]
      }
     ],
     "prompt_number": 29
    },
    {
     "cell_type": "heading",
     "level": 3,
     "metadata": {},
     "source": [
      "Reading data \u2013 `h5read()`"
     ]
    },
    {
     "cell_type": "code",
     "collapsed": false,
     "input": [
      "readA = h5read('example.h5', 'foo/A')\n",
      "readb = h5read('example.h5', 'foo/foobaa/B')\n",
      "readdf = h5read('example.h5', 'df')"
     ],
     "language": "python",
     "metadata": {},
     "outputs": [],
     "prompt_number": 30
    },
    {
     "cell_type": "code",
     "collapsed": false,
     "input": [
      "readA"
     ],
     "language": "python",
     "metadata": {},
     "outputs": [
      {
       "metadata": {},
       "output_type": "pyout",
       "prompt_number": 31,
       "text": [
        "     [,1] [,2]\n",
        "[1,]    1    6\n",
        "[2,]    2    7\n",
        "[3,]    3    8\n",
        "[4,]    4    9\n",
        "[5,]    5   10"
       ]
      }
     ],
     "prompt_number": 31
    },
    {
     "cell_type": "heading",
     "level": 3,
     "metadata": {},
     "source": [
      "Writing and reading in chunks"
     ]
    },
    {
     "cell_type": "code",
     "collapsed": false,
     "input": [
      "# specify indices to write it to a specific part of that data set\n",
      "h5write(c(12, 13, 14), 'example.h5', 'foo/A', index = list(1:3, 1))\n",
      "\n",
      "h5read('example.h5', 'foo/A')"
     ],
     "language": "python",
     "metadata": {},
     "outputs": [
      {
       "metadata": {},
       "output_type": "pyout",
       "prompt_number": 33,
       "text": [
        "     [,1] [,2]\n",
        "[1,]   12    6\n",
        "[2,]   13    7\n",
        "[3,]   14    8\n",
        "[4,]    4    9\n",
        "[5,]    5   10"
       ]
      }
     ],
     "prompt_number": 33
    },
    {
     "cell_type": "code",
     "collapsed": false,
     "input": [
      "h5read('example.h5', 'foo/A', index = list(1:3, 2))"
     ],
     "language": "python",
     "metadata": {},
     "outputs": [
      {
       "output_type": "stream",
       "stream": "stderr",
       "text": [
        "Warning message:\n",
        "In h5checktypeOrOpenLoc(file, readonly = TRUE): An open HDF5 file handle exists. If the file has changed on disk meanwhile, the function may not work properly. Run 'H5close()' to close all open HDF5 object handles."
       ]
      },
      {
       "metadata": {},
       "output_type": "pyout",
       "prompt_number": 36,
       "text": [
        "     [,1]\n",
        "[1,]    6\n",
        "[2,]    7\n",
        "[3,]    8"
       ]
      }
     ],
     "prompt_number": 36
    },
    {
     "cell_type": "code",
     "collapsed": false,
     "input": [
      "H5close()"
     ],
     "language": "python",
     "metadata": {},
     "outputs": [],
     "prompt_number": 38
    },
    {
     "cell_type": "heading",
     "level": 3,
     "metadata": {},
     "source": [
      "Further Resources"
     ]
    },
    {
     "cell_type": "markdown",
     "metadata": {},
     "source": [
      "---"
     ]
    },
    {
     "cell_type": "heading",
     "level": 2,
     "metadata": {},
     "source": [
      "Reading data from the web"
     ]
    },
    {
     "cell_type": "heading",
     "level": 3,
     "metadata": {},
     "source": [
      "Webscraping"
     ]
    },
    {
     "cell_type": "markdown",
     "metadata": {},
     "source": [
      "Programatically extracting data from the HTML code of websites\n",
      "* [How Netflix Reverse Engineered Hollywood](http://www.theatlantic.com/technology/archive/2014/01/how-netflix-reverse-engineered-hollywood/282679/)\n",
      "* be aware tof ToS"
     ]
    },
    {
     "cell_type": "heading",
     "level": 3,
     "metadata": {},
     "source": [
      "Getting data off web pages \u2014 `readLines()`"
     ]
    },
    {
     "cell_type": "code",
     "collapsed": true,
     "input": [
      "con = url('http://scholar.google.com/citations?user=HI-I6C0AAAAJ&hl=en')\n",
      "htmlCode = readLines(con)\n",
      "close(con)\n",
      "\n",
      "htmlCode"
     ],
     "language": "python",
     "metadata": {},
     "outputs": [
      {
       "output_type": "stream",
       "stream": "stderr",
       "text": [
        "Warning message:\n",
        "In readLines(con): incomplete final line found on 'http://scholar.google.com/citations?user=HI-I6C0AAAAJ&hl=en'"
       ]
      },
      {
       "metadata": {},
       "output_type": "pyout",
       "prompt_number": 40,
       "text": [
        "[1] \"<!doctype html><head><meta http-equiv=\\\"Content-Type\\\" content=\\\"text/html;charset=ISO-8859-1\\\"><meta http-equiv=\\\"X-UA-Compatible\\\" content=\\\"IE=Edge\\\"><meta name=\\\"viewport\\\" content=\\\"width=device-width,initial-scale=1,minimum-scale=1,maximum-scale=2\\\"><style>@viewport{width:device-width;min-zoom:1;max-zoom:2;}</style><meta name=\\\"format-detection\\\" content=\\\"telephone=no\\\"><style>html,body,form,table,div,h1,h2,h3,h4,h5,h6,img,ol,ul,li,button{margin:0;padding:0;border:0;}table{border-collapse:collapse;border-width:0;empty-cells:show;}#gs_top{position:relative;min-width:964px;_width:expression(document.documentElement.clientWidth<966?\\\"964px\\\":\\\"auto\\\");-webkit-tap-highlight-color:rgba(0,0,0,0);}#gs_top>*:not(#x){-webkit-tap-highlight-color:rgba(204,204,204,.5);}.gs_el_ph #gs_top,.gs_el_ta #gs_top{min-width:300px;_width:expression(document.documentElement.clientWidth<302?\\\"300px\\\":\\\"auto\\\");}body,td{font-size:13px;font-family:Arial,sans-serif;line-height:1.24}body{background:#fff;color:#222;-webkit-text-size-adjust:100%;-moz-text-size-adjust:none;}.gs_gray{color:#777777}.gs_red{color:#dd4b39}.gs_grn{color:#006621}.gs_lil{font-size:11px}.gs_med{font-size:16px}.gs_hlt{font-weight:bold;}a:link{color:#1a0dab;text-decoration:none}a:visited{color:#660099;text-decoration:none}a:hover,a:active,a:hover .gs_lbl,a:active .gs_lbl,a .gs_lbl:active{text-decoration:underline;outline:none;}a:active,a:active .gs_lbl,a .gs_lbl:active{color:#d14836}.gs_a,.gs_a a:link,.gs_a a:visited{color:#006621}.gs_a a:active{color:#d14836}a.gs_fl:link,.gs_fl a:link{color:#1a0dab}a.gs_fl:visited,.gs_fl a:visited{color:#660099}a.gs_fl:active,.gs_fl a:active{color:#d14836}.gs_fl{color:#777777}.gs_ctc,.gs_ctu{vertical-align:middle;font-size:11px;font-weight:bold}.gs_ctc{color:#1a0dab}.gs_ctg,.gs_ctg2{font-size:13px;font-weight:bold}.gs_ctg{color:#1a0dab}a.gs_pda,.gs_pda a{padding:7px 0 5px 0}a:hover{*background-position:0 0}a:active{*background-attachment:fixed}a.gs_ico:active{*background-attachment:scroll}.gs_alrt{background:#f9edbe;border:1px solid #f0c36d;padding:0 16px;text-align:center;-webkit-box-shadow:0 2px 4px rgba(0,0,0,.2);-moz-box-shadow:0 2px 4px rgba(0,0,0,.2);box-shadow:0 2px 4px rgba(0,0,0,.2);-webkit-border-radius:2px;-moz-border-radius:2px;border-radius:2px;}.gs_spc{display:inline-block;width:12px}.gs_br{width:0;font-size:0}.gs_ibl{display:inline-block;*display:inline;zoom:1;}.gs_scl{*zoom:1}.gs_scl:after{content:\\\"\\\";display:table;clear:both;}.gs_ind{padding-left:8px;text-indent:-8px}.gs_ico,.gs_icm{display:inline-block;background:no-repeat url(/intl/en/scholar/images/sprite.png);_background-image:url(/intl/en/scholar/images/sprite.gif);width:21px;height:21px;font-size:0;}.gs_el_ta .gs_nta,.gs_ota,.gs_el_ph .gs_nph,.gs_oph{display:none}.gs_el_ta .gs_ota,.gs_el_ph .gs_oph{display:inline}.gs_el_ta div.gs_ota,.gs_el_ph div.gs_oph{display:block}#gs_ftr{margin-top:2em;text-align:center;clear:both;}#gs_ftr a{display:inline-block;margin:0 12px;line-height:29px;}#gs_ftr a:link,#gs_ftr a:visited{color:#1a0dab}#gs_ftr a:active{color:#d14836}.gs_in_txt{color:black;background:white;font-size:16px;height:23px;line-height:normal;border:1px solid #d9d9d9;border-top:1px solid #c0c0c0;padding:3px 6px 1px 8px;-webkit-border-radius:1px;-moz-border-radius:1px;border-radius:1px;outline:none;vertical-align:middle;-webkit-appearance:none;-moz-appearance:none;}.gs_in_txt:hover,.gs_in_txt-gs_hvr{border:1px solid #b9b9b9;border-top:1px solid #a0a0a0;-webkit-box-shadow:inset 0px 1px 2px rgba(0,0,0,0.1);-moz-box-shadow:inset 0px 1px 2px rgba(0,0,0,0.1);box-shadow:inset 0px 1px 2px rgba(0,0,0,0.1);}.gs_in_txte,.gs_in_txte:hover,.gs_in_txte-gs_hvr{border:1px solid #DD4B39;}.gs_in_txt:focus,.gs_in_txt.gs_in_txt-gs_fcs{border:1px solid #4d90fe;-webkit-box-shadow:inset 0px 1px 2px rgba(0,0,0,0.3);-moz-box-shadow:inset 0px 1px 2px rgba(0,0,0,0.3);box-shadow:inset 0px 1px 2px rgba(0,0,0,0.3);}input.gs_mini{font-size:13px;height:16px;padding:3px 6px;}.gs_el_tc input.gs_mini{height:21px}.gs_in_txtf{margin-right:16px}.gs_in_txtm{margin-right:14px}.gs_in_txtf .gs_in_txt,.gs_in_txtm .gs_in_txt{width:100%;*margin-top:-1px;*margin-right:-16px;_margin-right:-19px;}.gs_in_txtm .gs_in_txt{*margin-right:-14px;_margin-right:-17px;}.gs_in_txts{font-size:13px;line-height:18px;}button{position:relative; z-index:1; -moz-box-sizing:border-box;-webkit-box-sizing:border-box;box-sizing:border-box;font-size:11px;font-weight:bold;cursor:default;height:29px;min-width:72px;_width:72px;overflow:visible;color:#444;border:1px solid #dcdcdc;border:1px solid rgba(0,0,0,.1);-webkit-border-radius:2px;-moz-border-radius:2px;border-radius:2px;text-align:center;background-color:#f5f5f5;background-image:-webkit-gradient(linear,left top,left bottom,from(#f5f5f5),to(#f1f1f1));background-image:-webkit-linear-gradient(top,#f5f5f5,#f1f1f1);background-image:-moz-linear-gradient(top,#f5f5f5,#f1f1f1);background-image:-o-linear-gradient(top,#f5f5f5,#f1f1f1);background-image:linear-gradient(to bottom,#f5f5f5,#f1f1f1);-webkit-transition:all .218s;-moz-transition:all .218s;-o-transition:all .218s;transition:all .218s;-webkit-user-select:none;-moz-user-select:none;-ms-user-select:none;user-select:none;}button .gs_wr{line-height:27px;_line-height:24px;}button .gs_bg{position:absolute;top:0;left:0;width:100%;height:100%;*display:none;z-index:-1;filter:progid:DXImageTransform.Microsoft.gradient(startColorstr='#f5f5f5',endColorstr='#f1f1f1');}button.gs_btn_mini{min-width:26px;_width:26px;height:26px;}.gs_btn_mini .gs_wr{line-height:24px;_line-height:21px;}.gs_btn_half,.gs_el_ph .gs_btn_hph{min-width:36px;_width:36px;}>. }}.gs_btn_slt{-webkit-border-radius:2px 0 0 2px;-moz-border-radius:2px 0 0 2px;border-radius:2px 0 0 2px;}.gs_btn_srt{margin-left:-1px;-webkit-border-radius:0 2px 2px 0;-moz-border-radius:0 2px 2px 0;border-radius:0 2px 2px 0;}.gs_btn_smd{margin-left:-1px;-webkit-border-radius:0;-moz-border-radius:0;border-radius:0;}button:hover,button.gs_hvr{z-index:2;color:#222;border:1px solid #c6c6c6;-webkit-box-shadow:0px 1px 1px rgba(0,0,0,.1);-moz-box-shadow:0px 1px 1px rgba(0,0,0,.1);box-shadow:0px 1px 1px rgba(0,0,0,.1);background-color:#f8f8f8;background-image:-webkit-gradient(linear,left top,left bottom,from(#f8f8f8),to(#f1f1f1));background-image:-webkit-linear-gradient(top,#f8f8f8,#f1f1f1);background-image:-moz-linear-gradient(top,#f8f8f8,#f1f1f1);background-image:-o-linear-gradient(top,#f8f8f8,#f1f1f1);background-image:linear-gradient(to bottom,#f8f8f8,#f1f1f1);-webkit-transition:all 0s;-moz-transition:all 0s;-o-transition:all 0s;transition:all 0s;}button:hover .gs_bg,button.gs_hvr .gs_bg{filter:progid:DXImageTransform.Microsoft.gradient(startColorStr='#f8f8f8',EndColorStr='#f1f1f1');}button.gs_sel{color:#333;border:1px solid #ccc;-webkit-box-shadow:inset 0 1px 2px rgba(0,0,0,.1);-moz-box-shadow:inset 0 1px 2px rgba(0,0,0,.1);box-shadow:inset 0 1px 2px rgba(0,0,0,.1);background-color:#e8e8e8;background-image:-webkit-gradient(linear,left top,left bottom,from(#eee),to(#e0e0e0));background-image:-webkit-linear-gradient(top,#eee,#e0e0e0);background-image:-moz-linear-gradient(top,#eee,#e0e0e0);background-image:-o-linear-gradient(top,#eee,#e0e0e0);background-image:linear-gradient(to bottom,#eee,#e0e0e0);}button.gs_sel .gs_bg{filter:progid:DXImageTransform.Microsoft.gradient(startColorStr='#eeeeee',EndColorStr='#e0e0e0');}button:active,button.gs_act{z-index:2;color:#333;background-color:#f6f6f6;background-image:-webkit-gradient(linear,left top,left bottom,from(#f6f6f6),to(#f1f1f1));background-image:-webkit-linear-gradient(top,#f6f6f6,#f1f1f1);background-image:-moz-linear-gradient(top,#f6f6f6,#f1f1f1);background-image:-o-linear-gradient(top,#f6f6f6,#f1f1f1);background-image:linear-gradient(to bottom,#f6f6f6,#f1f1f1);-webkit-box-shadow:inset 0px 1px 2px rgba(0,0,0,.1);-moz-box-shadow:inset 0px 1px 2px rgba(0,0,0,.1);box-shadow:inset 0px 1px 2px rgba(0,0,0,.1);}button:active .gs_bg,button.gs_act .gs_bg{filter:progid:DXImageTransform.Microsoft.gradient(startColorStr='#f6f6f6',EndColorStr='#f1f1f1');}button:focus,button.gs_fcs{z-index:2;outline:none;border:1px solid #4d90fe;}button::-moz-focus-inner{padding:0;border:0}button .gs_lbl{padding:0px 8px;}a.gs_in_ib{position:relative;display:inline-block;line-height:16px;padding:5px 0 6px 0;-webkit-user-select:none;-moz-user-select:none;-ms-user-select:none;user-select:none;}a.gs_btn_mini{height:24px;line-height:24px;padding:0;}a .gs_lbl,button .gs_lbl{vertical-align:baseline;}a.gs_in_ib .gs_lbl{display:inline-block;padding-left:21px}button.gs_in_ib .gs_lbl{padding-left:29px;}button.gs_btn_mini .gs_lbl,button.gs_btn_half .gs_lbl,button.gs_btn_eml .gs_lbl{padding:11px;}.gs_el_ph .gs_btn_hph .gs_lbl,.gs_el_ph .gs_btn_cph .gs_lbl{padding:11px;font-size:0;visibility:hidden;}.gs_in_ib .gs_ico{position:absolute;top:2px;*top:3px;left:8px;}.gs_btn_mini .gs_ico{top:1px;*top:2px;left:2px;}.gs_btn_half .gs_ico,.gs_el_ph .gs_btn_hph .gs_ico{left:7px}.gs_btn_eml .gs_ico,.gs_el_ph .gs_btn_cph .gs_ico{left:25px}button.gs_btn_mini,.gs_btn_half,.gs_btn_eml{_font-size:0}.gs_btn_half .gs_lbl{_font-size:11px;}a.gs_in_ib .gs_ico{top:3px;left:0}a.gs_in_ib-gs_md_li .gs_ico{left:14px}.gs_el_tc a.gs_in_ib-gs_md_li .gs_ico{top:11px}a.gs_btn_mini .gs_ico{top:1px;left:0}button.gs_btn_act{color:#fff;-webkit-font-smoothing:antialiased;border:1px solid #3079ed;background-color:#4d90fe;background-image:-webkit-gradient(linear,left top,left bottom,from(#4d90fe),to(#4787ed));background-image:-webkit-linear-gradient(top,#4d90fe,#4787ed);background-image:-moz-linear-gradient(top,#4d90fe,#4787ed);background-image:-o-linear-gradient(top,#4d90fe,#4787ed);background-image:linear-gradient(to bottom,#4d90fe,#4787ed);}button.gs_btn_act .gs_bg{filter:progid:DXImageTransform.Microsoft.gradient(startColorstr='#4d90fe',endColorstr='#4787ed');}button.gs_btn_act:hover,button.gs_btn_act-gs_hvr{color:#fff;border:1px solid #2f5bb7;background-color:#357ae8;background-image:-webkit-gradient(linear,left top,left bottom,from(#4d90fe),to(#357ae8));background-image:-webkit-linear-gradient(top,#4d90fe,#357ae8);background-image:-moz-linear-gradient(top,#4d90fe,#357ae8);background-image:-o-linear-gradient(top,#4d90fe,#357ae8);background-image:linear-gradient(to bottom,#4d90fe,#357ae8);-webkit-box-shadow:inset 0px 1px 1px rgba(0,0,0,.1);-moz-box-shadow:inset 0px 1px 1px rgba(0,0,0,.1);box-shadow:inset 0px 1px 1px rgba(0,0,0,.1);}button.gs_btn_act:hover .gs_bg,button.gs_btn_act-gs_hvr .gs_bg{filter:progid:DXImageTransform.Microsoft.gradient(startColorstr='#4d90fe',endColorstr='#357ae8');}button.gs_btnG{width:70px;min-width:0;}button.gs_btn_cre{color:#fff;-webkit-font-smoothing:antialiased;border:1px solid transparent;_border:1px solid white;background-color:#d14836;background-image:-webkit-gradient(linear,left top,left bottom,from(#dd4b39),to(#d14836));background-image:-webkit-linear-gradient(top,#dd4b39,#d14836);background-image:-moz-linear-gradient(top,#dd4b39,#d14836);background-image:-o-linear-gradient(top,#dd4b39,#d14836);background-image:linear-gradient(to bottom,#dd4b39,#d14836);}button.gs_btn_cre .gs_bg{filter:progid:DXImageTransform.Microsoft.gradient(startColorstr='#dd4b39',endColorstr='#d14836');}button.gs_btn_cre .gs_lbl{text-transform:uppercase;text-shadow:0px 1px rgba(0,0,0,.1);}button.gs_btn_cre:hover,button.gs_btn_cre-gs_hvr{color:#fff;border:1px solid #b0281a;border-bottom:1px solid #af301f;background-color:#c53727;background-image:-webkit-gradient(linear,left top,left bottom,from(#dd4b39),to(#c53727));background-image:-webkit-linear-gradient(top,#dd4b39,#c53727);background-image:-moz-linear-gradient(top,#dd4b39,#c53727);background-image:-o-linear-gradient(top,#dd4b39,#c53727);background-image:linear-gradient(to bottom,#dd4b39,#c53727);-webkit-box-shadow:inset 0 1px 1px rgba(0,0,0,.2);-moz-box-shadow:inset 0 1px 1px rgba(0,0,0,.2);box-shadow:inset 0 1px 1px rgba(0,0,0,.2);}button.gs_btn_cre:hover .gs_bg,button.gs_btn_cre-gs_hvr .gs_bg{filter:progid:DXImageTransform.Microsoft.gradient(startColorstr='#dd4b39',endColorstr='#c53727');}button.gs_btn_act:focus,button.gs_btn_cre:focus{-webkit-box-shadow:inset 0 0 0 1px rgba(255,255,255,.5);-moz-box-shadow:inset 0 0 0 1px rgba(255,255,255,.5);box-shadow:inset 0 0 0 1px rgba(255,255,255,.5);}button.gs_btn_act:focus,button.gs_btn_act-gs_fcs{border-color:#404040;}button.gs_btn_cre:focus,button.gs_btn_cre-gs_fcs{border-color:#d14836;}button.gs_btn_act:active,button.gs_btn_act-gs_act{border:1px solid #315da3;background-color:#2f6de1;background-image:-webkit-gradient(linear,left top,left bottom,from(#4d90fe),to(#2f6de1));background-image:-webkit-linear-gradient(top,#4d90fe,#2f6de1);background-image:-moz-linear-gradient(top,#4d90fe,#2f6de1);background-image:-o-linear-gradient(top,#4d90fe,#2f6de1);background-image:linear-gradient(to bottom,#4d90fe,#2f6de1);}button.gs_btn_act:active .gs_bg,button.gs_btn_act-gs_act .gs_bg{filter:progid:DXImageTransform.Microsoft.gradient(startColorstr='#4d90fe',endColorstr='#2f6de1');}button.gs_btn_cre:active,button.gs_btn_cre-gs_act{border:1px solid #992a1b;background-color:#b0281a;background-image:-webkit-gradient(linear,left top,left bottom,from(#dd4b39),to(#b0281a));background-image:-webkit-linear-gradient(top,#dd4b39,#b0281a);background-image:-moz-linear-gradient(top,#dd4b39,#b0281a);background-image:-o-linear-gradient(top,#dd4b39,#b0281a);background-image:linear-gradient(to bottom,#dd4b39,#b0281a);}button.gs_btn_cre:active .gs_bg,button.gs_btn_cre-gs_act .gs_bg{filter:progid:DXImageTransform.Microsoft.gradient(startColorstr='#dd4b39',endColorstr='#b0281a');}button.gs_btn_act:active,button.gs_btn_cre:active{-webkit-box-shadow:inset 0 1px 2px rgba(0,0,0,.3);-moz-box-shadow:inset 0 1px 2px rgba(0,0,0,.3);box-shadow:inset 0 1px 2px rgba(0,0,0,.3);}button.gs_bsp,button.gs_bsp:hover,button.gs_bsp:active,button.gs_bsp:focus,button.gs_dis,button.gs_dis:hover,button.gs_dis:active{color:#b8b8b8;border:1px solid #f3f3f3;border:1px solid rgba(0,0,0,.05);background:none;-webkit-box-shadow:none;-moz-box-shadow:none;box-shadow:none;z-index:0;}button.gs_btn_act-gs_dis,button.gs_btn_act-gs_dis:hover,button.gs_btn_act-gs_dis:active{color:white;border-color:#98bcf6;background:#a6c8ff;}button.gs_btn_cre-gs_dis,button.gs_btn_cre-gs_dis:hover,button.gs_btn_cre-gs_dis:active{color:white;border-color:#d8948d;background:#e8a49b;}button.gs_dis:active:not(#x){-webkit-box-shadow:inset 0 1px 2px rgba(0,0,0,.1);-moz-box-shadow:inset 0 1px 2px rgba(0,0,0,.1);box-shadow:inset 0 1px 2px rgba(0,0,0,.1);z-index:2;}button.gs_bsp .gs_bg,button.gs_bsp:hover .gs_bg,button.gs_bsp:active .gs_bg,button.gs_dis .gs_bg,button.gs_dis:hover .gs_bg,button.gs_dis:active .gs_bg{filter:none;}a.gs_dis{cursor:default}.gs_ttp{position:absolute;top:100%;right:50%;z-index:10;pointer-events:none;visibility:hidden;opacity:0;-webkit-transition:visibility 0s .13s,opacity .13s ease-out;-moz-transition:visibility 0s .13s,opacity .13s ease-out;-o-transition:visibility 0s .13s,opacity .13s ease-out;transition:visibility 0s .13s,opacity .13s ease-out;}button:hover .gs_ttp,button.gs_hvr .gs_ttp,button:focus .gs_ttp,button.gs_fcs .gs_ttp,a:hover .gs_ttp,a:focus .gs_ttp{-webkit-transition:visibility 0s .3s,opacity .13s ease-in .3s;-moz-transition:visibility 0s .3s,opacity .13s ease-in .3s;-o-transition:visibility 0s .3s,opacity .13s ease-in .3s;transition:visibility 0s .3s,opacity .13s ease-in .3s;visibility:visible;opacity:1;}.gs_ttp .gs_aro,.gs_ttp .gs_aru{position:absolute;top:-2px;right:-5px;width:0;height:0;line-height:0;font-size:0;border:5px solid transparent;_border:5px solid #f5f5f5;border-top:none;border-bottom-color:#2a2a2a;z-index:1;}.gs_ttp .gs_aro{top:-3px;right:-6px;border-width:6px;border-top:none;border-bottom-color:white;}.gs_ttp .gs_txt{display:block;position:relative;top:2px;right:-50%;padding:7px 9px;background:#2a2a2a;color:white;font-size:11px;font-weight:bold;line-height:normal;white-space:nowrap;border:1px solid white;-webkit-box-shadow:inset 0 1px 4px rgba(0,0,0,.2);-moz-box-shadow:inset 0 1px 4px rgba(0,0,0,.2);box-shadow:inset 0 1px 4px rgba(0,0,0,.2);}.gs_in_se,.gs_tan{-ms-touch-action:none;touch-action:none;}.gs_in_se .gs_lbl{padding-left:8px;padding-right:22px;}.gs_in_se .gs_icm{position:absolute;top:8px;right:8px;width:7px;height:11px;margin:0;background-position:-63px -115px;}a.gs_in_se .gs_icm{background-position:-100px -26px;}.gs_in_se:hover .gs_icm,.gs_in_se-gs_hvr .gs_icm,a.gs_in_se-gs_hvr .gs_icm{background-position:-166px -110px;}.gs_in_se:active .gs_icm,.gs_in_se .gs_icm:active,.gs_in_se.gs_in_se-gs_act .gs_icm{background-position:-89px -26px;}.gs_in_se :active~.gs_icm{background-position:-89px -26px;}.gs_el_ph .gs_btn_hph .gs_icm,.gs_el_ph .gs_btn_cph .gs_icm{display:none}.gs_btn_mnu .gs_icm{height:7px;background-position:-63px -119px;}.gs_btn_mnu:hover .gs_icm,.gs_btn_mnu-gs_hvr .gs_icm{background-position:-166px -114px;}.gs_btn_mnu:active .gs_icm,.gs_btn_mnu .gs_icm:active,.gs_btn_mnu.gs_btn_mnu-gs_act .gs_icm{background-position:-89px -30px;}.gs_btn_mnu :active~.gs_icm{background-position:-89px -30px;}.gs_btn_mn2 .gs_icm,.gs_btn_mn2:hover .gs_icm,.gs_btn_mn2:active .gs_icm,.gs_btn_mn2.gs_btn_mn2-gs_act .gs_icm{top:10px;height:5px;background-position:-180px -132px;}.gs_btn_mn2 :active~.gs_icm{background-position:-180px -132px;}.gs_md_se,.gs_md_wn,.gs_el_ph .gs_md_wp{position:absolute;top:0;left:0;border:1px solid #ccc;border-color:rgba(0,0,0,.2);background:white;-webkit-box-shadow:0px 2px 4px rgba(0,0,0,.2);-moz-box-shadow:0px 2px 4px rgba(0,0,0,.2);box-shadow:0px 2px 4px rgba(0,0,0,.2);z-index:1100; display:none;opacity:0;-webkit-transition:opacity .13s;-moz-transition:opacity .13s;-o-transition:opacity .13s;transition:opacity .13s;}.gs_md_se.gs_vis,.gs_md_wn.gs_vis,.gs_el_ph .gs_md_wp.gs_vis{opacity:1;-webkit-transition:all 0s;-moz-transition:all 0s;-o-transition:all 0s;transition:all 0s;}.gs_el_tc .gs_md_se,.gs_el_tc .gs_md_wn,.gs_el_ph.gs_el_tc .gs_md_wp{-webkit-transform-origin:100% 0;-moz-transform-origin:100% 0;-o-transform-origin:100% 0;transform-origin:100% 0;-webkit-transform:scale(1,0);-moz-transform:scale(1,0);-o-transform:scale(1,0);transform:scale(1,0);-webkit-transition:opacity .218s ease-out,-webkit-transform 0s .218s;-moz-transition:opacity .218s ease-out,-moz-transform: 0s .218s;-o-transition:opacity .218s ease-out,-o-transform: 0s .218s;transition:opacity .218s ease-out,transform 0s .218s;}.gs_el_ios .gs_md_se,.gs_el_ios .gs_md_wn,.gs_el_ph.gs_el_ios .gs_md_wp{-webkit-backface-visibility:hidden;}.gs_el_tc .gs_md_wn.gs_ttss,.gs_el_ph.gs_el_tc .gs_md_wp.gs_ttss{-webkit-transform:scale(0,1);-moz-transform:scale(0,1);-o-transform:scale(0,1);transform:scale(0,1);}.gs_el_tc .gs_md_wn.gs_ttzi,.gs_el_ph.gs_el_tc .gs_md_wp.gs_ttzi{-webkit-transform-origin:50% 50%;-moz-transform-origin:50% 50%;-o-transform-origin:50% 50%;transform-origin:50% 50%;-webkit-transform:scale(0,0);-moz-transform:scale(0,0);-o-transform:scale(0,0);transform:scale(0,0);}.gs_el_tc .gs_md_se.gs_vis,.gs_el_tc .gs_md_wn.gs_vis,.gs_el_ph.gs_el_tc .gs_md_wp.gs_vis{-webkit-transform:scale(1,1);-moz-transform:scale(1,1);-o-transform:scale(1,1);transform:scale(1,1);-webkit-transition:-webkit-transform .218s ease-out;-moz-transition:-moz-transform .218s ease-out;-o-transition:-o-transform .218s ease-out;transition:transform .218s ease-out;}.gs_md_se{white-space:nowrap}.gs_md_se ul{list-style-type:none;word-wrap:break-word;display:inline-block;*display:inline;zoom:1;vertical-align:top;}.gs_md_se li,.gs_md_li,.gs_md_li:link,.gs_md_li:visited{display:block;padding:6px 44px 6px 16px;font-size:13px;line-height:16px;color:#222;cursor:default;text-decoration:none;background:white;-moz-transition:background .13s;-o-transition:background .13s;-webkit-transition:background .13s;transition:background .13s;}a.gs_md_li:hover .gs_lbl,a.gs_md_li:active .gs_lbl{text-decoration:none}.gs_el_tc .gs_md_se li,.gs_el_tc .gs_md_li{padding-top:14px;padding-bottom:10px;}.gs_md_se li:hover,.gs_md_se li.gs_hvr,.gs_md_se li.gs_fcs,.gs_md_li:hover,.gs_md_li:focus,.gs_md_li-gs_fcs:link,.gs_md_li-gs_fcs:visited{background:#f1f1f1;-moz-transition:background 0s;-o-transition:background 0s;-webkit-transition:background 0s;transition:background 0s;}.gs_md_se li.gs_sel{color:#dd4b39}.gs_md_wn:focus,.gs_md_se li:focus,.gs_md_li:focus{outline:none}button.gs_btnG .gs_ico{width:14px;height:13px;top:7px;left:27px;background-position:-152px -68px;_background:transparent;_filter:progid:DXImageTransform.Microsoft.AlphaImageLoader(src='/intl/en/scholar/images/sprite/search-shared.png');}button .gs_bsc{position:absolute;top:0;right:50%;width:25px;}button .gs_bs{background:url('/intl/en/scholar/images/spinner.gif') no-repeat;position:relative;height:25px;width:25px;left:50%;display:none;}button.gs_bsp .gs_bs{display:block;}a.gs_in_cb:link,a.gs_in_cb:visited,a.gs_in_cb:active,a.gs_in_cb:hover{cursor:default;color:#222;text-decoration:none;}.gs_in_cb,.gs_in_ra{position:relative;line-height:16px;display:inline-block;-webkit-user-select:none;-moz-user-select:none;-ms-user-select:none;user-select:none;-webkit-touch-callout:none;}.gs_in_cb.gs_md_li{padding:6px 44px 6px 16px;}.gs_in_cb input,.gs_in_ra input{position:absolute;top:1px;left:1px;width:15px;height:15px;margin:0;padding:0;-moz-opacity:0;opacity:0;filter:alpha(opacity=0);-ms-filter:\\\"alpha(opacity=0)\\\";z-index:2;}.gs_in_ra input{top:0;left:0}.gs_el_tc .gs_in_cb input{top:9px}.gs_el_tc .gs_in_ra input{top:8px}.gs_in_cb.gs_in_cbj input{top:15px;left:15px}.gs_in_cb label,.gs_in_cb .gs_lbl,.gs_in_ra label{display:inline-block;padding-left:21px;min-height:16px;_height:16px;}.gs_el_tc .gs_in_cb label,.gs_el_tc .gs_in_cb .gs_lbl,.gs_el_tc .gs_in_ra label{padding-top:8px;padding-bottom:5px;}.gs_in_cb.gs_in_cbj label,.gs_in_cb.gs_in_cbj .gs_lbl{padding:13px 0 12px 41px;}.gs_in_cb .gs_cbx,.gs_in_ra .gs_cbx{position:absolute;font-size:0;line-height:0;}.gs_in_cb .gs_cbx{top:2px;left:2px;width:11px;height:11px;border:1px solid #C6C6C6;-webkit-border-radius:1px;-moz-border-radius:1px;border-radius:1px;}.gs_md_li .gs_cbx{top:8px;left:18px}.gs_el_tc .gs_in_cb .gs_cbx{top:10px}.gs_el_tc .gs_md_li .gs_cbx{top:16px}.gs_in_cb.gs_in_cbj .gs_cbx{top:15px;left:15px}.gs_in_ra .gs_cbx{top:0;left:0;width:15px;height:15px;background:no-repeat url(/intl/en/scholar/images/sprite.png) -42px -110px;_background-image:url(/intl/en/scholar/images/sprite.gif);}.gs_el_tc .gs_in_ra .gs_cbx{top:8px}.gs_in_ra .gs_cbx:not(#x){background:transparent;border:1px solid #C6C6C6;width:13px;height:13px;-webkit-border-radius:7px;-moz-border-radius:7px;border-radius:7px;}.gs_in_cb:hover .gs_cbx,.gs_in_cb-gs_hvr .gs_cbx{border-color:#666;-webkit-box-shadow:inset 0px 1px 1px rgba(0,0,0,0.1);-moz-box-shadow:inset 0px 1px 1px rgba(0,0,0,0.1);box-shadow:inset 0px 1px 1px rgba(0,0,0,0.1);}.gs_in_ra:hover .gs_cbx,.gs_in_ra-gs_hvr .gs_cbx{background-position:-187px -89px;}.gs_in_ra:hover .gs_cbx:not(#x){border-color:#666;background:transparent;-webkit-box-shadow:inset 0px 1px 1px rgba(0,0,0,0.1);-moz-box-shadow:inset 0px 1px 1px rgba(0,0,0,0.1);box-shadow:inset 0px 1px 1px rgba(0,0,0,0.1);}.gs_in_cb:focus .gs_cbx,.gs_in_cb :focus~.gs_cbx,.gs_in_ra :focus~.gs_cbx:not(#x){border-color:#4d90fe;}.gs_in_cb :active~.gs_cbx{border-color:#666;background:#ebebeb;}.gs_in_cb:active .gs_cbx,.gs_in_cb.gs_in_cb-gs_act .gs_cbx{border-color:#666;background:#ebebeb;}.gs_in_ra:active .gs_cbx:not(#x),.gs_in_ra :active~.gs_cbx:not(#x){border-color:#666;background:#ebebeb;}.gs_in_ra :active~.gs_cbx{background-position:-21px -66px;}.gs_in_ra:active .gs_cbx,.gs_in_ra.gs_in_ra-gs_act .gs_cbx{background-position:-21px -66px;}.gs_in_cb :disabled~.gs_cbx,.gs_in_ra :disabled~.gs_cbx{border-color:#f1f1f1;background:transparent;-webkit-box-shadow:none;-moz-box-shadow:none;box-shadow:none;}.gs_in_cb.gs_in_cb-gs_dis .gs_cbx,.gs_in_ra.gs_in_ra-gs_dis .gs_cbx{border-color:#f1f1f1;background:transparent;}.gs_in_ra.gs_in_ra-gs_dis .gs_cbx{background-position:-130px -89px;}.gs_in_cb :disabled~label,.gs_in_ra :disabled~label{color:#b8b8b8;}.gs_in_cb-gs_dis label,.gs_in_ra-gs_dis label{color:#b8b8b8;}.gs_in_cb .gs_chk,.gs_in_ra .gs_chk{position:absolute;z-index:1; top:-3px;left:-2px;width:21px;height:21px;}.gs_md_li .gs_chk{top:3px;left:14px}.gs_el_tc .gs_in_cb .gs_chk{top:5px}.gs_el_tc .gs_md_li .gs_chk{top:11px}.gs_in_cb.gs_in_cbj .gs_chk{top:10px;left:10px}.gs_in_ra .gs_chk{top:4px;left:4px;width:7px;height:7px;}.gs_el_tc .gs_in_ra .gs_chk{top:12px}.gs_in_cb input:checked~.gs_chk{ background:no-repeat url(/intl/en/scholar/images/sprite.png) -166px -89px;}.gs_in_ra input:checked~.gs_chk{-webkit-border-radius:4px;-moz-border-radius:4px;border-radius:4px;background:#666;}.gs_in_cb-gs_sel .gs_chk{background:no-repeat url(/intl/en/scholar/images/sprite.png) -166px -89px;_background-image:url(/intl/en/scholar/images/sprite.gif);}.gs_in_ra-gs_sel .gs_chk{background:no-repeat url(/intl/en/scholar/images/sprite.png) -166px -131px;_background-image:url(/intl/en/scholar/images/sprite.gif);}.gs_in_cb-gs_par .gs_chk{background:no-repeat url(/intl/en/scholar/images/sprite.png) -188px -265px;_background-image:url(/intl/en/scholar/images/sprite.gif);}.gs_in_cb input:checked:disabled~.gs_chk{background-position:-209px -67px;}.gs_in_cb.gs_in_cb-gs_dis-gs_sel .gs_chk{background-position:-209px -67px;}.gs_ico_X{background-position:-166px -26px;}.gs_ico_X:hover{background-position:-131px 0;}.gs_ico_X:active{background-position:0 -63px;}.gs_el_tc .gs_ico_Xt:not(#x){-webkit-background-origin:content;background-origin:content-box;-webkit-background-clip:content;background-clip:content-box;padding:10px 6px 10px 14px;}.gs_ico_P{background-position:-210px 0;}.gs_ico_P:hover{background-position:-149px -26px;}.gs_ico_P:active{background-position:-110px -47px;}.gs_btnC .gs_ico{background-position:-145px -131px;}a.gs_btnC .gs_ico{background-position:0 -42px;}.gs_btnC:hover .gs_ico,.gs_btnC-gs_hvr .gs_ico{background-position:0 -105px;}.gs_btnC:active .gs_ico,.gs_btnC .gs_ico:active,.gs_btnC.gs_btnC-gs_act .gs_ico{background-position:-42px -89px;}.gs_btnC :active~.gs_ico{background-position:-42px -89px;}.gs_btnM .gs_ico{background-position:-131px -26px;}a.gs_btnM .gs_ico{background-position:-145px -110px;}.gs_btnM:hover .gs_ico,.gs_btnM-gs_hvr .gs_ico{background-position:-173px -110px;}.gs_btnM:active .gs_ico,.gs_btnM .gs_ico:active,.gs_btnM.gs_btnM-gs_act .gs_ico{background-position:-166px -47px;}.gs_btnM :active~.gs_ico{background-position:-166px -47px;}.gs_btnMW .gs_ico{background-position:-21px -307px;}.gs_btnSB .gs_ico{background-position:-105px -265px;}a.gs_btnSB .gs_ico{background-position:-126px -265px;}.gs_btnSB:hover .gs_ico,.gs_btnSB-gs_hvr .gs_ico{background-position:-147px -265px;}.gs_btnSB:active .gs_ico,.gs_btnSB .gs_ico:active,.gs_btnSB.gs_btnSB-gs_act .gs_ico{background-position:-168px -265px;}.gs_btnSB :active~.gs_ico{background-position:-168px -265px;}.gs_btnPL .gs_ico{background-position:-68px -47px;}.gs_btnPL:hover .gs_ico,.gs_btnPL-gs_hvr .gs_ico{background-position:0 0;}.gs_btnPL:active .gs_ico,.gs_btnPL .gs_ico:active,.gs_btnPL.gs_btnPL-gs_act .gs_ico{background-position:-89px -58px;}.gs_btnPL :active~.gs_ico{background-position:-89px -58px;}.gs_btnPL .gs_ico.gs_ico_dis,.gs_btnPL:hover .gs_ico_dis{background-position:-84px -152px;}.gs_btnPR .gs_ico{background-position:-131px -47px;}.gs_btnPR:hover .gs_ico,.gs_btnPR-gs_hvr .gs_ico{background-position:0 -126px;}.gs_btnPR:active .gs_ico,.gs_btnPR .gs_ico:active,.gs_btnPR.gs_btnPR-gs_act .gs_ico{background-position:-110px -68px;}.gs_btnPR :active~.gs_ico{background-position:-110px -68px;}.gs_btnPR .gs_ico.gs_ico_dis,.gs_btnPR:hover .gs_ico_dis{background-position:-105px -152px;}.gs_btnDE .gs_ico{background-position:0 -173px;}.gs_btnDE:hover .gs_ico,.gs_btnDE-gs_hvr .gs_ico{background-position:-21px -173px;}.gs_btnDE:active .gs_ico,.gs_btnDE .gs_ico:active,.gs_btnDE.gs_btnDE-gs_act .gs_ico{background-position:-42px -173px;}.gs_btnDE :active~.gs_ico{background-position:-42px -173px;}.gs_btnADD .gs_ico{background-position:0 -286px;}.gs_btnADD:hover .gs_ico,.gs_btnADD-gs_hvr .gs_ico{background-position:-21px -286px;}.gs_btnADD:active .gs_ico,.gs_btnADD .gs_ico:active,.gs_btnADD.gs_btnADD-gs_act .gs_ico{background-position:-42px -286px;}.gs_btnADD :active~.gs_ico{background-position:-42px -286px;}.gs_btnMRG .gs_ico{background-position:-63px -286px;}.gs_btnMRG:hover .gs_ico,.gs_btnMRG-gs_hvr .gs_ico{background-position:-84px -286px;}.gs_btnMRG:active .gs_ico,.gs_btnMRG .gs_ico:active,.gs_btnMRG.gs_btnMRG-gs_act .gs_ico{background-position:-105px -286px;}.gs_btnMRG :active~.gs_ico{background-position:-105px -286px;}.gs_dis.gs_btnMRG-gs_dis .gs_ico{background-position:0 -307px;}.gs_btnDWL .gs_ico{background-position:-126px -286px;}.gs_btnDWL:hover .gs_ico,.gs_btnDWL-gs_hvr .gs_ico{background-position:-147px -286px;}.gs_btnDWL:active .gs_ico,.gs_btnDWL .gs_ico:active,.gs_btnDWL.gs_btnDWL-gs_act .gs_ico{background-position:-168px -286px;}.gs_btnDWL :active~.gs_ico{background-position:-168px -286px;}.gs_btnMNU .gs_ico{background-position:-189px -286px;}.gs_btnMNU:hover .gs_ico,.gs_btnMNU-gs_hvr .gs_ico{background-position:-210px -286px;}.gs_btnMNU:active .gs_ico,.gs_btnMNU .gs_ico:active,.gs_btnMNU.gs_btnMNU-gs_act .gs_ico{background-position:-210px -265px;}.gs_btnMNU :active~.gs_ico{background-position:-210px -265px;}#gsc_bdy{position:relative;margin:0 auto;width:1100px;}.gs_el_me #gsc_bdy{width:1028px}.gs_el_sm #gsc_bdy{width:964px}.gs_el_ph #gsc_bdy,.gs_el_ta #gsc_bdy{width:auto;margin-top:44px;}.gsc_lcl{position:relative;margin:0 337px 0 16px;*zoom:1;}.gs_el_sm .gsc_lcl{margin-right:321px;}.gs_el_ta .gsc_lcl,.gs_el_ph .gsc_lcl{margin:0}#gsc_prf,#gsc_a_t{border-right:1px solid #ccc}.gs_el_ta #gsc_prf,.gs_el_ta #gsc_a_t,.gs_el_ph #gsc_prf,.gs_el_ph #gsc_a_t{border:none;}#gsc_rsb{position:absolute;top:0;right:0;width:336px;}.gs_el_sm #gsc_rsb{width:320px;}.gs_el_ta #gsc_rsb{position:relative;width:49%;float:right;margin:8px 0;*margin:0;}.gs_el_ta .gsc_prf_ed #gsc_rsb{display:none;}.gs_el_ph #gsc_rsb{position:relative;width:100%;}#gsc_rsb_m{display:none}.gs_el_ta #gsc_rsb_m,.gs_el_ph #gsc_rsb_m{display:block;position:absolute;top:-44px;*position:static;*margin-top:-44px;width:100%;height:43px;border-bottom:1px solid #ccc;}.gs_el_ta #gsc_rsb_icol,.gs_el_ph #gsc_rsb_icol,.gs_el_ta #gsc_rsb_f,.gs_el_ph #gsc_rsb_f,.gs_el_ta #gsc_rsb_gpl,.gs_el_ph #gsc_rsb_gpl{display:none;}.gsc_rsb_s{margin:20px 24px 24px 24px;position:relative;*zoom:1;}.gs_el_sm .gsc_rsb_s{margin:8px 16px 16px 16px}.gs_el_ta .gsc_rsb_s{margin:8px 16px}.gs_el_ph .gsc_rsb_s{margin:8px}.gsc_rsb_h{font-weight:bold;font-size:13px;border-bottom:1px solid #ccc;padding-bottom:4px;margin-bottom:4px;}.gs_el_sm .gsc_rsb_h{margin-bottom:0;}#gsc_rsb_icol{display:block;width:234px;height:44px;margin:12px 0;background:url('//scholar.google.com/intl/en/scholar/images/scholar_logo_md_2012.png');_background:transparent;_filter:progid:DXImageTransform.Microsoft.AlphaImageLoader(src='//scholar.google.com/intl/en/scholar/images/scholar_logo_md_2012.png');}.gs_el_ta #gsc_rsb_icol_m{display:inline-block;width:185px;height:35px;background:url('//scholar.google.com/intl/en/scholar/images/scholar_logo_sm_2012.png');_background:transparent;_filter:progid:DXImageTransform.Microsoft.AlphaImageLoader(src='//scholar.google.com/intl/en/scholar/images/scholar_logo_sm_2012.png');margin:4px 16px;position:relative;z-index:900;}.gs_el_ph #gsc_rsb_icol_m{color:#dd4b39;font-size:20px;line-height:43px;margin:0 8px;position:relative;z-index:900;}.gs_el_ta #gsc_rsb_f_m,.gs_el_ph #gsc_rsb_f_m{position:absolute;top:7px;right:8px;z-index:900;}#gsc_rsb_fin,#gsc_rsb_fin_m,#gsc_rsb_fbt,#gsc_rsb_fbt_m{vertical-align:top}#gsc_rsb_fin,#gsc_rsb_fin_m{width:228px;-webkit-border-radius:2px 0 0 2px;border-radius:2px 0 0 2px;}.gs_el_ta #gsc_rsb_fin_m{width:240px}.gs_el_ph #gsc_rsb_fin_m{width:170px}#gsc_rsb_fbt,#gsc_rsb_fbt_m{margin-left:-1px;-webkit-border-radius:0 2px 2px 0;border-radius:0 2px 2px 0;*margin-top:1px;_height:27px;}.gsc_rsb_foff #gsc_rsb_fin_m{display:none;}.gs_el_tc #gsc_rsb_fin_m{display:inline-block;-webkit-transform:scale(1,1);-moz-transform:scale(1,1);-o-transform:scale(1,1);transform:scale(1,1);visibility:visible;-webkit-transform-origin:right;-moz-transform-origin:right;-o-transform-origin:right;transform-origin:right;-webkit-transition:visibility 0s,-webkit-transform .218s;-moz-transition:visibility 0s,-moz-transform .218s;-o-transition:visibility 0s,-o-transform .218s;transition:visibility 0s,transform .218s;}.gs_el_tc .gsc_rsb_foff #gsc_rsb_fin_m{-webkit-transform:scale(0,1);-moz-transform:scale(0,1);-o-transform:scale(0,1);transform:scale(0,1);visibility:hidden;-webkit-transition:visibility 0s .218s,-webkit-transform .218s;-moz-transition:visibility 0s .218s,-moz-transform .218s;-o-transition:visibility 0s .218s,-o-transform .218s;transition:visibility 0s .218s,transform .218s;}.gs_el_tc #gsc_rsb_f_m.gsc_rsb_foff{z-index:0;-webkit-transition:z-index 0s .218s;-moz-transition:z-index 0s .218s;-o-transition:z-index 0s .218s;transition:z-index 0s .218s;}#gsc_rsb_gpl{margin:16px 0;text-align:center;}#gsc_rsb_st{width:100%;max-width:320px}.gs_el_ph #gsc_rsb_st{width:288px}#gsc_rsb_t{display:none}.gsc_rsb_std{text-align:right;padding-right:8px;}.gsc_rsb_sc1{text-align:left;}.gsc_rsb_sth{font-weight:normal;padding-bottom:4px;padding-right:8px;border-bottom:1px solid #ccc;text-align:right;}th.gsc_rsb_sc1{border-bottom:1px solid #ccc;padding-bottom:4px;font-weight:bold;font-size:13px;}.gsc_rsb_f:link,.gsc_rsb_f:visited{color:#222;}#gsc_g{position:relative;width:288px;height:100px;border:1px solid white;}#gsc_g:hover{border:1px solid #ccc;background:#f5f5f5;}#gsc_g:active{border:1px solid #4d90fe;background:#f1f1f1;}.gs_el_ta #gsc_g,.gs_el_ph #gsc_g{display:none}#gsc_g_x,#gsc_g_bars{position:absolute;bottom:13px;left:0;width:288px;height:57px;}#gsc_g_x{height:13px;border-top:1px solid #777;}.gsc_g_t{position:absolute;bottom:0;color:#777;font-size:11px;}.gsc_g_a{position:absolute;bottom:13px;width:15px;background:#777;}.gsc_g_a:hover,.gsc_g_a:focus,.gsc_g_a:active{text-decoration:none;cursor:default;}.gsc_g_al{position:absolute;bottom:15px;left:7px;color:#222;background:white;font-size:11px;padding:1px;border:1px solid #777;-webkit-border-radius:1px;-moz-border-radius:1px;border-radius:1px;visibility:hidden;opacity:0;-webkit-transition:opacity .218s,visibility 0s .218s;-moz-transition:opacity .218s,visibility 0s .218s;-o-transition:opacity .218s,visibility 0s .218s;transition:opacity .218s,visibility 0s .218s;}.gsc_g_a:hover .gsc_g_al,.gsc_g_a:focus .gsc_g_al,.gsc_g_a:active .gsc_g_al{visibility:visible;opacity:1;-webkit-transition:all 0s;-moz-transition:all 0s;-o-transition:all 0s;transition:all 0s;}.gsc_rsb_a{position:relative;list-style:none;*zoom:1;}.gsc_rsb_aa:hover{background:#f1f1f1;}span.gsc_rsb_aa:hover{background:white;}.gsc_rsb_lc{margin-left:12px;font-weight:normal;*zoom:1;}.gsc_rsb_sp{display:none}.gs_el_ph .gsc_rsb_sp,.gs_el_ta .gsc_rsb_sp{display:inline;margin-right:8px;}.gs_el_ph #gsc_rsb_co .gsc_rsb_a,.gs_el_ta #gsc_rsb_co .gsc_rsb_a{width:auto;_width:100%;overflow-x:hidden;white-space:nowrap;}.gs_el_ph #gsc_rsb_co .gsc_rsb_aa,.gs_el_ta #gsc_rsb_co .gsc_rsb_aa{display:inline-block;*display:inline;*zoom:1;}.gs_el_ph #gsc_rsb_co .gsc_rsb_a li,.gs_el_ta #gsc_rsb_co .gsc_rsb_a li{display:inline;}.gsc_rsb_fade{display:none}.gs_el_ph #gsc_rsb_co .gsc_rsb_fade,.gs_el_ta #gsc_rsb_co .gsc_rsb_fade{position:absolute;right:0;bottom:0;width:60px;height:100%;background:-webkit-linear-gradient(left, rgba(255,255,255,0) 0%,rgba(255,255,255,1) 80%);background:linear-gradient(to right,rgba(255,255,255,0) 0,rgba(255,255,255,1) 80%);filter:progid:DXImageTransform.Microsoft.gradient(startColorstr='#00ffffff',endColorstr='#ffffff',GradientType=1);}.gsc_rsb_aa{display:block;padding:4px 0;line-height:17px;*zoom:1;}.gs_el_tc .gsc_rsb_aa{line-height:26px}.gsc_rsb_aa:hover,.gsc_rsb_aa:active{text-decoration:none;}#gsc_rsb_ssc .gsc_rsb_h{margin-bottom:0}#gsc_rsb_ssc li{position:relative;border-bottom:1px solid #f1f1f1;*zoom:1;}.gs_el_ta #gsc_rsb_ssc,.gs_el_ph #gsc_rsb_ssc,#gsc_rsb_vc{display:none}.gs_el_ta #gsc_rsb_vc,.gs_el_ph #gsc_rsb_vc{display:block;text-align:center;background:#4d90fe;border:1px solid #ccc;margin:0 7px;}.gsc_rsb_vca:link,.gsc_rsb_vca:visited{font-size:13px;font-weight:bold;display:block;color:#eeeeee;text-decoration:underline;padding:16px 8px;}.gsc_rsb_t{position:absolute;top:4px;right:0;width:58px;height:21px;}.gs_el_tc .gsc_rsb_t{top:10px}.gsc_rsb_t .gs_ico{margin-left:8px;}#gsc_rsb_ssc .gsc_rsb_aa{padding:6px 0;margin-right:58px;word-break:break-word;}#gsc_ftr{margin-bottom:8px;text-align:center;}#gsc_dscl{font-style:italic;margin-bottom:16px;}#gsc_ftr a{white-space:nowrap;margin-right:16px;padding:7px 0 8px 0;}#gsc_prf{padding:24px 8px 16px 0;}.gs_el_sm #gsc_prf{padding:16px 0 8px 0;}.gs_el_ta #gsc_prf{padding:16px 0 8px 16px;}.gs_el_ph #gsc_prf{padding:16px 8px 8px 8px;}#gsc_prf_w{z-index:800}.gs_el_ta #gsc_prf_w{width:50%;float:left;}.gs_el_ta .gsc_prf_ed #gsc_prf_w{width:80%;}#gsc_art{z-index:500;clear:both}#gsc_prf_pu{float:left;width:150px;text-align:center;background:#f8f8f8;margin:0 8px 8px 0;}#gsc_prf_pu form{padding:8px 8px 0 8px;background:white;}.gs_el_ta #gsc_prf_pu,.gs_el_ph #gsc_prf_pu{width:75px}.gs_el_ta #gsc_prf_pu form,.gs_el_ph #gsc_prf_pu form{padding:4px 4px 0 4px}.gs_el_ph .gsc_prf_ed #gsc_prf_pu{display:none;}#gsc_prf_pua{display:block;line-height:0;}#gsc_prf_pufi{width:0;height:0;overflow:hidden;}.gsc_prf_pufo #gsc_prf_pufi{width:auto;height:auto;overflow:visible;position:relative;z-index:1;}.gsc_prf_pufo #gsc_prf_pufi2{display:inline-block;*display:inline;*zoom:1;background:#fcfcfc;padding:8px 8px 8px 0;}#gsc_prf_pufb{word-wrap:break-word;}.gsc_prf_pufo #gsc_prf_pufb{display:none;}#gsc_prf_e,.gsc_prf_ed #gsc_prf_i{display:none}.gsc_prf_ed #gsc_prf_e{display:block;max-width:400px}#gsc_prf_i,#gsc_prf_e,#gsc_prf_iv{margin:0 16px 0 166px;*zoom:1;}.gs_el_sm #gsc_prf_i,.gs_el_sm #gsc_prf_e,.gs_el_sm #gsc_prf_iv{margin:0 8px 0 158px;}.gs_el_ta #gsc_prf_i,.gs_el_ph #gsc_prf_i,.gs_el_ph #gsc_prf_e{margin:0 8px 0 0;}.gs_el_ta #gsc_prf_e{margin:0 8px 0 83px;}#gsc_prf_ib{float:right;position:relative;white-space:nowrap;}.gs_el_ta #gsc_prf_ib,.gs_el_ph #gsc_prf_ib{position:absolute;top:-37px;*top:-36px;left:0;width:200%;height:0;}.gs_el_ph #gsc_prf_ib{width:100%;}.gs_el_ta #gsc_prf_ib,.gs_el_ph #gsc_prf_ib{_width:expression(document.documentElement.clientWidth+\\\"px\\\");}#gsc_prf_ibi,#gsc_prf_ibi .gs_ibl{padding-left:16px;}.gs_el_ta #gsc_prf_ibi,.gs_el_ph #gsc_prf_ibi{text-align:right;padding-left:0;margin-right:60px;}.gs_el_ph #gsc_prf_ibi{margin-right:52px;}.gs_el_ph #gsc_prf_ibi .gs_ibl{padding-left:8px;}#gsc_prf_in{font-size:24px;line-height:24px;padding:3px 0 7px 0;}.gs_el_ta #gsc_prf_in,.gs_el_ph #gsc_prf_in{padding:0 0 2px 0;}.gsc_prf_il{font-size:15px;line-height:18px;padding:1px 0;}#gsc_prf_iv{display:none;font-size:15px;line-height:18px;padding:1px 0;}.gs_el_ph #gsc_prf_iv{margin:16px 8px;clear:both;}.gsc_prf_why #gsc_prf_iv{display:block}#gsc_prf_iv li{margin:8px 0 0 0;}#gsc_prf_iv ul{margin:-8px 0 16px 16px;}#gsc_prf_iv button{margin-left:16px;}.gsc_prf_iev{padding:4px 0 8px 0;}.gsc_prf_iel{color:#777;}#gsc_prf_iv table{width:100%;}#gsc_prf_iv td{vertical-align:top;}.gsc_prf_el{color:#777;}.gsc_prf_ev{padding:4px 0 8px 0;}#gsc_prf_ep{padding:8px 0;*zoom:1;}#gsc_prf_eb{padding:16px 0 32px 0;}#gsc_prf_eb button{margin-right:16px;}#gsc_fol_dd{top:29px;left:auto;right:0;*width:320px;text-align:left;}.gs_el_ph #gsc_fol_dd{min-width:240px;max-width:284px;*width:284px;right:-44px;}#gsc_fol_f,#gsc_fol_p{padding:16px}#gsc_fol_p{background:#ffc;*zoom:1}#gsc_fol_ml{color:#777;padding-bottom:4px}#gsc_fol_cb{padding:8px 0}.gsc_fol_cr{margin:8px 0;white-space:normal}.gs_el_tc .gsc_fol_cr{margin:0}#gsc_fol_dd #gsc_fol_b{margin:0}#gsc_fol_dd #gsc_fol_x{margin:0 16px}#gsc_fol_p #gsc_fol_x{margin-right:0}#gsc_fol_ll{display:inline-block;padding:7px 0 8px 0;white-space:nowrap}#gsc_fol_hlp{margin-bottom:16px;white-space:normal;}.gs_el_ph #gsc_fol_dd #gsc_fol_b,.gs_el_ph #gsc_fol_dd #gsc_fol_x,.gs_el_ph #gsc_fol_ll{display:block;width:100%;margin:8px 0 0 0;text-align:center;}.gs_el_ph #gsc_fol_ll{background:#fcfcfc}#gsc_fol_dd #gsc_fol_b,#gsc_fol_dd #gsc_fol_x,#gsc_fol_ll{*display:block;*width:100%;*margin:8px 0 0 0;*text-align:center;}#gsc_fol_ll{*background:#fcfcfc}#gsc_dd_exp-md,#gsc_dd_mor-md{top:29px;}.gs_el_ph #gsc_dd_exp-md{left:auto;right:12px;}#gsc_dd_exp-md li{*text-indent:-16px;}#gsc_dd_mor-md{width:196px;white-space:normal;}.gs_el_ph #gsc_dd_mor-md{left:-84px;}#gsc_dd_mor-m,.gs_el_ph #gsc_dd_mor-s{display:block;}#gsc_dd_mor-s{display:none;border-top:1px solid #ebebeb;}#gsc_dd_mor-s .gsc_dd_mor-sel{color:#dd4b39;}#gsc_dd_mor-p{border-top:1px solid #ebebeb;padding:10px 44px 10px 16px;color:#777;}.gsc_art_sel #gsc_btn_add,.gsc_art_sel #gsc_dd_mor-w,.gsc_art_sel #gsc_a_nn,#gsc_btn_mer,#gsc_btn_del,#gsc_btn_expw{display:none;}#gsc_dd_mor-w,.gsc_art_sel #gsc_btn_mer,.gsc_art_sel #gsc_btn_del,.gsc_art_sel #gsc_btn_expw{position:relative;display:inline-block;*display:inline;*zoom:1;}#gsc_a_t{width:100%;table-layout:fixed;}#gsc_a_tr0 th.gsc_a_x,#gsc_a_tr0 th.gsc_a_t,#gsc_a_tr0 th.gsc_a_c,#gsc_a_tr0 th.gsc_a_y{height:0;padding-top:0;padding-bottom:0;border:none;border-top:1px solid #ccc;}#gsc_a_trh{left:0;top:0;z-index:700;background:#f1f1f1;}th.gsc_a_x,th.gsc_a_t,th.gsc_a_c,th.gsc_a_y{-moz-box-sizing:border-box;-webkit-box-sizing:border-box;box-sizing:border-box;background:#f1f1f1;}.gsc_a_x,.gsc_a_t,.gsc_a_c,.gsc_a_y,.gsc_a_e{font-weight:normal;padding:8px 16px;vertical-align:middle;text-align:right;border-bottom:1px solid #ccc;}.gs_el_sm .gsc_a_t,.gs_el_sm .gsc_a_c,.gs_el_sm .gsc_a_y{padding:8px 8px;}.gsc_a_x{padding:0;}th.gsc_a_x{width:41px;height:41px;text-align:left;}th.gsc_a_x .gs_ico{background-position:0 -173px;display:block;margin-left:12px;}.gsc_a_t{text-align:left;}#gsc_a_ta,#gsc_a_nn{display:inline-block;vertical-align:middle;margin-right:16px;}.gs_el_ph #gsc_a_nn{display:none;}th.gsc_a_c{width:90px;*width:58px;}.gs_el_sm th.gsc_a_c{width:74px;*width:58px;}.gs_el_ph th.gsc_a_c{padding:0 8px;width:74px;*width:58px;word-wrap:break-word;}#gsc_a_ca{display:block;width:58px;}.gs_el_ph #gsc_a_ca{width:58px;}.gs_el_ph .gsc_art_sel #gsc_a_ca{display:none}td.gsc_a_c{padding:8px;}th.gsc_a_y{width:71px;*width:39px;}.gs_el_sm th.gsc_a_y{width:55px;*width:39px;}.gs_el_ph th.gsc_a_y,.gs_el_ph td.gsc_a_y{width:0;padding:0;}.gs_el_ph .gsc_a_h{display:none}@media print{#gs_top th.gsc_a_c{width:63pt;}#gs_top th.gsc_a_y{width:45pt;}}.gsc_a_e{padding:16px;text-align:center;}.gsc_a_a{padding:8px 0}.gsc_a_at{padding:8px 0;font-size:16px}.gsc_a_ac{padding:8px}a.gsc_a_acm{text-decoration:line-through}a.gsc_a_acm:hover,a.gs_a_acm:active{text-decoration:underline}.gsc_a_m{position:absolute}.gs_el_ph .gsc_a_m{display:block;position:static;*zoom:1;}.gsc_a_am{font-size:24px;position:absolute;top:-12px;*top:-5px;left:-8px;padding:8px 12px 4px 8px;}.gs_el_ph .gsc_a_am{display:inline-block;position:static;padding:6px 16px;margin-bottom:-6px;}#gsc_a_sp{margin-top:16px;height:25px;background:url('/intl/en/scholar/images/spinner.gif') no-repeat 50% 0%;padding-bottom:16px;border-bottom:1px solid #ccc;}#gsc_a_err{padding:28px 0;}.gsc_a_fix{position:fixed;}#gsc_lwp{margin:35px 0;text-align:center;}#gsc_bpf{display:inline-block;*display:inline;*zoom:1;}#gsc_bpf_more{min-width:200px;_width:200px;_height:31px;margin:0 16px;*margin:0;}.gs_el_ph #gsc_bpf_more{margin:0;}#gsc_md_mopt,#gsc_md_cbyd,#gsc_md_cbym{width:600px;}.gs_el_ta #gsc_md_mopt,.gs_el_ta #gsc_md_cbyd,.gs_el_ta #gsc_md_cbym{width:500px;}.gs_el_ph #gsc_md_mopt,.gs_el_ph #gsc_md_cbyd,.gs_el_ph #gsc_md_cbym{width:80%;}#gsc_md_mopt .gs_md_prg,#gsc_md_cbyd .gs_md_prg,#gsc_md_cbym .gs_md_prg{margin:48px 0;}.gsc_mob_art{vertical-align:top;padding:8px 0;}.gsc_mob_cby{vertical-align:top;text-align:right;padding:8px 12px;}.gsc_mob_ttl,.gsc_mob_pub{display:block;}.gsc_mob_pub{color:#666;}.gsc_mob_cbym{text-decoration:line-through}.gsc_mob_cbm{font-size:24px;position:absolute;padding:4px 0 0 4px;line-height:16px;}@media print{#gs_top #gs_gb,#gs_top #gsc_nag,#gs_top #gsc_rsb_lg_m,#gs_top #gsc_rsb_lg,#gs_top #gsc_prf_e,#gs_top #gsc_prf_ib,#gs_top #gsc_prf_ip,#gs_top #gsc_prf_ivh,#gs_top #gsc_prf_puf,#gs_top #gsc_rsb_ssc,#gs_top #gsc_rsb_co,#gs_top #gsc_rsb_vc,#gs_top #gsc_g,#gs_top #gsc_btn_add,#gs_top #gsc_btn_mer, #gs_top #gsc_btn_del,#gs_top #gsc_btn_expw,#gs_top #gsc_dd_mor-w,#gs_top .gsc_a_x,#gs_top #gsc_lwp,#gs_top #gsc_ftr_h{display:none;}#gs_top,#gs_top #gsc_bdy,#gs_top #gsc_prf_w,#gs_top #gsc_prf,#gs_top #gsc_prf_pu,#gs_top #gsc_prf_i,#gs_top .gsc_rsb_s,#gs_top .gsc_lcl,#gs_top #gsc_rsb,#gs_top #gsc_a_t,#gs_top .gsc_prf_il,#gs_top #gsc_rsb_st{background:none;border:none;padding:0;margin:0;height:auto;width:auto;min-width:0;max-width:none;float:none;display:block;position:static;color:black;font-weight:normal;font-size:12pt;}#gs_top .gsc_a_ac,#gs_top .gsc_a_a,#gs_top #gsc_a_ca,#gs_top .gsc_a_at,#gs_top .gsc_rsb_sc1,#gs_top .gsc_rsb_sth,#gs_top .gsc_rsb_std,#gs_top #gsc_bdy .gsc_a_x,#gs_top #gsc_bdy .gsc_a_t,#gs_top #gsc_bdy .gsc_a_c,#gs_top #gsc_bdy .gsc_a_y,#gs_top #gsc_a_trh,#gs_top .gsc_a_m,#gs_top .gsc_a_am{color:black;font-weight:normal;font-size:12pt;padding:0;margin:0;background:none;border:none;}#gs_top .gsc_a_ac{font-size:10pt}#gs_top #gsc_prf_pu{float:left;width:80pt;text-align:center;margin:0 7pt 7pt 0;}#gs_top #gsc_prf_i{margin:0 7pt 7pt 0;}#gs_top #gsc_prf_in{font-size:20pt;line-height:20pt;padding:0 0 4pt 0;}#gs_top #gsc_prf_w{float:left;width:64%;}#gs_top #gsc_rsb{float:right;width:35%;}#gs_top #gsc_rsb_st{display:table;width:100%;}#gs_top #gsc_rsb_t{display:block;text-align:right;line-height:20pt;padding-bottom:5pt;font-weight:bold;}#gs_top .gsc_rsb_sc1,#gs_top .gsc_rsb_sth,#gs_top .gsc_rsb_std{font-size:10pt;}#gs_top th.gsc_rsb_sc1,#gs_top .gsc_rsb_sth{border-bottom:1pt solid #ccc;}#gs_top .gsc_rsb_sth{padding-left:14pt;}#gs_top #gsc_bdy .gsc_a_x,#gs_top #gsc_bdy .gsc_a_t,#gs_top #gsc_bdy .gsc_a_c,#gs_top #gsc_bdy .gsc_a_y,#gs_top #gsc_a_trh{padding:6pt 0;}#gs_top #gsc_a_trh{border-bottom:1pt solid #ccc;}#gs_top #gsc_a_ca{display:block;width:auto;}#gs_top #gsc_a_ta,#gs_top #gsc_a_nn{display:inline-block;vertical-align:middle;margin-right:12pt;}#gs_top .gsc_a_h{display:inline;font-size:10pt;}#gs_top .gsc_a_at,#gs_top .gsc_prf_ila{color:blue;}#gs_top .gsc_a_m,#gs_top .gsc_a_am{display:inline;position:absolute;}#gs_top .gsc_a_am{padding: 11pt 0 0 8pt;*padding:0 0 0 4pt;}#gs_top .gsc_a_fix{position:static}#gs_top .gsc_a_t .gs_gray{color:black;font-size:10pt;}#gs_top #gsc_dscl{margin:12pt 0 0 0;}}</style><script>var gs_ie_ver=100;</script><!--[if IE 6]><script>gs_ie_ver=6;</script><![endif]--><!--[if IE 7]><script>gs_ie_ver=7;</script><![endif]--><!--[if IE 8]><script>gs_ie_ver=8;</script><![endif]--><script>function gs_id(i){return document.getElementById(i)}function gs_ch(e,t){return e?e.getElementsByTagName(t):[]}function gs_ech(e){return e.children||e.childNodes}function gs_atr(e,a){return e.getAttribute(a)}function gs_hatr(e,a){var n=e.getAttributeNode(a);return n&&n.specified}function gs_xatr(e,a,v){e.setAttribute(a,v)}function gs_uatr(e,a){e.removeAttribute(a)}function gs_catr(e,a,v){gs_hatr(e,a)&&gs_xatr(e,a,v)}function gs_ctai(e,v){gs_hatr(e,\\\"tabindex\\\")&&(e.tabIndex=v)}function gs_uas(s){return (navigator.userAgent||\\\"\\\").indexOf(s)>=0}var gs_is_tc=/[?&]tc=([01])/.exec(window.location.search||\\\"\\\"),gs_is_ios=gs_uas(\\\"iPhone\\\")||gs_uas(\\\"iPod\\\")||gs_uas(\\\"iPad\\\");if(gs_is_tc){gs_is_tc=parseInt(gs_is_tc[1]);}else if(window.matchMedia&&matchMedia(\\\"(pointer),(-moz-touch-enabled),(-moz-touch-enabled:0)\\\").matches){gs_is_tc=matchMedia(\\\"(pointer:coarse),(-moz-touch-enabled)\\\").matches;}else{gs_is_tc=gs_is_ios||gs_uas(\\\"Android\\\")||gs_uas(\\\"Windows Phone\\\")||gs_uas(\\\"BlackBerry\\\")||(gs_uas(\\\"AppleWebKit\\\")&&(gs_uas(\\\"Mobile\\\")||gs_uas(\\\"Tablet\\\")))||gs_uas(\\\"Opera Mini\\\")||gs_uas(\\\"Opera Mobi\\\")||gs_uas(\\\"IEMobile\\\")||('ontouchstart' in window)||(navigator.msMaxTouchPoints||0)>0;}var gs_re_sp=/\\\\s+/,gs_re_sel=/(?:^|\\\\s)(\\\\S*-)?gs_sel(-\\\\S*)?(?!\\\\S)/g,gs_re_par=/(?:^|\\\\s)(\\\\S*-)?gs_par(-\\\\S*)?(?!\\\\S)/g,gs_re_hvr=/(?:^|\\\\s)(\\\\S*-)?gs_hvr(-\\\\S*)?(?!\\\\S)/g,gs_re_fcs=/(?:^|\\\\s)(\\\\S*-)?gs_fcs(-\\\\S*)?(?!\\\\S)/g,gs_re_act=/(?:^|\\\\s)(\\\\S*-)?gs_act(-\\\\S*)?(?!\\\\S)/g,gs_re_dis=/(?:^|\\\\s)(\\\\S*-)?gs_dis(-\\\\S*)?(?!\\\\S)/g,gs_re_vis=/(?:^|\\\\s)(\\\\S*-)?gs_vis(-\\\\S*)?(?!\\\\S)/g,gs_re_bsp=/(?:^|\\\\s)(\\\\S*-)?gs_bsp(-\\\\S*)?(?!\\\\S)/g,gs_re_cb=/(?:^|\\\\s)gs_in_cb(?!\\\\S)/,gs_re_ra=/(?:^|\\\\s)gs_in_ra(?!\\\\S)/;function gs_xcls(e,c){var l=e.className.split(gs_re_sp),n=l.length,i;l.push(c);for(i=0;i<n;i++){l[i]&&l.push(l[i]+\\\"-\\\"+c)}gs_scls(e,l.join(\\\" \\\"));}function gs_ucls(e,r){gs_scls(e,e.className.replace(r,\\\"\\\"))}function gs_scls(e,c){return e.className!=c&&(e.className=c,true)}function gs_usel(e){gs_ucls(e,gs_re_sel)}function gs_xsel(e){gs_usel(e);gs_xcls(e,\\\"gs_sel\\\")}function gs_isel(e){(e.className.match(gs_re_sel)?gs_usel:gs_xsel)(e)}function gs_upar(e){gs_ucls(e,gs_re_par)}function gs_xpar(e){gs_upar(e);gs_xcls(e,\\\"gs_par\\\")}function gs_uhvr(e){gs_ucls(e,gs_re_hvr)}function gs_xhvr(e){gs_uhvr(e);gs_xcls(e,\\\"gs_hvr\\\");}function gs_ufcs(e){gs_ucls(e,gs_re_fcs)}function gs_xfcs(e){gs_ufcs(e);gs_xcls(e,\\\"gs_fcs\\\")}function gs_uact(e){gs_ucls(e,gs_re_act)}function gs_xact(e){gs_uact(e);gs_xcls(e,\\\"gs_act\\\")}function gs_udis(e){gs_ucls(e,gs_re_dis)}function gs_xdis(e){gs_udis(e);gs_xcls(e,\\\"gs_dis\\\")}function gs_uvis(e){gs_ucls(e,gs_re_vis)}function gs_xvis(e){gs_uvis(e);gs_xcls(e,\\\"gs_vis\\\")}function gs_ubsp(e){gs_ucls(e,gs_re_bsp)}function gs_xbsp(e){gs_ubsp(e);gs_xcls(e,\\\"gs_bsp\\\")}var gs_gcs=window.getComputedStyle?function(e){return getComputedStyle(e,null)}:function(e){return e.currentStyle};var gs_ctd=function(){var s=document.documentElement.style,p,l=['OT','MozT','webkitT','t'],i=l.length;function f(s){return Math.max.apply(null,(s||\\\"\\\").split(\\\",\\\").map(parseFloat))||0;}do{p=l[--i]+'ransition'}while(i&&!(p in s));return i?function(e){var s=gs_gcs(e);return f(s[p+\\\"Delay\\\"])+f(s[p+\\\"Duration\\\"]);}:function(){return 0};}();function gs_vis(e,v,c){var s=e&&e.style,n=\\\"webkitTransitionEnd\\\",h,f;if(s){gs_catr(e,\\\"aria-hidden\\\",v?\\\"false\\\":\\\"true\\\");if(v){s.display=v===2?\\\"inline\\\":\\\"block\\\";gs_ctd(e);gs_xvis(e);h=function(){e.removeEventListener(n,h,false);var t=pageYOffset+e.getBoundingClientRect().bottom,x=gs_id(\\\"gs_top\\\");t>x.offsetHeight&&(x.style.minHeight=t+\\\"px\\\");};f=gs_ctd(e);\\\"on\\\"+n.toLowerCase() in window&&f&&e.addEventListener(n,h,false);c&&(f?setTimeout(c,1000*f):c());}else{gs_uvis(e);h=function(){s.display=\\\"none\\\";var x=gs_id(\\\"gs_top\\\").style;x.minHeight&&(x.minHeight=\\\"\\\");c&&c();};f=gs_ctd(e);f?setTimeout(h,1000*f):h();}}}function gs_visi(i,v,c){gs_vis(gs_id(i),v,c)}function gs_sel_clk(p,t){var l=gs_ch(gs_id(p),\\\"li\\\"),i=l.length,c,x,s;while(i--){if((c=gs_ch(x=l[i],\\\"a\\\")).length){s=c[0]===t;(s?gs_xsel:gs_usel)(x);gs_catr(c[0],\\\"aria-selected\\\",s?\\\"true\\\":\\\"false\\\");}}return false;}function gs_efl(f){if(typeof f==\\\"string\\\"){var c=f.charAt(0),x=f.slice(1);if(c===\\\"#\\\")f=function(t){return t.id===x};else if(c===\\\".\\\")f=function(t){return (\\\" \\\"+t.className+\\\" \\\").indexOf(\\\" \\\"+x+\\\" \\\")>=0};else{c=f.toLowerCase();f=function(t){return t.nodeName.toLowerCase()===c};}}return f;}function gs_dfcn(d){return (d?\\\"last\\\":\\\"first\\\")+\\\"Child\\\"}function gs_dnsn(d){return (d?\\\"previous\\\":\\\"next\\\")+\\\"Sibling\\\"}var gs_trv=function(){function h(r,x,f,s,n,c){var t,p;while(x){if(x.nodeType===1){if(f(x)){if(c)return x;}else{for(p=x[s];p;p=p[n])if(t=h(p,p,f,s,n,1))return t;}}c=1;while(1){if(x===r)return;p=x.parentNode;if(x=x[n])break;x=p;}}}return function(r,x,f,d){return h(r,x,gs_efl(f),gs_dfcn(d),gs_dnsn(d))};}();function gs_bind(){var a=Array.prototype.slice.call(arguments),f=a.shift();return function(){return f.apply(null,a.concat(Array.prototype.slice.call(arguments)))};}var gs_evt_ie=[],gs_evt1=window.addEventListener?function(e,n,f){e.addEventListener(n,f,false);}:function(e,n,f){n=\\\"on\\\"+n;e.attachEvent(n,f);gs_ie_ver<=6&&gs_evt_ie.push(function(){e.detachEvent(n,f)});};function gs_evt(e,n,f){if(typeof n===\\\"string\\\")gs_evt1(e,n,f);else for(var i=n.length;i--;)gs_evt1(e,n[i],f);}function gs_evt_all(l,n,f){for(var i=l.length;i--;){gs_evt(l[i],n,gs_bind(f,l[i]))}}function gs_evt_dlg(p,c,n,f){p!==c&&(c=gs_efl(c));gs_evt(p,n,p===c?function(e){f(p,e)}:function(e){var t=gs_evt_tgt(e);while(t){if(c(t))return f(t,e);if(t===p)return;t=t.parentNode;}});}function gs_evt_sms(v){var L=[],l=[\\\"mousedown\\\",\\\"click\\\"],i=l.length;function s(e){for(var l=L,n=l.length,i=0,x=e.clientX,y=e.clientY;i<n;i+=2){if(Math.abs(x-l[i])<10&&Math.abs(y-l[i+1])<10){gs_evt_ntr(e);break;}}}while(i--)document.addEventListener(l[i],s,true);gs_evt_sms=function(e){var l=e.changedTouches||[],h=l[0]||{};L.push(h.clientX,h.clientY);setTimeout(function(){L.splice(0,2)},2000);};gs_evt_sms(v);v=0;}function gs_evt_clk(e,f,w,k){return gs_evt_dlg_clk(e,e,function(t,e){f(e)},w,k);}function gs_evt_dlg_clk(p,c,f,w,k){k=\\\",\\\"+(k||[13,32]).join(\\\",\\\")+\\\",\\\";return gs_evt_dlg_xclk(p,c,function(t,e){if(e.type==\\\"keydown\\\"){if(k.indexOf(\\\",\\\"+e.keyCode+\\\",\\\")<0)return;gs_evt_ntr(e);}f(t,e);},w);}var gs_evt_cl=[\\\"touchstart\\\",\\\"touchend\\\",\\\"touchcancel\\\",\\\"mousedown\\\",\\\"keydown\\\",\\\"keyup\\\",\\\"click\\\"];function gs_evt_xclk(e,f,w){return gs_evt_dlg_xclk(e,e,function(t,e){f(e)},w);}function gs_evt_dlg_xclk(p,c,f,w){var T,S=0,X=0,Y=0,O=0,V=0;function u(t,e){var n=e.type,h,l;if(t!==T){T=t;S=0;}if(!gs_evt_spk(e)){if(n===\\\"mousedown\\\"){if(w!==2)return S=0;S=1;}else if(n===\\\"click\\\"){if(S){gs_evt_ntr(e);return S=0;}}else if(n===\\\"touchstart\\\"&&w){if(e.timeStamp-V<200){gs_evt_ntr(e);return S=0;}if(w===2){S=0;}else{if((l=e.touches).length!==1)return S=-3;h=l[0];X=h.pageX;Y=h.pageY;O=pageYOffset;return S=3;}}else if(n===\\\"touchcancel\\\"){return S=0;}else if(n===\\\"touchend\\\"&&w){gs_evt_sms(e);V=e.timeStamp;if(w===2){gs_evt_ntr(e);return S=0;}if(S!==3||(l=e.changedTouches).length!==1||Math.abs(X-(h=l[0]).pageX)>10||Math.abs(Y-h.pageY)>10||Math.abs(O-pageYOffset)>1){return S=(e.touches.length?-4:0);}S=0;}else if(n===\\\"keydown\\\"){f(t,e);return;}else if(n===\\\"keyup\\\"){e.keyCode===32&&gs_evt_pdf(e);return;}else{return}gs_evt_ntr(e);f(t,e);}}gs_evt_dlg(p,c,w?gs_evt_cl:[\\\"click\\\",\\\"keydown\\\",\\\"keyup\\\"],u);return u;}function gs_evt_inp(e,f){gs_evt(e,[\\\"input\\\",\\\"keyup\\\",\\\"cut\\\",\\\"paste\\\",\\\"change\\\"],function(){setTimeout(f,0)});}function gs_evt_fcs(e,f){e.addEventListener(\\\"focus\\\",f,true)}function gs_evt_blr(e,f){e.addEventListener(\\\"blur\\\",f,true)}if(\\\"onfocusin\\\" in document){gs_evt_fcs=function(e,f){gs_evt(e,\\\"focusin\\\",f)};gs_evt_blr=function(e,f){gs_evt(e,\\\"focusout\\\",f)};}function gs_evt_stp(e){e.cancelBubble=true;e.stopPropagation&&e.stopPropagation();return false;}function gs_evt_pdf(e){e.returnValue=false;e.preventDefault&&e.preventDefault();}function gs_evt_ntr(e){gs_evt_stp(e);gs_evt_pdf(e);}function gs_evt_tgt(e){var t=e.target||e.srcElement;t&&t.nodeType===3&&(t=t.parentNode);return t;}function gs_evt_spk(e){return e.ctrlKey||e.altKey||e.metaKey||e.shiftKey}function gs_tfcs(t){if(!gs_is_tc||(gs_uas(\\\"Windows\\\")&&!gs_uas(\\\"IEMobile\\\"))){t.focus();t.value=t.value;}}var gs_raf=window.requestAnimationFrame||window.webkitRequestAnimationFrame||window.mozRequestAnimationFrame||function(c){setTimeout(c,33)};var gs_evt_rdy=function(){var d=document,l=[],h=function(){var n=l.length,i=0;while(i<n)l[i++]();l=[];};gs_evt(d,\\\"DOMContentLoaded\\\",h);gs_evt(d,\\\"readystatechange\\\",function(){var s=d.readyState;(s==\\\"complete\\\"||(s==\\\"interactive\\\"&&gs_id(\\\"gs_rdy\\\")))&&h();});gs_evt(window,\\\"load\\\",h);return function(f){l.push(f)};}();function gs_evt_raf(e,n){var l=[],t=0,h=function(){var x=l,n=x.length,i=0;while(i<n)x[i++]();t=0;};return function(f){l.length||gs_evt(e,n,function(){!t++&&gs_raf(h)});l.push(f);};}var gs_evt_wsc=gs_evt_raf(window,\\\"scroll\\\"),gs_evt_wre=gs_evt_raf(window,\\\"resize\\\");var gs_md_st=[],gs_md_lv={},gs_md_fc={},gs_md_if,gs_md_is=0;function gs_md_ifc(d,f){gs_md_fc[d]=f}function gs_md_sif(){gs_md_if=1;setTimeout(function(){gs_md_if=0},0);}function gs_md_plv(n){var l=gs_md_lv,x=0;while(n&&!x){x=l[n.id]||0;n=n.parentNode;}return x;}gs_evt(document,\\\"click\\\",function(e){var m=gs_md_st.length;if(m&&!gs_evt_spk(e)&&m>gs_md_plv(gs_evt_tgt(e))){(gs_md_st.pop())();gs_evt_pdf(e);}});gs_evt(document,\\\"keydown\\\",function(e){e.keyCode==27&&!gs_evt_spk(e)&&gs_md_st.length&&(gs_md_st.pop())();});gs_evt(document,\\\"selectstart\\\",function(e){gs_md_is&&gs_evt_pdf(e)});gs_evt_fcs(document,function(e){var l=gs_md_lv,m=gs_md_st.length,x,k,v,d;if(m&&!gs_md_if){x=gs_md_plv(gs_evt_tgt(e));while(x<m){v=0;for(k in l)l.hasOwnProperty(k)&&l[k]>v&&(v=l[d=k]);if(v=gs_md_fc[d]){gs_evt_stp(e);gs_id(v).focus();break;}else{(gs_md_st.pop())(1);--m;!gs_md_is++&&setTimeout(function(){gs_md_is=0},1000);}}}});function gs_md_cls(d,e){var x=gs_md_lv[d]||1e6;while(gs_md_st.length>=x)(gs_md_st.pop())();return gs_evt_stp(e);}function gs_md_shw(d,e,o,c){if(!gs_md_lv[d]){var x=gs_md_plv(gs_id(d));while(gs_md_st.length>x)(gs_md_st.pop())();o&&o();gs_md_st.push(function(u){gs_md_lv[d]=0;c&&c(u);});gs_md_lv[d]=gs_md_st.length;return gs_evt_stp(e);}}function gs_md_opn(d,e,c,z){var a=document.activeElement;return gs_md_shw(d,e,gs_bind(gs_visi,d,1),function(u){gs_visi(d,0,z);try{u||a.focus()}catch(_){}c&&c(u);});}function gs_evt_md_mnu(d,b,f,a,w){var O,X;d=gs_id(d);b=gs_id(b);f=f?gs_efl(f):function(t){return (gs_hatr(t,\\\"data-a\\\")||t.nodeName===\\\"A\\\"&&t.href)&&t.offsetWidth;};a=a||function(t){var c=gs_atr(t,\\\"data-a\\\");c?eval(c):t.nodeName===\\\"A\\\"&&t.href&&(location=t.href);};function u(e){if(e.type==\\\"keydown\\\"){var k=e.keyCode;if(k==38||k==40){if(O){try{gs_trv(d,d,f,k==38).focus()}catch(_){}gs_evt_ntr(e);return;}}else if(k!=13&&k!=32){return;}gs_evt_pdf(e);}if(O){gs_md_cls(d.id,e);}else{gs_md_sif();O=1;gs_xsel(b);gs_md_opn(d.id,e,function(){O=0;gs_usel(b);try{gs_ufcs(X);X.blur()}catch(_){}});w&&w();}}function c(x,r){var p=x.parentNode,c=gs_ech(p),i=c.length,l=\\\"offsetLeft\\\";if(p!==d){while(c[--i]!==x);p=p[gs_dnsn(r)]||p.parentNode[gs_dfcn(r)];c=gs_ech(p);if(i=Math.min(i+1,c.length)){p=c[i-1];if(p.nodeType==1&&f(p)&&p[l]!=x[l])return p;}}}function g(t,e){function m(x){if(x){gs_evt_ntr(e);x.focus();}}if(O){if(e.type==\\\"keydown\\\"){var k=e.keyCode;if(k==13||k==32){}else{if(k==38||k==40){m(gs_trv(d,t,f,k==38)||gs_trv(d,d,f,k==38));}else if(k==37||k==39){m(c(t,k==37));}return;}}gs_md_cls(d.id,e);gs_evt_pdf(e);gs_md_sif();a(t);}}gs_evt_xclk(b,u,2);gs_evt_fcs(d,function(e){var x=gs_evt_tgt(e);if(x&&f(x)){gs_ctai(x,0);gs_xfcs(x);X=x;}});gs_evt_blr(d,function(e){var x=gs_evt_tgt(e);if(x&&f(x)){gs_ctai(x,-1);gs_ufcs(x);X=0;}});gs_evt_dlg_xclk(d,f,g,1);return u;}function gs_evt_dlg_md_mnu(p,d,b,f,a,w){var r={};gs_evt_dlg(p,function(t){return d(t.id)},gs_evt_cl,function(t,e){var x=t.id;r[x]=r[x]||gs_evt_md_mnu(d(x),x,f,a,w)(e)||1;});}function gs_evt_md_sel(d,b,h,c,s,u){h=gs_id(h);c=gs_id(c);s=gs_id(s);return gs_evt_md_mnu(d,b,function(t){return gs_hatr(t,\\\"data-v\\\")},function(t){h.innerHTML=t.innerHTML;c.value=gs_atr(t,\\\"data-v\\\");if(t!==s){gs_usel(s);gs_uatr(s,\\\"aria-selected\\\");gs_xsel(s=t);gs_xatr(s,\\\"aria-selected\\\",\\\"true\\\");}u&&u();},function(){s.focus()});}function gs_xhr(){if(window.XMLHttpRequest)return new XMLHttpRequest();var c=[\\\"Microsoft.XMLHTTP\\\",\\\"MSXML2.XMLHTTP\\\",\\\"MSXML2.XMLHTTP.3.0\\\",\\\"MSXML2.XMLHTTP.6.0\\\"],i=c.length;while(i--)try{return new ActiveXObject(c[i])}catch(e){}}function gs_ajax(u,d,c){var r=gs_xhr();r.onreadystatechange=function(){r.readyState==4&&c(r.status,r.responseText);};r.open(d?\\\"POST\\\":\\\"GET\\\",u,true);d&&r.setRequestHeader(\\\"Content-Type\\\",\\\"application/x-www-form-urlencoded\\\");d?r.send(d):r.send();}var gs_json_parse=\\\"JSON\\\" in window?function(s){return JSON.parse(s)}:function(s){return eval(\\\"(\\\"+s+\\\")\\\")};function gs_btn_ssp(b,v){\\xa0 var x=gs_id(b);\\xa0 (v?gs_xbsp:gs_ubsp)(x);\\xa0 x.disabled=!!v;}function gs_evt_frm_ajax(f,b,a){var Z=f.elements,H={},x,y,i=Z.length;while(i--){x=Z[i];y=x.nextSibling;if(y&&x.name&&x.type==\\\"text\\\")H[x.name]=y.innerHTML;}function s(e){var p=[\\\"json=\\\"],n,t,i=Z.length;while(i--){x=Z[i];n=encodeURIComponent(x.name||\\\"\\\");t=x.type;if(n&&!x.disabled&&((t!=\\\"checkbox\\\"&&t!=\\\"radio\\\")||x.checked)){p.push(n+\\\"=\\\"+encodeURIComponent(x.value||\\\"\\\"));}}b&&b();gs_ajax(f.action,p.join(\\\"&\\\"),function(c,t){if(c!=200){a&&a(c);return}var p=gs_json_parse(t),l=p[\\\"L\\\"],g,m;if(l){a&&a(c,p);location=l;return}g=p[\\\"E\\\"];for(i in H){x=Z[i];m=g[i];y=x.nextSibling;gs_scls(x,\\\"gs_in_txt\\\"+(m?\\\" gs_in_txte\\\":\\\"\\\"));gs_scls(y,\\\"gs_in_txts \\\"+(m?\\\"gs_red\\\":\\\"gs_gray\\\"));y.innerHTML=m||H[i];gs_vis(y,y.innerHTML?1:0);}a&&a(c,p);});e&&gs_evt_pdf(e);};gs_evt(f,\\\"submit\\\",s);return s;}var gs_lst,gs_xlst;if(window.localStorage){gs_lst=function(k){return localStorage[k]};gs_xlst=function(k,v){localStorage[k]=v};}else if(gs_ie_ver<8)!function(){var c;function l(){if(c)return c;c=document.createElement(\\\"div\\\");c.style.display=\\\"none\\\";c.style.behavior=\\\"url('#default#userdata')\\\";document.body.appendChild(c);return c;}gs_lst=function(k){l().load(\\\"s\\\");return gs_atr(l(),k)};gs_xlst=function(k,v){gs_xatr(l(),k,v);l().save(\\\"s\\\")};}();var gs_evt_el=function(W,D,L){function p(){var r=D.documentElement,w=W.innerWidth||r.offsetWidth,h=W.innerHeight||r.offsetHeight,m=\\\"\\\",n,i;if(w&&h){if(w<600)m=\\\"gs_el_sm gs_el_ph\\\";else if(w<982)m=\\\"gs_el_sm gs_el_ta\\\";else if(w<1060||h<590)m=\\\"gs_el_sm\\\";else if(w<1252||h<640)m=\\\"gs_el_me\\\";gs_is_tc&&gs_ie_ver>=8&&(m+=\\\" gs_el_tc\\\");gs_is_ios&&(m+=\\\" gs_el_ios\\\");if(gs_scls(r,m))for(n=L.length,i=0;i<n;)L[i++]();}}p();gs_evt_wre(p);gs_evt(W,[\\\"pageshow\\\",\\\"load\\\"],p);return function(f){f();L.push(f)};}(window,document,[]);gs_is_ios&&gs_uas(\\\"AppleWebKit\\\")&&!gs_uas(\\\"CriOS\\\")&&(gs_uas(\\\"OS 4_\\\")||gs_uas(\\\"OS 5_\\\"))&&(function(){var t=0,v=document.querySelector(\\\"meta[name=viewport]\\\");v&&gs_evt(window,\\\"devicemotion\\\",function(e){var a=e.accelerationIncludingGravity,x=Math.abs(a.x),y=Math.abs(a.y),m=x>1&&x>1.3*y&&!(window.orientation%180);m!==t&&gs_xatr(v,'content','width=device-width,initial-scale=1,minimum-scale=1,maximum-scale='+(m?1:2));t=m;});})();function gs_is_cb(e){var n=e.className||\\\"\\\";return n.match(gs_re_cb)||n.match(gs_re_ra);}function gs_ssel(e){}(function(d){function c(){var v=l,i=v.length,k=p,e,x=gs_id(\\\"gs_top\\\");if(x&&!r){gs_evt(x,\\\"click\\\",function(){});r=1;if(!s){clearInterval(t);t=null}}p=i;while(i-->k)gs_is_cb((e=v[i]).parentNode)&&gs_ssel(e);}var s=gs_ie_ver<=8,l=[],p=0,t=setInterval(c,200),r;gs_evt_rdy(function(){c();l=[];clearInterval(t)});if(!s&&gs_is_tc){s=/AppleWebKit\\\\/([0-9]+)/.exec(navigator.userAgent||\\\"\\\");s=s&&parseInt(s[1])<535;}if(!s)return;l=gs_ch(d,\\\"input\\\");gs_ssel=function(e){var p=e.parentNode,l,i,r;(e.checked?gs_xsel:gs_usel)(p);if(p.className.match(gs_re_ra)){l=e.form.elements[e.name]||[];for(i=l.length;i--;)((r=l[i]).checked?gs_xsel:gs_usel)(r.parentNode);}};gs_evt(d,\\\"click\\\",function(e){var x=gs_evt_tgt(e),p=x.parentNode;gs_is_cb(p)&&x.nodeName===\\\"INPUT\\\"&&gs_ssel(x);});if(gs_ie_ver>7)return;function w(t){var n=t&&t.nodeName;while(n===\\\"SPAN\\\"||n===\\\"B\\\"||n===\\\"I\\\")n=(t=t.parentNode).nodeName;return t;}var A;function y(f,e){var t=w(e.srcElement),n=t&&t.nodeName,p;if(n===\\\"INPUT\\\"||n===\\\"BUTTON\\\"||n===\\\"LABEL\\\"){p=t.parentNode;f(gs_is_cb(p)?p:t);}}gs_evt(d,\\\"mousedown\\\",gs_bind(y,function(t){gs_xact(A=t)}));gs_evt(d,\\\"mouseup\\\",function(){A&&(gs_uact(A),A=0)});gs_evt(d,\\\"focusin\\\",gs_bind(y,gs_xfcs));gs_evt(d,\\\"focusout\\\",gs_bind(y,gs_ufcs));if(gs_ie_ver>6)return;gs_evt(window,\\\"unload\\\",function(){var l=gs_evt_ie,i=l.length;while(i--){(l[i])()}l.length=0;});gs_evt(window,\\\"load\\\",function(){try{document.execCommand(\\\"BackgroundImageCache\\\",false,true)}catch(_){}});function h(t){var n=(t=w(t))&&t.nodeName,p;return n===\\\"BUTTON\\\"||n===\\\"LI\\\"?t:(n===\\\"INPUT\\\"||n===\\\"LABEL\\\")&&(gs_is_cb(p=t.parentNode)?p:t);}gs_evt(d,\\\"mouseover\\\",function(e){var f=h(e.fromElement),t=h(e.srcElement);t&&t!==f&&gs_xhvr(t);});gs_evt(d,\\\"mouseout\\\",function(e){var f=h(e.srcElement),t=h(e.toElement);f&&f!==t&&gs_uhvr(f);});function a(t){var n=(t=w(t))&&t.nodeName;return n===\\\"BUTTON\\\"&&t.type===\\\"submit\\\"&&t;}function k(f,b){var l=gs_ch(f,\\\"button\\\"),i=l.length,r=[],x;while(i--)(x=l[i]).type===\\\"submit\\\"&&r.push(x);if((i=r.length)>1){while(i--)(x=r[i])!==b&&(x.disabled=true);f.submit();}}gs_evt(d,\\\"keydown\\\",function(e){var v=e.srcElement,f,b;if(e.keyCode===13&&!gs_evt_spk(e)){for(f=v;f&&f.nodeName!==\\\"FORM\\\";f=f.parentNode);f&&((b=a(v))||v.nodeName===\\\"INPUT\\\"&&v.type===\\\"text\\\"?k(f,b):gs_evt_pdf(e));}});gs_evt(d,\\\"click\\\",function(e){var f,b;!gs_evt_spk(e)&&(b=a(e.srcElement))&&(f=b.form)&&k(f,b);});})(document);</script><script>function gsc_scroll_right(x){x.scrollLeft=x.scrollWidth;}var gsc_art_sel_l=[];function gsc_evt_art_sel(f){gsc_art_sel_l.push(f)}function gsc_art_sel_chg(){var l=gsc_art_sel_l,n=l.length,i=0;while(i<n)l[i++]();}function gsc_art_cbs(){return gs_ch(gs_id(\\\"gsc_a_t\\\"),\\\"input\\\")}function gsc_art_sids(l){l=l||gsc_art_cbs();var i=l.length,c,s=[];while(i--)(c=l[i]).checked&&s.push(c.value);return s;}function gsc_art_sel(v){var l=gsc_art_cbs(),i=l.length,x;while(i--){(x=l[i]).checked=!!v;gs_ssel(x)}gsc_art_sel_chg();}gs_evt_rdy(function(){var x=gs_id(\\\"gsc_x_all\\\");gsc_art_sel_chg();gs_evt_dlg(gs_id(\\\"gsc_a_t\\\"),\\\"input\\\",[\\\"click\\\",\\\"change\\\"],gsc_art_sel_chg);x&&gs_evt_clk(x,function(){gsc_art_sel(!gsc_art_sids().length);});});function gsc_btn_sdis(b,d){b.disabled=!!d;(d?gs_xdis:gs_udis)(b);}function gsc_tr_add(b,h){try{b.innerHTML+=h}catch(_){var d=document.createElement(\\\"div\\\"),r,c,i,n;d.innerHTML=\\\"<table>\\\"+h+\\\"</table>\\\";r=gs_ch(d,\\\"tr\\\");for(i=0,n=r.length,c=[];i<n;i++)c.push(r[i]);for(i=0;i<n;i++)b.appendChild(c[i]);}}function gsc_rsb_mco(x,w){var f=gs_id(\\\"gsc_rsb_mco\\\"),e=f.elements;e.colleague.value=x;e.add_colleague_btn.disabled=!!w;e.del_sugg_coll_btn.disabled=!w;f.submit();return false;}function gsc_prf_ed(w){gs_scls(gs_id(\\\"gsc_bdy\\\"),w?\\\"gsc_prf_ed\\\":\\\"\\\");}gsc_evt_art_sel(function(){var n,k=gsc_art_cbs(),m=gs_id(\\\"gsc_btn_mer\\\"),o=gs_id(\\\"gsc_x_all\\\");if(m){n=gsc_art_sids(k).length;gsc_btn_sdis(m,n<2||n>5);if(o){(n==k.length?gs_xsel:gs_usel)(o);((n>0&&n<k.length)?gs_xpar:gs_upar)(o);}gs_scls(gs_id(\\\"gsc_a_hd\\\"),n?\\\"gsc_art_sel\\\":\\\"\\\");}});function gsc_art_export(f){var l=gsc_art_cbs(),s=gsc_art_sids(l);gsc_md_show_exa(s,s.length==l.length,f,{});}gs_evt_rdy(function(){var m=gs_id(\\\"gsc_btn_mer\\\");m&&gs_evt(m,\\\"click\\\",function(e){gsc_md_show_mopt(gsc_art_sids(),e);});var p=gs_id(\\\"gsc_prf_puf\\\"),u;if(p){u=p.elements.upload_file;gs_evt(gs_id(\\\"gsc_prf_pufb\\\"),\\\"click\\\",function(e){if(gs_uas(\\\"MSIE \\\")||gs_uas(\\\"Trident\\\")){gs_scls(p,\\\"gsc_prf_pufo\\\");gs_md_opn(\\\"gsc_prf_pufi\\\",e,function(){gs_scls(p,\\\"\\\")});u.focus();}else{u.click();}});gs_evt(u,\\\"change\\\",function(){p.submit()});}});gs_evt_rdy(function(){var h=window.location.href,s=parseInt(h.replace(/.*[?&]cstart=([0-9]*).*/,\\\"$1\\\"))||0,n=parseInt(h.replace(/.*[?&]pagesize=([0-9]*).*/,\\\"$1\\\"))||20,P=gs_id(\\\"gsc_bpf_prev\\\"),N=gs_id(\\\"gsc_bpf_next\\\"),M=gs_id(\\\"gsc_bpf_more\\\");function t(){return Math.max(Math.min(n,100),20)}n=t();function p(k,m){return (h.replace(/([?&])(cstart|pagesize)=[^&]*/g,\\\"$1\\\")+\\\"&cstart=\\\"+k+\\\"&pagesize=\\\"+m).replace(/([?&])&+/,\\\"$1\\\");}gs_evt(P,\\\"click\\\",function(){location=p(s-t(),t())});gs_evt(N,\\\"click\\\",function(){location=p(s+n,t())});gs_evt(M,\\\"click\\\",function(){var m=n<100?100-n:100,x=gs_id(\\\"gsc_a_sp\\\"),g=gs_id(\\\"gsc_a_err\\\");gs_vis(g,0);gs_vis(x,1);gs_ie_ver<7&&(gs_id(\\\"gsc_lwp\\\").className=\\\"\\\");gs_ajax(p(s+n,m),\\\"json=1\\\",function(c,t){var r=c==200&&gs_json_parse(t),b=gs_id(\\\"gsc_a_b\\\");gs_vis(x,0);if(r){gsc_tr_add(b,r[\\\"B\\\"]);n+=m;(gs_id(\\\"gsc_a_nn\\\")||{}).innerHTML=(s+1)+\\\"&ndash;\\\"+(s+gs_ch(b,\\\"tr\\\").length);gsc_btn_sdis(P,!r[\\\"P\\\"]||s<=0);gsc_btn_sdis(N,!r[\\\"N\\\"]);gsc_btn_sdis(M,!r[\\\"N\\\"]||n>=1000);}else{gs_vis(g,1);}gs_ie_ver<7&&(gs_id(\\\"gsc_lwp\\\").className=\\\"\\\");});});});gs_evt_rdy(function(){var f=gs_id(\\\"gsc_rsb_f_m\\\"),i=gs_id(\\\"gsc_rsb_fin_m\\\"),b=gs_id(\\\"gsc_rsb_fbt_m\\\");gs_evt_blr(f,function(){setTimeout(function(){var a=document.activeElement;a!==i&&a!==b&&gs_scls(f,\\\"gsc_rsb_foff\\\");},0);});gs_evt(f,\\\"submit\\\",function(e){\\xa0 if(f.className){gs_scls(f,\\\"\\\");setTimeout(function(){i.focus();},1000*gs_ctd(i));\\xa0   \\xa0 gs_evt_pdf(e);\\xa0 }else if(!i.value){\\xa0   \\xa0 gs_scls(f,\\\"gsc_rsb_foff\\\");gs_evt_pdf(e);\\xa0 }});});</script><title>Jeff Leek - Google Scholar Citations</title><link rel=\\\"canonical\\\" href=\\\"http://scholar.google.com/citations?user=HI-I6C0AAAAJ&amp;hl=en\\\"></head><body><div id=\\\"gs_top\\\"><style>#gs_gb{position:relative;height:30px;background:#2d2d2d;z-index:950;font-size:13px;line-height:16px;-webkit-backface-visibility:hidden;}#gs_gb_lt,#gs_gb_rt,#gs_gb_lp{position:absolute;top:0;white-space:nowrap;}#gs_gb_lt{left:34px}.gs_el_me #gs_gb_lt{left:18px}.gs_el_sm #gs_gb_lt{left:6px}.gs_el_ph #gs_gb_lt{display:none}#gs_gb_lp{display:none}#gs_gb_lp:hover,#gs_gb_lp:focus,#gs_gb_lp:active{-webkit-filter:brightness(100%);}.gs_el_ph #gs_gb_lp{display:block;z-index:1;cursor:pointer;top:8px;left:8px;width:50px;height:17px;background:url('/intl/en/scholar/images/google_logo_tg_2012.png');_background:transparent;_filter:progid:DXImageTransform.Microsoft.AlphaImageLoader(src='/intl/en/scholar/images/google_logo_tg_2012.png');}#gs_gb_rt{right:36px}.gs_el_me #gs_gb_rt{right:18px}.gs_el_sm #gs_gb_rt{right:6px}.gs_el_ta #gs_gb_rt,.gs_el_ph #gs_gb_rt{right:0}#gs_gb_lt a:link,#gs_gb_lt a:visited,#gs_gb_rt a:link,#gs_gb_rt a:visited{display:inline-block;vertical-align:top;height:29px;line-height:27px;padding:2px 10px 0 10px;font-weight:bold;color:#bbb;cursor:pointer;text-decoration:none;}#gs_gb_rt a:link,#gs_gb_rt a:visited{padding:2px 8px 0 8px}#gs_gb_lt a:hover,#gs_gb_lt a:focus,#gs_gb_lt a:active,#gs_gb_rt a:hover,#gs_gb_rt a:focus,#gs_gb_rt a:active{color:white;outline:none;}#gs_gb_ac{top:30px;left:auto;right:6px;width:288px;white-space:normal;}#gs_gb_aw,#gs_gb_ap,.gs_gb_am,#gs_gb_ab{display:block;padding:10px 20px;word-wrap:break-word;}#gs_gb_aw{background:#fef9db;font-size:11px;}#gs_gb_ap,.gs_gb_am{border-bottom:1px solid #ccc;}#gs_gb_aa:link,#gs_gb_aa:visited{float:right;margin-left:8px;color:#1a0dab;}#gs_gb_aa:active{color:#d14836}.gs_gb_am:link,.gs_gb_am:visited{color:#222;text-decoration:none;background:#fbfbfb;}.gs_gb_am:hover,.gs_gb_am:focus{background:#f1f1f1}.gs_gb_am:active{background:#eee}#gs_gb_ab{background:#fbfbfb;overflow:auto;*zoom:1;}#gs_gb_aab{float:left}#gs_gb_aso{float:right}</style><div id=\\\"gs_gb\\\" role=\\\"navigation\\\"><div id=\\\"gs_gb_lt\\\"><a href=\\\"//www.google.com/webhp?hl=en&amp;\\\">Web</a><a href=\\\"//www.google.com/imghp?hl=en&amp;\\\">Images</a><a href=\\\"//www.google.com/intl/en/options/\\\">More&hellip;</a></div><a id=\\\"gs_gb_lp\\\" aria-label=\\\"Web\\\" href=\\\"//www.google.com/webhp?hl=en&\\\"></a><div id=\\\"gs_gb_rt\\\"><a href=\\\"https://accounts.google.com/Login?hl=en&amp;continue=http://scholar.google.com/citations%3Fuser%3DHI-I6C0AAAAJ%26hl%3Den\\\">Sign in</a></div></div><style>html,body{height:100%}#gs_top{min-height:100%;_height:100%}#gs_md_s,#gs_md_w{z-index:1200;position:absolute;top:0;left:0;width:100%;height:100%;_height:expression(document.body.offsetHeight+\\\"px\\\");}#gs_md_s{background:#666;filter:alpha(opacity=50);-ms-filter:\\\"alpha(opacity=50)\\\";opacity:.5;}.gs_md_d{position:relative;padding:28px 32px;margin:0 auto;width:400px;-moz-box-shadow:2px 2px 8px rgba(0,0,0,.65);-webkit-box-shadow:2px 2px 8px rgba(0,0,0,.65);box-shadow:2px 2px 8px rgba(0,0,0,.65);}.gs_el_ph .gs_md_d{padding:16px 20px;width:80%;max-width:400px;}.gs_md_d .gs_ico_X{position:absolute;top:8px;right:8px;background-color:#fff;}.gs_md_d h2{font-size:16px;font-weight:normal;line-height:24px;margin-bottom:16px;}.gs_el_ph .gs_md_d h2{margin-bottom:8px}.gs_md_lbl{margin:16px 0}.gs_md_btns{margin-top:16px}.gs_md_btns button{margin-right:16px}.gs_md_prg{margin:24px 0;}</style><script>function gs_md_opw(d,e,b){var r=document.documentElement,s=gs_id(\\\"gs_md_s\\\").style,w=gs_id(\\\"gs_md_w\\\").style,q=gs_id(d),g=q.style;g.visibility=\\\"hidden\\\";s.display=w.display=g.display=\\\"block\\\";g.top=Math.max(document.body.scrollTop||0,r.scrollTop||0)+Math.max((r.clientHeight-q.offsetHeight)/2,10)+\\\"px\\\";g.visibility=\\\"visible\\\";gs_md_opn(d,e,function(){s.display=\\\"none\\\"},function(){w.display=\\\"none\\\"});if(b){b=gs_id(b);b.type===\\\"text\\\"?gs_tfcs(b):b.focus();}return false;}function gs_md_ldw(d,e,b,c,u,p,f){c=gs_id(c);c.innerHTML=\\\"<div class='gs_md_prg'>Loading...</div>\\\";gs_md_opw(d,e,b);gs_ajax(u,p,function(x,t){c.innerHTML=x===200?t:\\\"<div class='gs_md_prg gs_alrt'>The system can\\\\x27t perform the operation now. Try again later.</div>\\\";f&&f(x,t);});}</script><div id=\\\"gs_md_s\\\" style=\\\"display:none\\\"></div><div id=\\\"gs_md_w\\\" style=\\\"display:none\\\"><div id=\\\"gsc_md_exa\\\" style=\\\"display:none\\\" class=\\\"gs_md_d gs_md_wn gs_ttzi\\\" role=\\\"dialog\\\" aria-hidden=\\\"true\\\" aria-labelledby=\\\"gsc_md_exa-t\\\"><a id=\\\"gsc_md_exa-x\\\" href=\\\"#\\\" role=\\\"button\\\" aria-label=\\\"Cancel\\\" class=\\\"gs_ico gs_ico_X gs_ico_Xt\\\" onclick=\\\"return gs_md_cls('gsc_md_exa',event)\\\"></a><h2 id=\\\"gsc_md_exa-t\\\">Export articles</h2><form id=\\\"gsc_md_exa_f\\\" action=\\\"/citations?view_op=export_citations&amp;hl=en&amp;oe=ASCII&amp;user=HI-I6C0AAAAJ\\\" method=\\\"post\\\"><input type=\\\"hidden\\\" name=\\\"cit_fmt\\\"><p><span class=\\\"gs_in_ra\\\" onclick=\\\"void(0)\\\"><input type=\\\"radio\\\" name=\\\"s\\\" value=\\\"\\\" id=\\\"gsc_md_exa_r0\\\" checked><label for=\\\"gsc_md_exa_r0\\\">Export selected articles</label><span class=\\\"gs_chk\\\"></span><span class=\\\"gs_cbx\\\"></span></span></p><p><span class=\\\"gs_in_ra\\\" onclick=\\\"void(0)\\\"><input type=\\\"radio\\\" name=\\\"s\\\" value=\\\"\\\" id=\\\"gsc_md_exa_r1\\\"><label for=\\\"gsc_md_exa_r1\\\">Export all my articles</label><span class=\\\"gs_chk\\\"></span><span class=\\\"gs_cbx\\\"></span></span></p><div class=\\\"gs_md_btns\\\"><button type=\\\"submit\\\" id=\\\"gsc_md_exa_export\\\" name=\\\"export_selected_btn\\\" class=\\\" gs_btn_act\\\"><span class=\\\"gs_wr\\\"><span class=\\\"gs_bg\\\"></span><span class=\\\"gs_lbl\\\">Export</span></span></button><button type=\\\"button\\\" id=\\\"gsc_md_exa_cancel\\\" class=\\\"\\\"><span class=\\\"gs_wr\\\"><span class=\\\"gs_bg\\\"></span><span class=\\\"gs_lbl\\\">Cancel</span></span></button></div></form><script>function gsc_md_show_exa(s,a,f,e){var b=\\\"gsc_md_exa_export\\\",l=gs_id(\\\"gsc_md_exa_f\\\").elements,c=l.s[0];l.cit_fmt.value=\\\"\\\"+f;c.value=s.join(\\\",\\\");c.checked=true;gs_ssel(c);a&&1?gs_md_opw(\\\"gsc_md_exa\\\",e,b):gs_id(b).click();}gs_evt_clk(gs_id(\\\"gsc_md_exa_cancel\\\"),gs_bind(gs_md_cls,\\\"gsc_md_exa\\\"));</script></div><script>gs_md_ifc(\\\"gsc_md_exa\\\",\\\"gsc_md_exa-x\\\");</script><div id=\\\"gsc_md_cbym\\\" style=\\\"display:none\\\" class=\\\"gs_md_d gs_md_wn gs_ttzi\\\" role=\\\"dialog\\\" aria-hidden=\\\"true\\\" aria-labelledby=\\\"gsc_md_cbym-t\\\"><a id=\\\"gsc_md_cbym-x\\\" href=\\\"#\\\" role=\\\"button\\\" aria-label=\\\"Cancel\\\" class=\\\"gs_ico gs_ico_X gs_ico_Xt\\\" onclick=\\\"return gs_md_cls('gsc_md_cbym',event)\\\"></a><h2 id=\\\"gsc_md_cbym-t\\\">Merged citations</h2><p>This \\\"Cited by\\\" count includes citations to the following articles in Scholar. The ones marked <span id=\\\"gsc_md_cbym_s\\\">*</span> may be different from the article in the profile.</p><div id=\\\"gsc_md_cbym_l\\\"></div><div class=\\\"gs_md_btns\\\"><button type=\\\"button\\\" id=\\\"gsc_md_cbym_cancel\\\" class=\\\"\\\"><span class=\\\"gs_wr\\\"><span class=\\\"gs_bg\\\"></span><span class=\\\"gs_lbl\\\">Done</span></span></button></div><script>function gsc_md_show_cbym(x,e){var a=gs_id(\\\"gsc_md_cbym_e\\\");a&&(a.href=a.href.replace(/(&citation_for_view=)[^&]*/,\\\"$1\\\"+x));gs_md_ldw(\\\"gsc_md_cbym\\\",e,\\\"gsc_md_cbym_cancel\\\",\\\"gsc_md_cbym_l\\\",\\\"/citations?hl\\\\x3den\\\\x26oe\\\\x3dASCII\\\\x26user\\\\x3dHI-I6C0AAAAJ\\\\x26view_op\\\\x3dlist_works\\\",\\\"merge_btn=1&s=\\\"+x);}gs_evt_clk(gs_id(\\\"gsc_md_cbym_cancel\\\"),gs_bind(gs_md_cls,\\\"gsc_md_cbym\\\"));</script></div><script>gs_md_ifc(\\\"gsc_md_cbym\\\",\\\"gsc_md_cbym-x\\\");</script><div id=\\\"gsc_md_cbyd\\\" style=\\\"display:none\\\" class=\\\"gs_md_d gs_md_wn gs_ttzi\\\" role=\\\"dialog\\\" aria-hidden=\\\"true\\\" aria-labelledby=\\\"gsc_md_cbyd-t\\\"><a id=\\\"gsc_md_cbyd-x\\\" href=\\\"#\\\" role=\\\"button\\\" aria-label=\\\"Cancel\\\" class=\\\"gs_ico gs_ico_X gs_ico_Xt\\\" onclick=\\\"return gs_md_cls('gsc_md_cbyd',event)\\\"></a><h2 id=\\\"gsc_md_cbyd-t\\\">Duplicate citations</h2><p>The following articles are merged in Scholar. Their <a id=\\\"gsc_md_cbyd_c\\\" href=\\\"#\\\">combined citations</a> are counted only for the first article.</p><div id=\\\"gsc_md_cbyd_l\\\"></div><div class=\\\"gs_md_btns\\\"><button type=\\\"button\\\" id=\\\"gsc_md_cbyd_cancel\\\" class=\\\"\\\"><span class=\\\"gs_wr\\\"><span class=\\\"gs_bg\\\"></span><span class=\\\"gs_lbl\\\">Done</span></span></button></div><script>function gsc_md_show_cbyd(a,x,u,e){var f=gs_id(\\\"gsc_md_cbyd_f\\\"),m=gs_id(\\\"gsc_md_cbyd_merge\\\"),s=u+\\\",\\\"+x;f&&(f.elements.s.value=s);gs_id(\\\"gsc_md_cbyd_c\\\").href=a;if(m){m.disabled=false;gs_udis(m);}gs_md_ldw(\\\"gsc_md_cbyd\\\",e,m?m.id:\\\"gsc_md_cbyd_cancel\\\",\\\"gsc_md_cbyd_l\\\",\\\"/citations?hl\\\\x3den\\\\x26oe\\\\x3dASCII\\\\x26user\\\\x3dHI-I6C0AAAAJ\\\\x26view_op\\\\x3dlist_works\\\",\\\"merge_btn=1&s=\\\"+s,function(){if(f&&m){var c=f.elements.choose;m.disabled=!c;(c?gs_udis:gs_xdis)(m);c&&gs_ssel(c[0]);}});}gs_evt_clk(gs_id(\\\"gsc_md_cbyd_cancel\\\"),gs_bind(gs_md_cls,\\\"gsc_md_cbyd\\\"));</script></div><script>gs_md_ifc(\\\"gsc_md_cbyd\\\",\\\"gsc_md_cbyd-x\\\");</script><div id=\\\"gsc_md_mopt\\\" style=\\\"display:none\\\" class=\\\"gs_md_d gs_md_wn gs_ttzi\\\" role=\\\"dialog\\\" aria-hidden=\\\"true\\\" aria-labelledby=\\\"gsc_md_mopt-t\\\"><a id=\\\"gsc_md_mopt-x\\\" href=\\\"#\\\" role=\\\"button\\\" aria-label=\\\"Cancel\\\" class=\\\"gs_ico gs_ico_X gs_ico_Xt\\\" onclick=\\\"return gs_md_cls('gsc_md_mopt',event)\\\"></a><h2 id=\\\"gsc_md_mopt-t\\\">Merge duplicates</h2></div><script>gs_md_ifc(\\\"gsc_md_mopt\\\",\\\"gsc_md_mopt-x\\\");</script><div id=\\\"gsc_md_hist\\\" style=\\\"display:none\\\" class=\\\"gs_md_d gs_md_wn gs_ttzi\\\" role=\\\"dialog\\\" aria-hidden=\\\"true\\\" aria-labelledby=\\\"gsc_md_hist-t\\\"><a id=\\\"gsc_md_hist-x\\\" href=\\\"#\\\" role=\\\"button\\\" aria-label=\\\"Cancel\\\" class=\\\"gs_ico gs_ico_X gs_ico_Xt\\\" onclick=\\\"return gs_md_cls('gsc_md_hist',event)\\\"></a><h2 id=\\\"gsc_md_hist-t\\\">Citations per year</h2><div id=\\\"gsc_md_hist_c\\\"></div></div><script>gs_md_ifc(\\\"gsc_md_hist\\\",\\\"gsc_md_hist-x\\\");</script></div><style>#gs_alrt_w{position:relative;z-index:1050;display:none;opacity:0;-webkit-transition:opacity .3s ease-out;-moz-transition:opacity .3s ease-out;-o-transition:opacity .3s ease-out;transition:opacity .3s ease-out;}#gs_alrt_w.gs_vis{opacity:1}#gs_alrt_p{position:absolute;top:-15px;right:0;width:100%;text-align:center;}#gs_alrt{display:inline-block;*display:inline;*zoom:1;font-size:13px;line-height:16px;padding:0 16px 6px 16px;}#gs_alrt_m,#gs_alrt_u{display:inline-block;padding-top:7px;}#gs_alrt_l:link,#gs_alrt_l:visited{margin-left:16px;padding:7px 0 6px 0;color:#222;text-decoration:underline;}#gs_alrt_l:hover{color:#1a0dab}#gs_alrt_l:active{color:#d14836}</style><div id=\\\"gs_alrt_w\\\"><div id=\\\"gs_alrt_p\\\"><form><input type=\\\"hidden\\\" id=\\\"gs_alrt_ss\\\"></form><form action=\\\"\\\" method=\\\"post\\\" id=\\\"gs_alrt\\\" class=\\\"gs_alrt\\\"><span id=\\\"gs_alrt_m\\\"></span><span id=\\\"gs_alrt_h\\\"></span><span id=\\\"gs_alrt_u\\\" style=\\\"display:none\\\"><a id=\\\"gs_alrt_l\\\" href=\\\"javascript:void(0)\\\" onclick=\\\"gs_id('gs_alrt').submit();return false\\\"></a></span></form></div></div><script>var gs_wa_h=0;function gs_wa_hf(){gs_wa_h++||gs_visi(\\\"gs_alrt_w\\\",0);}function gs_wa_m(m,l,u,f) {var x,h,e;gs_id(\\\"gs_alrt_m\\\").innerHTML=m;if(l&&u&&f){x=gs_id(\\\"gs_alrt_l\\\");\\\"innerText\\\" in x?(x.innerText=l):(x.textContent=l);gs_id(\\\"gs_alrt\\\").action=u;h=gs_id(\\\"gs_alrt_h\\\");h.innerHTML=\\\"\\\";for(i in f){e=document.createElement(\\\"input\\\");e.name=i;e.type=\\\"hidden\\\";e.value=f[i];h.appendChild(e);}gs_visi(\\\"gs_alrt_u\\\",2);} else {gs_visi(\\\"gs_alrt_u\\\",0);}gs_visi(\\\"gs_alrt_w\\\",1);gs_wa_h=0;setTimeout(gs_wa_hf,60000);}gs_evt_rdy(function(){var s,w=gs_id(\\\"gs_alrt_w\\\");gs_evt(window,\\\"pagehide\\\",gs_bind(gs_vis,w,0));gs_evt(document,\\\"click\\\",gs_wa_hf);});</script><div id=\\\"gsc_bdy\\\"><div id=\\\"gsc_rsb_m\\\" role=\\\"search\\\"><div class=\\\"gsc_rsb_s_m\\\" id=\\\"gsc_rsb_lg_m\\\"><a href=\\\"//scholar.google.com/schhp?hl=en&amp;oe=ASCII\\\" id=\\\"gsc_rsb_icol_m\\\" aria-label=\\\"Scholar Home\\\"><span class=\\\"gs_oph\\\">Scholar</span></a><form action=\\\"/citations\\\" id=\\\"gsc_rsb_f_m\\\" class=\\\"gsc_rsb_foff\\\"><input type=hidden name=hl value=\\\"en\\\"><input type=hidden name=oe value=\\\"ASCII\\\"><input type=\\\"hidden\\\" name=\\\"view_op\\\" value=\\\"search_authors\\\"><input type=\\\"text\\\" class=\\\"gs_in_txt\\\" name=\\\"mauthors\\\" value=\\\"\\\" id=\\\"gsc_rsb_fin_m\\\" size=\\\"57\\\" maxlength=\\\"256\\\" autocapitalize=\\\"off\\\"><button type=\\\"submit\\\" id=\\\"gsc_rsb_fbt_m\\\" aria-label=\\\"Search Authors\\\" class=\\\"gs_btnSB gs_in_ib gs_btn_half\\\"><span class=\\\"gs_wr\\\"><span class=\\\"gs_bg\\\"></span><span class=\\\"gs_lbl\\\"></span><span class=\\\"gs_ico\\\"></span></span></button></form></div></div><div class=\\\"gsc_lcl\\\" role=\\\"main\\\" id=\\\"gsc_prf_w\\\"><div id=\\\"gsc_prf\\\" class=\\\"gs_scl\\\"><div id=\\\"gsc_prf_pu\\\"><style>#gsc_prf_pup{width:113px;height:150px;}.gs_el_ta #gsc_prf_pup,.gs_el_ph #gsc_prf_pup{width:56px;height:75px;}@media print{#gs_top #gsc_prf_pup{width:60pt;height:80pt;}}</style><a href=\\\"/citations?user=HI-I6C0AAAAJ&amp;hl=en&amp;oe=ASCII\\\" id=\\\"gsc_prf_pua\\\"><img src=\\\"/citations?view_op=view_photo&amp;user=HI-I6C0AAAAJ&amp;citpid=1\\\" id=\\\"gsc_prf_pup\\\"></a></div><div id=\\\"gsc_prf_i\\\"><div id=\\\"gsc_prf_ib\\\"><div id=\\\"gsc_prf_ibi\\\"><div style=\\\"position:relative\\\" class=\\\"gs_ibl\\\"><button type=\\\"button\\\" id=\\\"gsc_fol_btn\\\" aria-controls=\\\"gsc_fol_dd\\\" aria-haspopup=\\\"true\\\" class=\\\"gs_btnMW gs_in_ib gs_in_se gs_btn_mnu gs_btn_mn2 gs_btn_act gs_btn_hph\\\"><span class=\\\"gs_wr\\\"><span class=\\\"gs_bg\\\"></span><span class=\\\"gs_lbl\\\">Follow</span><span class=\\\"gs_ico\\\"></span><span class=\\\"gs_icm\\\"></span></span></button><div class=\\\"gs_md_se\\\" id=\\\"gsc_fol_dd\\\"><form method=\\\"post\\\" id=\\\"gsc_fol_f\\\" action=\\\"/citations?hl=en&amp;oe=ASCII&amp;user=HI-I6C0AAAAJ&amp;view_op=list_works\\\"><input type=\\\"hidden\\\" name=\\\"xsrf\\\" value=\\\"AMstHGQAAAAAVGwKC0zqq-vVIzJBulOKjh_HtUFoaFWn\\\"><input type=\\\"hidden\\\" name=\\\"user\\\" value=\\\"HI-I6C0AAAAJ\\\"><div id=\\\"gsc_fol_ml\\\">Email</div><div class=\\\"gs_in_txtf\\\"><input type=\\\"text\\\" class=\\\"gs_in_txt\\\" name=\\\"email_for_op\\\" value=\\\"\\\" id=\\\"gsc_fol_m\\\" maxlength=\\\"100\\\" autocapitalize=\\\"off\\\" autocorrect=\\\"off\\\"></div><div id=\\\"gsc_fol_cb\\\"><div class=\\\"gsc_fol_cr\\\"><span class=\\\"gs_in_cb\\\" onclick=\\\"void(0)\\\"><input type=\\\"checkbox\\\" name=\\\"follow_articles_btn\\\" id=\\\"gsc_fol_a\\\" value=\\\"1\\\" checked><label for=\\\"gsc_fol_a\\\">Follow new articles</label><span class=\\\"gs_chk\\\"></span><span class=\\\"gs_cbx\\\"></span></span></div><div class=\\\"gsc_fol_cr\\\"><span class=\\\"gs_in_cb\\\" onclick=\\\"void(0)\\\"><input type=\\\"checkbox\\\" name=\\\"follow_citations_btn\\\" id=\\\"gsc_fol_c\\\" value=\\\"1\\\"><label for=\\\"gsc_fol_c\\\">Follow new citations</label><span class=\\\"gs_chk\\\"></span><span class=\\\"gs_cbx\\\"></span></span></div></div><div><button type=\\\"submit\\\" id=\\\"gsc_fol_b\\\" class=\\\" gs_btn_cre\\\"><span class=\\\"gs_wr\\\"><span class=\\\"gs_bg\\\"></span><span class=\\\"gs_lbl\\\">Create alert</span></span></button><button type=\\\"button\\\" id=\\\"gsc_fol_x\\\" class=\\\"\\\"><span class=\\\"gs_wr\\\"><span class=\\\"gs_bg\\\"></span><span class=\\\"gs_lbl\\\">Cancel</span></span></button></div></form></div></div><script>gs_md_ifc(\\\"gsc_fol_dd\\\",\\\"gsc_fol_m\\\");!function(){var t=gs_id(\\\"gsc_fol_btn\\\"),d=\\\"gsc_fol_dd\\\",b=gs_id(\\\"gsc_fol_b\\\");var a=gs_id(\\\"gsc_fol_a\\\"),c=gs_id(\\\"gsc_fol_c\\\"),m=gs_id(\\\"gsc_fol_m\\\"),r=/\\\\S+@\\\\S+\\\\.\\\\S+/,s=function(x){return x.checked&&!x.disabled},f=function(){((b.disabled=!r.test(m.value)||!s(a)&&!s(c))?gs_xdis:gs_udis)(b);};f();gs_evt_rdy(f);gs_evt_all([a,c],\\\"click\\\",f);gs_evt_inp(m,f);gs_evt_clk(gs_id(\\\"gsc_fol_x\\\"),gs_bind(gs_md_cls,d));gs_evt_clk(t,function(e){if(gs_id(d).offsetWidth){gs_md_cls(d,e);}else{gs_xsel(t);gs_md_opn(d,e,gs_bind(gs_usel,t));b.disabled?gs_tfcs(m):b.focus();}},2,[13,32,38,40]);}();</script></div></div><div id=\\\"gsc_prf_in\\\">Jeff Leek</div><div class=\\\"gsc_prf_il\\\">Associate Professor of Biostatistics, Johns Hopkins Bloomberg School of Public Health</div><div class=\\\"gsc_prf_il\\\"><a href=\\\"/citations?view_op=search_authors&amp;hl=en&amp;oe=ASCII&amp;mauthors=label:statistics\\\" class=\\\"gsc_prf_ila\\\">Statistics</a>, <a href=\\\"/citations?view_op=search_authors&amp;hl=en&amp;oe=ASCII&amp;mauthors=label:computing\\\" class=\\\"gsc_prf_ila\\\">Computing</a>, <a href=\\\"/citations?view_op=search_authors&amp;hl=en&amp;oe=ASCII&amp;mauthors=label:genomics\\\" class=\\\"gsc_prf_ila\\\">Genomics</a>, <a href=\\\"/citations?view_op=search_authors&amp;hl=en&amp;oe=ASCII&amp;mauthors=label:personalized_medicine\\\" class=\\\"gsc_prf_ila\\\">Personalized Medicine</a>, <a href=\\\"/citations?view_op=search_authors&amp;hl=en&amp;oe=ASCII&amp;mauthors=label:scientific_communication\\\" class=\\\"gsc_prf_ila\\\">Scientific Communication</a></div><div class=\\\"gsc_prf_il\\\" id=\\\"gsc_prf_ivh\\\">Verified email at jhsph.edu - <a href=\\\"http://jtleek.com/\\\" rel=\\\"nofollow\\\">Homepage</a></div></div></div></div><div id=\\\"gsc_rsb\\\" role=\\\"navigation\\\"><div class=\\\"gsc_rsb_s\\\" id=\\\"gsc_rsb_lg\\\"><a href=\\\"//scholar.google.com/schhp?hl=en&amp;oe=ASCII\\\" id=\\\"gsc_rsb_icol\\\" aria-label=\\\"Scholar Home\\\"><span class=\\\"gs_oph\\\">Scholar</span></a><form action=\\\"/citations\\\" id=\\\"gsc_rsb_f\\\" class=\\\"gsc_rsb_foff\\\"><input type=hidden name=hl value=\\\"en\\\"><input type=hidden name=oe value=\\\"ASCII\\\"><input type=\\\"hidden\\\" name=\\\"view_op\\\" value=\\\"search_authors\\\"><input type=\\\"text\\\" class=\\\"gs_in_txt\\\" name=\\\"mauthors\\\" value=\\\"\\\" id=\\\"gsc_rsb_fin\\\" size=\\\"57\\\" maxlength=\\\"256\\\" autocapitalize=\\\"off\\\"><button type=\\\"submit\\\" id=\\\"gsc_rsb_fbt\\\" aria-label=\\\"Search Authors\\\" class=\\\"gs_btnSB gs_in_ib gs_btn_half\\\"><span class=\\\"gs_wr\\\"><span class=\\\"gs_bg\\\"></span><span class=\\\"gs_lbl\\\"></span><span class=\\\"gs_ico\\\"></span></span></button></form><div id=\\\"gsc_rsb_gpl\\\"><button type=\\\"button\\\" onclick=\\\"window.location='/citations?hl\\\\x3den\\\\x26oe\\\\x3dASCII'\\\" class=\\\" gs_btn_act\\\"><span class=\\\"gs_wr\\\"><span class=\\\"gs_bg\\\"></span><span class=\\\"gs_lbl\\\">Get my own profile</span></span></button></div></div><div class=\\\"gsc_rsb_s\\\"><div id=\\\"gsc_rsb_t\\\">Google Scholar</div><table id=\\\"gsc_rsb_st\\\"><tr><th class=\\\"gsc_rsb_sc1\\\"><a href=\\\"javascript:void(0)\\\" onclick=\\\"gs_md_hist_opn(event);\\\">Citation indices</a></th><th class=\\\"gsc_rsb_sth\\\">All</th><th class=\\\"gsc_rsb_sth\\\">Since 2009</th></tr><tr><td class=\\\"gsc_rsb_sc1\\\"><a href=\\\"javascript:void(0)\\\" class=\\\"gsc_rsb_f\\\" title='This is the number of citations to all publications. The second column has the &quot;recent&quot; version of this metric which is the number of new citations in the last 5 years to all publications.'>Citations</a></td><td class=\\\"gsc_rsb_std\\\">2444</td><td class=\\\"gsc_rsb_std\\\">2168</td></tr><tr><td class=\\\"gsc_rsb_sc1\\\"><a href=\\\"javascript:void(0)\\\" class=\\\"gsc_rsb_f\\\" title='h-index is the largest number h such that h publications have at least h citations. The second column has the &quot;recent&quot; version of this metric which is the largest number h such that h publications have at least h new citations in the last 5 years.'>h-index</a></td><td class=\\\"gsc_rsb_std\\\">17</td><td class=\\\"gsc_rsb_std\\\">17</td></tr><tr><td class=\\\"gsc_rsb_sc1\\\"><a href=\\\"javascript:void(0)\\\" class=\\\"gsc_rsb_f\\\" title='i10-index is the number of publications with at least 10 citations. The second column has the &quot;recent&quot; version of this metric which is the number of publications that have received at least 10 new citations in the last 5 years.'>i10-index</a></td><td class=\\\"gsc_rsb_std\\\">20</td><td class=\\\"gsc_rsb_std\\\">20</td></tr></table><div id=\\\"gsc_g\\\"><div id=\\\"gsc_g_x\\\"><span class=\\\"gsc_g_t\\\" style=\\\"left:3px\\\">2006</span><span class=\\\"gsc_g_t\\\" style=\\\"left:35px\\\">2007</span><span class=\\\"gsc_g_t\\\" style=\\\"left:67px\\\">2008</span><span class=\\\"gsc_g_t\\\" style=\\\"left:99px\\\">2009</span><span class=\\\"gsc_g_t\\\" style=\\\"left:131px\\\">2010</span><span class=\\\"gsc_g_t\\\" style=\\\"left:163px\\\">2011</span><span class=\\\"gsc_g_t\\\" style=\\\"left:195px\\\">2012</span><span class=\\\"gsc_g_t\\\" style=\\\"left:227px\\\">2013</span><span class=\\\"gsc_g_t\\\" style=\\\"left:259px\\\">2014</span></div><div id=\\\"gsc_g_bars\\\"><a href=\\\"javascript:void(0)\\\" class=\\\"gsc_g_a\\\" style=\\\"left:8px;height:4px;z-index:9\\\"><span class=\\\"gsc_g_al\\\">42</span></a><a href=\\\"javascript:void(0)\\\" class=\\\"gsc_g_a\\\" style=\\\"left:40px;height:8px;z-index:8\\\"><span class=\\\"gsc_g_al\\\">86</span></a><a href=\\\"javascript:void(0)\\\" class=\\\"gsc_g_a\\\" style=\\\"left:72px;height:12px;z-index:7\\\"><span class=\\\"gsc_g_al\\\">125</span></a><a href=\\\"javascript:void(0)\\\" class=\\\"gsc_g_a\\\" style=\\\"left:104px;height:10px;z-index:6\\\"><span class=\\\"gsc_g_al\\\">108</span></a><a href=\\\"javascript:void(0)\\\" class=\\\"gsc_g_a\\\" style=\\\"left:136px;height:18px;z-index:5\\\"><span class=\\\"gsc_g_al\\\">189</span></a><a href=\\\"javascript:void(0)\\\" class=\\\"gsc_g_a\\\" style=\\\"left:168px;height:28px;z-index:4\\\"><span class=\\\"gsc_g_al\\\">282</span></a><a href=\\\"javascript:void(0)\\\" class=\\\"gsc_g_a\\\" style=\\\"left:200px;height:44px;z-index:3\\\"><span class=\\\"gsc_g_al\\\">442</span></a><a href=\\\"javascript:void(0)\\\" class=\\\"gsc_g_a\\\" style=\\\"left:232px;height:57px;z-index:2\\\"><span class=\\\"gsc_g_al\\\">568</span></a><a href=\\\"javascript:void(0)\\\" class=\\\"gsc_g_a\\\" style=\\\"left:264px;height:55px;z-index:1\\\"><span class=\\\"gsc_g_al\\\">556</span></a></div></div><script>function gs_md_hist_opn(e){gs_md_ldw(\\\"gsc_md_hist\\\",e,0,\\\"gsc_md_hist_c\\\",\\\"/citations?hl\\\\x3den\\\\x26oe\\\\x3dASCII\\\\x26user\\\\x3dHI-I6C0AAAAJ\\\\x26view_op\\\\x3dcitations_histogram\\\",\\\"\\\",function(){var x=gs_id(\\\"gsc_md_hist_b\\\");x&&gsc_scroll_right(x);});}gs_evt_rdy(function(){gs_evt_clk(gs_id(\\\"gsc_g\\\"),gs_md_hist_opn);});</script></div></div><div class=\\\"gsc_lcl\\\" role=\\\"complementary\\\" id=\\\"gsc_art\\\"><form method=\\\"post\\\" action=\\\"/citations?hl=en&amp;oe=ASCII&amp;user=HI-I6C0AAAAJ&amp;view_op=list_works\\\" id=\\\"citationsForm\\\"><input type=\\\"hidden\\\" name=\\\"xsrf\\\" value=\\\"AMstHGQAAAAAVGwKC0zqq-vVIzJBulOKjh_HtUFoaFWn\\\"><table id=\\\"gsc_a_t\\\"><thead id=\\\"gsc_a_hd\\\"><tr id=\\\"gsc_a_tr0\\\" aria-hidden=\\\"true\\\"><th class=\\\"gsc_a_t\\\" id=\\\"gsc_a_tr0_t\\\"></th><th class=\\\"gsc_a_c\\\"></th><th class=\\\"gsc_a_y\\\"></th></tr><tr id=\\\"gsc_a_trh\\\"><th class=\\\"gsc_a_t\\\" id=\\\"gsc_a_trh_t\\\" scope=\\\"col\\\"><span id=\\\"gsc_a_ta\\\"><a href=\\\"/citations?hl=en&amp;oe=ASCII&amp;user=HI-I6C0AAAAJ&amp;view_op=list_works&amp;sortby=title\\\" class=\\\"gsc_a_a\\\">Title</a></span><span id=\\\"gsc_a_nn\\\">1&ndash;20</span></th><th class=\\\"gsc_a_c\\\" scope=\\\"col\\\"><span id=\\\"gsc_a_ca\\\">Cited by</span></th><th class=\\\"gsc_a_y\\\" scope=\\\"col\\\"><span class=\\\"gsc_a_h\\\"><a href=\\\"/citations?hl=en&amp;oe=ASCII&amp;user=HI-I6C0AAAAJ&amp;view_op=list_works&amp;sortby=pubdate\\\" class=\\\"gsc_a_a\\\">Year</a></span></th></tr></thead><tbody id=\\\"gsc_a_b\\\"><tr class=\\\"gsc_a_tr\\\"><td class=\\\"gsc_a_t\\\"><a href=\\\"/citations?view_op=view_citation&amp;hl=en&amp;oe=ASCII&amp;user=HI-I6C0AAAAJ&amp;citation_for_view=HI-I6C0AAAAJ:u5HHmVD_uO8C\\\" class=\\\"gsc_a_at\\\">Significance analysis of time course microarray experiments</a><div class=\\\"gs_gray\\\">JD Storey, W Xiao, JT Leek, RG Tompkins, RW Davis</div><div class=\\\"gs_gray\\\">Proceedings of the National Academy of Sciences of the United States of ...<span class=\\\"gs_oph\\\">, 2005</span></div></td><td class=\\\"gsc_a_c\\\"><a href=\\\"http://scholar.google.com/scholar?oi=bibs&amp;hl=en&amp;oe=ASCII&amp;cites=8692182196465189153\\\" class=\\\"gsc_a_ac\\\">432</a></td><td class=\\\"gsc_a_y\\\"><span class=\\\"gsc_a_h\\\">2005</span></td></tr><tr class=\\\"gsc_a_tr\\\"><td class=\\\"gsc_a_t\\\"><a href=\\\"/citations?view_op=view_citation&amp;hl=en&amp;oe=ASCII&amp;user=HI-I6C0AAAAJ&amp;citation_for_view=HI-I6C0AAAAJ:d1gkVwhDpl0C\\\" class=\\\"gsc_a_at\\\">Capturing heterogeneity in gene expression studies by surrogate variable analysis</a><div class=\\\"gs_gray\\\">JT Leek, JD Storey</div><div class=\\\"gs_gray\\\">PLoS genetics 3 (9), e161<span class=\\\"gs_oph\\\">, 2007</span></div></td><td class=\\\"gsc_a_c\\\"><a href=\\\"http://scholar.google.com/scholar?oi=bibs&amp;hl=en&amp;oe=ASCII&amp;cites=14943880347723800617\\\" class=\\\"gsc_a_ac\\\">340</a></td><td class=\\\"gsc_a_y\\\"><span class=\\\"gsc_a_h\\\">2007</span></td></tr><tr class=\\\"gsc_a_tr\\\"><td class=\\\"gsc_a_t\\\"><a href=\\\"/citations?view_op=view_citation&amp;hl=en&amp;oe=ASCII&amp;user=HI-I6C0AAAAJ&amp;citation_for_view=HI-I6C0AAAAJ:UeHWp8X0CEIC\\\" class=\\\"gsc_a_at\\\">Tackling the widespread and critical impact of batch effects in high-throughput data</a><div class=\\\"gs_gray\\\">JT Leek, RB Scharpf, HC Bravo, D Simcha, B Langmead, WE Johnson, ...</div><div class=\\\"gs_gray\\\">Nature Reviews Genetics 11 (10), 733-739<span class=\\\"gs_oph\\\">, 2010</span></div></td><td class=\\\"gsc_a_c\\\"><a href=\\\"http://scholar.google.com/scholar?oi=bibs&amp;hl=en&amp;oe=ASCII&amp;cites=16403016020126782741\\\" class=\\\"gsc_a_ac\\\">323</a></td><td class=\\\"gsc_a_y\\\"><span class=\\\"gsc_a_h\\\">2010</span></td></tr><tr class=\\\"gsc_a_tr\\\"><td class=\\\"gsc_a_t\\\"><a href=\\\"/citations?view_op=view_citation&amp;hl=en&amp;oe=ASCII&amp;user=HI-I6C0AAAAJ&amp;citation_for_view=HI-I6C0AAAAJ:u-x6o8ySG0sC\\\" class=\\\"gsc_a_at\\\">EDGE: extraction and analysis of differential gene expression</a><div class=\\\"gs_gray\\\">JT Leek, E Monsen, AR Dabney, JD Storey</div><div class=\\\"gs_gray\\\">Bioinformatics 22 (4), 507-508<span class=\\\"gs_oph\\\">, 2006</span></div></td><td class=\\\"gsc_a_c\\\"><a href=\\\"http://scholar.google.com/scholar?oi=bibs&amp;hl=en&amp;oe=ASCII&amp;cites=8862746171832697560\\\" class=\\\"gsc_a_ac\\\">187</a></td><td class=\\\"gsc_a_y\\\"><span class=\\\"gsc_a_h\\\">2006</span></td></tr><tr class=\\\"gsc_a_tr\\\"><td class=\\\"gsc_a_t\\\"><a href=\\\"/citations?view_op=view_citation&amp;hl=en&amp;oe=ASCII&amp;user=HI-I6C0AAAAJ&amp;citation_for_view=HI-I6C0AAAAJ:IjCSPb-OGe4C\\\" class=\\\"gsc_a_at\\\">Cloud-scale RNA-sequencing differential expression analysis with Myrna</a><div class=\\\"gs_gray\\\">B Langmead, KD Hansen, JT Leek</div><div class=\\\"gs_gray\\\">Genome Biol 11 (8), R83<span class=\\\"gs_oph\\\">, 2010</span></div></td><td class=\\\"gsc_a_c\\\"><a href=\\\"http://scholar.google.com/scholar?oi=bibs&amp;hl=en&amp;oe=ASCII&amp;cites=9392678635432440961\\\" class=\\\"gsc_a_ac\\\">180</a></td><td class=\\\"gsc_a_y\\\"><span class=\\\"gsc_a_h\\\">2010</span></td></tr><tr class=\\\"gsc_a_tr\\\"><td class=\\\"gsc_a_t\\\"><a href=\\\"/citations?view_op=view_citation&amp;hl=en&amp;oe=ASCII&amp;user=HI-I6C0AAAAJ&amp;citation_for_view=HI-I6C0AAAAJ:Se3iqnhoufwC\\\" class=\\\"gsc_a_at\\\">Temporal dynamics and genetic control of transcription in the human prefrontal cortex</a><div class=\\\"gs_gray\\\">C Colantuoni, BK Lipska, T Ye, TM Hyde, R Tao, JT Leek, EA Colantuoni, ...</div><div class=\\\"gs_gray\\\">Nature 478 (7370), 519-523<span class=\\\"gs_oph\\\">, 2011</span></div></td><td class=\\\"gsc_a_c\\\"><a href=\\\"http://scholar.google.com/scholar?oi=bibs&amp;hl=en&amp;oe=ASCII&amp;cites=15401379057477374674\\\" class=\\\"gsc_a_ac\\\">176</a></td><td class=\\\"gsc_a_y\\\"><span class=\\\"gsc_a_h\\\">2011</span></td></tr><tr class=\\\"gsc_a_tr\\\"><td class=\\\"gsc_a_t\\\"><a href=\\\"/citations?view_op=view_citation&amp;hl=en&amp;oe=ASCII&amp;user=HI-I6C0AAAAJ&amp;citation_for_view=HI-I6C0AAAAJ:qjMakFHDy7sC\\\" class=\\\"gsc_a_at\\\">Systems-level dynamic analyses of fate change in murine embryonic stem cells</a><div class=\\\"gs_gray\\\">R Lu, F Markowetz, RD Unwin, JT Leek, EM Airoldi, BD MacArthur, ...</div><div class=\\\"gs_gray\\\">Nature 462 (7271), 358-362<span class=\\\"gs_oph\\\">, 2009</span></div></td><td class=\\\"gsc_a_c\\\"><a href=\\\"http://scholar.google.com/scholar?oi=bibs&amp;hl=en&amp;oe=ASCII&amp;cites=4114573275173642545\\\" class=\\\"gsc_a_ac\\\">153</a></td><td class=\\\"gsc_a_y\\\"><span class=\\\"gsc_a_h\\\">2009</span></td></tr><tr class=\\\"gsc_a_tr\\\"><td class=\\\"gsc_a_t\\\"><a href=\\\"/citations?view_op=view_citation&amp;hl=en&amp;oe=ASCII&amp;user=HI-I6C0AAAAJ&amp;citation_for_view=HI-I6C0AAAAJ:2osOgNQ5qMEC\\\" class=\\\"gsc_a_at\\\">A general framework for multiple testing dependence</a><div class=\\\"gs_gray\\\">JT Leek, JD Storey</div><div class=\\\"gs_gray\\\">Proceedings of the National Academy of Sciences 105 (48), 18718-18723<span class=\\\"gs_oph\\\">, 2008</span></div></td><td class=\\\"gsc_a_c\\\"><a href=\\\"http://scholar.google.com/scholar?oi=bibs&amp;hl=en&amp;oe=ASCII&amp;cites=6862569568109470250\\\" class=\\\"gsc_a_ac\\\">131</a></td><td class=\\\"gsc_a_y\\\"><span class=\\\"gsc_a_h\\\">2008</span></td></tr><tr class=\\\"gsc_a_tr\\\"><td class=\\\"gsc_a_t\\\"><a href=\\\"/citations?view_op=view_citation&amp;hl=en&amp;oe=ASCII&amp;user=HI-I6C0AAAAJ&amp;citation_for_view=HI-I6C0AAAAJ:9yKSN-GCB0IC\\\" class=\\\"gsc_a_at\\\">The optimal discovery procedure for large-scale significance testing, with applications to comparative microarray experiments</a><div class=\\\"gs_gray\\\">JD Storey, JY Dai, JT Leek</div><div class=\\\"gs_gray\\\">Biostatistics 8 (2), 414-432<span class=\\\"gs_oph\\\">, 2007</span></div></td><td class=\\\"gsc_a_c\\\"><a href=\\\"http://scholar.google.com/scholar?oi=bibs&amp;hl=en&amp;oe=ASCII&amp;cites=6987233910267027632\\\" class=\\\"gsc_a_ac\\\">127</a></td><td class=\\\"gsc_a_y\\\"><span class=\\\"gsc_a_h\\\">2007</span></td></tr><tr class=\\\"gsc_a_tr\\\"><td class=\\\"gsc_a_t\\\"><a href=\\\"/citations?view_op=view_citation&amp;hl=en&amp;oe=ASCII&amp;user=HI-I6C0AAAAJ&amp;citation_for_view=HI-I6C0AAAAJ:8k81kl-MbHgC\\\" class=\\\"gsc_a_at\\\">The sva package for removing batch effects and other unwanted variation in high-throughput experiments</a><div class=\\\"gs_gray\\\">JT Leek, WE Johnson, HS Parker, AE Jaffe, JD Storey</div><div class=\\\"gs_gray\\\">Bioinformatics 28 (6), 882-883<span class=\\\"gs_oph\\\">, 2012</span></div></td><td class=\\\"gsc_a_c\\\"><a href=\\\"http://scholar.google.com/scholar?oi=bibs&amp;hl=en&amp;oe=ASCII&amp;cites=8144311546232376767\\\" class=\\\"gsc_a_ac\\\">58</a></td><td class=\\\"gsc_a_y\\\"><span class=\\\"gsc_a_h\\\">2012</span></td></tr><tr class=\\\"gsc_a_tr\\\"><td class=\\\"gsc_a_t\\\"><a href=\\\"/citations?view_op=view_citation&amp;hl=en&amp;oe=ASCII&amp;user=HI-I6C0AAAAJ&amp;citation_for_view=HI-I6C0AAAAJ:LkGwnXOMwfcC\\\" class=\\\"gsc_a_at\\\">Sequencing technology does not eliminate biological variability</a><div class=\\\"gs_gray\\\">KD Hansen, Z Wu, RA Irizarry, JT Leek</div><div class=\\\"gs_gray\\\">Nature biotechnology 29 (7), 572-573<span class=\\\"gs_oph\\\">, 2011</span></div></td><td class=\\\"gsc_a_c\\\"><a href=\\\"http://scholar.google.com/scholar?oi=bibs&amp;hl=en&amp;oe=ASCII&amp;cites=13984583295080419572\\\" class=\\\"gsc_a_ac\\\">55</a></td><td class=\\\"gsc_a_y\\\"><span class=\\\"gsc_a_h\\\">2011</span></td></tr><tr class=\\\"gsc_a_tr\\\"><td class=\\\"gsc_a_t\\\"><a href=\\\"/citations?view_op=view_citation&amp;hl=en&amp;oe=ASCII&amp;user=HI-I6C0AAAAJ&amp;citation_for_view=HI-I6C0AAAAJ:5nxA0vEk-isC\\\" class=\\\"gsc_a_at\\\">Bump hunting to identify differentially methylated regions in epigenetic epidemiology studies</a><div class=\\\"gs_gray\\\">AE Jaffe, P Murakami, H Lee, JT Leek, MD Fallin, AP Feinberg, RA Irizarry</div><div class=\\\"gs_gray\\\">International journal of epidemiology 41 (1), 200-209<span class=\\\"gs_oph\\\">, 2012</span></div></td><td class=\\\"gsc_a_c\\\"><a href=\\\"http://scholar.google.com/scholar?oi=bibs&amp;hl=en&amp;oe=ASCII&amp;cites=13917393765835926103\\\" class=\\\"gsc_a_ac\\\">52</a></td><td class=\\\"gsc_a_y\\\"><span class=\\\"gsc_a_h\\\">2012</span></td></tr><tr class=\\\"gsc_a_tr\\\"><td class=\\\"gsc_a_t\\\"><a href=\\\"/citations?view_op=view_citation&amp;hl=en&amp;oe=ASCII&amp;user=HI-I6C0AAAAJ&amp;citation_for_view=HI-I6C0AAAAJ:0EnyYjriUFMC\\\" class=\\\"gsc_a_at\\\">ReCount: a multi-experiment resource of analysis-ready RNA-seq gene count datasets</a><div class=\\\"gs_gray\\\">AC Frazee, B Langmead, JT Leek</div><div class=\\\"gs_gray\\\">BMC bioinformatics 12 (1), 449<span class=\\\"gs_oph\\\">, 2011</span></div></td><td class=\\\"gsc_a_c\\\"><a href=\\\"http://scholar.google.com/scholar?oi=bibs&amp;hl=en&amp;oe=ASCII&amp;cites=5499264026160610251\\\" class=\\\"gsc_a_ac\\\">44</a></td><td class=\\\"gsc_a_y\\\"><span class=\\\"gsc_a_h\\\">2011</span></td></tr><tr class=\\\"gsc_a_tr\\\"><td class=\\\"gsc_a_t\\\"><a href=\\\"/citations?view_op=view_citation&amp;hl=en&amp;oe=ASCII&amp;user=HI-I6C0AAAAJ&amp;citation_for_view=HI-I6C0AAAAJ:hqOjcs7Dif8C\\\" class=\\\"gsc_a_at\\\">Significance analysis and statistical dissection of variably methylated regions</a><div class=\\\"gs_gray\\\">AE Jaffe, AP Feinberg, RA Irizarry, JT Leek</div><div class=\\\"gs_gray\\\">Biostatistics 13 (1), 166-178<span class=\\\"gs_oph\\\">, 2012</span></div></td><td class=\\\"gsc_a_c\\\"><a href=\\\"http://scholar.google.com/scholar?oi=bibs&amp;hl=en&amp;oe=ASCII&amp;cites=8713725236803269731\\\" class=\\\"gsc_a_ac\\\">31</a></td><td class=\\\"gsc_a_y\\\"><span class=\\\"gsc_a_h\\\">2012</span></td></tr><tr class=\\\"gsc_a_tr\\\"><td class=\\\"gsc_a_t\\\"><a href=\\\"/citations?view_op=view_citation&amp;hl=en&amp;oe=ASCII&amp;user=HI-I6C0AAAAJ&amp;citation_for_view=HI-I6C0AAAAJ:_kc_bZDykSQC\\\" class=\\\"gsc_a_at\\\">Gene expression anti-profiles as a basis for accurate universal cancer signatures</a><div class=\\\"gs_gray\\\">HC Bravo, V Pihur, M McCall, RA Irizarry, JT Leek</div><div class=\\\"gs_gray\\\">BMC bioinformatics 13 (1), 272<span class=\\\"gs_oph\\\">, 2012</span></div></td><td class=\\\"gsc_a_c\\\"><a href=\\\"http://scholar.google.com/scholar?oi=bibs&amp;hl=en&amp;oe=ASCII&amp;cites=5170926751178488472\\\" class=\\\"gsc_a_ac\\\">19</a></td><td class=\\\"gsc_a_y\\\"><span class=\\\"gsc_a_h\\\">2012</span></td></tr><tr class=\\\"gsc_a_tr\\\"><td class=\\\"gsc_a_t\\\"><a href=\\\"/citations?view_op=view_citation&amp;hl=en&amp;oe=ASCII&amp;user=HI-I6C0AAAAJ&amp;citation_for_view=HI-I6C0AAAAJ:Tyk-4Ss8FVUC\\\" class=\\\"gsc_a_at\\\">Asymptotic Conditional Singular Value Decomposition for High&#8208;Dimensional Genomic Data</a><div class=\\\"gs_gray\\\">JT Leek</div><div class=\\\"gs_gray\\\">Biometrics 67 (2), 344-352<span class=\\\"gs_oph\\\">, 2011</span></div></td><td class=\\\"gsc_a_c\\\"><a href=\\\"http://scholar.google.com/scholar?oi=bibs&amp;hl=en&amp;oe=ASCII&amp;cites=16751206081910057670\\\" class=\\\"gsc_a_ac\\\">19</a></td><td class=\\\"gsc_a_y\\\"><span class=\\\"gsc_a_h\\\">2011</span></td></tr><tr class=\\\"gsc_a_tr\\\"><td class=\\\"gsc_a_t\\\"><a href=\\\"/citations?view_op=view_citation&amp;hl=en&amp;oe=ASCII&amp;user=HI-I6C0AAAAJ&amp;citation_for_view=HI-I6C0AAAAJ:WF5omc3nYNoC\\\" class=\\\"gsc_a_at\\\">Cooperation between referees and authors increases peer review accuracy</a><div class=\\\"gs_gray\\\">JT Leek, MA Taub, FJ Pineda</div><div class=\\\"gs_gray\\\">PloS one 6 (11), e26895<span class=\\\"gs_oph\\\">, 2011</span></div></td><td class=\\\"gsc_a_c\\\"><a href=\\\"http://scholar.google.com/scholar?oi=bibs&amp;hl=en&amp;oe=ASCII&amp;cites=2817868503282973196\\\" class=\\\"gsc_a_ac\\\">18</a></td><td class=\\\"gsc_a_y\\\"><span class=\\\"gsc_a_h\\\">2011</span></td></tr><tr class=\\\"gsc_a_tr\\\"><td class=\\\"gsc_a_t\\\"><a href=\\\"/citations?view_op=view_citation&amp;hl=en&amp;oe=ASCII&amp;user=HI-I6C0AAAAJ&amp;citation_for_view=HI-I6C0AAAAJ:_FxGoFyzp5QC\\\" class=\\\"gsc_a_at\\\">Dissecting inflammatory complications in critically injured patients by within-patient gene expression changes: a longitudinal clinical genomics study</a><div class=\\\"gs_gray\\\">KH Desai, CS Tan, JT Leek, RV Maier, RG Tompkins, JD Storey</div><div class=\\\"gs_gray\\\">PLoS medicine 8 (9), e1001093<span class=\\\"gs_oph\\\">, 2011</span></div></td><td class=\\\"gsc_a_c\\\"><a href=\\\"http://scholar.google.com/scholar?oi=bibs&amp;hl=en&amp;oe=ASCII&amp;cites=10923603496726693889\\\" class=\\\"gsc_a_ac\\\">16</a></td><td class=\\\"gsc_a_y\\\"><span class=\\\"gsc_a_h\\\">2011</span></td></tr><tr class=\\\"gsc_a_tr\\\"><td class=\\\"gsc_a_t\\\"><a href=\\\"/citations?view_op=view_citation&amp;hl=en&amp;oe=ASCII&amp;user=HI-I6C0AAAAJ&amp;citation_for_view=HI-I6C0AAAAJ:Y0pCki6q_DkC\\\" class=\\\"gsc_a_at\\\">The tspair package for finding top scoring pair classifiers in R</a><div class=\\\"gs_gray\\\">JT Leek</div><div class=\\\"gs_gray\\\">Bioinformatics 25 (9), 1203-1204<span class=\\\"gs_oph\\\">, 2009</span></div></td><td class=\\\"gsc_a_c\\\"><a href=\\\"http://scholar.google.com/scholar?oi=bibs&amp;hl=en&amp;oe=ASCII&amp;cites=10521226315216814638\\\" class=\\\"gsc_a_ac\\\">13</a></td><td class=\\\"gsc_a_y\\\"><span class=\\\"gsc_a_h\\\">2009</span></td></tr><tr class=\\\"gsc_a_tr\\\"><td class=\\\"gsc_a_t\\\"><a href=\\\"/citations?view_op=view_citation&amp;hl=en&amp;oe=ASCII&amp;user=HI-I6C0AAAAJ&amp;citation_for_view=HI-I6C0AAAAJ:ufrVoPGSRksC\\\" class=\\\"gsc_a_at\\\">The joint null criterion for multiple hypothesis tests</a><div class=\\\"gs_gray\\\">JT Leek, JD Storey</div><div class=\\\"gs_gray\\\">Statistical Applications in Genetics and Molecular Biology 10 (1), 1-22<span class=\\\"gs_oph\\\">, 2011</span></div></td><td class=\\\"gsc_a_c\\\"><a href=\\\"http://scholar.google.com/scholar?oi=bibs&amp;hl=en&amp;oe=ASCII&amp;cites=4881367676737276124\\\" class=\\\"gsc_a_ac\\\">11</a></td><td class=\\\"gsc_a_y\\\"><span class=\\\"gsc_a_h\\\">2011</span></td></tr></tbody></table><div id=\\\"gsc_a_sp\\\" style=\\\"display:none\\\"></div><div id=\\\"gsc_a_err\\\" class=\\\"gs_alrt\\\" style=\\\"display:none\\\">The system can&#39;t perform the operation now. Try again later.</div><div id=\\\"gsc_lwp\\\"><div id=\\\"gsc_bpf\\\"><button type=\\\"button\\\" id=\\\"gsc_bpf_prev\\\" disabled class=\\\"gs_btnPL gs_in_ib gs_btn_half gs_btn_slt gs_dis gs_btnPL-gs_dis\\\"><span class=\\\"gs_wr\\\"><span class=\\\"gs_bg\\\"></span><span class=\\\"gs_lbl\\\"></span><span class=\\\"gs_ico gs_ico_dis\\\"></span></span></button><button type=\\\"button\\\" id=\\\"gsc_bpf_more\\\" class=\\\" gs_btn_smd\\\"><span class=\\\"gs_wr\\\"><span class=\\\"gs_bg\\\"></span><span class=\\\"gs_lbl\\\">Show more</span></span></button><button type=\\\"button\\\" id=\\\"gsc_bpf_next\\\" class=\\\"gs_btnPR gs_in_ib gs_btn_half gs_btn_srt\\\"><span class=\\\"gs_wr\\\"><span class=\\\"gs_bg\\\"></span><span class=\\\"gs_lbl\\\"></span><span class=\\\"gs_ico\\\"></span></span></button></div></div></form></div><div id=\\\"gsc_ftr\\\" class=\\\"gsc_lcl\\\"><div id=\\\"gsc_dscl\\\">Dates and citation counts are estimated and are determined automatically by a computer program.</div><div id=\\\"gsc_ftr_h\\\"><a href=\\\"/intl/en/scholar/citations.html\\\">Help</a><a href=\\\"//support.google.com/scholar/contact/general\\\">Provide feedback</a><a href=\\\"/citations?hl=en&amp;oe=ASCII\\\">Get my own profile</a></div></div></div></div><div id=\\\"gs_rdy\\\"></div></body></html>\""
       ]
      }
     ],
     "prompt_number": 40
    },
    {
     "cell_type": "heading",
     "level": 3,
     "metadata": {},
     "source": [
      "Getting data off web pages \u2014 parsing with `XML`"
     ]
    },
    {
     "cell_type": "code",
     "collapsed": false,
     "input": [
      "library(XML)\n",
      "url <- 'http://scholar.google.com/citations?user=HI-I6C0AAAAJ&hl=en'\n",
      "html <- htmlTreeParse(url, useInternalNodes = TRUE)\n",
      "\n",
      "xpathSApply(html, '//title', xmlValue)"
     ],
     "language": "python",
     "metadata": {},
     "outputs": [
      {
       "metadata": {},
       "output_type": "pyout",
       "prompt_number": 41,
       "text": [
        "[1] \"Jeff Leek - Google Scholar Citations\""
       ]
      }
     ],
     "prompt_number": 41
    },
    {
     "cell_type": "code",
     "collapsed": false,
     "input": [
      "xpathSApply(html, '//td[@id=\"col-citedby\"]', xmlValue) # errata"
     ],
     "language": "python",
     "metadata": {},
     "outputs": [
      {
       "metadata": {},
       "output_type": "pyout",
       "prompt_number": 42,
       "text": [
        "list()"
       ]
      }
     ],
     "prompt_number": 42
    },
    {
     "cell_type": "code",
     "collapsed": false,
     "input": [
      "xpathSApply(html, '//td[@class=\"gsc_a_c\"]', xmlValue) "
     ],
     "language": "python",
     "metadata": {},
     "outputs": [
      {
       "metadata": {},
       "output_type": "pyout",
       "prompt_number": 45,
       "text": [
        " [1] \"432\" \"340\" \"323\" \"187\" \"180\" \"176\" \"153\" \"131\" \"127\" \"58\"  \"55\"  \"52\" \n",
        "[13] \"44\"  \"31\"  \"19\"  \"19\"  \"18\"  \"16\"  \"13\"  \"11\" "
       ]
      }
     ],
     "prompt_number": 45
    },
    {
     "cell_type": "heading",
     "level": 3,
     "metadata": {},
     "source": [
      "GETting data off web pages \u2014 the `httr` package"
     ]
    },
    {
     "cell_type": "code",
     "collapsed": false,
     "input": [
      "library(httr)"
     ],
     "language": "python",
     "metadata": {},
     "outputs": [],
     "prompt_number": 46
    },
    {
     "cell_type": "code",
     "collapsed": false,
     "input": [
      "html2 = GET(url)\n",
      "content2 = content(html2, as = 'text')\n",
      "parsedHtml = htmlParse(content2, asText = TRUE)\n",
      "\n",
      "xpathSApply(parsedHtml, '//title', xmlValue)"
     ],
     "language": "python",
     "metadata": {},
     "outputs": [
      {
       "metadata": {},
       "output_type": "pyout",
       "prompt_number": 47,
       "text": [
        "[1] \"Jeff Leek - Google Scholar Citations\""
       ]
      }
     ],
     "prompt_number": 47
    },
    {
     "cell_type": "heading",
     "level": 3,
     "metadata": {},
     "source": [
      "Accessing websites with passwords"
     ]
    },
    {
     "cell_type": "code",
     "collapsed": false,
     "input": [
      "pg1 = GET('http://httpbin.org/basic-auth/user/passwd')"
     ],
     "language": "python",
     "metadata": {},
     "outputs": [],
     "prompt_number": 48
    },
    {
     "cell_type": "code",
     "collapsed": false,
     "input": [
      "pg1"
     ],
     "language": "python",
     "metadata": {},
     "outputs": [
      {
       "metadata": {},
       "output_type": "pyout",
       "prompt_number": 49,
       "text": [
        "Response [http://httpbin.org/basic-auth/user/passwd]\n",
        "  Date: 2014-11-17 22:31\n",
        "  Status: 401\n",
        "  Content-type: <unknown>\n",
        "<EMPTY BODY>\n",
        "NULL"
       ]
      }
     ],
     "prompt_number": 49
    },
    {
     "cell_type": "code",
     "collapsed": false,
     "input": [
      "pg2 = GET('http://httpbin.org/basic-auth/user/passwd',\n",
      "          authenticate('user', 'passwd'))\n",
      "\n",
      "pg2"
     ],
     "language": "python",
     "metadata": {},
     "outputs": [
      {
       "metadata": {},
       "output_type": "pyout",
       "prompt_number": 50,
       "text": [
        "Response [http://httpbin.org/basic-auth/user/passwd]\n",
        "  Date: 2014-11-17 22:33\n",
        "  Status: 200\n",
        "  Content-type: application/json\n",
        "  Size: 46 B\n",
        "{\n",
        "  \"authenticated\": true, \n",
        "  \"user\": \"user\""
       ]
      }
     ],
     "prompt_number": 50
    },
    {
     "cell_type": "code",
     "collapsed": false,
     "input": [
      "names(pg2)"
     ],
     "language": "python",
     "metadata": {},
     "outputs": [
      {
       "metadata": {},
       "output_type": "pyout",
       "prompt_number": 51,
       "text": [
        "[1] \"url\"         \"status_code\" \"headers\"     \"all_headers\" \"cookies\"    \n",
        "[6] \"content\"     \"date\"        \"times\"       \"request\"    "
       ]
      }
     ],
     "prompt_number": 51
    },
    {
     "cell_type": "heading",
     "level": 3,
     "metadata": {},
     "source": [
      "Using `handle()`s \u2014 to save authentications across multiple hits"
     ]
    },
    {
     "cell_type": "code",
     "collapsed": false,
     "input": [
      "google = handle('http://google.com')\n",
      "pg1 = GET(handle = google, path = '/')\n",
      "pg2 = GET(handle = google, path = 'search')"
     ],
     "language": "python",
     "metadata": {},
     "outputs": [],
     "prompt_number": 52
    },
    {
     "cell_type": "markdown",
     "metadata": {},
     "source": [
      "---"
     ]
    },
    {
     "cell_type": "heading",
     "level": 2,
     "metadata": {},
     "source": [
      "Reading data from APIs"
     ]
    },
    {
     "cell_type": "heading",
     "level": 3,
     "metadata": {},
     "source": [
      "Creating a twitter app"
     ]
    },
    {
     "cell_type": "markdown",
     "metadata": {},
     "source": [
      "* [Getting data with R](https://apps.twitter.com/app/7233966)"
     ]
    },
    {
     "cell_type": "heading",
     "level": 3,
     "metadata": {},
     "source": [
      "Use environment variables with `Sys.getenv()`"
     ]
    },
    {
     "cell_type": "code",
     "collapsed": true,
     "input": [
      "# environment variables can be set in ~/.Renviron\n",
      "#   https://stuff.mit.edu/afs/sipb/project/r-project/lib/R/library/base/html/Startup.html\n",
      "\n",
      "names(s <- Sys.getenv())"
     ],
     "language": "python",
     "metadata": {},
     "outputs": [
      {
       "metadata": {},
       "output_type": "pyout",
       "prompt_number": 1,
       "text": [
        " [1] \"EDITOR\"                      \"HOME\"                       \n",
        " [3] \"LANG\"                        \"LANGUAGE\"                   \n",
        " [5] \"LD_LIBRARY_PATH\"             \"LN_S\"                       \n",
        " [7] \"LOGNAME\"                     \"LS_COLORS\"                  \n",
        " [9] \"MAIL\"                        \"MAKE\"                       \n",
        "[11] \"PAGER\"                       \"PATH\"                       \n",
        "[13] \"PWD\"                         \"R_ARCH\"                     \n",
        "[15] \"R_BROWSER\"                   \"R_BZIPCMD\"                  \n",
        "[17] \"R_DOC_DIR\"                   \"R_GZIPCMD\"                  \n",
        "[19] \"R_HOME\"                      \"R_INCLUDE_DIR\"              \n",
        "[21] \"R_LIBS_SITE\"                 \"R_LIBS_USER\"                \n",
        "[23] \"R_PAPERSIZE\"                 \"R_PAPERSIZE_USER\"           \n",
        "[25] \"R_PDFVIEWER\"                 \"R_PLATFORM\"                 \n",
        "[27] \"R_PRINTCMD\"                  \"R_RD4PDF\"                   \n",
        "[29] \"R_SESSION_TMPDIR\"            \"R_SHARE_DIR\"                \n",
        "[31] \"R_SYSTEM_ABI\"                \"R_TEXI2DVICMD\"              \n",
        "[33] \"R_UNZIPCMD\"                  \"R_ZIPCMD\"                   \n",
        "[35] \"SED\"                         \"SHELL\"                      \n",
        "[37] \"SHLVL\"                       \"SUDO_COMMAND\"               \n",
        "[39] \"SUDO_GID\"                    \"SUDO_UID\"                   \n",
        "[41] \"SUDO_USER\"                   \"TAR\"                        \n",
        "[43] \"TERM\"                        \"TWITTER_ACCESS_TOKEN\"       \n",
        "[45] \"TWITTER_ACCESS_TOKEN_SECRET\" \"TWITTER_API_KEY\"            \n",
        "[47] \"TWITTER_API_SECRET\"          \"USER\"                       \n",
        "[49] \"USERNAME\"                   "
       ]
      }
     ],
     "prompt_number": 1
    },
    {
     "cell_type": "heading",
     "level": 3,
     "metadata": {},
     "source": [
      "Accessing Twitter from R"
     ]
    },
    {
     "cell_type": "code",
     "collapsed": false,
     "input": [
      "library(httr)\n",
      "\n",
      "# start the authorization process for the app using oauth_app()\n",
      "myApp = oauth_app(\"twitter\", # application name\n",
      "                  key = Sys.getenv('TWITTER_API_KEY'), \n",
      "                  secret = Sys.getenv('TWITTER_API_SECRET'))\n",
      "\n",
      "# sign into the app and return private credentials \n",
      "sig = sign_oauth1.0(myApp,\n",
      "                    token = Sys.getenv('TWITTER_ACCESS_TOKEN'),\n",
      "                    token_secret = Sys.getenv('TWITTER_ACCESS_TOKEN_SECRET'))\n",
      "\n",
      "homeTL = GET('https://api.twitter.com/1.1/statuses/home_timeline.json', sig)"
     ],
     "language": "python",
     "metadata": {},
     "outputs": [],
     "prompt_number": 3
    },
    {
     "cell_type": "code",
     "collapsed": false,
     "input": [
      "homeTL"
     ],
     "language": "python",
     "metadata": {},
     "outputs": [
      {
       "metadata": {},
       "output_type": "pyout",
       "prompt_number": 4,
       "text": [
        "Response [https://api.twitter.com/1.1/statuses/home_timeline.json]\n",
        "  Date: 2014-11-18 11:45\n",
        "  Status: 200\n",
        "  Content-type: application/json;charset=utf-8\n",
        "  Size: 74.6 kB\n"
       ]
      }
     ],
     "prompt_number": 4
    },
    {
     "cell_type": "heading",
     "level": 3,
     "metadata": {},
     "source": [
      "Converting the JSON object"
     ]
    },
    {
     "cell_type": "code",
     "collapsed": false,
     "input": [
      "# content() detects JSON content and returns an R object\n",
      "rawJSON = content(homeTL)\n",
      "\n",
      "# content()'s JSON output is less readable\n",
      "# so we'll reformat it through jsonlite\n",
      "reformattedJSON = jsonlite::fromJSON(toJSON(rawJSON))\n",
      "\n",
      "# we now get a data frame where each row is a tweet from the timeline\n",
      "reformattedJSON[1, 1:4]"
     ],
     "language": "python",
     "metadata": {},
     "outputs": [
      {
       "metadata": {},
       "output_type": "pyout",
       "prompt_number": 5,
       "text": [
        "                      created_at           id             id_str\n",
        "1 Tue Nov 18 16:45:49 +0000 2014 5.347493e+17 534749327932276737\n",
        "                                                                                               text\n",
        "1 An intuitive manner to present some principles of responsive #Web #design: http://t.co/5AnhC7BW4b"
       ]
      }
     ],
     "prompt_number": 5
    },
    {
     "cell_type": "markdown",
     "metadata": {},
     "source": [
      "### More on `httr`\n",
      "* authorized `GET`, `POST`, `PUT`, `DELETE` requests\n",
      "* autenticate with username & password\n",
      "* plays well with OAuth\n",
      "* works well with\n",
      "  * Facebook,\n",
      "  * Google,\n",
      "  * Twitter,\n",
      "  * Github, etc "
     ]
    },
    {
     "cell_type": "markdown",
     "metadata": {},
     "source": [
      "---"
     ]
    },
    {
     "cell_type": "heading",
     "level": 2,
     "metadata": {},
     "source": [
      "Reading data from other sources"
     ]
    },
    {
     "cell_type": "markdown",
     "metadata": {},
     "source": [
      "* [\"&lt;data storage mechanism&gt; R package\"](http://lmgtfy.com/?q=%3Cdata+storage+mechanism%3E+R+package)"
     ]
    },
    {
     "cell_type": "heading",
     "level": 3,
     "metadata": {},
     "source": [
      "Interacting more directly with files"
     ]
    },
    {
     "cell_type": "markdown",
     "metadata": {},
     "source": [
      "* `file` \u2014 open a connection to a text file\n",
      "* `url` \u2014 open a connection to a url\n",
      "* `gzfile` \u2014 open a connection to a .gz file\n",
      "* `bzfile` \u2014 open a connection to a .bz2 file\n",
      "* `?connections` \u2014 for more info\n",
      "* **Remember to close the connection**"
     ]
    },
    {
     "cell_type": "heading",
     "level": 3,
     "metadata": {},
     "source": [
      "The `foreign` package"
     ]
    },
    {
     "cell_type": "markdown",
     "metadata": {},
     "source": [
      "* Loads data from Minitab, SAS, SPSS, Stata, Systat, Weka etc.\n",
      "* Basic functions _read.ext_\n",
      "  * `read.arff` \u2014 Weka\n",
      "  * `read.dta` \u2014 Stata\n",
      "  * `read.mtp` \u2014 Minitab\n",
      "  * `read.octave` \u2014 Octave\n",
      "  * `read.spss` \u2014 SPSS\n",
      "  * `read.xport` \u2014 SAS\n",
      "  * `read.fwf` \u2014 [fixed width format files](https://stat.ethz.ch/R-manual/R-devel/library/utils/html/read.fwf.html)\n",
      "* [read more](http://cran.r-project.org/web/packages/foreign/foreign.pdf)"
     ]
    },
    {
     "cell_type": "heading",
     "level": 3,
     "metadata": {},
     "source": [
      "Other DB packages"
     ]
    },
    {
     "cell_type": "markdown",
     "metadata": {},
     "source": [
      "* [RPostgreSQL](http://cran.r-project.org/web/packages/RPostgreSQL/)\n",
      "* [RMongo](http://cran.r-project.org/web/packages/RMongo/) & [rmongodb](http://cran.r-project.org/web/packages/rmongodb/)\n",
      "* [RODBC](http://cran.r-project.org/web/packages/RODBC/) \u2014 Postgres, MySQL, M$ Access, SQLite etc"
     ]
    },
    {
     "cell_type": "heading",
     "level": 3,
     "metadata": {},
     "source": [
      "Reading images"
     ]
    },
    {
     "cell_type": "markdown",
     "metadata": {},
     "source": [
      "* jpeg\n",
      "* readbitmap\n",
      "* png\n",
      "* EBImage"
     ]
    },
    {
     "cell_type": "heading",
     "level": 3,
     "metadata": {},
     "source": [
      "Reading GIS data"
     ]
    },
    {
     "cell_type": "markdown",
     "metadata": {},
     "source": [
      "* rdgal\n",
      "* rgeos\n",
      "* raster"
     ]
    },
    {
     "cell_type": "heading",
     "level": 3,
     "metadata": {},
     "source": [
      "Reading music data"
     ]
    },
    {
     "cell_type": "markdown",
     "metadata": {},
     "source": [
      "* tuneR\n",
      "* seewave"
     ]
    },
    {
     "cell_type": "heading",
     "level": 3,
     "metadata": {},
     "source": [
      "There is always an R package for that"
     ]
    },
    {
     "cell_type": "markdown",
     "metadata": {},
     "source": [
      "---"
     ]
    },
    {
     "cell_type": "markdown",
     "metadata": {},
     "source": [
      "Quick jump to:\n",
      "* [Week #1](#Week-#1)\n",
      "* [Week #2](#Week-#2)\n",
      "* [Week #3](#Week-#3)\n",
      "* [Week #4](#Week-#4)"
     ]
    },
    {
     "cell_type": "heading",
     "level": 1,
     "metadata": {},
     "source": [
      "Week #3"
     ]
    },
    {
     "cell_type": "code",
     "collapsed": false,
     "input": [],
     "language": "python",
     "metadata": {},
     "outputs": []
    },
    {
     "cell_type": "markdown",
     "metadata": {},
     "source": [
      "---"
     ]
    },
    {
     "cell_type": "markdown",
     "metadata": {},
     "source": [
      "Quick jump to:\n",
      "* [Week #1](#Week-#1)\n",
      "* [Week #2](#Week-#2)\n",
      "* [Week #3](#Week-#3)\n",
      "* [Week #4](#Week-#4)"
     ]
    },
    {
     "cell_type": "heading",
     "level": 1,
     "metadata": {},
     "source": [
      "Week #4"
     ]
    },
    {
     "cell_type": "code",
     "collapsed": false,
     "input": [],
     "language": "python",
     "metadata": {},
     "outputs": []
    }
   ],
   "metadata": {}
  }
 ]
}