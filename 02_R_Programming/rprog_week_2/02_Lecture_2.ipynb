{
 "metadata": {
  "name": "",
  "signature": "sha256:7c6425fe98fd5dd40adfc79781ea217fb7614507621956fbbf8fc87943e009dd"
 },
 "nbformat": 3,
 "nbformat_minor": 0,
 "worksheets": [
  {
   "cells": [
    {
     "cell_type": "heading",
     "level": 1,
     "metadata": {},
     "source": [
      "Lecture #2"
     ]
    },
    {
     "cell_type": "markdown",
     "metadata": {},
     "source": [
      "Quick jump to:\n",
      "  *  [Control Structures](#Control-Structures)\n",
      "  *  [Functions](#Functions)\n",
      "  *  [Scoping Rules](#Scoping-Rules)\n",
      "  *  [Coding Standards](#Coding-Standards)"
     ]
    },
    {
     "cell_type": "heading",
     "level": 2,
     "metadata": {},
     "source": [
      "Control Structures"
     ]
    },
    {
     "cell_type": "markdown",
     "metadata": {},
     "source": [
      "* `if`, `else`\n",
      "  * testing a condition\n",
      "  * `if() {...}` \n",
      "  * `if() {...} else {...}` \n",
      "  * `if() {...} else if {...} else {...}`\n",
      "  * transmit that this if/else construct is all about asigning a value to y  \n",
      "    `y <- if(x > 3) { 10 } else { 0 }`\n",
      "\n",
      "* `for` \n",
      "  * loop for a fixed number of times\n",
      "  * loop index  \n",
      "    `for(i in 1:10) { print(1) }`\n",
      "  * `for(i in seq_along(x)) print(x[i])`\n",
      "  * `for (letter in x) print(letter)`\n",
      "\n",
      "* `while`\n",
      "  * loop _while_ a condition is true\n",
      "  * `for`'s hard limit is sometimes safer, since `while` can turn into an infinite loop\n",
      "* `repeat` \n",
      "  * infinite loop\n",
      "  * only exited with `break`\n",
      "  * requires an algorithm that will eventually converge\n",
      "  * again, a `for` loop with a hard limit is probably a better idea.\n",
      "* `break` \n",
      "  * break the execution loop\n",
      "* `next` \n",
      "  * skip an iteration in any loop\n",
      "* `return` \n",
      "  * exit the entire function, and return a given value\n",
      "\n",
      "Less likely in interactive sessions, rather when writing functions or longer expressions.\n",
      "\n",
      "Control strutures mentioned here are primarily useful for writing programs; for command-line interactive work, the `*apply` functions are more useful."
     ]
    },
    {
     "cell_type": "heading",
     "level": 2,
     "metadata": {},
     "source": [
      "Functions"
     ]
    },
    {
     "cell_type": "heading",
     "level": 3,
     "metadata": {},
     "source": [
      "First function time"
     ]
    },
    {
     "cell_type": "code",
     "collapsed": false,
     "input": [
      "add2 <- function(x, y) {\n",
      "  # the R function returns whatever the last expression returns\n",
      "  # hello Ruby ;o)\n",
      "  x + y\n",
      "}"
     ],
     "language": "python",
     "metadata": {},
     "outputs": [],
     "prompt_number": 2
    },
    {
     "cell_type": "code",
     "collapsed": false,
     "input": [
      "add2(3, 5)"
     ],
     "language": "python",
     "metadata": {},
     "outputs": [
      {
       "metadata": {},
       "output_type": "pyout",
       "prompt_number": 3,
       "text": [
        "[1] 8"
       ]
      }
     ],
     "prompt_number": 3
    },
    {
     "cell_type": "code",
     "collapsed": false,
     "input": [
      "above <- function(x, n = 17) {\n",
      "    use <- x > n\n",
      "    x[use]\n",
      "}"
     ],
     "language": "python",
     "metadata": {},
     "outputs": [],
     "prompt_number": 11
    },
    {
     "cell_type": "code",
     "collapsed": false,
     "input": [
      "x <- 1:20"
     ],
     "language": "python",
     "metadata": {},
     "outputs": [],
     "prompt_number": 9
    },
    {
     "cell_type": "code",
     "collapsed": false,
     "input": [
      "above(x)"
     ],
     "language": "python",
     "metadata": {},
     "outputs": [
      {
       "metadata": {},
       "output_type": "pyout",
       "prompt_number": 12,
       "text": [
        "[1] 18 19 20"
       ]
      }
     ],
     "prompt_number": 12
    },
    {
     "cell_type": "code",
     "collapsed": false,
     "input": [
      "above(x, 12)"
     ],
     "language": "python",
     "metadata": {},
     "outputs": [
      {
       "metadata": {},
       "output_type": "pyout",
       "prompt_number": 10,
       "text": [
        "[1] 13 14 15 16 17 18 19 20"
       ]
      }
     ],
     "prompt_number": 10
    },
    {
     "cell_type": "code",
     "collapsed": false,
     "input": [
      "x"
     ],
     "language": "python",
     "metadata": {},
     "outputs": [
      {
       "metadata": {},
       "output_type": "pyout",
       "prompt_number": 8,
       "text": [
        " [1]  1  2  3  4  5  6  7  8  9 10"
       ]
      }
     ],
     "prompt_number": 8
    },
    {
     "cell_type": "code",
     "collapsed": false,
     "input": [
      "columnMean <- function(df, removeNa = TRUE) {\n",
      "    columnCount <- ncol(df)\n",
      "    means <- numeric(columnCount)\n",
      "    for(i in 1:columnCount) {\n",
      "        means[i] <- mean(df[, i], na.rm = removeNa)\n",
      "    }\n",
      "    means\n",
      "}"
     ],
     "language": "python",
     "metadata": {},
     "outputs": [],
     "prompt_number": 17
    },
    {
     "cell_type": "code",
     "collapsed": false,
     "input": [
      "columnMean(airquality)"
     ],
     "language": "python",
     "metadata": {},
     "outputs": [
      {
       "metadata": {},
       "output_type": "pyout",
       "prompt_number": 20,
       "text": [
        "[1]        NA        NA  9.957516 77.882353  6.993464 15.803922"
       ]
      }
     ],
     "prompt_number": 20
    },
    {
     "cell_type": "code",
     "collapsed": false,
     "input": [
      "columnMean(airquality)"
     ],
     "language": "python",
     "metadata": {},
     "outputs": [
      {
       "metadata": {},
       "output_type": "pyout",
       "prompt_number": 21,
       "text": [
        "[1]  42.129310 185.931507   9.957516  77.882353   6.993464  15.803922"
       ]
      }
     ],
     "prompt_number": 21
    },
    {
     "cell_type": "heading",
     "level": 3,
     "metadata": {},
     "source": [
      "`function()` \u2014 from _R user_ to _R programmer_"
     ]
    },
    {
     "cell_type": "markdown",
     "metadata": {},
     "source": [
      "* functions are first class objects\n",
      "* one can pass functions to other functions\n",
      "* functions can also be nested \u2014 lexical scoping\n",
      "* the return value is the very last R expresion to be evaluated"
     ]
    },
    {
     "cell_type": "heading",
     "level": 3,
     "metadata": {},
     "source": [
      "Function Arguments"
     ]
    },
    {
     "cell_type": "markdown",
     "metadata": {},
     "source": [
      "* named arguments\n",
      "* can have default values\n",
      "* formal arguments\n",
      "  * `formals()` takes a function name as input and returns a list of formal arguments it takes\n",
      "  * can be missing\n",
      "  * might have default values"
     ]
    },
    {
     "cell_type": "code",
     "collapsed": false,
     "input": [],
     "language": "python",
     "metadata": {},
     "outputs": []
    }
   ],
   "metadata": {}
  }
 ]
}