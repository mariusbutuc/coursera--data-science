{
 "metadata": {
  "name": "",
  "signature": "sha256:64dc14a05fe23d0d0f0e0cdb36c7031a178f548f6273a79d42dcae0f6a6eb780"
 },
 "nbformat": 3,
 "nbformat_minor": 0,
 "worksheets": [
  {
   "cells": [
    {
     "cell_type": "heading",
     "level": 1,
     "metadata": {},
     "source": [
      "Getting Started and R Nuts and Bolts"
     ]
    },
    {
     "cell_type": "heading",
     "level": 2,
     "metadata": {},
     "source": [
      "Intro"
     ]
    },
    {
     "cell_type": "markdown",
     "metadata": {},
     "source": [
      "Focus on R as a programming language\n",
      "  - basic building blocks\n",
      "  - different data types\n",
      "  - control structures\n",
      "  - R functions\n",
      "  - basic operations on data\n",
      "  - profiling the code\n",
      "  - tools for debugging\n",
      "  - how to work with longer pieces of code"
     ]
    },
    {
     "cell_type": "heading",
     "level": 2,
     "metadata": {},
     "source": [
      "Overview and History of R"
     ]
    },
    {
     "cell_type": "markdown",
     "metadata": {},
     "source": [
      "What is R?\n",
      "  - R is a dialect of the S language."
     ]
    },
    {
     "cell_type": "heading",
     "level": 2,
     "metadata": {},
     "source": [
      "Getting Help"
     ]
    },
    {
     "cell_type": "heading",
     "level": 2,
     "metadata": {},
     "source": [
      "Data Types and Basic Operations"
     ]
    },
    {
     "cell_type": "markdown",
     "metadata": {},
     "source": [
      "Everything in R is an **object**."
     ]
    },
    {
     "cell_type": "heading",
     "level": 3,
     "metadata": {},
     "source": [
      "The 5 _atomic_ classes of objects in R"
     ]
    },
    {
     "cell_type": "markdown",
     "metadata": {},
     "source": [
      "1. character\n",
      "2. numeric (real/decimal numbers)\n",
      "3. integer\n",
      "4. complex\n",
      "5. logical (True/False)"
     ]
    },
    {
     "cell_type": "heading",
     "level": 3,
     "metadata": {},
     "source": [
      "Vector"
     ]
    },
    {
     "cell_type": "markdown",
     "metadata": {},
     "source": [
      "Most basic object is a **vector**:\n",
      "- multiple copies of a _single type of object_\n",
      "- cannot have mixed types of objects\n",
      "- `vector()`\n",
      "  - creates new vector\n",
      "  - arguments: \n",
      "    - the class of the objects\n",
      "    - the length of the vector."
     ]
    },
    {
     "cell_type": "heading",
     "level": 3,
     "metadata": {},
     "source": [
      "List"
     ]
    },
    {
     "cell_type": "markdown",
     "metadata": {},
     "source": [
      "- represented as a vector, a sequence of objects\n",
      "- each element of that vector can be an object of a different class."
     ]
    },
    {
     "cell_type": "heading",
     "level": 3,
     "metadata": {},
     "source": [
      "Numbers"
     ]
    },
    {
     "cell_type": "markdown",
     "metadata": {},
     "source": [
      "- **numeric** objects\u2014double precision real numbers\n",
      "- explicit **integer** with the `L` suffix\n",
      "- **Inf** = infinity, a special number\n",
      "- **NaN** = undefined number, missing value"
     ]
    },
    {
     "cell_type": "heading",
     "level": 3,
     "metadata": {},
     "source": [
      "Attributes"
     ]
    },
    {
     "cell_type": "markdown",
     "metadata": {},
     "source": [
      "- `names`, `dimnames`\n",
      "- `dimensions`\n",
      "- `class`\n",
      "- `length`\n",
      "- metadata: other user-defined attributes\n",
      "\n",
      "Set/get the attributes of any R object by using `attributes()`."
     ]
    },
    {
     "cell_type": "heading",
     "level": 3,
     "metadata": {},
     "source": [
      "Expressions & Evaluation"
     ]
    },
    {
     "cell_type": "code",
     "collapsed": false,
     "input": [
      "# assignment\n",
      "x <- 1 # nothing is printed\n",
      "\n",
      "# explicit printing\n",
      "print(x)"
     ],
     "language": "python",
     "metadata": {},
     "outputs": [
      {
       "output_type": "stream",
       "stream": "stdout",
       "text": [
        "[1] 1\n"
       ]
      }
     ],
     "prompt_number": 5
    },
    {
     "cell_type": "code",
     "collapsed": false,
     "input": [
      "# numeric vector with only one value\n",
      "x # auto-printing"
     ],
     "language": "python",
     "metadata": {},
     "outputs": [
      {
       "metadata": {},
       "output_type": "pyout",
       "prompt_number": 6,
       "text": [
        "[1] 1"
       ]
      }
     ],
     "prompt_number": 6
    },
    {
     "cell_type": "code",
     "collapsed": false,
     "input": [
      "# a string is a character vector\n",
      "msg <- \"hello\"\n",
      "\n",
      "msg"
     ],
     "language": "python",
     "metadata": {},
     "outputs": [
      {
       "metadata": {},
       "output_type": "pyout",
       "prompt_number": 8,
       "text": [
        "[1] \"hello\""
       ]
      }
     ],
     "prompt_number": 8
    },
    {
     "cell_type": "heading",
     "level": 3,
     "metadata": {},
     "source": [
      "Printing"
     ]
    },
    {
     "cell_type": "markdown",
     "metadata": {},
     "source": [
      "A **sequence** is created using the `:` operator"
     ]
    },
    {
     "cell_type": "code",
     "collapsed": false,
     "input": [
      "x <- 1:50\n",
      "\n",
      "x"
     ],
     "language": "python",
     "metadata": {},
     "outputs": [
      {
       "metadata": {},
       "output_type": "pyout",
       "prompt_number": 13,
       "text": [
        " [1]  1  2  3  4  5  6  7  8  9 10 11 12 13 14 15 16 17 18 19 20 21 22 23 24 25\n",
        "[26] 26 27 28 29 30 31 32 33 34 35 36 37 38 39 40 41 42 43 44 45 46 47 48 49 50"
       ]
      }
     ],
     "prompt_number": 13
    },
    {
     "cell_type": "code",
     "collapsed": false,
     "input": [
      "class(x)"
     ],
     "language": "python",
     "metadata": {},
     "outputs": [
      {
       "metadata": {},
       "output_type": "pyout",
       "prompt_number": 27,
       "text": [
        "[1] \"integer\""
       ]
      }
     ],
     "prompt_number": 27
    },
    {
     "cell_type": "heading",
     "level": 3,
     "metadata": {},
     "source": [
      "Creating Vectors"
     ]
    },
    {
     "cell_type": "markdown",
     "metadata": {},
     "source": [
      "`c()` as in _concatenate_"
     ]
    },
    {
     "cell_type": "code",
     "collapsed": false,
     "input": [
      "x <- c(0.5, 0.6)\n",
      "x <- c(TRUE, FALSE)\n",
      "x <- c(T, F)\n",
      "x <- c('a', 'b', 'c')\n",
      "x <- 9:29\n",
      "x <- c(1+0i, 2+4i)\n",
      "\n",
      "x"
     ],
     "language": "python",
     "metadata": {},
     "outputs": [
      {
       "metadata": {},
       "output_type": "pyout",
       "prompt_number": 20,
       "text": [
        "[1] 1+0i 2+4i"
       ]
      }
     ],
     "prompt_number": 20
    },
    {
     "cell_type": "markdown",
     "metadata": {},
     "source": [
      "Using the `vector()` function"
     ]
    },
    {
     "cell_type": "code",
     "collapsed": false,
     "input": [
      "x <- vector('numeric', length = 10)\n",
      "\n",
      "x"
     ],
     "language": "python",
     "metadata": {},
     "outputs": [
      {
       "metadata": {},
       "output_type": "pyout",
       "prompt_number": 22,
       "text": [
        " [1] 0 0 0 0 0 0 0 0 0 0"
       ]
      }
     ],
     "prompt_number": 22
    },
    {
     "cell_type": "heading",
     "level": 3,
     "metadata": {},
     "source": [
      "Mixing Objects"
     ]
    },
    {
     "cell_type": "heading",
     "level": 4,
     "metadata": {},
     "source": [
      "Implicit _coercion_"
     ]
    },
    {
     "cell_type": "code",
     "collapsed": false,
     "input": [
      "y <- c(1.7, 'a')\n",
      "y <- c(TRUE, 2)\n",
      "y <- c('a', TRUE)\n",
      "\n",
      "y"
     ],
     "language": "python",
     "metadata": {},
     "outputs": [
      {
       "metadata": {},
       "output_type": "pyout",
       "prompt_number": 25,
       "text": [
        "[1] \"a\"    \"TRUE\""
       ]
      }
     ],
     "prompt_number": 25
    },
    {
     "cell_type": "heading",
     "level": 4,
     "metadata": {},
     "source": [
      "Explicit coercion"
     ]
    },
    {
     "cell_type": "code",
     "collapsed": false,
     "input": [
      "x <- 0:6\n",
      "\n",
      "class(x)"
     ],
     "language": "python",
     "metadata": {},
     "outputs": [
      {
       "metadata": {},
       "output_type": "pyout",
       "prompt_number": 26,
       "text": [
        "[1] \"integer\""
       ]
      }
     ],
     "prompt_number": 26
    },
    {
     "cell_type": "code",
     "collapsed": false,
     "input": [
      "as.numeric(x)"
     ],
     "language": "python",
     "metadata": {},
     "outputs": [
      {
       "metadata": {},
       "output_type": "pyout",
       "prompt_number": 28,
       "text": [
        "[1] 0 1 2 3 4 5 6"
       ]
      }
     ],
     "prompt_number": 28
    },
    {
     "cell_type": "code",
     "collapsed": false,
     "input": [
      "as.logical(x)"
     ],
     "language": "python",
     "metadata": {},
     "outputs": [
      {
       "metadata": {},
       "output_type": "pyout",
       "prompt_number": 29,
       "text": [
        "[1] FALSE  TRUE  TRUE  TRUE  TRUE  TRUE  TRUE"
       ]
      }
     ],
     "prompt_number": 29
    },
    {
     "cell_type": "code",
     "collapsed": false,
     "input": [
      "as.character(x)"
     ],
     "language": "python",
     "metadata": {},
     "outputs": [
      {
       "metadata": {},
       "output_type": "pyout",
       "prompt_number": 30,
       "text": [
        "[1] \"0\" \"1\" \"2\" \"3\" \"4\" \"5\" \"6\""
       ]
      }
     ],
     "prompt_number": 30
    },
    {
     "cell_type": "heading",
     "level": 4,
     "metadata": {},
     "source": [
      "Nonsensical coersion results in `NA`s"
     ]
    },
    {
     "cell_type": "code",
     "collapsed": false,
     "input": [
      "x <- c('a', 'b', 'c')\n",
      "\n",
      "as.numeric(x)"
     ],
     "language": "python",
     "metadata": {},
     "outputs": [
      {
       "output_type": "stream",
       "stream": "stderr",
       "text": [
        "Warning message:\n",
        "In eval(expr, envir, enclos): NAs introduced by coercion"
       ]
      },
      {
       "metadata": {},
       "output_type": "pyout",
       "prompt_number": 32,
       "text": [
        "[1] NA NA NA"
       ]
      }
     ],
     "prompt_number": 32
    },
    {
     "cell_type": "code",
     "collapsed": false,
     "input": [
      "as.logical(x)"
     ],
     "language": "python",
     "metadata": {},
     "outputs": [
      {
       "metadata": {},
       "output_type": "pyout",
       "prompt_number": 33,
       "text": [
        "[1] NA NA NA"
       ]
      }
     ],
     "prompt_number": 33
    },
    {
     "cell_type": "code",
     "collapsed": false,
     "input": [
      "as.complex(x)"
     ],
     "language": "python",
     "metadata": {},
     "outputs": [
      {
       "output_type": "stream",
       "stream": "stderr",
       "text": [
        "Warning message:\n",
        "In eval(expr, envir, enclos): NAs introduced by coercion"
       ]
      },
      {
       "metadata": {},
       "output_type": "pyout",
       "prompt_number": 34,
       "text": [
        "[1] NA NA NA"
       ]
      }
     ],
     "prompt_number": 34
    },
    {
     "cell_type": "markdown",
     "metadata": {},
     "source": [
      "---"
     ]
    },
    {
     "cell_type": "heading",
     "level": 3,
     "metadata": {},
     "source": [
      "Matrices"
     ]
    },
    {
     "cell_type": "markdown",
     "metadata": {},
     "source": [
      "Matrices are vectors with a _dimension_ attribute: \n",
      "  - an integer vector of length 2 (nrow, ncol)"
     ]
    },
    {
     "cell_type": "code",
     "collapsed": false,
     "input": [
      "m <- matrix(nrow = 2, ncol = 3)\n",
      "\n",
      "m"
     ],
     "language": "python",
     "metadata": {},
     "outputs": [
      {
       "metadata": {},
       "output_type": "pyout",
       "prompt_number": 35,
       "text": [
        "     [,1] [,2] [,3]\n",
        "[1,]   NA   NA   NA\n",
        "[2,]   NA   NA   NA"
       ]
      }
     ],
     "prompt_number": 35
    },
    {
     "cell_type": "code",
     "collapsed": false,
     "input": [
      "dim(m)"
     ],
     "language": "python",
     "metadata": {},
     "outputs": [
      {
       "metadata": {},
       "output_type": "pyout",
       "prompt_number": 36,
       "text": [
        "[1] 2 3"
       ]
      }
     ],
     "prompt_number": 36
    },
    {
     "cell_type": "code",
     "collapsed": false,
     "input": [
      "attributes(m)"
     ],
     "language": "python",
     "metadata": {},
     "outputs": [
      {
       "metadata": {},
       "output_type": "pyout",
       "prompt_number": 37,
       "text": [
        "$dim\n",
        "[1] 2 3\n"
       ]
      }
     ],
     "prompt_number": 37
    },
    {
     "cell_type": "heading",
     "level": 4,
     "metadata": {},
     "source": [
      "Matrices are constructed _column-wise_"
     ]
    },
    {
     "cell_type": "code",
     "collapsed": false,
     "input": [
      "m <- matrix(1:6, nrow = 2, ncol = 3)\n",
      "\n",
      "m"
     ],
     "language": "python",
     "metadata": {},
     "outputs": [
      {
       "metadata": {},
       "output_type": "pyout",
       "prompt_number": 38,
       "text": [
        "     [,1] [,2] [,3]\n",
        "[1,]    1    3    5\n",
        "[2,]    2    4    6"
       ]
      }
     ],
     "prompt_number": 38
    },
    {
     "cell_type": "heading",
     "level": 4,
     "metadata": {},
     "source": [
      "Create matrices by adding a _dimension_ attribute directly to a vector"
     ]
    },
    {
     "cell_type": "code",
     "collapsed": false,
     "input": [
      "m <- 1:10\n",
      "\n",
      "m"
     ],
     "language": "python",
     "metadata": {},
     "outputs": [
      {
       "metadata": {},
       "output_type": "pyout",
       "prompt_number": 40,
       "text": [
        " [1]  1  2  3  4  5  6  7  8  9 10"
       ]
      }
     ],
     "prompt_number": 40
    },
    {
     "cell_type": "code",
     "collapsed": false,
     "input": [
      "dim(m)"
     ],
     "language": "python",
     "metadata": {},
     "outputs": [
      {
       "metadata": {},
       "output_type": "pyout",
       "prompt_number": 41,
       "text": [
        "NULL"
       ]
      }
     ],
     "prompt_number": 41
    },
    {
     "cell_type": "code",
     "collapsed": false,
     "input": [
      "dim(m) <- c(2, 5)\n",
      "\n",
      "m"
     ],
     "language": "python",
     "metadata": {},
     "outputs": [
      {
       "metadata": {},
       "output_type": "pyout",
       "prompt_number": 43,
       "text": [
        "     [,1] [,2] [,3] [,4] [,5]\n",
        "[1,]    1    3    5    7    9\n",
        "[2,]    2    4    6    8   10"
       ]
      }
     ],
     "prompt_number": 43
    },
    {
     "cell_type": "heading",
     "level": 4,
     "metadata": {},
     "source": [
      "Create matrices by _column-binding_ and _row-binding_"
     ]
    },
    {
     "cell_type": "code",
     "collapsed": false,
     "input": [
      "x <- 1:3\n",
      "y <- 10:12\n",
      "\n",
      "cbind(x, y)"
     ],
     "language": "python",
     "metadata": {},
     "outputs": [
      {
       "metadata": {},
       "output_type": "pyout",
       "prompt_number": 48,
       "text": [
        "     x  y\n",
        "[1,] 1 10\n",
        "[2,] 2 11\n",
        "[3,] 3 12"
       ]
      }
     ],
     "prompt_number": 48
    },
    {
     "cell_type": "code",
     "collapsed": false,
     "input": [
      "rbind(x, y)"
     ],
     "language": "python",
     "metadata": {},
     "outputs": [
      {
       "metadata": {},
       "output_type": "pyout",
       "prompt_number": 49,
       "text": [
        "  [,1] [,2] [,3]\n",
        "x    1    2    3\n",
        "y   10   11   12"
       ]
      }
     ],
     "prompt_number": 49
    },
    {
     "cell_type": "heading",
     "level": 3,
     "metadata": {},
     "source": [
      "Lists, _cont'd_"
     ]
    },
    {
     "cell_type": "markdown",
     "metadata": {},
     "source": [
      "Special type of vector that can contain elements of different classes."
     ]
    },
    {
     "cell_type": "code",
     "collapsed": false,
     "input": [
      "x <- list(17, 'a', TRUE, FALSE, 1 + 4i, 1:30, list('a', 'b', 'c'))\n",
      "\n",
      "x"
     ],
     "language": "python",
     "metadata": {},
     "outputs": [
      {
       "metadata": {},
       "output_type": "pyout",
       "prompt_number": 57,
       "text": [
        "[[1]]\n",
        "[1] 17\n",
        "\n",
        "[[2]]\n",
        "[1] \"a\"\n",
        "\n",
        "[[3]]\n",
        "[1] TRUE\n",
        "\n",
        "[[4]]\n",
        "[1] FALSE\n",
        "\n",
        "[[5]]\n",
        "[1] 1+4i\n",
        "\n",
        "[[6]]\n",
        " [1]  1  2  3  4  5  6  7  8  9 10 11 12 13 14 15 16 17 18 19 20 21 22 23 24 25\n",
        "[26] 26 27 28 29 30\n",
        "\n",
        "[[7]]\n",
        "[[7]][[1]]\n",
        "[1] \"a\"\n",
        "\n",
        "[[7]][[2]]\n",
        "[1] \"b\"\n",
        "\n",
        "[[7]][[3]]\n",
        "[1] \"c\"\n",
        "\n"
       ]
      }
     ],
     "prompt_number": 57
    },
    {
     "cell_type": "markdown",
     "metadata": {},
     "source": [
      "---"
     ]
    },
    {
     "cell_type": "heading",
     "level": 3,
     "metadata": {},
     "source": [
      "Factors"
     ]
    },
    {
     "cell_type": "markdown",
     "metadata": {},
     "source": [
      "* special type of vector\n",
      "* used to represent **categorical data**\n",
      "* can be \n",
      "    * **unordered**:  \n",
      "      e.g., `Male` and `Female`\n",
      "    * **ordered**\u2014can be ranked\u2014they have an order, but they are not numerical  \n",
      "      e.g., `assistant professors`, `associate professors` and `full professors`\n",
      "* it's like an integer vector, where each integer has a _label_  \n",
      "  e.g., `['high', 'medium', 'low']` \u2013\u2013\u00bb `[1, 2, 3]`\n",
      "* factors are treated specially by modelling functions like `lm()` and `glm()`\u2014for fitting linear models.\n",
      "* factors are better than integer labels, since they are **self-describing**: the coding for the labels is built into the variable, and it's much easier to understand.\n",
      "* created with `factor()`\n",
      "    * input: a character vector"
     ]
    },
    {
     "cell_type": "code",
     "collapsed": false,
     "input": [
      "x <- factor(c('yes', 'yes', 'no', 'yes', 'no'))\n",
      "\n",
      "x"
     ],
     "language": "python",
     "metadata": {},
     "outputs": [
      {
       "metadata": {},
       "output_type": "pyout",
       "prompt_number": 58,
       "text": [
        "[1] yes yes no  yes no \n",
        "Levels: no yes"
       ]
      }
     ],
     "prompt_number": 58
    },
    {
     "cell_type": "code",
     "collapsed": false,
     "input": [
      "table(x) # frequency count of how many of each level there  are"
     ],
     "language": "python",
     "metadata": {},
     "outputs": [
      {
       "metadata": {},
       "output_type": "pyout",
       "prompt_number": 60,
       "text": [
        "x\n",
        " no yes \n",
        "  2   3 "
       ]
      }
     ],
     "prompt_number": 60
    },
    {
     "cell_type": "markdown",
     "metadata": {},
     "source": [
      "`unclass()` strips out the class for vectors, bringing it down to an integer vector\u2014the factors are represented as integers"
     ]
    },
    {
     "cell_type": "code",
     "collapsed": false,
     "input": [
      "unclass(x)"
     ],
     "language": "python",
     "metadata": {},
     "outputs": [
      {
       "metadata": {},
       "output_type": "pyout",
       "prompt_number": 61,
       "text": [
        "[1] 2 2 1 2 1\n",
        "attr(,\"levels\")\n",
        "[1] \"no\"  \"yes\""
       ]
      }
     ],
     "prompt_number": 61
    },
    {
     "cell_type": "markdown",
     "metadata": {},
     "source": [
      "The order of the levels can be set using the `levels` argument to `factor()`. Otherwise, levels are ordered _alphabetically by default_.\n",
      "\n",
      "This can be relevant for _linear modelling_ since the first level is used as the _baseline_ level."
     ]
    },
    {
     "cell_type": "code",
     "collapsed": false,
     "input": [
      "x <- factor(c('yes', 'yes', 'no', 'yes', 'no'), levels = c('yes', 'no'))\n",
      "\n",
      "x"
     ],
     "language": "python",
     "metadata": {},
     "outputs": [
      {
       "metadata": {},
       "output_type": "pyout",
       "prompt_number": 63,
       "text": [
        "[1] yes yes no  yes no \n",
        "Levels: yes no"
       ]
      }
     ],
     "prompt_number": 63
    },
    {
     "cell_type": "markdown",
     "metadata": {},
     "source": [
      "---"
     ]
    },
    {
     "cell_type": "heading",
     "level": 3,
     "metadata": {},
     "source": [
      "Missing Values"
     ]
    },
    {
     "cell_type": "markdown",
     "metadata": {},
     "source": [
      "Missing values are denoted by\n",
      "* `NaN` for undefined mathematical operations\n",
      "* `NA` for pretty much everything else\n",
      "\n",
      "**`NA`**\n",
      "* use `is.na()` to test for `NA`\n",
      "* `NA` values have a class too, like character `NA`, integer `NA` etc.\n",
      "\n",
      "**`NaN`**\n",
      "* use `is.nan()` to test for `NaN`\n",
      "* a `NaN` value is also `NA`, but the converse is not true."
     ]
    },
    {
     "cell_type": "code",
     "collapsed": false,
     "input": [
      "x <- c(1, 2, NaN, NA, 5)\n",
      "\n",
      "is.na(x)"
     ],
     "language": "python",
     "metadata": {},
     "outputs": [
      {
       "metadata": {},
       "output_type": "pyout",
       "prompt_number": 64,
       "text": [
        "[1] FALSE FALSE  TRUE  TRUE FALSE"
       ]
      }
     ],
     "prompt_number": 64
    },
    {
     "cell_type": "code",
     "collapsed": false,
     "input": [
      "is.nan(x)"
     ],
     "language": "python",
     "metadata": {},
     "outputs": [
      {
       "metadata": {},
       "output_type": "pyout",
       "prompt_number": 65,
       "text": [
        "[1] FALSE FALSE  TRUE FALSE FALSE"
       ]
      }
     ],
     "prompt_number": 65
    },
    {
     "cell_type": "markdown",
     "metadata": {},
     "source": [
      "---"
     ]
    },
    {
     "cell_type": "heading",
     "level": 3,
     "metadata": {},
     "source": [
      "Data Frames"
     ]
    },
    {
     "cell_type": "markdown",
     "metadata": {},
     "source": [
      "* Data Frames are used to store _tabular data_.\n",
      "* Represented as a special type of _list_, where every element of the list has to have the same length\n",
      "* Each **element** in the list can be thought of as a **column**\n",
      "    * and the **length of each element**\u2014which is the same across all elements of the same DF\u2014is the **number of rows**\n",
      "* Each **column** doesn't have to be of the same type.\n",
      "    * _data frames_ can store different classes of objects in each column (just like _lists_)\n",
      "    * _matrices_ must have every element of the same class.\n",
      "* Data frames have some special attributes\n",
      "    * `row.names`\u2014useful for annotating the data\n",
      "* usually created via\n",
      "    * `read.table()`\n",
      "    * `read.csv()`\n",
      "* `data.matrix()` can convert a dataframe to a matrix\n",
      "    * coercion rules apply."
     ]
    },
    {
     "cell_type": "code",
     "collapsed": false,
     "input": [
      "x <- data.frame(foo = 1:4, bar= c(T, T, F, F))\n",
      "\n",
      "x"
     ],
     "language": "python",
     "metadata": {},
     "outputs": [
      {
       "metadata": {},
       "output_type": "pyout",
       "prompt_number": 66,
       "text": [
        "  foo   bar\n",
        "1   1  TRUE\n",
        "2   2  TRUE\n",
        "3   3 FALSE\n",
        "4   4 FALSE"
       ]
      }
     ],
     "prompt_number": 66
    },
    {
     "cell_type": "code",
     "collapsed": false,
     "input": [
      "nrow(x)"
     ],
     "language": "python",
     "metadata": {},
     "outputs": [
      {
       "metadata": {},
       "output_type": "pyout",
       "prompt_number": 68,
       "text": [
        "[1] 4"
       ]
      }
     ],
     "prompt_number": 68
    },
    {
     "cell_type": "code",
     "collapsed": true,
     "input": [
      "ncol(x)"
     ],
     "language": "python",
     "metadata": {},
     "outputs": [
      {
       "metadata": {},
       "output_type": "pyout",
       "prompt_number": 69,
       "text": [
        "[1] 2"
       ]
      }
     ],
     "prompt_number": 69
    },
    {
     "cell_type": "code",
     "collapsed": false,
     "input": [
      "attributes(x)"
     ],
     "language": "python",
     "metadata": {},
     "outputs": [
      {
       "metadata": {},
       "output_type": "pyout",
       "prompt_number": 67,
       "text": [
        "$names\n",
        "[1] \"foo\" \"bar\"\n",
        "\n",
        "$row.names\n",
        "[1] 1 2 3 4\n",
        "\n",
        "$class\n",
        "[1] \"data.frame\"\n"
       ]
      }
     ],
     "prompt_number": 67
    },
    {
     "cell_type": "heading",
     "level": 3,
     "metadata": {},
     "source": [
      "Names"
     ]
    },
    {
     "cell_type": "markdown",
     "metadata": {},
     "source": [
      "All R objects can also have names\u2014very useful for writing\n",
      "  * readable code\n",
      "  * self-describing objects"
     ]
    },
    {
     "cell_type": "code",
     "collapsed": false,
     "input": [
      "x <- 1:3\n",
      "\n",
      "names(x)"
     ],
     "language": "python",
     "metadata": {},
     "outputs": [
      {
       "metadata": {},
       "output_type": "pyout",
       "prompt_number": 71,
       "text": [
        "NULL"
       ]
      }
     ],
     "prompt_number": 71
    },
    {
     "cell_type": "code",
     "collapsed": false,
     "input": [
      "names(x) <- c('foo', 'bar', 'norf')\n",
      "\n",
      "x"
     ],
     "language": "python",
     "metadata": {},
     "outputs": [
      {
       "metadata": {},
       "output_type": "pyout",
       "prompt_number": 74,
       "text": [
        " foo  bar norf \n",
        "   1    2    3 "
       ]
      }
     ],
     "prompt_number": 74
    },
    {
     "cell_type": "code",
     "collapsed": false,
     "input": [
      "names(x)"
     ],
     "language": "python",
     "metadata": {},
     "outputs": [
      {
       "metadata": {},
       "output_type": "pyout",
       "prompt_number": 77,
       "text": [
        "[1] \"foo\"  \"bar\"  \"norf\""
       ]
      }
     ],
     "prompt_number": 77
    },
    {
     "cell_type": "markdown",
     "metadata": {},
     "source": [
      "**Lists** can also have names."
     ]
    },
    {
     "cell_type": "code",
     "collapsed": false,
     "input": [
      "x <- list(a = 1, b = 2, c = 3)\n",
      "\n",
      "x"
     ],
     "language": "python",
     "metadata": {},
     "outputs": [
      {
       "metadata": {},
       "output_type": "pyout",
       "prompt_number": 78,
       "text": [
        "$a\n",
        "[1] 1\n",
        "\n",
        "$b\n",
        "[1] 2\n",
        "\n",
        "$c\n",
        "[1] 3\n"
       ]
      }
     ],
     "prompt_number": 78
    },
    {
     "cell_type": "markdown",
     "metadata": {},
     "source": [
      "And so can **matrices**."
     ]
    },
    {
     "cell_type": "code",
     "collapsed": false,
     "input": [
      "m <- matrix(1:4, nrow = 2, ncol = 2)\n",
      "\n",
      "m"
     ],
     "language": "python",
     "metadata": {},
     "outputs": [
      {
       "metadata": {},
       "output_type": "pyout",
       "prompt_number": 81,
       "text": [
        "     [,1] [,2]\n",
        "[1,]    1    3\n",
        "[2,]    2    4"
       ]
      }
     ],
     "prompt_number": 81
    },
    {
     "cell_type": "code",
     "collapsed": false,
     "input": [
      "dimnames(m) <- list(c('row a', 'row b'), c('col c', 'col d'))\n",
      "\n",
      "m"
     ],
     "language": "python",
     "metadata": {},
     "outputs": [
      {
       "metadata": {},
       "output_type": "pyout",
       "prompt_number": 82,
       "text": [
        "      col c col d\n",
        "row a     1     3\n",
        "row b     2     4"
       ]
      }
     ],
     "prompt_number": 82
    },
    {
     "cell_type": "heading",
     "level": 3,
     "metadata": {},
     "source": [
      "Summary"
     ]
    },
    {
     "cell_type": "markdown",
     "metadata": {},
     "source": [
      "Data Types:\n",
      "* atomic classes: numeric, logical, character, integer, complex\n",
      "* vectors, lists\n",
      "* factors\n",
      "* missing values\n",
      "* data frames\n",
      "* names"
     ]
    },
    {
     "cell_type": "markdown",
     "metadata": {},
     "source": [
      "---"
     ]
    },
    {
     "cell_type": "heading",
     "level": 2,
     "metadata": {},
     "source": [
      "Subsetting Objects in R"
     ]
    },
    {
     "cell_type": "markdown",
     "metadata": {},
     "source": [
      "To extract subsets of R objects, there are a number of operators that can be used:\n",
      "* `[` \n",
      "    * the returned object always has the _same class_ as the original;\n",
      "    * can select _multiple elements_ (exception!).\n",
      "* `[[`\n",
      "    * extracts element from a list or a data frame;\n",
      "    * can only extract _a single element_;\n",
      "    * the returned object can be something else besides a list or a data frame;\n",
      "    * can be used with **computed** indices.\n",
      "* `$`\n",
      "    * extracts element from a list or a data frame;\n",
      "    * extracts _element by name_;\n",
      "    * similar semantics as `[[`, except that it\n",
      "        * _cannot_ be used with **computed** indices;\n",
      "        * can only be used with **literal** names."
     ]
    },
    {
     "cell_type": "code",
     "collapsed": false,
     "input": [
      "x <- c('a', 'b', 'c', 'c', 'd', 'a')\n",
      "\n",
      "x[1]"
     ],
     "language": "python",
     "metadata": {},
     "outputs": [
      {
       "metadata": {},
       "output_type": "pyout",
       "prompt_number": 84,
       "text": [
        "[1] \"a\""
       ]
      }
     ],
     "prompt_number": 84
    },
    {
     "cell_type": "code",
     "collapsed": false,
     "input": [
      "x[2]"
     ],
     "language": "python",
     "metadata": {},
     "outputs": [
      {
       "metadata": {},
       "output_type": "pyout",
       "prompt_number": 85,
       "text": [
        "[1] \"b\""
       ]
      }
     ],
     "prompt_number": 85
    },
    {
     "cell_type": "code",
     "collapsed": false,
     "input": [
      "x[1:4]"
     ],
     "language": "python",
     "metadata": {},
     "outputs": [
      {
       "metadata": {},
       "output_type": "pyout",
       "prompt_number": 86,
       "text": [
        "[1] \"a\" \"b\" \"c\" \"c\""
       ]
      }
     ],
     "prompt_number": 86
    },
    {
     "cell_type": "code",
     "collapsed": false,
     "input": [
      "x[x > 'b']"
     ],
     "language": "python",
     "metadata": {},
     "outputs": [
      {
       "metadata": {},
       "output_type": "pyout",
       "prompt_number": 93,
       "text": [
        "[1] \"c\" \"c\" \"d\""
       ]
      }
     ],
     "prompt_number": 93
    },
    {
     "cell_type": "code",
     "collapsed": false,
     "input": [
      "mask <- x > 'b'\n",
      "\n",
      "mask"
     ],
     "language": "python",
     "metadata": {},
     "outputs": [
      {
       "metadata": {},
       "output_type": "pyout",
       "prompt_number": 96,
       "text": [
        "[1] FALSE FALSE  TRUE  TRUE  TRUE FALSE"
       ]
      }
     ],
     "prompt_number": 96
    },
    {
     "cell_type": "code",
     "collapsed": false,
     "input": [
      "x[mask]"
     ],
     "language": "python",
     "metadata": {},
     "outputs": [
      {
       "metadata": {},
       "output_type": "pyout",
       "prompt_number": 97,
       "text": [
        "[1] \"c\" \"c\" \"d\""
       ]
      }
     ],
     "prompt_number": 97
    },
    {
     "cell_type": "heading",
     "level": 3,
     "metadata": {},
     "source": [
      "Subsetting matrices"
     ]
    },
    {
     "cell_type": "code",
     "collapsed": false,
     "input": [
      "x <- matrix(1:6, 2, 3)\n",
      "\n",
      "x"
     ],
     "language": "python",
     "metadata": {},
     "outputs": [
      {
       "metadata": {},
       "output_type": "pyout",
       "prompt_number": 99,
       "text": [
        "     [,1] [,2] [,3]\n",
        "[1,]    1    3    5\n",
        "[2,]    2    4    6"
       ]
      }
     ],
     "prompt_number": 99
    },
    {
     "cell_type": "code",
     "collapsed": false,
     "input": [
      "x[1, 2]"
     ],
     "language": "python",
     "metadata": {},
     "outputs": [
      {
       "metadata": {},
       "output_type": "pyout",
       "prompt_number": 100,
       "text": [
        "[1] 3"
       ]
      }
     ],
     "prompt_number": 100
    },
    {
     "cell_type": "code",
     "collapsed": false,
     "input": [
      "x[2, 1]"
     ],
     "language": "python",
     "metadata": {},
     "outputs": [
      {
       "metadata": {},
       "output_type": "pyout",
       "prompt_number": 101,
       "text": [
        "[1] 2"
       ]
      }
     ],
     "prompt_number": 101
    },
    {
     "cell_type": "markdown",
     "metadata": {},
     "source": [
      "> `[`: the returned object always has the _same class_ as the original;"
     ]
    },
    {
     "cell_type": "code",
     "collapsed": false,
     "input": [
      "class(x)"
     ],
     "language": "python",
     "metadata": {},
     "outputs": [
      {
       "metadata": {},
       "output_type": "pyout",
       "prompt_number": 104,
       "text": [
        "[1] \"matrix\""
       ]
      }
     ],
     "prompt_number": 104
    },
    {
     "cell_type": "code",
     "collapsed": false,
     "input": [
      "class(x[2, 1])"
     ],
     "language": "python",
     "metadata": {},
     "outputs": [
      {
       "metadata": {},
       "output_type": "pyout",
       "prompt_number": 103,
       "text": [
        "[1] \"integer\""
       ]
      }
     ],
     "prompt_number": 103
    },
    {
     "cell_type": "heading",
     "level": 4,
     "metadata": {},
     "source": [
      "Indices can also be missing"
     ]
    },
    {
     "cell_type": "code",
     "collapsed": false,
     "input": [
      "x[1, ]"
     ],
     "language": "python",
     "metadata": {},
     "outputs": [
      {
       "metadata": {},
       "output_type": "pyout",
       "prompt_number": 105,
       "text": [
        "[1] 1 3 5"
       ]
      }
     ],
     "prompt_number": 105
    },
    {
     "cell_type": "code",
     "collapsed": false,
     "input": [
      "x[, 2]"
     ],
     "language": "python",
     "metadata": {},
     "outputs": [
      {
       "metadata": {},
       "output_type": "pyout",
       "prompt_number": 106,
       "text": [
        "[1] 3 4"
       ]
      }
     ],
     "prompt_number": 106
    },
    {
     "cell_type": "heading",
     "level": 4,
     "metadata": {},
     "source": [
      "Avoid `drop`ping a dimenssion"
     ]
    },
    {
     "cell_type": "code",
     "collapsed": false,
     "input": [
      "x"
     ],
     "language": "python",
     "metadata": {},
     "outputs": [
      {
       "metadata": {},
       "output_type": "pyout",
       "prompt_number": 107,
       "text": [
        "     [,1] [,2] [,3]\n",
        "[1,]    1    3    5\n",
        "[2,]    2    4    6"
       ]
      }
     ],
     "prompt_number": 107
    },
    {
     "cell_type": "markdown",
     "metadata": {},
     "source": [
      "Getting a specific _value_:"
     ]
    },
    {
     "cell_type": "code",
     "collapsed": false,
     "input": [
      "class(x[1, 2])"
     ],
     "language": "python",
     "metadata": {},
     "outputs": [
      {
       "metadata": {},
       "output_type": "pyout",
       "prompt_number": 110,
       "text": [
        "[1] \"integer\""
       ]
      }
     ],
     "prompt_number": 110
    },
    {
     "cell_type": "code",
     "collapsed": false,
     "input": [
      "x[1, 2, drop = FALSE] # preserve the dimensions of the original object"
     ],
     "language": "python",
     "metadata": {},
     "outputs": [
      {
       "metadata": {},
       "output_type": "pyout",
       "prompt_number": 111,
       "text": [
        "     [,1]\n",
        "[1,]    3"
       ]
      }
     ],
     "prompt_number": 111
    },
    {
     "cell_type": "code",
     "collapsed": false,
     "input": [
      "class(x[1, 2, drop = FALSE])"
     ],
     "language": "python",
     "metadata": {},
     "outputs": [
      {
       "metadata": {},
       "output_type": "pyout",
       "prompt_number": 112,
       "text": [
        "[1] \"matrix\""
       ]
      }
     ],
     "prompt_number": 112
    },
    {
     "cell_type": "markdown",
     "metadata": {},
     "source": [
      "Getting a specific _row_: "
     ]
    },
    {
     "cell_type": "code",
     "collapsed": false,
     "input": [
      "x[1, ]"
     ],
     "language": "python",
     "metadata": {},
     "outputs": [
      {
       "metadata": {},
       "output_type": "pyout",
       "prompt_number": 115,
       "text": [
        "[1] 1 3 5"
       ]
      }
     ],
     "prompt_number": 115
    },
    {
     "cell_type": "code",
     "collapsed": false,
     "input": [
      "class(x[1, ])"
     ],
     "language": "python",
     "metadata": {},
     "outputs": [
      {
       "metadata": {},
       "output_type": "pyout",
       "prompt_number": 113,
       "text": [
        "[1] \"integer\""
       ]
      }
     ],
     "prompt_number": 113
    },
    {
     "cell_type": "code",
     "collapsed": false,
     "input": [
      "x[1, , drop=FALSE]"
     ],
     "language": "python",
     "metadata": {},
     "outputs": [
      {
       "metadata": {},
       "output_type": "pyout",
       "prompt_number": 116,
       "text": [
        "     [,1] [,2] [,3]\n",
        "[1,]    1    3    5"
       ]
      }
     ],
     "prompt_number": 116
    },
    {
     "cell_type": "heading",
     "level": 3,
     "metadata": {},
     "source": [
      "Subsetting Lists"
     ]
    },
    {
     "cell_type": "code",
     "collapsed": false,
     "input": [
      "x <- list(foo = 1:4, bar = 0.6)\n",
      "\n",
      "x"
     ],
     "language": "python",
     "metadata": {},
     "outputs": [
      {
       "metadata": {},
       "output_type": "pyout",
       "prompt_number": 117,
       "text": [
        "$foo\n",
        "[1] 1 2 3 4\n",
        "\n",
        "$bar\n",
        "[1] 0.6\n"
       ]
      }
     ],
     "prompt_number": 117
    },
    {
     "cell_type": "code",
     "collapsed": false,
     "input": [
      "class(x)"
     ],
     "language": "python",
     "metadata": {},
     "outputs": [
      {
       "metadata": {},
       "output_type": "pyout",
       "prompt_number": 118,
       "text": [
        "[1] \"list\""
       ]
      }
     ],
     "prompt_number": 118
    },
    {
     "cell_type": "code",
     "collapsed": false,
     "input": [
      "x[1]"
     ],
     "language": "python",
     "metadata": {},
     "outputs": [
      {
       "metadata": {},
       "output_type": "pyout",
       "prompt_number": 119,
       "text": [
        "$foo\n",
        "[1] 1 2 3 4\n"
       ]
      }
     ],
     "prompt_number": 119
    },
    {
     "cell_type": "code",
     "collapsed": false,
     "input": [
      "class(x[1])"
     ],
     "language": "python",
     "metadata": {},
     "outputs": [
      {
       "metadata": {},
       "output_type": "pyout",
       "prompt_number": 120,
       "text": [
        "[1] \"list\""
       ]
      }
     ],
     "prompt_number": 120
    },
    {
     "cell_type": "heading",
     "level": 4,
     "metadata": {},
     "source": [
      "[["
     ]
    },
    {
     "cell_type": "code",
     "collapsed": false,
     "input": [
      "x[[1]]"
     ],
     "language": "python",
     "metadata": {},
     "outputs": [
      {
       "metadata": {},
       "output_type": "pyout",
       "prompt_number": 121,
       "text": [
        "[1] 1 2 3 4"
       ]
      }
     ],
     "prompt_number": 121
    },
    {
     "cell_type": "code",
     "collapsed": false,
     "input": [
      "class(x[[1]])"
     ],
     "language": "python",
     "metadata": {},
     "outputs": [
      {
       "metadata": {},
       "output_type": "pyout",
       "prompt_number": 122,
       "text": [
        "[1] \"integer\""
       ]
      }
     ],
     "prompt_number": 122
    },
    {
     "cell_type": "heading",
     "level": 4,
     "metadata": {},
     "source": [
      "$"
     ]
    },
    {
     "cell_type": "code",
     "collapsed": false,
     "input": [
      "x$bar"
     ],
     "language": "python",
     "metadata": {},
     "outputs": [
      {
       "metadata": {},
       "output_type": "pyout",
       "prompt_number": 123,
       "text": [
        "[1] 0.6"
       ]
      }
     ],
     "prompt_number": 123
    },
    {
     "cell_type": "code",
     "collapsed": false,
     "input": [
      "class(x$bar)"
     ],
     "language": "python",
     "metadata": {},
     "outputs": [
      {
       "metadata": {},
       "output_type": "pyout",
       "prompt_number": 126,
       "text": [
        "[1] \"numeric\""
       ]
      }
     ],
     "prompt_number": 126
    },
    {
     "cell_type": "markdown",
     "metadata": {},
     "source": [
      "---"
     ]
    },
    {
     "cell_type": "code",
     "collapsed": false,
     "input": [
      "x[['bar']]"
     ],
     "language": "python",
     "metadata": {},
     "outputs": [
      {
       "metadata": {},
       "output_type": "pyout",
       "prompt_number": 124,
       "text": [
        "[1] 0.6"
       ]
      }
     ],
     "prompt_number": 124
    },
    {
     "cell_type": "code",
     "collapsed": false,
     "input": [
      "class(x[['bar']])"
     ],
     "language": "python",
     "metadata": {},
     "outputs": [
      {
       "metadata": {},
       "output_type": "pyout",
       "prompt_number": 127,
       "text": [
        "[1] \"numeric\""
       ]
      }
     ],
     "prompt_number": 127
    },
    {
     "cell_type": "markdown",
     "metadata": {},
     "source": [
      "---"
     ]
    },
    {
     "cell_type": "code",
     "collapsed": false,
     "input": [
      "x['bar']"
     ],
     "language": "python",
     "metadata": {},
     "outputs": [
      {
       "metadata": {},
       "output_type": "pyout",
       "prompt_number": 125,
       "text": [
        "$bar\n",
        "[1] 0.6\n"
       ]
      }
     ],
     "prompt_number": 125
    },
    {
     "cell_type": "code",
     "collapsed": false,
     "input": [
      "class(x['bar'])"
     ],
     "language": "python",
     "metadata": {},
     "outputs": [
      {
       "metadata": {},
       "output_type": "pyout",
       "prompt_number": 128,
       "text": [
        "[1] \"list\""
       ]
      }
     ],
     "prompt_number": 128
    },
    {
     "cell_type": "markdown",
     "metadata": {},
     "source": [
      "The beauty of being able to subset an element using its name, is that we don't need to remember where it's positioned in the list.\n",
      "\n",
      "---"
     ]
    },
    {
     "cell_type": "heading",
     "level": 3,
     "metadata": {},
     "source": [
      "Extracting multiple elements"
     ]
    },
    {
     "cell_type": "code",
     "collapsed": false,
     "input": [
      "x <- list(foo = 1:4, bar = 0.6, baz = 'hello')\n",
      "\n",
      "x"
     ],
     "language": "python",
     "metadata": {},
     "outputs": [
      {
       "metadata": {},
       "output_type": "pyout",
       "prompt_number": 129,
       "text": [
        "$foo\n",
        "[1] 1 2 3 4\n",
        "\n",
        "$bar\n",
        "[1] 0.6\n",
        "\n",
        "$baz\n",
        "[1] \"hello\"\n"
       ]
      }
     ],
     "prompt_number": 129
    },
    {
     "cell_type": "code",
     "collapsed": false,
     "input": [
      "x[c(1, 3)]"
     ],
     "language": "python",
     "metadata": {},
     "outputs": [
      {
       "metadata": {},
       "output_type": "pyout",
       "prompt_number": 130,
       "text": [
        "$foo\n",
        "[1] 1 2 3 4\n",
        "\n",
        "$baz\n",
        "[1] \"hello\"\n"
       ]
      }
     ],
     "prompt_number": 130
    },
    {
     "cell_type": "heading",
     "level": 3,
     "metadata": {},
     "source": [
      "Subset based on _computed_ indices"
     ]
    },
    {
     "cell_type": "code",
     "collapsed": false,
     "input": [
      "x"
     ],
     "language": "python",
     "metadata": {},
     "outputs": [
      {
       "metadata": {},
       "output_type": "pyout",
       "prompt_number": 131,
       "text": [
        "$foo\n",
        "[1] 1 2 3 4\n",
        "\n",
        "$bar\n",
        "[1] 0.6\n",
        "\n",
        "$baz\n",
        "[1] \"hello\"\n"
       ]
      }
     ],
     "prompt_number": 131
    },
    {
     "cell_type": "code",
     "collapsed": false,
     "input": [
      "name <- 'foo'"
     ],
     "language": "python",
     "metadata": {},
     "outputs": [],
     "prompt_number": 132
    },
    {
     "cell_type": "code",
     "collapsed": false,
     "input": [
      "x[[name]]"
     ],
     "language": "python",
     "metadata": {},
     "outputs": [
      {
       "metadata": {},
       "output_type": "pyout",
       "prompt_number": 133,
       "text": [
        "[1] 1 2 3 4"
       ]
      }
     ],
     "prompt_number": 133
    },
    {
     "cell_type": "code",
     "collapsed": false,
     "input": [
      "x$name"
     ],
     "language": "python",
     "metadata": {},
     "outputs": [
      {
       "metadata": {},
       "output_type": "pyout",
       "prompt_number": 134,
       "text": [
        "NULL"
       ]
      }
     ],
     "prompt_number": 134
    },
    {
     "cell_type": "code",
     "collapsed": false,
     "input": [
      "x$foo"
     ],
     "language": "python",
     "metadata": {},
     "outputs": [
      {
       "metadata": {},
       "output_type": "pyout",
       "prompt_number": 135,
       "text": [
        "[1] 1 2 3 4"
       ]
      }
     ],
     "prompt_number": 135
    },
    {
     "cell_type": "heading",
     "level": 3,
     "metadata": {},
     "source": [
      "Subsetting Nested Elements of a List\u2014_recurses into the list_"
     ]
    },
    {
     "cell_type": "code",
     "collapsed": false,
     "input": [
      "x <- list(a = list(10, 12, 14), b = c(3.14, 2.81))\n",
      "\n",
      "x"
     ],
     "language": "python",
     "metadata": {},
     "outputs": [
      {
       "metadata": {},
       "output_type": "pyout",
       "prompt_number": 136,
       "text": [
        "$a\n",
        "$a[[1]]\n",
        "[1] 10\n",
        "\n",
        "$a[[2]]\n",
        "[1] 12\n",
        "\n",
        "$a[[3]]\n",
        "[1] 14\n",
        "\n",
        "\n",
        "$b\n",
        "[1] 3.14 2.81\n"
       ]
      }
     ],
     "prompt_number": 136
    },
    {
     "cell_type": "code",
     "collapsed": false,
     "input": [
      "x[[c(1, 3)]]"
     ],
     "language": "python",
     "metadata": {},
     "outputs": [
      {
       "metadata": {},
       "output_type": "pyout",
       "prompt_number": 137,
       "text": [
        "[1] 14"
       ]
      }
     ],
     "prompt_number": 137
    },
    {
     "cell_type": "code",
     "collapsed": false,
     "input": [
      "x[[1]][[3]]"
     ],
     "language": "python",
     "metadata": {},
     "outputs": [
      {
       "metadata": {},
       "output_type": "pyout",
       "prompt_number": 138,
       "text": [
        "[1] 14"
       ]
      }
     ],
     "prompt_number": 138
    },
    {
     "cell_type": "code",
     "collapsed": false,
     "input": [
      "x[[c(2, 1)]]"
     ],
     "language": "python",
     "metadata": {},
     "outputs": [
      {
       "metadata": {},
       "output_type": "pyout",
       "prompt_number": 139,
       "text": [
        "[1] 3.14"
       ]
      }
     ],
     "prompt_number": 139
    },
    {
     "cell_type": "heading",
     "level": 3,
     "metadata": {},
     "source": [
      "Partial Matching"
     ]
    },
    {
     "cell_type": "markdown",
     "metadata": {},
     "source": [
      "allowed with `[[` and `$`"
     ]
    },
    {
     "cell_type": "code",
     "collapsed": false,
     "input": [
      "x <- list(aardvark = 1:5)\n",
      "\n",
      "x"
     ],
     "language": "python",
     "metadata": {},
     "outputs": [
      {
       "metadata": {},
       "output_type": "pyout",
       "prompt_number": 140,
       "text": [
        "$aardvark\n",
        "[1] 1 2 3 4 5\n"
       ]
      }
     ],
     "prompt_number": 140
    },
    {
     "cell_type": "code",
     "collapsed": false,
     "input": [
      "x$a"
     ],
     "language": "python",
     "metadata": {},
     "outputs": [
      {
       "metadata": {},
       "output_type": "pyout",
       "prompt_number": 141,
       "text": [
        "[1] 1 2 3 4 5"
       ]
      }
     ],
     "prompt_number": 141
    },
    {
     "cell_type": "code",
     "collapsed": false,
     "input": [
      "# no partial matching by default: \n",
      "# [[ expects the passed in name to be an exact match for one of the names in the list\n",
      "\n",
      "x[['a']]"
     ],
     "language": "python",
     "metadata": {},
     "outputs": [
      {
       "metadata": {},
       "output_type": "pyout",
       "prompt_number": 145,
       "text": [
        "NULL"
       ]
      }
     ],
     "prompt_number": 145
    },
    {
     "cell_type": "code",
     "collapsed": false,
     "input": [
      "x[['a', exact = FALSE]] # force partial matching"
     ],
     "language": "python",
     "metadata": {},
     "outputs": [
      {
       "metadata": {},
       "output_type": "pyout",
       "prompt_number": 144,
       "text": [
        "[1] 1 2 3 4 5"
       ]
      }
     ],
     "prompt_number": 144
    },
    {
     "cell_type": "heading",
     "level": 3,
     "metadata": {},
     "source": [
      "Removing `NA` values"
     ]
    },
    {
     "cell_type": "markdown",
     "metadata": {},
     "source": [
      "Strategy: create a logical vector that tells us where the `NA`s are, so we can remove them by subsetting."
     ]
    },
    {
     "cell_type": "code",
     "collapsed": false,
     "input": [
      "x <- c(1, 2, NA, 4, NA, 6)\n",
      "\n",
      "x"
     ],
     "language": "python",
     "metadata": {},
     "outputs": [
      {
       "metadata": {},
       "output_type": "pyout",
       "prompt_number": 150,
       "text": [
        "[1]  1  2 NA  4 NA  6"
       ]
      }
     ],
     "prompt_number": 150
    },
    {
     "cell_type": "code",
     "collapsed": false,
     "input": [
      "bad <- is.na(x)\n",
      "\n",
      "bad"
     ],
     "language": "python",
     "metadata": {},
     "outputs": [
      {
       "metadata": {},
       "output_type": "pyout",
       "prompt_number": 151,
       "text": [
        "[1] FALSE FALSE  TRUE FALSE  TRUE FALSE"
       ]
      }
     ],
     "prompt_number": 151
    },
    {
     "cell_type": "code",
     "collapsed": false,
     "input": [
      "x[!bad]"
     ],
     "language": "python",
     "metadata": {},
     "outputs": [
      {
       "metadata": {},
       "output_type": "pyout",
       "prompt_number": 152,
       "text": [
        "[1] 1 2 4 6"
       ]
      }
     ],
     "prompt_number": 152
    },
    {
     "cell_type": "markdown",
     "metadata": {},
     "source": [
      "---\n",
      "\n",
      "What if there are multiple things and you want to take a subset with no missing values?"
     ]
    },
    {
     "cell_type": "code",
     "collapsed": false,
     "input": [
      "x <- c(1, 2, NA, 4, NA, 6)\n",
      "y <- c('a', 'b', NA, 'd', NA, 'f')\n",
      "good <- complete.cases(x, y)\n",
      "\n",
      "good"
     ],
     "language": "python",
     "metadata": {},
     "outputs": [
      {
       "metadata": {},
       "output_type": "pyout",
       "prompt_number": 155,
       "text": [
        "[1]  TRUE  TRUE FALSE  TRUE FALSE  TRUE"
       ]
      }
     ],
     "prompt_number": 155
    },
    {
     "cell_type": "code",
     "collapsed": false,
     "input": [
      "x[good]"
     ],
     "language": "python",
     "metadata": {},
     "outputs": [
      {
       "metadata": {},
       "output_type": "pyout",
       "prompt_number": 156,
       "text": [
        "[1] 1 2 4 6"
       ]
      }
     ],
     "prompt_number": 156
    },
    {
     "cell_type": "code",
     "collapsed": false,
     "input": [
      "y[good]"
     ],
     "language": "python",
     "metadata": {},
     "outputs": [
      {
       "metadata": {},
       "output_type": "pyout",
       "prompt_number": 157,
       "text": [
        "[1] \"a\" \"b\" \"d\" \"f\""
       ]
      }
     ],
     "prompt_number": 157
    },
    {
     "cell_type": "markdown",
     "metadata": {},
     "source": [
      "I want all the rows of the data frame where all the values are non-missing.\n",
      "\n",
      "`complete.cases()` is a very handy function when you have multiple sets of vectors or large data frames where you want to subset out all the missing values."
     ]
    },
    {
     "cell_type": "markdown",
     "metadata": {},
     "source": [
      "---"
     ]
    },
    {
     "cell_type": "heading",
     "level": 2,
     "metadata": {},
     "source": [
      "Vectorized Operations"
     ]
    },
    {
     "cell_type": "markdown",
     "metadata": {},
     "source": [
      "* helps avoid looping;\n",
      "* things can happen in parallel when you want to do a computation.\n",
      "\n",
      "Many operations in R are _vectorized_ making code more **efficient**, **concise** and **readable**:"
     ]
    },
    {
     "cell_type": "code",
     "collapsed": false,
     "input": [
      "x <- 1:4; y <- 6:9\n",
      "\n",
      "x + y"
     ],
     "language": "python",
     "metadata": {},
     "outputs": [
      {
       "metadata": {},
       "output_type": "pyout",
       "prompt_number": 158,
       "text": [
        "[1]  7  9 11 13"
       ]
      }
     ],
     "prompt_number": 158
    },
    {
     "cell_type": "code",
     "collapsed": false,
     "input": [
      "x > 2"
     ],
     "language": "python",
     "metadata": {},
     "outputs": [
      {
       "metadata": {},
       "output_type": "pyout",
       "prompt_number": 159,
       "text": [
        "[1] FALSE FALSE  TRUE  TRUE"
       ]
      }
     ],
     "prompt_number": 159
    },
    {
     "cell_type": "code",
     "collapsed": false,
     "input": [
      "x >= 2"
     ],
     "language": "python",
     "metadata": {},
     "outputs": [
      {
       "metadata": {},
       "output_type": "pyout",
       "prompt_number": 160,
       "text": [
        "[1] FALSE  TRUE  TRUE  TRUE"
       ]
      }
     ],
     "prompt_number": 160
    },
    {
     "cell_type": "code",
     "collapsed": false,
     "input": [
      "y == 8"
     ],
     "language": "python",
     "metadata": {},
     "outputs": [
      {
       "metadata": {},
       "output_type": "pyout",
       "prompt_number": 161,
       "text": [
        "[1] FALSE FALSE  TRUE FALSE"
       ]
      }
     ],
     "prompt_number": 161
    },
    {
     "cell_type": "code",
     "collapsed": false,
     "input": [
      "x * y"
     ],
     "language": "python",
     "metadata": {},
     "outputs": [
      {
       "metadata": {},
       "output_type": "pyout",
       "prompt_number": 162,
       "text": [
        "[1]  6 14 24 36"
       ]
      }
     ],
     "prompt_number": 162
    },
    {
     "cell_type": "code",
     "collapsed": false,
     "input": [
      "x / y"
     ],
     "language": "python",
     "metadata": {},
     "outputs": [
      {
       "metadata": {},
       "output_type": "pyout",
       "prompt_number": 163,
       "text": [
        "[1] 0.1666667 0.2857143 0.3750000 0.4444444"
       ]
      }
     ],
     "prompt_number": 163
    },
    {
     "cell_type": "heading",
     "level": 3,
     "metadata": {},
     "source": [
      "Vectorized Matrix Operations"
     ]
    },
    {
     "cell_type": "code",
     "collapsed": false,
     "input": [
      "x <- matrix(1:4, 2, 2)\n",
      "y <- matrix(rep(10, 4), 2, 2)\n",
      "\n",
      "y"
     ],
     "language": "python",
     "metadata": {},
     "outputs": [
      {
       "metadata": {},
       "output_type": "pyout",
       "prompt_number": 164,
       "text": [
        "     [,1] [,2]\n",
        "[1,]   10   10\n",
        "[2,]   10   10"
       ]
      }
     ],
     "prompt_number": 164
    },
    {
     "cell_type": "code",
     "collapsed": false,
     "input": [
      "x * y # element-wise multiplication"
     ],
     "language": "python",
     "metadata": {},
     "outputs": [
      {
       "metadata": {},
       "output_type": "pyout",
       "prompt_number": 166,
       "text": [
        "     [,1] [,2]\n",
        "[1,]   10   30\n",
        "[2,]   20   40"
       ]
      }
     ],
     "prompt_number": 166
    },
    {
     "cell_type": "code",
     "collapsed": false,
     "input": [
      "x / y"
     ],
     "language": "python",
     "metadata": {},
     "outputs": [
      {
       "metadata": {},
       "output_type": "pyout",
       "prompt_number": 167,
       "text": [
        "     [,1] [,2]\n",
        "[1,]  0.1  0.3\n",
        "[2,]  0.2  0.4"
       ]
      }
     ],
     "prompt_number": 167
    },
    {
     "cell_type": "code",
     "collapsed": false,
     "input": [
      "x %*% y # true matrix multiplication"
     ],
     "language": "python",
     "metadata": {},
     "outputs": [
      {
       "metadata": {},
       "output_type": "pyout",
       "prompt_number": 168,
       "text": [
        "     [,1] [,2]\n",
        "[1,]   40   40\n",
        "[2,]   60   60"
       ]
      }
     ],
     "prompt_number": 168
    },
    {
     "cell_type": "markdown",
     "metadata": {},
     "source": [
      "[?] _vectorized operations_ vs. _functional programming_\n",
      "\n",
      "---"
     ]
    },
    {
     "cell_type": "heading",
     "level": 2,
     "metadata": {},
     "source": [
      "Reading and Writing Data"
     ]
    },
    {
     "cell_type": "markdown",
     "metadata": {},
     "source": [
      "There are a few principal functions for reading data into R:\n",
      "* `read.table`, `read.csv`\u2014tabular data\n",
      "    * inverse of `write.table`\n",
      "* `readLines`\u2014lines of a text file\n",
      "    * inverse of `writeLines`\n",
      "* `source`\u2013R code files\n",
      "    * inverse of `dump`\n",
      "* `dget`\u2013R code files, for R objects that have been _deparsed_ into text files\n",
      "    * inverse of `dput`\n",
      "* `load`\u2014saved workspaces\n",
      "    * inverse of `save`\n",
      "* `unserialize`\u2014single R objects in binary form\n",
      "    * inverse of `serialize`"
     ]
    },
    {
     "cell_type": "heading",
     "level": 3,
     "metadata": {},
     "source": [
      "read.table "
     ]
    },
    {
     "cell_type": "markdown",
     "metadata": {},
     "source": [
      "Important arguments:\n",
      "* `file`: file name | connection\n",
      "* `header`: logical flag, does the file have a header line\n",
      "* `sep`: string, column separator\n",
      "* `colClasses`: character vector, the class of each column in the dataset\n",
      "* `nrows`: number of rows in the dataset\n",
      "* `comment.char`: character string, the comment character.  \n",
      "  `#` is considered by default; anything to the right of it will be ignored\n",
      "* `skip`: # of lines to skip from the beginning\n",
      "* `stringAsFactors`: should character variables be coded as factors?  \n",
      "  `TRUE` by default."
     ]
    },
    {
     "cell_type": "code",
     "collapsed": false,
     "input": [
      "data <- read.table('foo.txt')"
     ],
     "language": "python",
     "metadata": {},
     "outputs": [],
     "prompt_number": 171
    },
    {
     "cell_type": "markdown",
     "metadata": {},
     "source": [
      "R will automatically\n",
      "* skip lines beginning with `#`;\n",
      "* compute how many rows there are and how much memory needs to be allocated;\n",
      "* figure out the variable type for each table column.  \n",
      "  R runs faster and more efficiently if explicitly told these details.\n",
      "* `read.csv()` is identical to `read.table()`, just that \n",
      "    * the default separator is a comma, while for `read.table()` it's a space;\n",
      "    * always specifies `header` to be `TRUE`."
     ]
    },
    {
     "cell_type": "heading",
     "level": 3,
     "metadata": {},
     "source": [
      "Reading in Larger Datasets with read.table"
     ]
    },
    {
     "cell_type": "markdown",
     "metadata": {},
     "source": [
      "Prevent R from choking by:\n",
      "* reading the `read.table()` help page first :)\n",
      "* making a rough calculation of the RAM required to store your dataset;\n",
      "* set `comment.char = ''` if your file doesn't contain any comments;\n",
      "* make use of the `colClasses` argument: saves a lot of time & RAM;\n",
      "  * if all your classes are numeric, it's sufficient to set it once, since it will assume all columns have the same class: `ColClasses = \"numeric\"`. \n",
      "  * Otherwise:\n",
      "    * retrieve the first 100 or 1000 rows using the `nrows` argument\n",
      "    * loop over each of the columns using `sapply()` and calling the `class` function\u2014it will tell you which class is there in each column;\n",
      "    * then read the whole dataset by specifying the `colClasses` argument.\n",
      "* setting `nrows` (even if mildly overerstimating) helps reduce memory footprint."
     ]
    },
    {
     "cell_type": "heading",
     "level": 4,
     "metadata": {},
     "source": [
      "Calculating Memory Requirements"
     ]
    },
    {
     "cell_type": "markdown",
     "metadata": {},
     "source": [
      "Dataframe with:\n",
      "* 1,500,000 rows\n",
      "* 120 columns, all numeric\n",
      "* 1,500,000 x 120 x 8bytes/numeric = 1.34GB\n",
      "* but there's overhead \u00bb we'll need almost _twice_ as much memory to read this dataset in memory."
     ]
    },
    {
     "cell_type": "heading",
     "level": 3,
     "metadata": {},
     "source": [
      "Textual formats"
     ]
    },
    {
     "cell_type": "markdown",
     "metadata": {},
     "source": [
      "`dump`/`source` and `dput`/`dget` are the way to go:\n",
      "* _editable_ textual format\n",
      "* potentially _recoverable_, in case of corruption\n",
      "* preserves _metadata_ (column classes)\n",
      "* play well with _version control_ systems: textual vs binary\n",
      "* _not space-efficient_\u2014compression?"
     ]
    },
    {
     "cell_type": "heading",
     "level": 4,
     "metadata": {},
     "source": [
      "`dput()` / `dget()`"
     ]
    },
    {
     "cell_type": "code",
     "collapsed": false,
     "input": [
      "y <- data.frame(a = 1, b = 'a')\n",
      "\n",
      "dput(y)"
     ],
     "language": "python",
     "metadata": {},
     "outputs": [
      {
       "output_type": "stream",
       "stream": "stdout",
       "text": [
        "structure(list(a = 1, b = structure(1L, .Label = \"a\", class = \"factor\")), .Names = c(\"a\", \n",
        "\"b\"), row.names = c(NA, -1L), class = \"data.frame\")\n"
       ]
      }
     ],
     "prompt_number": 2
    },
    {
     "cell_type": "code",
     "collapsed": false,
     "input": [
      "dput(y, file = '/vagrant/02_R_Programming/rprog_week_1/data/y.R')"
     ],
     "language": "python",
     "metadata": {},
     "outputs": [],
     "prompt_number": 4
    },
    {
     "cell_type": "code",
     "collapsed": false,
     "input": [
      "new.y <- dget('y.R')\n",
      "\n",
      "new.y"
     ],
     "language": "python",
     "metadata": {},
     "outputs": [
      {
       "metadata": {},
       "output_type": "pyout",
       "prompt_number": 5,
       "text": [
        "  a b\n",
        "1 1 a"
       ]
      }
     ],
     "prompt_number": 5
    },
    {
     "cell_type": "markdown",
     "metadata": {},
     "source": [
      "**Downside:** `dget()` can only be used on a single R object. If we need to handle multiple objects, we need to use `dump()`.\n",
      "\n",
      "---"
     ]
    },
    {
     "cell_type": "heading",
     "level": 4,
     "metadata": {},
     "source": [
      "`dump()`/`source()`"
     ]
    },
    {
     "cell_type": "code",
     "collapsed": false,
     "input": [
      "x <- 'foo'\n",
      "y <- data.frame(a = 1, b = 'a')\n",
      "\n",
      "dump(c('x', 'y'), file = '/vagrant/02_R_Programming/rprog_week_1/data/data.R')\n",
      "rm(x, y) # remove specific objects\n",
      "source('/vagrant/02_R_Programming/rprog_week_1/data/data.R')\n",
      "\n",
      "y"
     ],
     "language": "python",
     "metadata": {},
     "outputs": [
      {
       "metadata": {},
       "output_type": "pyout",
       "prompt_number": 7,
       "text": [
        "  a b\n",
        "1 1 a"
       ]
      }
     ],
     "prompt_number": 7
    },
    {
     "cell_type": "code",
     "collapsed": false,
     "input": [
      "x"
     ],
     "language": "python",
     "metadata": {},
     "outputs": [
      {
       "metadata": {},
       "output_type": "pyout",
       "prompt_number": 182,
       "text": [
        "[1] \"foo\""
       ]
      }
     ],
     "prompt_number": 182
    },
    {
     "cell_type": "heading",
     "level": 3,
     "metadata": {},
     "source": [
      "Interfaces to the Outside World "
     ]
    },
    {
     "cell_type": "markdown",
     "metadata": {},
     "source": [
      "Data are read in using _connection_ interfaces:\n",
      "* `file`\n",
      "* `gzfile`\n",
      "* `bzfile`\n",
      "* `url`"
     ]
    },
    {
     "cell_type": "code",
     "collapsed": false,
     "input": [
      "con <- url('http://mariusbutuc.com/', 'r')\n",
      "x <- readLines(con, n=10)\n",
      "head(x)"
     ],
     "language": "python",
     "metadata": {},
     "outputs": [
      {
       "metadata": {},
       "output_type": "pyout",
       "prompt_number": 183,
       "text": [
        "[1] \"<!DOCTYPE html>\"                                                                                                                    \n",
        "[2] \"<html>\"                                                                                                                             \n",
        "[3] \"  <head><script type=\\\"text/javascript\\\">var NREUMQ=NREUMQ||[];NREUMQ.push([\\\"mark\\\",\\\"firstbyte\\\",new Date().getTime()]);</script>\"\n",
        "[4] \"      <meta name=\\\"viewport\\\" content=\\\"width=device-width, initial-scale=1.0\\\">\"                                                   \n",
        "[5] \"  <title>Marius Butuc</title>\"                                                                                                      \n",
        "[6] \"  <meta name=\\\"description\\\" content=\\\"The blog of Marius Butuc\\\">\"                                                                 "
       ]
      }
     ],
     "prompt_number": 183
    }
   ],
   "metadata": {}
  }
 ]
}