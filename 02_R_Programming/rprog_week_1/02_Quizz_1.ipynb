{
 "metadata": {
  "name": "",
  "signature": "sha256:8c6ba2af0e4b15652af13da69605838410238fc827964acc6b8aa3b2b740022f"
 },
 "nbformat": 3,
 "nbformat_minor": 0,
 "worksheets": [
  {
   "cells": [
    {
     "cell_type": "heading",
     "level": 2,
     "metadata": {},
     "source": [
      "Introduction"
     ]
    },
    {
     "cell_type": "markdown",
     "metadata": {},
     "source": [
      "This first quiz will check your ability to execute basic operations on objects in R and to understand some basic concepts. For questions 11\u201320 you will need to load a dataset into R and do some basic manipulations in order to answer the questions on the quiz.\n",
      "\n",
      "You may want to print a copy of the quiz questions to look at as you work on the assignment. It is recommended that you save your answers as you go in the event that a technical problem should occur with your network connection or computer. Ultimately, you must submit the quiz online to get credit!"
     ]
    },
    {
     "cell_type": "heading",
     "level": 2,
     "metadata": {},
     "source": [
      "Data"
     ]
    },
    {
     "cell_type": "markdown",
     "metadata": {},
     "source": [
      "The zip file containing the data for questions 11\u201320 in this Quiz can be downloaded here:\n",
      "\n",
      "* [Week 1 Quiz Data](https://d396qusza40orc.cloudfront.net/rprog%2Fdata%2Fquiz1_data.zip)\n",
      "\n",
      "For this assignment you will need to unzip this file in your working directory."
     ]
    },
    {
     "cell_type": "code",
     "collapsed": true,
     "input": [
      "hw1_data <- read.csv('/vagrant/02_R_Programming/rprog_week_1/quizz_data/hw1_data.csv')"
     ],
     "language": "python",
     "metadata": {},
     "outputs": [],
     "prompt_number": 1
    },
    {
     "cell_type": "markdown",
     "metadata": {},
     "source": [
      "---"
     ]
    },
    {
     "cell_type": "heading",
     "level": 3,
     "metadata": {},
     "source": [
      "Question 4"
     ]
    },
    {
     "cell_type": "markdown",
     "metadata": {},
     "source": [
      "If I execute the expression `x <- 4` in R, what is the class of the object `x` \n",
      "as determined by the `class()` function?\n",
      "  * numeric\n",
      "  * list\n",
      "  * vector\n",
      "  * real"
     ]
    },
    {
     "cell_type": "code",
     "collapsed": false,
     "input": [
      "x <- 4\n",
      "\n",
      "class(x)"
     ],
     "language": "python",
     "metadata": {},
     "outputs": [
      {
       "metadata": {},
       "output_type": "pyout",
       "prompt_number": 2,
       "text": [
        "[1] \"numeric\""
       ]
      }
     ],
     "prompt_number": 2
    },
    {
     "cell_type": "heading",
     "level": 3,
     "metadata": {},
     "source": [
      "Question 5"
     ]
    },
    {
     "cell_type": "markdown",
     "metadata": {},
     "source": [
      "What is the class of the object defined by the expression `x <- c(4, \"a\", TRUE)`?\n",
      "* logical\n",
      "* character\n",
      "* integer\n",
      "* numeric\n",
      "\n",
      "> R does automatic **coercion** of vectors so that all elements of the vector are the same data class.  \n",
      "> The character class is the \"lowest common denominator\" here and so all elements will be coerced into that class. "
     ]
    },
    {
     "cell_type": "code",
     "collapsed": false,
     "input": [
      "x <- c(4, \"a\", TRUE)\n",
      "\n",
      "class(x)"
     ],
     "language": "python",
     "metadata": {},
     "outputs": [
      {
       "metadata": {},
       "output_type": "pyout",
       "prompt_number": 2,
       "text": [
        "[1] \"character\""
       ]
      }
     ],
     "prompt_number": 2
    },
    {
     "cell_type": "heading",
     "level": 3,
     "metadata": {},
     "source": [
      "Question 8"
     ]
    },
    {
     "cell_type": "markdown",
     "metadata": {},
     "source": [
      "Suppose I have a list defined as `x <- list(2, \"a\", \"b\", TRUE)`. \n",
      "What does `x[[2]]` give me?\n",
      "\n",
      "* a character vector with the elements \"a\" and \"b\".\n",
      "* a list containing the number 2 and the letter \"a\".\n",
      "* a character vector containing the letter \"a\".\n",
      "* a list containing a character vector with the elements \"a\" and \"b\"."
     ]
    },
    {
     "cell_type": "code",
     "collapsed": false,
     "input": [
      "x <- list(2, \"a\", \"b\", TRUE)\n",
      "\n",
      "class(x[[2]])"
     ],
     "language": "python",
     "metadata": {},
     "outputs": [
      {
       "metadata": {},
       "output_type": "pyout",
       "prompt_number": 5,
       "text": [
        "[1] \"character\""
       ]
      }
     ],
     "prompt_number": 5
    },
    {
     "cell_type": "heading",
     "level": 3,
     "metadata": {},
     "source": [
      "Question 9"
     ]
    },
    {
     "cell_type": "markdown",
     "metadata": {},
     "source": [
      "Suppose I have a vector `x <- 1:4` and a vector `y <- 2`. \n",
      "What is produced by the expression `x + y`?\n",
      "\n",
      "* an integer vector with elements 3, 2, 3, 6.\n",
      "* a numeric vector with elements 1, 2, 3, 6.\n",
      "* a numeric vector with elements 3, 2, 3, 4.\n",
      "* a numeric vector with elements 3, 4, 5, 6."
     ]
    },
    {
     "cell_type": "code",
     "collapsed": false,
     "input": [
      "x <- 1:4\n",
      "y <- 2\n",
      "x + y"
     ],
     "language": "python",
     "metadata": {},
     "outputs": [
      {
       "metadata": {},
       "output_type": "pyout",
       "prompt_number": 6,
       "text": [
        "[1] 3 4 5 6"
       ]
      }
     ],
     "prompt_number": 6
    },
    {
     "cell_type": "heading",
     "level": 3,
     "metadata": {},
     "source": [
      "Question 9'"
     ]
    },
    {
     "cell_type": "markdown",
     "metadata": {},
     "source": [
      "Suppose I have a vector x <- 1:4 and y <- 2:3. What is produced by the expression x + y?\n",
      "* an integer vector with the values 3, 5, 5, 7.\n",
      "* an error.\n",
      "* an numeric vector with the values 3, 5, 5, 7.\n",
      "* a numeric vector with the values 1, 2, 5, 7."
     ]
    },
    {
     "cell_type": "code",
     "collapsed": false,
     "input": [
      "x <- 1:4 # 1, 2, 3, 4\n",
      "y <- 2:3 # 2, 3; 2, 3\n",
      "    \n",
      "x + y"
     ],
     "language": "python",
     "metadata": {},
     "outputs": [
      {
       "metadata": {},
       "output_type": "pyout",
       "prompt_number": 113,
       "text": [
        "[1] 3 5 5 7"
       ]
      }
     ],
     "prompt_number": 113
    },
    {
     "cell_type": "heading",
     "level": 3,
     "metadata": {},
     "source": [
      "Question 10"
     ]
    },
    {
     "cell_type": "markdown",
     "metadata": {},
     "source": [
      "Suppose I have a vector `x <- c(17, 14, 4, 5, 13, 12, 10)` and I want to set all elements of this vector that are greater than 10 to be equal to 4. What R code achieves this?\n",
      "\n",
      "* `x[x > 4] <- 10`\n",
      "* `x[x >= 11] <- 4`\n",
      "* `x[x > 10] == 4`\n",
      "* `x[x < 10] <- 4`"
     ]
    },
    {
     "cell_type": "code",
     "collapsed": false,
     "input": [
      "x <- c(17, 14, 4, 5, 13, 12, 10)\n",
      "x[x > 10] <- 4\n",
      "\n",
      "x"
     ],
     "language": "python",
     "metadata": {},
     "outputs": [
      {
       "metadata": {},
       "output_type": "pyout",
       "prompt_number": 10,
       "text": [
        "[1]  4  4  4  5  4  4 10"
       ]
      }
     ],
     "prompt_number": 10
    },
    {
     "cell_type": "heading",
     "level": 3,
     "metadata": {},
     "source": [
      "Question 10'"
     ]
    },
    {
     "cell_type": "markdown",
     "metadata": {},
     "source": [
      "Suppose I have a vector `x <- c(3, 5, 1, 10, 12, 6)` and I want to set all elements of this vector that are less than 6 to be equal to zero. What R code achieves this?\n",
      "* `x[x == 0] <- 6`\n",
      "* `x[x > 0] <- 6`\n",
      "* `x[x > 6] <- 0`\n",
      "* `x[x %in% 1:5] <- 0`"
     ]
    },
    {
     "cell_type": "code",
     "collapsed": false,
     "input": [
      "x <- c(3, 5, 1, 10, 12, 6)\n",
      "x[x %in% 1:5] <- 0\n",
      "\n",
      "x"
     ],
     "language": "python",
     "metadata": {},
     "outputs": [
      {
       "metadata": {},
       "output_type": "pyout",
       "prompt_number": 115,
       "text": [
        "[1]  0  0  0 10 12  6"
       ]
      }
     ],
     "prompt_number": 115
    },
    {
     "cell_type": "markdown",
     "metadata": {},
     "source": [
      "---"
     ]
    },
    {
     "cell_type": "heading",
     "level": 3,
     "metadata": {},
     "source": [
      "Question 11"
     ]
    },
    {
     "cell_type": "markdown",
     "metadata": {},
     "source": [
      "In the dataset provided for this Quiz, what are the column names of the dataset?\n",
      "\n",
      "> You can get the column names of a data frame with the `names()` function."
     ]
    },
    {
     "cell_type": "code",
     "collapsed": false,
     "input": [
      "head(hw1_data)"
     ],
     "language": "python",
     "metadata": {},
     "outputs": [
      {
       "metadata": {},
       "output_type": "pyout",
       "prompt_number": 20,
       "text": [
        "  Ozone Solar.R Wind Temp Month Day\n",
        "1    41     190  7.4   67     5   1\n",
        "2    36     118  8.0   72     5   2\n",
        "3    12     149 12.6   74     5   3\n",
        "4    18     313 11.5   62     5   4\n",
        "5    NA      NA 14.3   56     5   5\n",
        "6    28      NA 14.9   66     5   6"
       ]
      }
     ],
     "prompt_number": 20
    },
    {
     "cell_type": "code",
     "collapsed": false,
     "input": [
      "names(hw1_data)"
     ],
     "language": "python",
     "metadata": {},
     "outputs": [
      {
       "metadata": {},
       "output_type": "pyout",
       "prompt_number": 116,
       "text": [
        "[1] \"Ozone\"   \"Solar.R\" \"Wind\"    \"Temp\"    \"Month\"   \"Day\"    "
       ]
      }
     ],
     "prompt_number": 116
    },
    {
     "cell_type": "heading",
     "level": 3,
     "metadata": {},
     "source": [
      "Question 12"
     ]
    },
    {
     "cell_type": "markdown",
     "metadata": {},
     "source": [
      "Extract the first 2 rows of the data frame and print them to the console. What does the output look like?"
     ]
    },
    {
     "cell_type": "code",
     "collapsed": false,
     "input": [
      "hw1_data[1:2, ]"
     ],
     "language": "python",
     "metadata": {},
     "outputs": [
      {
       "metadata": {},
       "output_type": "pyout",
       "prompt_number": 18,
       "text": [
        "  Ozone Solar.R Wind Temp Month Day\n",
        "1    41     190  7.4   67     5   1\n",
        "2    36     118  8.0   72     5   2"
       ]
      }
     ],
     "prompt_number": 18
    },
    {
     "cell_type": "heading",
     "level": 3,
     "metadata": {},
     "source": [
      "Question 13"
     ]
    },
    {
     "cell_type": "markdown",
     "metadata": {},
     "source": [
      "How many **observations** (i.e. rows) are in this data frame?\n",
      "\n",
      "> You can use the `nrow()` function to compute the number of rows in a data frame."
     ]
    },
    {
     "cell_type": "code",
     "collapsed": false,
     "input": [
      "nrow(hw1_data)"
     ],
     "language": "python",
     "metadata": {},
     "outputs": [
      {
       "metadata": {},
       "output_type": "pyout",
       "prompt_number": 22,
       "text": [
        "[1] 153"
       ]
      }
     ],
     "prompt_number": 22
    },
    {
     "cell_type": "heading",
     "level": 3,
     "metadata": {},
     "source": [
      "Question 14"
     ]
    },
    {
     "cell_type": "markdown",
     "metadata": {},
     "source": [
      "Extract the last 2 rows of the data frame and print them to the console. What does the output look like?\n",
      "\n",
      "> The `tail()` function is an easy way to extract the last few elements of an R object. "
     ]
    },
    {
     "cell_type": "code",
     "collapsed": false,
     "input": [
      "hw1_data[c(152, 153), ]"
     ],
     "language": "python",
     "metadata": {},
     "outputs": [
      {
       "metadata": {},
       "output_type": "pyout",
       "prompt_number": 26,
       "text": [
        "    Ozone Solar.R Wind Temp Month Day\n",
        "152    18     131  8.0   76     9  29\n",
        "153    20     223 11.5   68     9  30"
       ]
      }
     ],
     "prompt_number": 26
    },
    {
     "cell_type": "code",
     "collapsed": false,
     "input": [
      "tail(hw1_data, n=2L)"
     ],
     "language": "python",
     "metadata": {},
     "outputs": [
      {
       "metadata": {},
       "output_type": "pyout",
       "prompt_number": 110,
       "text": [
        "    Ozone Solar.R Wind Temp Month Day\n",
        "152    18     131  8.0   76     9  29\n",
        "153    20     223 11.5   68     9  30"
       ]
      }
     ],
     "prompt_number": 110
    },
    {
     "cell_type": "heading",
     "level": 3,
     "metadata": {},
     "source": [
      "Question 15"
     ]
    },
    {
     "cell_type": "markdown",
     "metadata": {},
     "source": [
      "What is the value of Ozone in the 47th row?"
     ]
    },
    {
     "cell_type": "code",
     "collapsed": false,
     "input": [
      "hw1_data[47, ]$Ozone"
     ],
     "language": "python",
     "metadata": {},
     "outputs": [
      {
       "metadata": {},
       "output_type": "pyout",
       "prompt_number": 47,
       "text": [
        "[1] 21"
       ]
      }
     ],
     "prompt_number": 47
    },
    {
     "cell_type": "heading",
     "level": 3,
     "metadata": {},
     "source": [
      "Question 16"
     ]
    },
    {
     "cell_type": "markdown",
     "metadata": {},
     "source": [
      "How many missing values are in the Ozone column of this data frame?\n",
      "\n",
      "> The `is.na()` function can be used to test for missing values."
     ]
    },
    {
     "cell_type": "code",
     "collapsed": false,
     "input": [
      "length(which(is.na(hw1_data$Ozone)))"
     ],
     "language": "python",
     "metadata": {},
     "outputs": [
      {
       "metadata": {},
       "output_type": "pyout",
       "prompt_number": 117,
       "text": [
        "[1] 37"
       ]
      }
     ],
     "prompt_number": 117
    },
    {
     "cell_type": "heading",
     "level": 3,
     "metadata": {},
     "source": [
      "Question 17"
     ]
    },
    {
     "cell_type": "markdown",
     "metadata": {},
     "source": [
      "What is the mean of the Ozone column in this dataset? Exclude missing values (coded as NA) from this calculation.\n",
      "\n",
      "> The `mean()` function can be used to calculate the mean."
     ]
    },
    {
     "cell_type": "code",
     "collapsed": false,
     "input": [
      "mask = !is.na(ozone_col)\n",
      "\n",
      "mean(ozone_col[mask])"
     ],
     "language": "python",
     "metadata": {},
     "outputs": [
      {
       "metadata": {},
       "output_type": "pyout",
       "prompt_number": 54,
       "text": [
        "[1] 42.12931"
       ]
      }
     ],
     "prompt_number": 54
    },
    {
     "cell_type": "heading",
     "level": 3,
     "metadata": {},
     "source": [
      "Question 18"
     ]
    },
    {
     "cell_type": "markdown",
     "metadata": {},
     "source": [
      "Extract the subset of rows of the data frame where Ozone values are above 31 and Temp values are above 90. What is the mean of Solar.R in this subset?\n",
      "\n",
      "> You need to construct a logical vector in R to match the question's requirements. Then use that logical vector to subset the data frame."
     ]
    },
    {
     "cell_type": "code",
     "collapsed": false,
     "input": [
      "subset_airquality <- subset(hw1_data, Ozone > 31 & Temp > 90, \n",
      "                            select=c('Solar.R', 'Ozone', 'Temp'))\n",
      "mean(subset_airquality$Solar)"
     ],
     "language": "python",
     "metadata": {},
     "outputs": [
      {
       "metadata": {},
       "output_type": "pyout",
       "prompt_number": 89,
       "text": [
        "[1] 212.8"
       ]
      }
     ],
     "prompt_number": 89
    },
    {
     "cell_type": "heading",
     "level": 3,
     "metadata": {},
     "source": [
      "Question 19"
     ]
    },
    {
     "cell_type": "markdown",
     "metadata": {},
     "source": [
      "What is the mean of \"Temp\" when \"Month\" is equal to 6?"
     ]
    },
    {
     "cell_type": "code",
     "collapsed": false,
     "input": [
      "subset_airquality <- subset(hw1_data, Month == 6, \n",
      "                            select=c('Temp', 'Month'))\n",
      "mean(subset_airquality$Temp)"
     ],
     "language": "python",
     "metadata": {},
     "outputs": [
      {
       "metadata": {},
       "output_type": "pyout",
       "prompt_number": 94,
       "text": [
        "[1] 79.1"
       ]
      }
     ],
     "prompt_number": 94
    },
    {
     "cell_type": "heading",
     "level": 3,
     "metadata": {},
     "source": [
      "Question 20"
     ]
    },
    {
     "cell_type": "markdown",
     "metadata": {},
     "source": [
      "What was the maximum ozone value in the month of May (i.e. Month = 5)?"
     ]
    },
    {
     "cell_type": "code",
     "collapsed": false,
     "input": [
      "subset_airquality <- subset(hw1_data, Month == 5, \n",
      "                            select=c('Ozone', 'Month'))\n",
      "\n",
      "ozone_mask <- !is.na(subset_airquality$Ozone)\n",
      "\n",
      "max(subset_airquality$Ozone[ozone_mask])"
     ],
     "language": "python",
     "metadata": {},
     "outputs": [
      {
       "metadata": {},
       "output_type": "pyout",
       "prompt_number": 109,
       "text": [
        "[1] 115"
       ]
      }
     ],
     "prompt_number": 109
    },
    {
     "cell_type": "code",
     "collapsed": false,
     "input": [],
     "language": "python",
     "metadata": {},
     "outputs": []
    }
   ],
   "metadata": {}
  }
 ]
}