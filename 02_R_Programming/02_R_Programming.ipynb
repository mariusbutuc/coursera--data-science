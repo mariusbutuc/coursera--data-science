{
 "metadata": {
  "name": "",
  "signature": "sha256:57615690d91123b4f5a429e3736e7ace5ca0195ee2adf268e261b375c58d396c"
 },
 "nbformat": 3,
 "nbformat_minor": 0,
 "worksheets": [
  {
   "cells": [
    {
     "cell_type": "heading",
     "level": 1,
     "metadata": {},
     "source": [
      "[R Programming](https://www.coursera.org/course/rprog)"
     ]
    },
    {
     "cell_type": "markdown",
     "metadata": {},
     "source": [
      "![R Programming](https://raw.githubusercontent.com/mariusbutuc/coursera--data-science/master/img/02-r_programming.jpg)"
     ]
    },
    {
     "cell_type": "heading",
     "level": 3,
     "metadata": {},
     "source": [
      "Nov 3<sup>rd</sup>&mdash;Dec 1<sup>st</sup> 2014 Edition"
     ]
    },
    {
     "cell_type": "markdown",
     "metadata": {},
     "source": [
      "> In this course you will learn how to program in R and how to use R for\n",
      "> effective data analysis. You will learn how to install and configure software\n",
      "> necessary for a statistical programming environment, discuss generic\n",
      "> programming language concepts as they are implemented in a high-level\n",
      "> statistical language. The course covers practical issues in statistical\n",
      "> computing which includes:\n",
      ">  * programming in R,\n",
      ">  * reading data into R,\n",
      ">  * accessing R packages,\n",
      ">  * writing R functions,\n",
      ">  * debugging, and\n",
      ">  * organizing and commenting R code.\n",
      ">\n",
      "> Topics in statistical data analysis and optimization will provide working examples.\n",
      ">\n",
      "> \u2014Roger Peng"
     ]
    },
    {
     "cell_type": "markdown",
     "metadata": {},
     "source": [
      "---"
     ]
    }
   ],
   "metadata": {}
  }
 ]
}