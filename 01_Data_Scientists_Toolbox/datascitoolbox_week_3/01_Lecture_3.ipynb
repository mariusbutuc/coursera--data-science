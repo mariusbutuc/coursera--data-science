{
 "metadata": {
  "name": "",
  "signature": "sha256:154510e4609d9fa03b97238e9d8ddda1dbe352b801cc403b34f024f6bd0c85da"
 },
 "nbformat": 3,
 "nbformat_minor": 0,
 "worksheets": [
  {
   "cells": [
    {
     "cell_type": "heading",
     "level": 1,
     "metadata": {},
     "source": [
      "Lecture#3"
     ]
    },
    {
     "cell_type": "code",
     "collapsed": false,
     "input": [],
     "language": "python",
     "metadata": {},
     "outputs": []
    }
   ],
   "metadata": {}
  }
 ]
}