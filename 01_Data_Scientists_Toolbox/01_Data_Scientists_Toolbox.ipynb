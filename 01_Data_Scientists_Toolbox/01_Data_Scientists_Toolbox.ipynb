{
 "metadata": {
  "name": "",
  "signature": "sha256:74c2e88a069aacdaa3b6ebe50ce426e9c66649a1d300a39b981689575807275b"
 },
 "nbformat": 3,
 "nbformat_minor": 0,
 "worksheets": [
  {
   "cells": [
    {
     "cell_type": "heading",
     "level": 1,
     "metadata": {},
     "source": [
      "[The Data Scientist's Toolbox](https://www.coursera.org/course/datascitoolbox)"
     ]
    },
    {
     "cell_type": "markdown",
     "metadata": {},
     "source": [
      "![The Data Scientist's Toolbox](https://raw.githubusercontent.com/mariusbutuc/coursera--data-science/master/img/01-data_scientists_toolbox.jpg)"
     ]
    },
    {
     "cell_type": "heading",
     "level": 3,
     "metadata": {},
     "source": [
      "Nov 3<sup>rd</sup>&mdash;Dec 1<sup>st</sup> 2014 Edition"
     ]
    },
    {
     "cell_type": "markdown",
     "metadata": {},
     "source": [
      "> This course can serve as your first step on your path to working in the field.\n",
      ">\n",
      "> In this course you will get an introduction to the main tools and ideas in the data scientist's toolbox.  \n",
      "> The course gives an overview of the _data_, _questions_, and _tools_ that data analysts and data scientists work with. \n",
      ">\n",
      "> There are two components to this course:\n",
      ">   1. The first is a _conceptual_ introduction to the ideas behind turning data into actionable knowledge.\n",
      ">   2. The second is a _practical_ introduction to the tools that will be used in the program like version control, markdown, git, Github, R, and Rstudio.\n",
      ">\n",
      "> \u2014Jeff Leek"
     ]
    },
    {
     "cell_type": "markdown",
     "metadata": {},
     "source": [
      "---"
     ]
    }
   ],
   "metadata": {}
  }
 ]
}