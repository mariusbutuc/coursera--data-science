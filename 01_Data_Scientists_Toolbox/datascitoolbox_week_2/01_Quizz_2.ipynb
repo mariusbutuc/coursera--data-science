{
 "metadata": {
  "name": "",
  "signature": "sha256:2decd3202139e051a9ce76a1756abadbdb3cb862bd3995097c6ae901bf1f63c8"
 },
 "nbformat": 3,
 "nbformat_minor": 0,
 "worksheets": [
  {
   "cells": [
    {
     "cell_type": "markdown",
     "metadata": {},
     "source": [
      "## Question 5\n",
      "\n",
      "Install and load the KernSmooth R package. What does the copyright message say?\n",
      "* Copyright Matthew Wand 1997-2009\n",
      "* Copyright M. P. Wand 1997-2009\n",
      "* Copyright M. P. Wand 1990-2009\n",
      "* Copyright M. P. Wand "
     ]
    },
    {
     "cell_type": "code",
     "collapsed": false,
     "input": [
      "install.packages('KernSmooth')"
     ],
     "language": "python",
     "metadata": {},
     "outputs": [
      {
       "output_type": "stream",
       "stream": "stderr",
       "text": [
        "Installing package into \u2018/home/vagrant/R/x86_64-pc-linux-gnu-library/3.1\u2019\n",
        "(as \u2018lib\u2019 is unspecified)\n"
       ]
      },
      {
       "output_type": "stream",
       "stream": "stdout",
       "text": [
        "\n",
        "The downloaded source packages are in\n",
        "\t\u2018/tmp/RtmpmUwVS1/downloaded_packages\u2019\n"
       ]
      }
     ],
     "prompt_number": 2
    },
    {
     "cell_type": "code",
     "collapsed": false,
     "input": [
      "library(KernSmooth)"
     ],
     "language": "python",
     "metadata": {},
     "outputs": [
      {
       "output_type": "stream",
       "stream": "stderr",
       "text": [
        "KernSmooth 2.23 loaded\n",
        "Copyright M. P. Wand 1997-2009\n"
       ]
      }
     ],
     "prompt_number": 3
    },
    {
     "cell_type": "code",
     "collapsed": false,
     "input": [],
     "language": "python",
     "metadata": {},
     "outputs": []
    }
   ],
   "metadata": {}
  }
 ]
}