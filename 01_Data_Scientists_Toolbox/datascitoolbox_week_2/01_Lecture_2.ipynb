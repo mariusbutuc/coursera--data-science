{
 "metadata": {
  "name": "",
  "signature": "sha256:05a33b2796a921331df8bafc4cd61f05761ebadbfbc7570bb916c4bdd4923a08"
 },
 "nbformat": 3,
 "nbformat_minor": 0,
 "worksheets": [
  {
   "cells": [
    {
     "cell_type": "heading",
     "level": 2,
     "metadata": {},
     "source": [
      "Intro to the CLI"
     ]
    },
    {
     "cell_type": "markdown",
     "metadata": {},
     "source": [
      "* command flags arguments\n",
      "* `pwd` \u2014 _print working directory_\n",
      "* `clear` \u2014 _clear the screen_\n",
      "* `ls -al` \u2014 _list files [all, with details]_\n",
      "* `cd` \u2014 _change working directory_\n",
      "* `mkdir` \u2014 _create directory_\n",
      "* `touch` \u2014 _create file_\n",
      "* `cp <source> <destination>` \u2014 _copy file(s)_\n",
      "* `cp -r <dir>` \u2014 _recursive copy_\n",
      "* `rm <file>` \u2014 _[permanently] delete file_\n",
      "* `rm -r <dir>` \u2014 _recursive delete_\n",
      "* `mv <source> <destination>` \u2014 _move / rename_\n",
      "* `echo` \u2014 _output contents_\n",
      "* `date` \u2014 _print current date, time_"
     ]
    },
    {
     "cell_type": "code",
     "collapsed": false,
     "input": [],
     "language": "python",
     "metadata": {},
     "outputs": []
    }
   ],
   "metadata": {}
  }
 ]
}