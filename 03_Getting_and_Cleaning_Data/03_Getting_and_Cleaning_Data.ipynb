{
 "metadata": {
  "name": "",
  "signature": "sha256:64d0e1f90387f87fc708a016ae092606e7dc7b4acf4dc6aa113d20b17c339cc6"
 },
 "nbformat": 3,
 "nbformat_minor": 0,
 "worksheets": [
  {
   "cells": [
    {
     "cell_type": "heading",
     "level": 1,
     "metadata": {},
     "source": [
      "[Getting and Cleaning Data](https://www.coursera.org/course/getdata)"
     ]
    },
    {
     "cell_type": "markdown",
     "metadata": {},
     "source": [
      "![Getting and Cleaning Data](https://raw.githubusercontent.com/mariusbutuc/coursera--data-science/master/img/03-obtaining_data.jpg)"
     ]
    },
    {
     "cell_type": "heading",
     "level": 3,
     "metadata": {},
     "source": [
      "Nov 3<sup>rd</sup>\u2014Dec 1<sup>st</sup> 2014 Edition"
     ]
    },
    {
     "cell_type": "markdown",
     "metadata": {},
     "source": [
      "> Before you can work with data you have to get some. \n",
      ">\n",
      "> This course will cover the basic ways that data can be obtained. The course will cover _obtaining data_ from the web, from APIs, and from colleagues in various formats. It will also cover the basics of _data cleaning_ and how to make data \u201ctidy\u201d. Tidy data dramatically speed downstream data analysis tasks. The course will also cover the components of a complete data set including\n",
      ">   * raw data,\n",
      ">   * processing instructions,\n",
      ">   * codebooks, and\n",
      ">   * processed data.\n",
      ">\n",
      "> The course will cover the basics needed for collecting, cleaning, and sharing data.\n",
      ">\n",
      "> \u2014Jeff Leek"
     ]
    }
   ],
   "metadata": {}
  }
 ]
}