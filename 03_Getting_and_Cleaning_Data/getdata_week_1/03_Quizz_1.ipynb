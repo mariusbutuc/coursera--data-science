{
 "metadata": {
  "name": "",
  "signature": "sha256:b88481cb55302ad9954fbd53e3eb9aef671aab807a719d4974875fa16dec4997"
 },
 "nbformat": 3,
 "nbformat_minor": 0,
 "worksheets": [
  {
   "cells": [
    {
     "cell_type": "heading",
     "level": 1,
     "metadata": {},
     "source": [
      "Homework #1"
     ]
    },
    {
     "cell_type": "code",
     "collapsed": false,
     "input": [
      "dir_path <- '/vagrant/03_Getting_and_Cleaning_Data/getdata_week_1/quizz_data'\n",
      "\n",
      "if (!file.exists(dir_path)) { dir.create(dir_path) }\n",
      "\n",
      "setwd(dir_path)\n",
      "getwd()"
     ],
     "language": "python",
     "metadata": {},
     "outputs": [
      {
       "metadata": {},
       "output_type": "pyout",
       "prompt_number": 1,
       "text": [
        "[1] \"/vagrant/03_Getting_and_Cleaning_Data/getdata_week_1/quizz_data\""
       ]
      }
     ],
     "prompt_number": 1
    },
    {
     "cell_type": "heading",
     "level": 2,
     "metadata": {},
     "source": [
      "Question 1"
     ]
    },
    {
     "cell_type": "markdown",
     "metadata": {},
     "source": [
      "The American Community Survey distributes downloadable data about United States communities. Download the 2006 microdata survey about housing for the state of Idaho.\n",
      "\n",
      "How many properties are worth $1,000,000 or more?\n",
      "* 2076\n",
      "* 53\n",
      "* 164\n",
      "* 159"
     ]
    },
    {
     "cell_type": "code",
     "collapsed": false,
     "input": [
      "dataUrl <- 'https://d396qusza40orc.cloudfront.net/getdata%2Fdata%2Fss06hid.csv'\n",
      "download.file(dataUrl, \n",
      "              destfile = './getdata-data-ss06hid.csv', \n",
      "              method = 'wget')\n",
      "\n",
      "metadataUrl <- 'https://d396qusza40orc.cloudfront.net/getdata%2Fdata%2FPUMSDataDict06.pdf'\n",
      "download.file(metadataUrl, \n",
      "              destfile = './getdata-data-PUMSDataDict06.pdf', \n",
      "              method = 'wget')\n",
      "\n",
      "dateDownloaded <- date()"
     ],
     "language": "python",
     "metadata": {},
     "outputs": [],
     "prompt_number": 2
    },
    {
     "cell_type": "code",
     "collapsed": false,
     "input": [
      "dateDownloaded"
     ],
     "language": "python",
     "metadata": {},
     "outputs": [
      {
       "metadata": {},
       "output_type": "pyout",
       "prompt_number": 3,
       "text": [
        "[1] \"Wed Nov 26 14:02:09 2014\""
       ]
      }
     ],
     "prompt_number": 3
    },
    {
     "cell_type": "markdown",
     "metadata": {},
     "source": [
      "```\n",
      "VAL 2 \n",
      " Property value\n",
      " bb .N/A (GQ/rental unit/vacant, not for sale only)\n",
      " 01 .Less than $ 10000\n",
      " 02 .$ 10000 - $ 14999\n",
      " 03 .$ 15000 - $ 19999\n",
      " 04 .$ 20000 - $ 24999\n",
      " 05 .$ 25000 - $ 29999\n",
      " 06 .$ 30000 - $ 34999\n",
      " 07 .$ 35000 - $ 39999\n",
      " 08 .$ 40000 - $ 49999\n",
      " 09 .$ 50000 - $ 59999\n",
      " 10 .$ 60000 - $ 69999\n",
      " 11 .$ 70000 - $ 79999\n",
      " 12 .$ 80000 - $ 89999\n",
      " 13 .$ 90000 - $ 99999\n",
      " 14 .$100000 - $124999\n",
      " 15 .$125000 - $149999\n",
      " 16 .$150000 - $174999\n",
      " 17 .$175000 - $199999\n",
      " 18 .$200000 - $249999\n",
      " 19 .$250000 - $299999\n",
      " 20 .$300000 - $399999\n",
      " 21 .$400000 - $499999\n",
      " 22 .$500000 - $749999\n",
      " 23 .$750000 - $999999\n",
      " 24 .$1000000+\n",
      "```"
     ]
    },
    {
     "cell_type": "code",
     "collapsed": false,
     "input": [
      "housingData <- read.csv('./getdata-data-ss06hid.csv')"
     ],
     "language": "python",
     "metadata": {},
     "outputs": [],
     "prompt_number": 4
    },
    {
     "cell_type": "code",
     "collapsed": false,
     "input": [
      "table(housingData$VAL)"
     ],
     "language": "python",
     "metadata": {},
     "outputs": [
      {
       "metadata": {},
       "output_type": "pyout",
       "prompt_number": 5,
       "text": [
        "\n",
        "  1   2   3   4   5   6   7   8   9  10  11  12  13  14  15  16  17  18  19  20 \n",
        " 75  42  33  30  26  29  23  70  99 119 152 199 233 495 483 486 357 502 232 312 \n",
        " 21  22  23  24 \n",
        "164 159  47  53 "
       ]
      }
     ],
     "prompt_number": 5
    },
    {
     "cell_type": "markdown",
     "metadata": {},
     "source": [
      "---"
     ]
    },
    {
     "cell_type": "heading",
     "level": 2,
     "metadata": {},
     "source": [
      "Question 2"
     ]
    },
    {
     "cell_type": "markdown",
     "metadata": {},
     "source": [
      "Use the data you loaded from Question 1. Consider the variable FES in the code book. Which of the \"tidy data\" principles does this variable violate?\n",
      "* Tidy data has variable values that are internally consistent.\n",
      "* **Tidy data has one variable per column.**\n",
      "* Each variable in a tidy data set has been transformed to be interpretable.\n",
      "* Each tidy data table contains information about only one type of observation."
     ]
    },
    {
     "cell_type": "markdown",
     "metadata": {},
     "source": [
      "```\n",
      "FES        1 \n",
      "    Family type and employment status \n",
      "           b .N/A (GQ/vacant/not a family)\n",
      "           1 .Married-couple family: Husband and wife in LF\n",
      "           2 .Married-couple family: Husband in labor force, wife not in LF\n",
      "           3 .Married-couple family: Husband not in LF, wife in LF\n",
      "           4 .Married-couple family: Neither husband nor wife in LF\n",
      "           5 .Other family: Male householder, no wife present, in LF\n",
      "           6 .Other family: Male householder, no wife present, not in LF\n",
      "           7 .Other family: Female householder, no husband present, in LF\n",
      "           8 .Other family: Female householder, no husband present, not in LF\n",
      "```"
     ]
    },
    {
     "cell_type": "markdown",
     "metadata": {},
     "source": [
      "---"
     ]
    },
    {
     "cell_type": "heading",
     "level": 2,
     "metadata": {},
     "source": [
      "Question 3"
     ]
    },
    {
     "cell_type": "code",
     "collapsed": false,
     "input": [
      "# Natural Gas Aquisition Program \n",
      "# original data source: http://catalog.data.gov/dataset/natural-gas-acquisition-program \n",
      "\n",
      "metadataUrl <- 'https://d396qusza40orc.cloudfront.net/getdata%2Fdata%2FDATA.gov_NGAP.xlsx'\n",
      "download.file(metadataUrl, \n",
      "              destfile = './getdata-data-DATA.gov_NGAP.xlsx', \n",
      "              method = 'wget')\n",
      "\n",
      "dateDownloaded <- date()"
     ],
     "language": "python",
     "metadata": {},
     "outputs": [],
     "prompt_number": 6
    },
    {
     "cell_type": "code",
     "collapsed": false,
     "input": [
      "dateDownloaded"
     ],
     "language": "python",
     "metadata": {},
     "outputs": [
      {
       "metadata": {},
       "output_type": "pyout",
       "prompt_number": 7,
       "text": [
        "[1] \"Wed Nov 26 14:03:01 2014\""
       ]
      }
     ],
     "prompt_number": 7
    },
    {
     "cell_type": "markdown",
     "metadata": {},
     "source": [
      "Read rows 18-23 and columns 7-15 into R and assign the result to a variable called `dat`\n",
      "\n",
      "What is the value of `sum(dat$Zip*dat$Ext,na.rm=T)`"
     ]
    },
    {
     "cell_type": "code",
     "collapsed": false,
     "input": [
      "library(xlsx)"
     ],
     "language": "python",
     "metadata": {},
     "outputs": [
      {
       "output_type": "stream",
       "stream": "stderr",
       "text": [
        "Loading required package: rJava\n"
       ]
      },
      {
       "output_type": "stream",
       "stream": "stderr",
       "text": [
        "Loading required package: xlsxjars\n"
       ]
      }
     ],
     "prompt_number": 8
    },
    {
     "cell_type": "code",
     "collapsed": false,
     "input": [
      "colIndex <- 7:15\n",
      "rowIndex <- 18:23\n",
      "    \n",
      "dat <- read.xlsx('./getdata-data-DATA.gov_NGAP.xlsx', \n",
      "                 sheetIndex = 1, \n",
      "                 colIndex = colIndex, \n",
      "                 rowIndex = rowIndex)"
     ],
     "language": "python",
     "metadata": {},
     "outputs": [],
     "prompt_number": 9
    },
    {
     "cell_type": "code",
     "collapsed": false,
     "input": [
      "sum(dat$Zip*dat$Ext, na.rm = T)"
     ],
     "language": "python",
     "metadata": {},
     "outputs": [
      {
       "metadata": {},
       "output_type": "pyout",
       "prompt_number": 10,
       "text": [
        "[1] 36534720"
       ]
      }
     ],
     "prompt_number": 10
    },
    {
     "cell_type": "markdown",
     "metadata": {},
     "source": [
      "---"
     ]
    },
    {
     "cell_type": "heading",
     "level": 2,
     "metadata": {},
     "source": [
      "Question 4"
     ]
    },
    {
     "cell_type": "markdown",
     "metadata": {},
     "source": [
      "Read [the XML data on Baltimore restaurants](https://d396qusza40orc.cloudfront.net/getdata%2Fdata%2Frestaurants.xml). How many restaurants have zipcode 21231?\n",
      "* 130\n",
      "* 28\n",
      "* 181\n",
      "* 127"
     ]
    },
    {
     "cell_type": "code",
     "collapsed": false,
     "input": [
      "library(XML)"
     ],
     "language": "python",
     "metadata": {},
     "outputs": [],
     "prompt_number": 11
    },
    {
     "cell_type": "code",
     "collapsed": false,
     "input": [
      "restaurantsUrl <- 'https://d396qusza40orc.cloudfront.net/getdata%2Fdata%2Frestaurants.xml'\n",
      "download.file(restaurantsUrl,\n",
      "              destfile = './getdata-data-restaurants.xml',\n",
      "              method = 'wget')\n",
      "\n",
      "xml <- xmlTreeParse('./getdata-data-restaurants.xml', useInternal = TRUE)\n",
      "\n",
      "dateDownloaded <- date()\n",
      "dateDownloaded"
     ],
     "language": "python",
     "metadata": {},
     "outputs": [
      {
       "metadata": {},
       "output_type": "pyout",
       "prompt_number": 13,
       "text": [
        "[1] \"Wed Nov 26 14:05:37 2014\""
       ]
      }
     ],
     "prompt_number": 13
    },
    {
     "cell_type": "code",
     "collapsed": false,
     "input": [
      "length(xpathSApply(xml, '//zipcode[.=21231]'))"
     ],
     "language": "python",
     "metadata": {},
     "outputs": [
      {
       "metadata": {},
       "output_type": "pyout",
       "prompt_number": 14,
       "text": [
        "[1] 127"
       ]
      }
     ],
     "prompt_number": 14
    },
    {
     "cell_type": "markdown",
     "metadata": {},
     "source": [
      "---"
     ]
    },
    {
     "cell_type": "heading",
     "level": 2,
     "metadata": {},
     "source": [
      "Question 5"
     ]
    },
    {
     "cell_type": "markdown",
     "metadata": {},
     "source": [
      "The American Community Survey distributes downloadable data about United States communities. Download the 2006 microdata survey about housing for the state of Idaho using download.file() from here: \n",
      "\n",
      "https://d396qusza40orc.cloudfront.net/getdata%2Fdata%2Fss06pid.csv \n",
      "\n",
      "using the `fread()` command load the data into an R object\n",
      "```\n",
      "DT\n",
      "```\n",
      "Which of the following is the fastest way to calculate the average value of the variable\n",
      "```\n",
      "pwgtp15\n",
      "```\n",
      "broken down by sex using the data.table package?\n",
      "\n",
      "* **`DT[,mean(pwgtp15),by=SEX]`**\n",
      "* `mean(DT$pwgtp15,by=DT$SEX)`\n",
      "* `tapply(DT$pwgtp15,DT$SEX,mean)`\n",
      "* `mean(DT[DT$SEX==1,]$pwgtp15); mean(DT[DT$SEX==2,]$pwgtp15)`\n",
      "* `rowMeans(DT)[DT$SEX==1]; rowMeans(DT)[DT$SEX==2]`\n",
      "* `sapply(split(DT$pwgtp15,DT$SEX),mean)`"
     ]
    },
    {
     "cell_type": "code",
     "collapsed": false,
     "input": [
      "dataUrl <- 'https://d396qusza40orc.cloudfront.net/getdata%2Fdata%2Fss06pid.csv'\n",
      "download.file(dataUrl, \n",
      "              destfile = './getdata-data-ss06pid.csv', \n",
      "              method = 'wget')\n",
      "\n",
      "dateDownloaded <- date()"
     ],
     "language": "python",
     "metadata": {},
     "outputs": [],
     "prompt_number": 17
    },
    {
     "cell_type": "code",
     "collapsed": false,
     "input": [
      "library(data.table)"
     ],
     "language": "python",
     "metadata": {},
     "outputs": [],
     "prompt_number": 18
    },
    {
     "cell_type": "code",
     "collapsed": false,
     "input": [
      "DT <- fread('./getdata-data-ss06pid.csv')"
     ],
     "language": "python",
     "metadata": {},
     "outputs": [],
     "prompt_number": 19
    },
    {
     "cell_type": "heading",
     "level": 3,
     "metadata": {},
     "source": [
      "`DT[,mean(pwgtp15),by=SEX]`"
     ]
    },
    {
     "cell_type": "code",
     "collapsed": false,
     "input": [
      "DT[,mean(pwgtp15),by=SEX]"
     ],
     "language": "python",
     "metadata": {},
     "outputs": [
      {
       "metadata": {},
       "output_type": "pyout",
       "prompt_number": 20,
       "text": [
        "   SEX       V1\n",
        "1:   1 99.80667\n",
        "2:   2 96.66534"
       ]
      }
     ],
     "prompt_number": 20
    },
    {
     "cell_type": "code",
     "collapsed": false,
     "input": [
      "system.time(DT[,mean(pwgtp15),by=SEX])"
     ],
     "language": "python",
     "metadata": {},
     "outputs": [
      {
       "metadata": {},
       "output_type": "pyout",
       "prompt_number": 21,
       "text": [
        "   user  system elapsed \n",
        "  0.002   0.000   0.002 "
       ]
      }
     ],
     "prompt_number": 21
    },
    {
     "cell_type": "heading",
     "level": 3,
     "metadata": {},
     "source": [
      "`mean(DT$pwgtp15,by=DT$SEX)`"
     ]
    },
    {
     "cell_type": "code",
     "collapsed": false,
     "input": [
      "mean(DT$pwgtp15,by=DT$SEX)"
     ],
     "language": "python",
     "metadata": {},
     "outputs": [
      {
       "metadata": {},
       "output_type": "pyout",
       "prompt_number": 22,
       "text": [
        "[1] 98.21613"
       ]
      }
     ],
     "prompt_number": 22
    },
    {
     "cell_type": "heading",
     "level": 3,
     "metadata": {},
     "source": [
      "`tapply(DT$pwgtp15,DT$SEX,mean)`"
     ]
    },
    {
     "cell_type": "code",
     "collapsed": false,
     "input": [
      "tapply(DT$pwgtp15,DT$SEX,mean)"
     ],
     "language": "python",
     "metadata": {},
     "outputs": [
      {
       "metadata": {},
       "output_type": "pyout",
       "prompt_number": 23,
       "text": [
        "       1        2 \n",
        "99.80667 96.66534 "
       ]
      }
     ],
     "prompt_number": 23
    },
    {
     "cell_type": "code",
     "collapsed": false,
     "input": [
      "system.time(tapply(DT$pwgtp15,DT$SEX,mean))"
     ],
     "language": "python",
     "metadata": {},
     "outputs": [
      {
       "metadata": {},
       "output_type": "pyout",
       "prompt_number": 24,
       "text": [
        "   user  system elapsed \n",
        "  0.002   0.000   0.001 "
       ]
      }
     ],
     "prompt_number": 24
    },
    {
     "cell_type": "heading",
     "level": 3,
     "metadata": {},
     "source": [
      "`mean(DT[DT$SEX==1,]$pwgtp15); mean(DT[DT$SEX==2,]$pwgtp15)`"
     ]
    },
    {
     "cell_type": "code",
     "collapsed": false,
     "input": [
      "mean(DT[DT$SEX==1,]$pwgtp15); mean(DT[DT$SEX==2,]$pwgtp15)"
     ],
     "language": "python",
     "metadata": {},
     "outputs": [
      {
       "metadata": {},
       "output_type": "pyout",
       "prompt_number": 25,
       "text": [
        "[1] 99.80667"
       ]
      },
      {
       "metadata": {},
       "output_type": "pyout",
       "prompt_number": 25,
       "text": [
        "[1] 96.66534"
       ]
      }
     ],
     "prompt_number": 25
    },
    {
     "cell_type": "code",
     "collapsed": false,
     "input": [
      "system.time(mean(DT[DT$SEX==1,]$pwgtp15))"
     ],
     "language": "python",
     "metadata": {},
     "outputs": [
      {
       "metadata": {},
       "output_type": "pyout",
       "prompt_number": 26,
       "text": [
        "   user  system elapsed \n",
        "  0.032   0.000   0.032 "
       ]
      }
     ],
     "prompt_number": 26
    },
    {
     "cell_type": "heading",
     "level": 3,
     "metadata": {},
     "source": [
      "`rowMeans(DT)[DT$SEX==1]; rowMeans(DT)[DT$SEX==2]`"
     ]
    },
    {
     "cell_type": "code",
     "collapsed": false,
     "input": [
      "rowMeans(DT)[DT$SEX==1]; rowMeans(DT)[DT$SEX==2]"
     ],
     "language": "python",
     "metadata": {},
     "outputs": [
      {
       "ename": "ERROR",
       "evalue": "Error in rowMeans(DT): 'x' must be numeric\n",
       "output_type": "pyerr",
       "traceback": [
        "Error in rowMeans(DT): 'x' must be numeric\n"
       ]
      },
      {
       "ename": "ERROR",
       "evalue": "Error in rowMeans(DT): 'x' must be numeric\n",
       "output_type": "pyerr",
       "traceback": [
        "Error in rowMeans(DT): 'x' must be numeric\n"
       ]
      }
     ],
     "prompt_number": 27
    },
    {
     "cell_type": "heading",
     "level": 3,
     "metadata": {},
     "source": [
      "`sapply(split(DT$pwgtp15,DT$SEX),mean)`"
     ]
    },
    {
     "cell_type": "code",
     "collapsed": false,
     "input": [
      "sapply(split(DT$pwgtp15,DT$SEX),mean)"
     ],
     "language": "python",
     "metadata": {},
     "outputs": [
      {
       "metadata": {},
       "output_type": "pyout",
       "prompt_number": 28,
       "text": [
        "       1        2 \n",
        "99.80667 96.66534 "
       ]
      }
     ],
     "prompt_number": 28
    },
    {
     "cell_type": "code",
     "collapsed": false,
     "input": [
      "system.time(sapply(split(DT$pwgtp15,DT$SEX),mean))"
     ],
     "language": "python",
     "metadata": {},
     "outputs": [
      {
       "metadata": {},
       "output_type": "pyout",
       "prompt_number": 29,
       "text": [
        "   user  system elapsed \n",
        "  0.001   0.000   0.002 "
       ]
      }
     ],
     "prompt_number": 29
    },
    {
     "cell_type": "markdown",
     "metadata": {},
     "source": [
      "---"
     ]
    }
   ],
   "metadata": {}
  }
 ]
}