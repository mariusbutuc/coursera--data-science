{
 "metadata": {
  "name": "",
  "signature": "sha256:a8652b390b4f9a61691d0b6c3b2996c93ec0f02768a080d149c05432baa69f5e"
 },
 "nbformat": 3,
 "nbformat_minor": 0,
 "worksheets": [
  {
   "cells": [
    {
     "cell_type": "markdown",
     "metadata": {},
     "source": [
      "Quick jump to:\n",
      "  * [Subsetting and Sorting](#Subsetting-and-Sorting)\n",
      "  * [Summarizing Data](#Summarizing-Data)\n",
      "  * [Creating New Variables](#Creating-New-Variables)\n",
      "  * [Reshaping Data](#Reshaping-Data)\n",
      "  * [Merging Data](#Merging-Data)"
     ]
    },
    {
     "cell_type": "heading",
     "level": 2,
     "metadata": {},
     "source": [
      "Subsetting and Sorting"
     ]
    },
    {
     "cell_type": "heading",
     "level": 3,
     "metadata": {},
     "source": [
      "Subsetting \u2014 quick review"
     ]
    },
    {
     "cell_type": "code",
     "collapsed": false,
     "input": [
      "set.seed(13435)\n",
      "\n",
      "# create a DF with 3 variables\n",
      "df <- data.frame(\n",
      "  'var1' = sample(1:5),\n",
      "  'var2' = sample(6:10),\n",
      "  'var3' = sample(11:15)\n",
      ")\n",
      "\n",
      "df"
     ],
     "language": "python",
     "metadata": {},
     "outputs": [
      {
       "metadata": {},
       "output_type": "pyout",
       "prompt_number": 1,
       "text": [
        "  var1 var2 var3\n",
        "1    2    8   15\n",
        "2    3    7   12\n",
        "3    5    6   14\n",
        "4    1   10   11\n",
        "5    4    9   13"
       ]
      }
     ],
     "prompt_number": 1
    },
    {
     "cell_type": "code",
     "collapsed": false,
     "input": [
      "# scramble the variables so they are not in a specific order\n",
      "df <- df[sample(1:5), ]\n",
      "\n",
      "df"
     ],
     "language": "python",
     "metadata": {},
     "outputs": [
      {
       "metadata": {},
       "output_type": "pyout",
       "prompt_number": 2,
       "text": [
        "  var1 var2 var3\n",
        "1    2    8   15\n",
        "4    1   10   11\n",
        "2    3    7   12\n",
        "3    5    6   14\n",
        "5    4    9   13"
       ]
      }
     ],
     "prompt_number": 2
    },
    {
     "cell_type": "code",
     "collapsed": false,
     "input": [
      "# make some of the values be missing\n",
      "df$var2[c(1, 3)] = NA\n",
      "\n",
      "df"
     ],
     "language": "python",
     "metadata": {},
     "outputs": [
      {
       "metadata": {},
       "output_type": "pyout",
       "prompt_number": 3,
       "text": [
        "  var1 var2 var3\n",
        "1    2   NA   15\n",
        "4    1   10   11\n",
        "2    3   NA   12\n",
        "3    5    6   14\n",
        "5    4    9   13"
       ]
      }
     ],
     "prompt_number": 3
    },
    {
     "cell_type": "code",
     "collapsed": false,
     "input": [
      "# subset a specific column, by index\n",
      "df[, 1]"
     ],
     "language": "python",
     "metadata": {},
     "outputs": [
      {
       "metadata": {},
       "output_type": "pyout",
       "prompt_number": 4,
       "text": [
        "[1] 2 1 3 5 4"
       ]
      }
     ],
     "prompt_number": 4
    },
    {
     "cell_type": "code",
     "collapsed": false,
     "input": [
      "# subset a specific column, by name\n",
      "df[, 'var1']"
     ],
     "language": "python",
     "metadata": {},
     "outputs": [
      {
       "metadata": {},
       "output_type": "pyout",
       "prompt_number": 5,
       "text": [
        "[1] 2 1 3 5 4"
       ]
      }
     ],
     "prompt_number": 5
    },
    {
     "cell_type": "code",
     "collapsed": false,
     "input": [
      "# subset by both rows and columns\n",
      "df[1:2, 'var2']"
     ],
     "language": "python",
     "metadata": {},
     "outputs": [
      {
       "metadata": {},
       "output_type": "pyout",
       "prompt_number": 6,
       "text": [
        "[1] NA 10"
       ]
      }
     ],
     "prompt_number": 6
    },
    {
     "cell_type": "heading",
     "level": 3,
     "metadata": {},
     "source": [
      "Subset using logical statements \u2014 `$` and `|`"
     ]
    },
    {
     "cell_type": "code",
     "collapsed": false,
     "input": [
      "df[(df$var1 <= 3 & df$var3 > 11), ]"
     ],
     "language": "python",
     "metadata": {},
     "outputs": [
      {
       "metadata": {},
       "output_type": "pyout",
       "prompt_number": 7,
       "text": [
        "  var1 var2 var3\n",
        "1    2   NA   15\n",
        "2    3   NA   12"
       ]
      }
     ],
     "prompt_number": 7
    },
    {
     "cell_type": "code",
     "collapsed": false,
     "input": [
      "df[(df$var1 <= 3 | df$var3 > 15), ]"
     ],
     "language": "python",
     "metadata": {},
     "outputs": [
      {
       "metadata": {},
       "output_type": "pyout",
       "prompt_number": 8,
       "text": [
        "  var1 var2 var3\n",
        "1    2   NA   15\n",
        "4    1   10   11\n",
        "2    3   NA   12"
       ]
      }
     ],
     "prompt_number": 8
    },
    {
     "cell_type": "heading",
     "level": 3,
     "metadata": {},
     "source": [
      "Dealing with missing values \u2014 `which()`"
     ]
    },
    {
     "cell_type": "code",
     "collapsed": false,
     "input": [
      "# subsetting on NAs will not produce actual rows\n",
      "\n",
      "df[(df$var2 > 8), ]"
     ],
     "language": "python",
     "metadata": {},
     "outputs": [
      {
       "metadata": {},
       "output_type": "pyout",
       "prompt_number": 14,
       "text": [
        "     var1 var2 var3\n",
        "NA     NA   NA   NA\n",
        "4       1   10   11\n",
        "NA.1   NA   NA   NA\n",
        "5       4    9   13"
       ]
      }
     ],
     "prompt_number": 14
    },
    {
     "cell_type": "code",
     "collapsed": false,
     "input": [
      "# which() \n",
      "#   * only returns the indices where the condintion is met\n",
      "#   * doesn't return NAs, so you can subset the data set\n",
      "\n",
      "df[which(df$var2 > 8), ]"
     ],
     "language": "python",
     "metadata": {},
     "outputs": [
      {
       "metadata": {},
       "output_type": "pyout",
       "prompt_number": 15,
       "text": [
        "  var1 var2 var3\n",
        "4    1   10   11\n",
        "5    4    9   13"
       ]
      }
     ],
     "prompt_number": 15
    },
    {
     "cell_type": "heading",
     "level": 3,
     "metadata": {},
     "source": [
      "Sorting"
     ]
    },
    {
     "cell_type": "code",
     "collapsed": false,
     "input": [
      "sort(df$var1)"
     ],
     "language": "python",
     "metadata": {},
     "outputs": [
      {
       "metadata": {},
       "output_type": "pyout",
       "prompt_number": 16,
       "text": [
        "[1] 1 2 3 4 5"
       ]
      }
     ],
     "prompt_number": 16
    },
    {
     "cell_type": "code",
     "collapsed": false,
     "input": [
      "sort(df$var1, decreasing = TRUE)"
     ],
     "language": "python",
     "metadata": {},
     "outputs": [
      {
       "metadata": {},
       "output_type": "pyout",
       "prompt_number": 17,
       "text": [
        "[1] 5 4 3 2 1"
       ]
      }
     ],
     "prompt_number": 17
    },
    {
     "cell_type": "code",
     "collapsed": false,
     "input": [
      "# skips NAs by default\n",
      "\n",
      "sort(df$var2)"
     ],
     "language": "python",
     "metadata": {},
     "outputs": [
      {
       "metadata": {},
       "output_type": "pyout",
       "prompt_number": 20,
       "text": [
        "[1]  6  9 10"
       ]
      }
     ],
     "prompt_number": 20
    },
    {
     "cell_type": "code",
     "collapsed": false,
     "input": [
      "# but NAs can be preserved, at the end\n",
      "\n",
      "sort(df$var2, na.last = TRUE)"
     ],
     "language": "python",
     "metadata": {},
     "outputs": [
      {
       "metadata": {},
       "output_type": "pyout",
       "prompt_number": 21,
       "text": [
        "[1]  6  9 10 NA NA"
       ]
      }
     ],
     "prompt_number": 21
    },
    {
     "cell_type": "heading",
     "level": 3,
     "metadata": {},
     "source": [
      "Ordering"
     ]
    },
    {
     "cell_type": "code",
     "collapsed": false,
     "input": [
      "# order a DF by a particular variable\n",
      "\n",
      "df[order(df$var1), ]"
     ],
     "language": "python",
     "metadata": {},
     "outputs": [
      {
       "metadata": {},
       "output_type": "pyout",
       "prompt_number": 22,
       "text": [
        "  var1 var2 var3\n",
        "4    1   10   11\n",
        "1    2   NA   15\n",
        "2    3   NA   12\n",
        "5    4    9   13\n",
        "3    5    6   14"
       ]
      }
     ],
     "prompt_number": 22
    },
    {
     "cell_type": "code",
     "collapsed": false,
     "input": [
      "# one can also order by multiple variables\n",
      "#   * for duplicate values of var1, sort by var3\n",
      "\n",
      "df[order(df$var1, df$var3), ]"
     ],
     "language": "python",
     "metadata": {},
     "outputs": [
      {
       "metadata": {},
       "output_type": "pyout",
       "prompt_number": 23,
       "text": [
        "  var1 var2 var3\n",
        "4    1   10   11\n",
        "1    2   NA   15\n",
        "2    3   NA   12\n",
        "5    4    9   13\n",
        "3    5    6   14"
       ]
      }
     ],
     "prompt_number": 23
    },
    {
     "cell_type": "heading",
     "level": 3,
     "metadata": {},
     "source": [
      "Ordering with the `plyr` package"
     ]
    },
    {
     "cell_type": "code",
     "collapsed": false,
     "input": [
      "library(plyr)\n",
      "arrange(df, var1) # takes in a DF and a variable to sort the DF on"
     ],
     "language": "python",
     "metadata": {},
     "outputs": [
      {
       "metadata": {},
       "output_type": "pyout",
       "prompt_number": 24,
       "text": [
        "  var1 var2 var3\n",
        "1    1   10   11\n",
        "2    2   NA   15\n",
        "3    3   NA   12\n",
        "4    4    9   13\n",
        "5    5    6   14"
       ]
      }
     ],
     "prompt_number": 24
    },
    {
     "cell_type": "code",
     "collapsed": false,
     "input": [
      "arrange(df, desc(var1))"
     ],
     "language": "python",
     "metadata": {},
     "outputs": [
      {
       "metadata": {},
       "output_type": "pyout",
       "prompt_number": 25,
       "text": [
        "  var1 var2 var3\n",
        "1    5    6   14\n",
        "2    4    9   13\n",
        "3    3   NA   12\n",
        "4    2   NA   15\n",
        "5    1   10   11"
       ]
      }
     ],
     "prompt_number": 25
    },
    {
     "cell_type": "heading",
     "level": 3,
     "metadata": {},
     "source": [
      "Adding rows and columns to DFs"
     ]
    },
    {
     "cell_type": "code",
     "collapsed": false,
     "input": [
      "df$var4 <- rnorm(5)\n",
      "\n",
      "df"
     ],
     "language": "python",
     "metadata": {},
     "outputs": [
      {
       "metadata": {},
       "output_type": "pyout",
       "prompt_number": 27,
       "text": [
        "  var1 var2 var3        var4\n",
        "1    2   NA   15  0.62578490\n",
        "4    1   10   11 -2.45083750\n",
        "2    3   NA   12  0.08909424\n",
        "3    5    6   14  0.47838570\n",
        "5    4    9   13  1.00053336"
       ]
      }
     ],
     "prompt_number": 27
    },
    {
     "cell_type": "code",
     "collapsed": false,
     "input": [
      "df2 <- cbind(df, rnorm(5)) # binds the coumn to the left...\n",
      "\n",
      "df2"
     ],
     "language": "python",
     "metadata": {},
     "outputs": [
      {
       "metadata": {},
       "output_type": "pyout",
       "prompt_number": 28,
       "text": [
        "  var1 var2 var3        var4   rnorm(5)\n",
        "1    2   NA   15  0.62578490  0.5439561\n",
        "4    1   10   11 -2.45083750  0.3304796\n",
        "2    3   NA   12  0.08909424 -0.9710917\n",
        "3    5    6   14  0.47838570 -0.9446847\n",
        "5    4    9   13  1.00053336 -0.2967423"
       ]
      }
     ],
     "prompt_number": 28
    },
    {
     "cell_type": "code",
     "collapsed": false,
     "input": [
      "df1 <- cbind(rnorm(5), df) # binds the coumn to the right...\n",
      "\n",
      "df1"
     ],
     "language": "python",
     "metadata": {},
     "outputs": [
      {
       "metadata": {},
       "output_type": "pyout",
       "prompt_number": 29,
       "text": [
        "    rnorm(5) var1 var2 var3        var4\n",
        "1  1.1495053    2   NA   15  0.62578490\n",
        "4 -0.8705105    1   10   11 -2.45083750\n",
        "2 -0.9870139    3   NA   12  0.08909424\n",
        "3  0.3262530    5    6   14  0.47838570\n",
        "5 -1.1025739    4    9   13  1.00053336"
       ]
      }
     ],
     "prompt_number": 29
    },
    {
     "cell_type": "heading",
     "level": 3,
     "metadata": {},
     "source": [
      "Further references"
     ]
    },
    {
     "cell_type": "markdown",
     "metadata": {},
     "source": [
      "* R Programming\n",
      "* Andrew Jaffe's lecture notes"
     ]
    },
    {
     "cell_type": "markdown",
     "metadata": {},
     "source": [
      "---"
     ]
    },
    {
     "cell_type": "heading",
     "level": 2,
     "metadata": {},
     "source": [
      "Summarizing Data"
     ]
    },
    {
     "cell_type": "markdown",
     "metadata": {},
     "source": [
      "### Data cleaning: key processes\n",
      "1. look at the dataset loaded into R\n",
      "2. identify quirks / weird issues / missing values / other problems\n",
      "3. these need to be addressed before doing downstream analysis"
     ]
    },
    {
     "cell_type": "heading",
     "level": 3,
     "metadata": {},
     "source": [
      "Example data set: restaurants in Baltimore"
     ]
    },
    {
     "cell_type": "code",
     "collapsed": false,
     "input": [
      "setwd('/vagrant/03_Getting_and_Cleaning_Data/getdata_week_3')\n",
      "if(!file.exists('./data')){ dir.create('./data') }"
     ],
     "language": "python",
     "metadata": {},
     "outputs": [],
     "prompt_number": 1
    },
    {
     "cell_type": "code",
     "collapsed": false,
     "input": [
      "fileUrl <- 'https://data.BaltimoreCity.gov/api/views/k5ry-ef3g/rows.csv?accessType=DOWNLOAD'\n",
      "download.file(fileUrl, destfile = './data/restaurants.csv', method = 'wget')\n",
      "\n",
      "dateDownloaded <- date()\n",
      "dateDownloaded"
     ],
     "language": "python",
     "metadata": {},
     "outputs": [
      {
       "metadata": {},
       "output_type": "pyout",
       "prompt_number": 2,
       "text": [
        "[1] \"Wed Nov 26 15:37:04 2014\""
       ]
      }
     ],
     "prompt_number": 2
    },
    {
     "cell_type": "heading",
     "level": 3,
     "metadata": {},
     "source": [
      "Look at a bit of the data"
     ]
    },
    {
     "cell_type": "code",
     "collapsed": false,
     "input": [
      "restData <- read.csv('./data/restaurants.csv')"
     ],
     "language": "python",
     "metadata": {},
     "outputs": [],
     "prompt_number": 3
    },
    {
     "cell_type": "code",
     "collapsed": false,
     "input": [
      "head(restData, n = 3)"
     ],
     "language": "python",
     "metadata": {},
     "outputs": [
      {
       "metadata": {},
       "output_type": "pyout",
       "prompt_number": 4,
       "text": [
        "   name zipCode neighborhood councilDistrict policeDistrict\n",
        "1   410   21206    Frankford               2   NORTHEASTERN\n",
        "2  1919   21231  Fells Point               1   SOUTHEASTERN\n",
        "3 SAUTE   21224       Canton               1   SOUTHEASTERN\n",
        "                         Location.1\n",
        "1 4509 BELAIR ROAD\\nBaltimore, MD\\n\n",
        "2    1919 FLEET ST\\nBaltimore, MD\\n\n",
        "3   2844 HUDSON ST\\nBaltimore, MD\\n"
       ]
      }
     ],
     "prompt_number": 4
    },
    {
     "cell_type": "code",
     "collapsed": false,
     "input": [
      "tail(restData, n = 3)"
     ],
     "language": "python",
     "metadata": {},
     "outputs": [
      {
       "metadata": {},
       "output_type": "pyout",
       "prompt_number": 5,
       "text": [
        "                 name zipCode  neighborhood councilDistrict policeDistrict\n",
        "1325 ZINK'S CAF\\u0090   21213 Belair-Edison              13   NORTHEASTERN\n",
        "1326     ZISSIMOS BAR   21211       Hampden               7       NORTHERN\n",
        "1327           ZORBAS   21224     Greektown               2   SOUTHEASTERN\n",
        "                             Location.1\n",
        "1325 3300 LAWNVIEW AVE\\nBaltimore, MD\\n\n",
        "1326      1023 36TH ST\\nBaltimore, MD\\n\n",
        "1327  4710 EASTERN Ave\\nBaltimore, MD\\n"
       ]
      }
     ],
     "prompt_number": 5
    },
    {
     "cell_type": "heading",
     "level": 3,
     "metadata": {},
     "source": [
      "Make Summary \u2014 `summary()`"
     ]
    },
    {
     "cell_type": "code",
     "collapsed": false,
     "input": [
      "# get an overall summary of the data set that we have\n",
      "#   * for factors / text-based variables \u2014 the count\n",
      "#   * for quantitative variables \u2014 min, 1Q, median, mean, 3Q, max \n",
      "#      * negative ZIP code?!?\n",
      "\n",
      "summary(restData)"
     ],
     "language": "python",
     "metadata": {},
     "outputs": [
      {
       "metadata": {},
       "output_type": "pyout",
       "prompt_number": 6,
       "text": [
        "                           name         zipCode             neighborhood\n",
        " MCDONALD'S                  :   8   Min.   :-21226   Downtown    :128  \n",
        " POPEYES FAMOUS FRIED CHICKEN:   7   1st Qu.: 21202   Fells Point : 91  \n",
        " SUBWAY                      :   6   Median : 21218   Inner Harbor: 89  \n",
        " KENTUCKY FRIED CHICKEN      :   5   Mean   : 21185   Canton      : 81  \n",
        " BURGER KING                 :   4   3rd Qu.: 21226   Federal Hill: 42  \n",
        " DUNKIN DONUTS               :   4   Max.   : 21287   Mount Vernon: 33  \n",
        " (Other)                     :1293                    (Other)     :863  \n",
        " councilDistrict       policeDistrict                        Location.1      \n",
        " Min.   : 1.000   SOUTHEASTERN:385    1101 RUSSELL ST\\nBaltimore, MD\\n:   9  \n",
        " 1st Qu.: 2.000   CENTRAL     :288    201 PRATT ST\\nBaltimore, MD\\n   :   8  \n",
        " Median : 9.000   SOUTHERN    :213    2400 BOSTON ST\\nBaltimore, MD\\n :   8  \n",
        " Mean   : 7.191   NORTHERN    :157    300 LIGHT ST\\nBaltimore, MD\\n   :   5  \n",
        " 3rd Qu.:11.000   NORTHEASTERN: 72    300 CHARLES ST\\nBaltimore, MD\\n :   4  \n",
        " Max.   :14.000   EASTERN     : 67    301 LIGHT ST\\nBaltimore, MD\\n   :   4  \n",
        "                  (Other)     :145    (Other)                         :1289  "
       ]
      }
     ],
     "prompt_number": 6
    },
    {
     "cell_type": "heading",
     "level": 3,
     "metadata": {},
     "source": [
      "More in depth info \u2014 `str()`"
     ]
    },
    {
     "cell_type": "code",
     "collapsed": false,
     "input": [
      "# the class of variable\n",
      "# the dimensions of the DF\n",
      "# the different classes that the different columns correspond to\n",
      "\n",
      "str(restData)"
     ],
     "language": "python",
     "metadata": {},
     "outputs": [
      {
       "output_type": "stream",
       "stream": "stdout",
       "text": [
        "'data.frame':\t1327 obs. of  6 variables:\n",
        " $ name           : Factor w/ 1277 levels \"1919\",\"19TH HOLE\",..: 9 1 990 3 4 2 6 7 8 5 ...\n",
        " $ zipCode        : int  21206 21231 21224 21211 21223 21218 21205 21211 21205 21231 ...\n",
        " $ neighborhood   : Factor w/ 173 levels \"Abell\",\"Arlington\",..: 53 52 18 66 104 33 98 133 98 157 ...\n",
        " $ councilDistrict: int  2 1 1 14 9 14 13 7 13 1 ...\n",
        " $ policeDistrict : Factor w/ 9 levels \"CENTRAL\",\"EASTERN\",..: 3 6 6 4 8 3 6 4 6 6 ...\n",
        " $ Location.1     : Factor w/ 1210 levels \"1000 ALICEANNA ST\\nBaltimore, MD\\n\",..: 833 324 550 755 484 532 498 525 500 571 ...\n"
       ]
      }
     ],
     "prompt_number": 7
    },
    {
     "cell_type": "heading",
     "level": 3,
     "metadata": {},
     "source": [
      "Quantiles of quantitative variables \u2014 `quantile()`"
     ]
    },
    {
     "cell_type": "code",
     "collapsed": false,
     "input": [
      "quantile(restData$councilDistrict, na.rm = TRUE)"
     ],
     "language": "python",
     "metadata": {},
     "outputs": [
      {
       "metadata": {},
       "output_type": "pyout",
       "prompt_number": 8,
       "text": [
        "  0%  25%  50%  75% 100% \n",
        "   1    2    9   11   14 "
       ]
      }
     ],
     "prompt_number": 8
    },
    {
     "cell_type": "code",
     "collapsed": false,
     "input": [
      "# custom percentiles\n",
      "\n",
      "quantile(restData$councilDistrict, probs = c(0.5, 0.75, 0.9))"
     ],
     "language": "python",
     "metadata": {},
     "outputs": [
      {
       "metadata": {},
       "output_type": "pyout",
       "prompt_number": 9,
       "text": [
        "50% 75% 90% \n",
        "  9  11  12 "
       ]
      }
     ],
     "prompt_number": 9
    },
    {
     "cell_type": "heading",
     "level": 3,
     "metadata": {},
     "source": [
      "Make `table()`"
     ]
    },
    {
     "cell_type": "code",
     "collapsed": false,
     "input": [
      "# Look ar specific variables, and make a table\n",
      "#   * only one zip code is coded as a negative value\n",
      "#   * see where the bulk ov the zip codes are\n",
      "#   * if there are any NAs, there's an added column to the table, with a count\n",
      "#      * by default, `table()` discards NAs\n",
      "\n",
      "table(restData$zipCode, useNA = 'ifany')"
     ],
     "language": "python",
     "metadata": {},
     "outputs": [
      {
       "metadata": {},
       "output_type": "pyout",
       "prompt_number": 10,
       "text": [
        "\n",
        "-21226  21201  21202  21205  21206  21207  21208  21209  21210  21211  21212 \n",
        "     1    136    201     27     30      4      1      8     23     41     28 \n",
        " 21213  21214  21215  21216  21217  21218  21220  21222  21223  21224  21225 \n",
        "    31     17     54     10     32     69      1      7     56    199     19 \n",
        " 21226  21227  21229  21230  21231  21234  21237  21239  21251  21287 \n",
        "    18      4     13    156    127      7      1      3      2      1 "
       ]
      }
     ],
     "prompt_number": 10
    },
    {
     "cell_type": "code",
     "collapsed": false,
     "input": [
      "# Two dimensional tables\n",
      "#   * get a sense of the relationship between those qualitative variables\n",
      "\n",
      "table(restData$councilDistrict, restData$zipCode)"
     ],
     "language": "python",
     "metadata": {},
     "outputs": [
      {
       "metadata": {},
       "output_type": "pyout",
       "prompt_number": 11,
       "text": [
        "    \n",
        "     -21226 21201 21202 21205 21206 21207 21208 21209 21210 21211 21212 21213\n",
        "  1       0     0    37     0     0     0     0     0     0     0     0     2\n",
        "  2       0     0     0     3    27     0     0     0     0     0     0     0\n",
        "  3       0     0     0     0     0     0     0     0     0     0     0     2\n",
        "  4       0     0     0     0     0     0     0     0     0     0    27     0\n",
        "  5       0     0     0     0     0     3     0     6     0     0     0     0\n",
        "  6       0     0     0     0     0     0     0     1    19     0     0     0\n",
        "  7       0     0     0     0     0     0     0     1     0    27     0     0\n",
        "  8       0     0     0     0     0     1     0     0     0     0     0     0\n",
        "  9       0     1     0     0     0     0     0     0     0     0     0     0\n",
        "  10      1     0     1     0     0     0     0     0     0     0     0     0\n",
        "  11      0   115   139     0     0     0     1     0     0     0     1     0\n",
        "  12      0    20    24     4     0     0     0     0     0     0     0    13\n",
        "  13      0     0     0    20     3     0     0     0     0     0     0    13\n",
        "  14      0     0     0     0     0     0     0     0     4    14     0     1\n",
        "    \n",
        "     21214 21215 21216 21217 21218 21220 21222 21223 21224 21225 21226 21227\n",
        "  1      0     0     0     0     0     0     7     0   140     1     0     0\n",
        "  2      0     0     0     0     0     0     0     0    54     0     0     0\n",
        "  3     17     0     0     0     3     0     0     0     0     0     0     1\n",
        "  4      0     0     0     0     0     0     0     0     0     0     0     0\n",
        "  5      0    31     0     0     0     0     0     0     0     0     0     0\n",
        "  6      0    15     1     0     0     0     0     0     0     0     0     0\n",
        "  7      0     6     7    15     6     0     0     0     0     0     0     0\n",
        "  8      0     0     0     0     0     0     0     2     0     0     0     2\n",
        "  9      0     0     2     8     0     0     0    53     0     0     0     0\n",
        "  10     0     0     0     0     0     1     0     0     0    18    18     0\n",
        "  11     0     0     0     9     0     0     0     1     0     0     0     0\n",
        "  12     0     0     0     0    26     0     0     0     0     0     0     0\n",
        "  13     0     1     0     0     0     0     0     0     5     0     0     1\n",
        "  14     0     1     0     0    34     0     0     0     0     0     0     0\n",
        "    \n",
        "     21229 21230 21231 21234 21237 21239 21251 21287\n",
        "  1      0     1   124     0     0     0     0     0\n",
        "  2      0     0     0     0     1     0     0     0\n",
        "  3      0     0     0     7     0     0     2     0\n",
        "  4      0     0     0     0     0     3     0     0\n",
        "  5      0     0     0     0     0     0     0     0\n",
        "  6      0     0     0     0     0     0     0     0\n",
        "  7      0     0     0     0     0     0     0     0\n",
        "  8     13     0     0     0     0     0     0     0\n",
        "  9      0    11     0     0     0     0     0     0\n",
        "  10     0   133     0     0     0     0     0     0\n",
        "  11     0    11     0     0     0     0     0     0\n",
        "  12     0     0     2     0     0     0     0     0\n",
        "  13     0     0     1     0     0     0     0     1\n",
        "  14     0     0     0     0     0     0     0     0"
       ]
      }
     ],
     "prompt_number": 11
    },
    {
     "cell_type": "heading",
     "level": 3,
     "metadata": {},
     "source": [
      "Check for missing values"
     ]
    },
    {
     "cell_type": "code",
     "collapsed": false,
     "input": [
      "is.na(restData$councilDistrict)"
     ],
     "language": "python",
     "metadata": {},
     "outputs": [
      {
       "metadata": {},
       "output_type": "pyout",
       "prompt_number": 12,
       "text": [
        "   [1] FALSE FALSE FALSE FALSE FALSE FALSE FALSE FALSE FALSE FALSE FALSE FALSE\n",
        "  [13] FALSE FALSE FALSE FALSE FALSE FALSE FALSE FALSE FALSE FALSE FALSE FALSE\n",
        "  [25] FALSE FALSE FALSE FALSE FALSE FALSE FALSE FALSE FALSE FALSE FALSE FALSE\n",
        "  [37] FALSE FALSE FALSE FALSE FALSE FALSE FALSE FALSE FALSE FALSE FALSE FALSE\n",
        "  [49] FALSE FALSE FALSE FALSE FALSE FALSE FALSE FALSE FALSE FALSE FALSE FALSE\n",
        "  [61] FALSE FALSE FALSE FALSE FALSE FALSE FALSE FALSE FALSE FALSE FALSE FALSE\n",
        "  [73] FALSE FALSE FALSE FALSE FALSE FALSE FALSE FALSE FALSE FALSE FALSE FALSE\n",
        "  [85] FALSE FALSE FALSE FALSE FALSE FALSE FALSE FALSE FALSE FALSE FALSE FALSE\n",
        "  [97] FALSE FALSE FALSE FALSE FALSE FALSE FALSE FALSE FALSE FALSE FALSE FALSE\n",
        " [109] FALSE FALSE FALSE FALSE FALSE FALSE FALSE FALSE FALSE FALSE FALSE FALSE\n",
        " [121] FALSE FALSE FALSE FALSE FALSE FALSE FALSE FALSE FALSE FALSE FALSE FALSE\n",
        " [133] FALSE FALSE FALSE FALSE FALSE FALSE FALSE FALSE FALSE FALSE FALSE FALSE\n",
        " [145] FALSE FALSE FALSE FALSE FALSE FALSE FALSE FALSE FALSE FALSE FALSE FALSE\n",
        " [157] FALSE FALSE FALSE FALSE FALSE FALSE FALSE FALSE FALSE FALSE FALSE FALSE\n",
        " [169] FALSE FALSE FALSE FALSE FALSE FALSE FALSE FALSE FALSE FALSE FALSE FALSE\n",
        " [181] FALSE FALSE FALSE FALSE FALSE FALSE FALSE FALSE FALSE FALSE FALSE FALSE\n",
        " [193] FALSE FALSE FALSE FALSE FALSE FALSE FALSE FALSE FALSE FALSE FALSE FALSE\n",
        " [205] FALSE FALSE FALSE FALSE FALSE FALSE FALSE FALSE FALSE FALSE FALSE FALSE\n",
        " [217] FALSE FALSE FALSE FALSE FALSE FALSE FALSE FALSE FALSE FALSE FALSE FALSE\n",
        " [229] FALSE FALSE FALSE FALSE FALSE FALSE FALSE FALSE FALSE FALSE FALSE FALSE\n",
        " [241] FALSE FALSE FALSE FALSE FALSE FALSE FALSE FALSE FALSE FALSE FALSE FALSE\n",
        " [253] FALSE FALSE FALSE FALSE FALSE FALSE FALSE FALSE FALSE FALSE FALSE FALSE\n",
        " [265] FALSE FALSE FALSE FALSE FALSE FALSE FALSE FALSE FALSE FALSE FALSE FALSE\n",
        " [277] FALSE FALSE FALSE FALSE FALSE FALSE FALSE FALSE FALSE FALSE FALSE FALSE\n",
        " [289] FALSE FALSE FALSE FALSE FALSE FALSE FALSE FALSE FALSE FALSE FALSE FALSE\n",
        " [301] FALSE FALSE FALSE FALSE FALSE FALSE FALSE FALSE FALSE FALSE FALSE FALSE\n",
        " [313] FALSE FALSE FALSE FALSE FALSE FALSE FALSE FALSE FALSE FALSE FALSE FALSE\n",
        " [325] FALSE FALSE FALSE FALSE FALSE FALSE FALSE FALSE FALSE FALSE FALSE FALSE\n",
        " [337] FALSE FALSE FALSE FALSE FALSE FALSE FALSE FALSE FALSE FALSE FALSE FALSE\n",
        " [349] FALSE FALSE FALSE FALSE FALSE FALSE FALSE FALSE FALSE FALSE FALSE FALSE\n",
        " [361] FALSE FALSE FALSE FALSE FALSE FALSE FALSE FALSE FALSE FALSE FALSE FALSE\n",
        " [373] FALSE FALSE FALSE FALSE FALSE FALSE FALSE FALSE FALSE FALSE FALSE FALSE\n",
        " [385] FALSE FALSE FALSE FALSE FALSE FALSE FALSE FALSE FALSE FALSE FALSE FALSE\n",
        " [397] FALSE FALSE FALSE FALSE FALSE FALSE FALSE FALSE FALSE FALSE FALSE FALSE\n",
        " [409] FALSE FALSE FALSE FALSE FALSE FALSE FALSE FALSE FALSE FALSE FALSE FALSE\n",
        " [421] FALSE FALSE FALSE FALSE FALSE FALSE FALSE FALSE FALSE FALSE FALSE FALSE\n",
        " [433] FALSE FALSE FALSE FALSE FALSE FALSE FALSE FALSE FALSE FALSE FALSE FALSE\n",
        " [445] FALSE FALSE FALSE FALSE FALSE FALSE FALSE FALSE FALSE FALSE FALSE FALSE\n",
        " [457] FALSE FALSE FALSE FALSE FALSE FALSE FALSE FALSE FALSE FALSE FALSE FALSE\n",
        " [469] FALSE FALSE FALSE FALSE FALSE FALSE FALSE FALSE FALSE FALSE FALSE FALSE\n",
        " [481] FALSE FALSE FALSE FALSE FALSE FALSE FALSE FALSE FALSE FALSE FALSE FALSE\n",
        " [493] FALSE FALSE FALSE FALSE FALSE FALSE FALSE FALSE FALSE FALSE FALSE FALSE\n",
        " [505] FALSE FALSE FALSE FALSE FALSE FALSE FALSE FALSE FALSE FALSE FALSE FALSE\n",
        " [517] FALSE FALSE FALSE FALSE FALSE FALSE FALSE FALSE FALSE FALSE FALSE FALSE\n",
        " [529] FALSE FALSE FALSE FALSE FALSE FALSE FALSE FALSE FALSE FALSE FALSE FALSE\n",
        " [541] FALSE FALSE FALSE FALSE FALSE FALSE FALSE FALSE FALSE FALSE FALSE FALSE\n",
        " [553] FALSE FALSE FALSE FALSE FALSE FALSE FALSE FALSE FALSE FALSE FALSE FALSE\n",
        " [565] FALSE FALSE FALSE FALSE FALSE FALSE FALSE FALSE FALSE FALSE FALSE FALSE\n",
        " [577] FALSE FALSE FALSE FALSE FALSE FALSE FALSE FALSE FALSE FALSE FALSE FALSE\n",
        " [589] FALSE FALSE FALSE FALSE FALSE FALSE FALSE FALSE FALSE FALSE FALSE FALSE\n",
        " [601] FALSE FALSE FALSE FALSE FALSE FALSE FALSE FALSE FALSE FALSE FALSE FALSE\n",
        " [613] FALSE FALSE FALSE FALSE FALSE FALSE FALSE FALSE FALSE FALSE FALSE FALSE\n",
        " [625] FALSE FALSE FALSE FALSE FALSE FALSE FALSE FALSE FALSE FALSE FALSE FALSE\n",
        " [637] FALSE FALSE FALSE FALSE FALSE FALSE FALSE FALSE FALSE FALSE FALSE FALSE\n",
        " [649] FALSE FALSE FALSE FALSE FALSE FALSE FALSE FALSE FALSE FALSE FALSE FALSE\n",
        " [661] FALSE FALSE FALSE FALSE FALSE FALSE FALSE FALSE FALSE FALSE FALSE FALSE\n",
        " [673] FALSE FALSE FALSE FALSE FALSE FALSE FALSE FALSE FALSE FALSE FALSE FALSE\n",
        " [685] FALSE FALSE FALSE FALSE FALSE FALSE FALSE FALSE FALSE FALSE FALSE FALSE\n",
        " [697] FALSE FALSE FALSE FALSE FALSE FALSE FALSE FALSE FALSE FALSE FALSE FALSE\n",
        " [709] FALSE FALSE FALSE FALSE FALSE FALSE FALSE FALSE FALSE FALSE FALSE FALSE\n",
        " [721] FALSE FALSE FALSE FALSE FALSE FALSE FALSE FALSE FALSE FALSE FALSE FALSE\n",
        " [733] FALSE FALSE FALSE FALSE FALSE FALSE FALSE FALSE FALSE FALSE FALSE FALSE\n",
        " [745] FALSE FALSE FALSE FALSE FALSE FALSE FALSE FALSE FALSE FALSE FALSE FALSE\n",
        " [757] FALSE FALSE FALSE FALSE FALSE FALSE FALSE FALSE FALSE FALSE FALSE FALSE\n",
        " [769] FALSE FALSE FALSE FALSE FALSE FALSE FALSE FALSE FALSE FALSE FALSE FALSE\n",
        " [781] FALSE FALSE FALSE FALSE FALSE FALSE FALSE FALSE FALSE FALSE FALSE FALSE\n",
        " [793] FALSE FALSE FALSE FALSE FALSE FALSE FALSE FALSE FALSE FALSE FALSE FALSE\n",
        " [805] FALSE FALSE FALSE FALSE FALSE FALSE FALSE FALSE FALSE FALSE FALSE FALSE\n",
        " [817] FALSE FALSE FALSE FALSE FALSE FALSE FALSE FALSE FALSE FALSE FALSE FALSE\n",
        " [829] FALSE FALSE FALSE FALSE FALSE FALSE FALSE FALSE FALSE FALSE FALSE FALSE\n",
        " [841] FALSE FALSE FALSE FALSE FALSE FALSE FALSE FALSE FALSE FALSE FALSE FALSE\n",
        " [853] FALSE FALSE FALSE FALSE FALSE FALSE FALSE FALSE FALSE FALSE FALSE FALSE\n",
        " [865] FALSE FALSE FALSE FALSE FALSE FALSE FALSE FALSE FALSE FALSE FALSE FALSE\n",
        " [877] FALSE FALSE FALSE FALSE FALSE FALSE FALSE FALSE FALSE FALSE FALSE FALSE\n",
        " [889] FALSE FALSE FALSE FALSE FALSE FALSE FALSE FALSE FALSE FALSE FALSE FALSE\n",
        " [901] FALSE FALSE FALSE FALSE FALSE FALSE FALSE FALSE FALSE FALSE FALSE FALSE\n",
        " [913] FALSE FALSE FALSE FALSE FALSE FALSE FALSE FALSE FALSE FALSE FALSE FALSE\n",
        " [925] FALSE FALSE FALSE FALSE FALSE FALSE FALSE FALSE FALSE FALSE FALSE FALSE\n",
        " [937] FALSE FALSE FALSE FALSE FALSE FALSE FALSE FALSE FALSE FALSE FALSE FALSE\n",
        " [949] FALSE FALSE FALSE FALSE FALSE FALSE FALSE FALSE FALSE FALSE FALSE FALSE\n",
        " [961] FALSE FALSE FALSE FALSE FALSE FALSE FALSE FALSE FALSE FALSE FALSE FALSE\n",
        " [973] FALSE FALSE FALSE FALSE FALSE FALSE FALSE FALSE FALSE FALSE FALSE FALSE\n",
        " [985] FALSE FALSE FALSE FALSE FALSE FALSE FALSE FALSE FALSE FALSE FALSE FALSE\n",
        " [997] FALSE FALSE FALSE FALSE FALSE FALSE FALSE FALSE FALSE FALSE FALSE FALSE\n",
        "[1009] FALSE FALSE FALSE FALSE FALSE FALSE FALSE FALSE FALSE FALSE FALSE FALSE\n",
        "[1021] FALSE FALSE FALSE FALSE FALSE FALSE FALSE FALSE FALSE FALSE FALSE FALSE\n",
        "[1033] FALSE FALSE FALSE FALSE FALSE FALSE FALSE FALSE FALSE FALSE FALSE FALSE\n",
        "[1045] FALSE FALSE FALSE FALSE FALSE FALSE FALSE FALSE FALSE FALSE FALSE FALSE\n",
        "[1057] FALSE FALSE FALSE FALSE FALSE FALSE FALSE FALSE FALSE FALSE FALSE FALSE\n",
        "[1069] FALSE FALSE FALSE FALSE FALSE FALSE FALSE FALSE FALSE FALSE FALSE FALSE\n",
        "[1081] FALSE FALSE FALSE FALSE FALSE FALSE FALSE FALSE FALSE FALSE FALSE FALSE\n",
        "[1093] FALSE FALSE FALSE FALSE FALSE FALSE FALSE FALSE FALSE FALSE FALSE FALSE\n",
        "[1105] FALSE FALSE FALSE FALSE FALSE FALSE FALSE FALSE FALSE FALSE FALSE FALSE\n",
        "[1117] FALSE FALSE FALSE FALSE FALSE FALSE FALSE FALSE FALSE FALSE FALSE FALSE\n",
        "[1129] FALSE FALSE FALSE FALSE FALSE FALSE FALSE FALSE FALSE FALSE FALSE FALSE\n",
        "[1141] FALSE FALSE FALSE FALSE FALSE FALSE FALSE FALSE FALSE FALSE FALSE FALSE\n",
        "[1153] FALSE FALSE FALSE FALSE FALSE FALSE FALSE FALSE FALSE FALSE FALSE FALSE\n",
        "[1165] FALSE FALSE FALSE FALSE FALSE FALSE FALSE FALSE FALSE FALSE FALSE FALSE\n",
        "[1177] FALSE FALSE FALSE FALSE FALSE FALSE FALSE FALSE FALSE FALSE FALSE FALSE\n",
        "[1189] FALSE FALSE FALSE FALSE FALSE FALSE FALSE FALSE FALSE FALSE FALSE FALSE\n",
        "[1201] FALSE FALSE FALSE FALSE FALSE FALSE FALSE FALSE FALSE FALSE FALSE FALSE\n",
        "[1213] FALSE FALSE FALSE FALSE FALSE FALSE FALSE FALSE FALSE FALSE FALSE FALSE\n",
        "[1225] FALSE FALSE FALSE FALSE FALSE FALSE FALSE FALSE FALSE FALSE FALSE FALSE\n",
        "[1237] FALSE FALSE FALSE FALSE FALSE FALSE FALSE FALSE FALSE FALSE FALSE FALSE\n",
        "[1249] FALSE FALSE FALSE FALSE FALSE FALSE FALSE FALSE FALSE FALSE FALSE FALSE\n",
        "[1261] FALSE FALSE FALSE FALSE FALSE FALSE FALSE FALSE FALSE FALSE FALSE FALSE\n",
        "[1273] FALSE FALSE FALSE FALSE FALSE FALSE FALSE FALSE FALSE FALSE FALSE FALSE\n",
        "[1285] FALSE FALSE FALSE FALSE FALSE FALSE FALSE FALSE FALSE FALSE FALSE FALSE\n",
        "[1297] FALSE FALSE FALSE FALSE FALSE FALSE FALSE FALSE FALSE FALSE FALSE FALSE\n",
        "[1309] FALSE FALSE FALSE FALSE FALSE FALSE FALSE FALSE FALSE FALSE FALSE FALSE\n",
        "[1321] FALSE FALSE FALSE FALSE FALSE FALSE FALSE"
       ]
      }
     ],
     "prompt_number": 12
    },
    {
     "cell_type": "code",
     "collapsed": false,
     "input": [
      "sum(is.na(restData$councilDistrict))"
     ],
     "language": "python",
     "metadata": {},
     "outputs": [
      {
       "metadata": {},
       "output_type": "pyout",
       "prompt_number": 13,
       "text": [
        "[1] 0"
       ]
      }
     ],
     "prompt_number": 13
    },
    {
     "cell_type": "markdown",
     "metadata": {},
     "source": [
      "* check if there are **`any()`** NAs"
     ]
    },
    {
     "cell_type": "code",
     "collapsed": false,
     "input": [
      "any(is.na(restData$councilDistrict))"
     ],
     "language": "python",
     "metadata": {},
     "outputs": [
      {
       "metadata": {},
       "output_type": "pyout",
       "prompt_number": 14,
       "text": [
        "[1] FALSE"
       ]
      }
     ],
     "prompt_number": 14
    },
    {
     "cell_type": "markdown",
     "metadata": {},
     "source": [
      "* check if **`all()`** the records satisfy the condition"
     ]
    },
    {
     "cell_type": "code",
     "collapsed": false,
     "input": [
      "all(restData$zipCode > 0)"
     ],
     "language": "python",
     "metadata": {},
     "outputs": [
      {
       "metadata": {},
       "output_type": "pyout",
       "prompt_number": 15,
       "text": [
        "[1] FALSE"
       ]
      }
     ],
     "prompt_number": 15
    },
    {
     "cell_type": "heading",
     "level": 3,
     "metadata": {},
     "source": [
      "Sums across column \u2014 `colSums()`, or rows \u2014 `rowSums()`"
     ]
    },
    {
     "cell_type": "code",
     "collapsed": true,
     "input": [
      "colSums(is.na(restData))"
     ],
     "language": "python",
     "metadata": {},
     "outputs": [
      {
       "metadata": {},
       "output_type": "pyout",
       "prompt_number": 15,
       "text": [
        "           name         zipCode    neighborhood councilDistrict  policeDistrict \n",
        "              0               0               0               0               0 \n",
        "     Location.1 \n",
        "              0 "
       ]
      }
     ],
     "prompt_number": 15
    },
    {
     "cell_type": "code",
     "collapsed": false,
     "input": [
      "all(0 == colSums(is.na(restData)))"
     ],
     "language": "python",
     "metadata": {},
     "outputs": [
      {
       "metadata": {},
       "output_type": "pyout",
       "prompt_number": 16,
       "text": [
        "[1] TRUE"
       ]
      }
     ],
     "prompt_number": 16
    },
    {
     "cell_type": "heading",
     "level": 3,
     "metadata": {},
     "source": [
      "Values with specific characteristics \u2014 `%in%`"
     ]
    },
    {
     "cell_type": "code",
     "collapsed": false,
     "input": [
      "table(restData$zipCode == '21212')"
     ],
     "language": "python",
     "metadata": {},
     "outputs": [
      {
       "metadata": {},
       "output_type": "pyout",
       "prompt_number": 17,
       "text": [
        "\n",
        "FALSE  TRUE \n",
        " 1299    28 "
       ]
      }
     ],
     "prompt_number": 17
    },
    {
     "cell_type": "code",
     "collapsed": false,
     "input": [
      "# are there any variables that fall into this vector?\n",
      "\n",
      "table(restData$zipCode %in% c('21212'))"
     ],
     "language": "python",
     "metadata": {},
     "outputs": [
      {
       "metadata": {},
       "output_type": "pyout",
       "prompt_number": 18,
       "text": [
        "\n",
        "FALSE  TRUE \n",
        " 1299    28 "
       ]
      }
     ],
     "prompt_number": 18
    },
    {
     "cell_type": "code",
     "collapsed": false,
     "input": [
      "table(restData$zipCode %in% c('21212', 21213))"
     ],
     "language": "python",
     "metadata": {},
     "outputs": [
      {
       "metadata": {},
       "output_type": "pyout",
       "prompt_number": 19,
       "text": [
        "\n",
        "FALSE  TRUE \n",
        " 1268    59 "
       ]
      }
     ],
     "prompt_number": 19
    },
    {
     "cell_type": "code",
     "collapsed": false,
     "input": [
      "# use it to subset a data set:\n",
      "#   * only get the rows that have zip codes included in that array\n",
      "#   * pass the condition to the row subsetting component of the DF\n",
      "\n",
      "restData[restData$zipCode %in% c('21212', '21213'), ]"
     ],
     "language": "python",
     "metadata": {},
     "outputs": []
    },
    {
     "cell_type": "heading",
     "level": 3,
     "metadata": {},
     "source": [
      "Cross tabs \u2014 `xtabs()`"
     ]
    },
    {
     "cell_type": "code",
     "collapsed": false,
     "input": [
      "# Load data on the Berkley admissions\n",
      "data(UCBAdmissions)"
     ],
     "language": "python",
     "metadata": {},
     "outputs": [],
     "prompt_number": 20
    },
    {
     "cell_type": "code",
     "collapsed": false,
     "input": [
      "df.ucb <- as.data.frame(UCBAdmissions)\n",
      "summary(df.ucb)"
     ],
     "language": "python",
     "metadata": {},
     "outputs": [
      {
       "metadata": {},
       "output_type": "pyout",
       "prompt_number": 22,
       "text": [
        "      Admit       Gender   Dept       Freq      \n",
        " Admitted:12   Male  :12   A:4   Min.   :  8.0  \n",
        " Rejected:12   Female:12   B:4   1st Qu.: 80.0  \n",
        "                           C:4   Median :170.0  \n",
        "                           D:4   Mean   :188.6  \n",
        "                           E:4   3rd Qu.:302.5  \n",
        "                           F:4   Max.   :512.0  "
       ]
      }
     ],
     "prompt_number": 22
    },
    {
     "cell_type": "code",
     "collapsed": false,
     "input": [
      "names(df.ucb)"
     ],
     "language": "python",
     "metadata": {},
     "outputs": [
      {
       "metadata": {},
       "output_type": "pyout",
       "prompt_number": 23,
       "text": [
        "[1] \"Admit\"  \"Gender\" \"Dept\"   \"Freq\"  "
       ]
      }
     ],
     "prompt_number": 23
    },
    {
     "cell_type": "markdown",
     "metadata": {},
     "source": [
      "**cross tabs**: identify where the relationships exist in the data set\n",
      "  * _left_: the var that you want displayed in the table\n",
      "    * display a count of frequencies\n",
      "  * _right_: broken down by different kinds of variables\n",
      "    * gender and weather they were admitted or not"
     ]
    },
    {
     "cell_type": "code",
     "collapsed": false,
     "input": [
      "xt <- xtabs(Freq ~ Gender + Admit, data = df.ucb)\n",
      "\n",
      "xt"
     ],
     "language": "python",
     "metadata": {},
     "outputs": [
      {
       "metadata": {},
       "output_type": "pyout",
       "prompt_number": 24,
       "text": [
        "        Admit\n",
        "Gender   Admitted Rejected\n",
        "  Male       1198     1493\n",
        "  Female      557     1278"
       ]
      }
     ],
     "prompt_number": 24
    },
    {
     "cell_type": "heading",
     "level": 3,
     "metadata": {},
     "source": [
      "Flat tables \u2014 `ftable()`"
     ]
    },
    {
     "cell_type": "markdown",
     "metadata": {},
     "source": [
      "You can also do cross tabs for a larger number of variables\n",
      "   * but they are often kind of hard to see"
     ]
    },
    {
     "cell_type": "code",
     "collapsed": false,
     "input": [
      "summary(warpbreaks)"
     ],
     "language": "python",
     "metadata": {},
     "outputs": [
      {
       "metadata": {},
       "output_type": "pyout",
       "prompt_number": 26,
       "text": [
        "     breaks      wool   tension\n",
        " Min.   :10.00   A:27   L:18   \n",
        " 1st Qu.:18.25   B:27   M:18   \n",
        " Median :26.00          H:18   \n",
        " Mean   :28.15                 \n",
        " 3rd Qu.:34.00                 \n",
        " Max.   :70.00                 "
       ]
      }
     ],
     "prompt_number": 26
    },
    {
     "cell_type": "code",
     "collapsed": false,
     "input": [
      "str(warpbreaks)"
     ],
     "language": "python",
     "metadata": {},
     "outputs": [
      {
       "output_type": "stream",
       "stream": "stdout",
       "text": [
        "'data.frame':\t54 obs. of  3 variables:\n",
        " $ breaks : num  26 30 54 25 70 52 51 26 67 18 ...\n",
        " $ wool   : Factor w/ 2 levels \"A\",\"B\": 1 1 1 1 1 1 1 1 1 1 ...\n",
        " $ tension: Factor w/ 3 levels \"L\",\"M\",\"H\": 1 1 1 1 1 1 1 1 1 2 ...\n"
       ]
      }
     ],
     "prompt_number": 27
    },
    {
     "cell_type": "code",
     "collapsed": false,
     "input": [
      "warpbreaks$replicate <- rep(1:9, len = 54)"
     ],
     "language": "python",
     "metadata": {},
     "outputs": [],
     "prompt_number": 28
    },
    {
     "cell_type": "code",
     "collapsed": false,
     "input": [
      "summary(warpbreaks)"
     ],
     "language": "python",
     "metadata": {},
     "outputs": [
      {
       "metadata": {},
       "output_type": "pyout",
       "prompt_number": 30,
       "text": [
        "     breaks      wool   tension   replicate\n",
        " Min.   :10.00   A:27   L:18    Min.   :1  \n",
        " 1st Qu.:18.25   B:27   M:18    1st Qu.:3  \n",
        " Median :26.00          H:18    Median :5  \n",
        " Mean   :28.15                  Mean   :5  \n",
        " 3rd Qu.:34.00                  3rd Qu.:7  \n",
        " Max.   :70.00                  Max.   :9  "
       ]
      }
     ],
     "prompt_number": 30
    },
    {
     "cell_type": "code",
     "collapsed": false,
     "input": [
      "# break breaks down by all the other variables in the data set:\n",
      "#   * replicate\n",
      "#   * tension\n",
      "#   * wool\n",
      "\n",
      "xt <- xtabs(breaks ~ ., data = warpbreaks)\n",
      "\n",
      "xt"
     ],
     "language": "python",
     "metadata": {},
     "outputs": [
      {
       "metadata": {},
       "output_type": "pyout",
       "prompt_number": 32,
       "text": [
        ", , replicate = 1\n",
        "\n",
        "    tension\n",
        "wool  L  M  H\n",
        "   A 26 18 36\n",
        "   B 27 42 20\n",
        "\n",
        ", , replicate = 2\n",
        "\n",
        "    tension\n",
        "wool  L  M  H\n",
        "   A 30 21 21\n",
        "   B 14 26 21\n",
        "\n",
        ", , replicate = 3\n",
        "\n",
        "    tension\n",
        "wool  L  M  H\n",
        "   A 54 29 24\n",
        "   B 29 19 24\n",
        "\n",
        ", , replicate = 4\n",
        "\n",
        "    tension\n",
        "wool  L  M  H\n",
        "   A 25 17 18\n",
        "   B 19 16 17\n",
        "\n",
        ", , replicate = 5\n",
        "\n",
        "    tension\n",
        "wool  L  M  H\n",
        "   A 70 12 10\n",
        "   B 29 39 13\n",
        "\n",
        ", , replicate = 6\n",
        "\n",
        "    tension\n",
        "wool  L  M  H\n",
        "   A 52 18 43\n",
        "   B 31 28 15\n",
        "\n",
        ", , replicate = 7\n",
        "\n",
        "    tension\n",
        "wool  L  M  H\n",
        "   A 51 35 28\n",
        "   B 41 21 15\n",
        "\n",
        ", , replicate = 8\n",
        "\n",
        "    tension\n",
        "wool  L  M  H\n",
        "   A 26 30 15\n",
        "   B 20 39 16\n",
        "\n",
        ", , replicate = 9\n",
        "\n",
        "    tension\n",
        "wool  L  M  H\n",
        "   A 67 36 26\n",
        "   B 44 29 28\n"
       ]
      }
     ],
     "prompt_number": 32
    },
    {
     "cell_type": "code",
     "collapsed": false,
     "input": [
      "# Summarize the data into a much smaller, more compact form\n",
      "ftable(xt)"
     ],
     "language": "python",
     "metadata": {},
     "outputs": [
      {
       "metadata": {},
       "output_type": "pyout",
       "prompt_number": 33,
       "text": [
        "             replicate  1  2  3  4  5  6  7  8  9\n",
        "wool tension                                     \n",
        "A    L                 26 30 54 25 70 52 51 26 67\n",
        "     M                 18 21 29 17 12 18 35 30 36\n",
        "     H                 36 21 24 18 10 43 28 15 26\n",
        "B    L                 27 14 29 19 29 31 41 20 44\n",
        "     M                 42 26 19 16 39 28 21 39 29\n",
        "     H                 20 21 24 17 13 15 15 16 28"
       ]
      }
     ],
     "prompt_number": 33
    },
    {
     "cell_type": "heading",
     "level": 3,
     "metadata": {},
     "source": [
      "Size of the data set \u2014 `object.size()`"
     ]
    },
    {
     "cell_type": "code",
     "collapsed": false,
     "input": [
      "fakeData = rnorm(1e5)\n",
      "object.size(fakeData)"
     ],
     "language": "python",
     "metadata": {},
     "outputs": [
      {
       "metadata": {},
       "output_type": "pyout",
       "prompt_number": 34,
       "text": [
        "800040 bytes"
       ]
      }
     ],
     "prompt_number": 34
    },
    {
     "cell_type": "code",
     "collapsed": false,
     "input": [
      "print(object.size(fakeData), units = 'Mb')"
     ],
     "language": "python",
     "metadata": {},
     "outputs": [
      {
       "output_type": "stream",
       "stream": "stdout",
       "text": [
        "0.8 Mb\n"
       ]
      }
     ],
     "prompt_number": 35
    },
    {
     "cell_type": "markdown",
     "metadata": {},
     "source": [
      "---"
     ]
    },
    {
     "cell_type": "heading",
     "level": 2,
     "metadata": {},
     "source": [
      "Creating New Variables"
     ]
    },
    {
     "cell_type": "markdown",
     "metadata": {},
     "source": [
      "### Why?\n",
      "* oftentimes the raw data doesn't have a value we're looking for\n",
      "* need to transform the data to get the value we would like to have\n",
      "* those values should be added to the data frames we're working with\n",
      "  * predictors\n",
      "* common variables:\n",
      "  * missingness indicators\n",
      "  * \"cutting up\" quantitative variables\n",
      "    * factor versions of quantitative variables\n",
      "  * applying transformations\n",
      "    * on data with strange distributions"
     ]
    },
    {
     "cell_type": "code",
     "collapsed": false,
     "input": [
      "restData <- read.csv('./data/restaurants.csv')"
     ],
     "language": "python",
     "metadata": {},
     "outputs": [],
     "prompt_number": 36
    },
    {
     "cell_type": "heading",
     "level": 3,
     "metadata": {},
     "source": [
      "Creating sequences \u2014 `seq()`"
     ]
    },
    {
     "cell_type": "markdown",
     "metadata": {},
     "source": [
      "Used to index different operations we'd be doing on data"
     ]
    },
    {
     "cell_type": "heading",
     "level": 4,
     "metadata": {},
     "source": [
      "Define sequence by min, max and step"
     ]
    },
    {
     "cell_type": "code",
     "collapsed": false,
     "input": [
      "s1 <- seq(1, 10, by = 2)\n",
      "\n",
      "s1"
     ],
     "language": "python",
     "metadata": {},
     "outputs": [
      {
       "metadata": {},
       "output_type": "pyout",
       "prompt_number": 37,
       "text": [
        "[1] 1 3 5 7 9"
       ]
      }
     ],
     "prompt_number": 37
    },
    {
     "cell_type": "heading",
     "level": 4,
     "metadata": {},
     "source": [
      "Define sequence by min, max, and total value count"
     ]
    },
    {
     "cell_type": "code",
     "collapsed": false,
     "input": [
      "s2 <- seq(1, 10, length = 3)\n",
      "\n",
      "s2"
     ],
     "language": "python",
     "metadata": {},
     "outputs": [
      {
       "metadata": {},
       "output_type": "pyout",
       "prompt_number": 38,
       "text": [
        "[1]  1.0  5.5 10.0"
       ]
      }
     ],
     "prompt_number": 38
    },
    {
     "cell_type": "markdown",
     "metadata": {},
     "source": [
      "#### Define sequence along the length of a vector\n",
      "  * to be used as an index\n",
      "  * contains consecutive indices\n",
      "  * can be used over the vector to\n",
      "    * loop over the values inside\n",
      "    * access subsets of the data set"
     ]
    },
    {
     "cell_type": "code",
     "collapsed": false,
     "input": [
      "x <- c(1, 3, 8, 25, 100)\n",
      "\n",
      "seq(along = x)"
     ],
     "language": "python",
     "metadata": {},
     "outputs": [
      {
       "metadata": {},
       "output_type": "pyout",
       "prompt_number": 39,
       "text": [
        "[1] 1 2 3 4 5"
       ]
      }
     ],
     "prompt_number": 39
    },
    {
     "cell_type": "heading",
     "level": 3,
     "metadata": {},
     "source": [
      "Subsetting variables"
     ]
    },
    {
     "cell_type": "code",
     "collapsed": false,
     "input": [
      "restData$nearMe = restData$neighborhood %in% c('Roland Park', 'Homeland')\n",
      "\n",
      "table(restData$nearMe)"
     ],
     "language": "python",
     "metadata": {},
     "outputs": [
      {
       "metadata": {},
       "output_type": "pyout",
       "prompt_number": 41,
       "text": [
        "\n",
        "FALSE  TRUE \n",
        " 1314    13 "
       ]
      }
     ],
     "prompt_number": 41
    },
    {
     "cell_type": "heading",
     "level": 3,
     "metadata": {},
     "source": [
      "Creating binary variables"
     ]
    },
    {
     "cell_type": "code",
     "collapsed": false,
     "input": [
      "# he he, ternary if equivalent\n",
      "restData$zipWrong = ifelse(restData$zipCode < 0, TRUE, FALSE)\n",
      "\n",
      "table(restData$zipWrong, restData$zipCode < 0)"
     ],
     "language": "python",
     "metadata": {},
     "outputs": [
      {
       "metadata": {},
       "output_type": "pyout",
       "prompt_number": 43,
       "text": [
        "       \n",
        "        FALSE TRUE\n",
        "  FALSE  1326    0\n",
        "  TRUE      0    1"
       ]
      }
     ],
     "prompt_number": 43
    },
    {
     "cell_type": "heading",
     "level": 3,
     "metadata": {},
     "source": [
      "Creating categorical variables \u2014 `cut()`"
     ]
    },
    {
     "cell_type": "code",
     "collapsed": false,
     "input": [
      "# break a quantitative variable up into a categorical variable\n",
      "# break the zip codes up into consecutive numbers \n",
      "#   * according to the quantiles\n",
      "\n",
      "breaks = quantile(restData$zipCode)\n",
      "\n",
      "restData$zipGroups = cut(restData$zipCode, breaks = breaks)\n",
      "\n",
      "table(restData$zipGroups)"
     ],
     "language": "python",
     "metadata": {},
     "outputs": [
      {
       "metadata": {},
       "output_type": "pyout",
       "prompt_number": 49,
       "text": [
        "\n",
        "(-2.123e+04,2.12e+04]  (2.12e+04,2.122e+04] (2.122e+04,2.123e+04] \n",
        "                  337                   375                   282 \n",
        "(2.123e+04,2.129e+04] \n",
        "                  332 "
       ]
      }
     ],
     "prompt_number": 49
    },
    {
     "cell_type": "code",
     "collapsed": false,
     "input": [
      "table(restData$zipGroups, restData$zipCode)"
     ],
     "language": "python",
     "metadata": {},
     "outputs": [
      {
       "metadata": {},
       "output_type": "pyout",
       "prompt_number": 50,
       "text": [
        "                       \n",
        "                        -21226 21201 21202 21205 21206 21207 21208 21209 21210\n",
        "  (-2.123e+04,2.12e+04]      0   136   201     0     0     0     0     0     0\n",
        "  (2.12e+04,2.122e+04]       0     0     0    27    30     4     1     8    23\n",
        "  (2.122e+04,2.123e+04]      0     0     0     0     0     0     0     0     0\n",
        "  (2.123e+04,2.129e+04]      0     0     0     0     0     0     0     0     0\n",
        "                       \n",
        "                        21211 21212 21213 21214 21215 21216 21217 21218 21220\n",
        "  (-2.123e+04,2.12e+04]     0     0     0     0     0     0     0     0     0\n",
        "  (2.12e+04,2.122e+04]     41    28    31    17    54    10    32    69     0\n",
        "  (2.122e+04,2.123e+04]     0     0     0     0     0     0     0     0     1\n",
        "  (2.123e+04,2.129e+04]     0     0     0     0     0     0     0     0     0\n",
        "                       \n",
        "                        21222 21223 21224 21225 21226 21227 21229 21230 21231\n",
        "  (-2.123e+04,2.12e+04]     0     0     0     0     0     0     0     0     0\n",
        "  (2.12e+04,2.122e+04]      0     0     0     0     0     0     0     0     0\n",
        "  (2.122e+04,2.123e+04]     7    56   199    19     0     0     0     0     0\n",
        "  (2.123e+04,2.129e+04]     0     0     0     0    18     4    13   156   127\n",
        "                       \n",
        "                        21234 21237 21239 21251 21287\n",
        "  (-2.123e+04,2.12e+04]     0     0     0     0     0\n",
        "  (2.12e+04,2.122e+04]      0     0     0     0     0\n",
        "  (2.122e+04,2.123e+04]     0     0     0     0     0\n",
        "  (2.123e+04,2.129e+04]     7     1     3     2     1"
       ]
      }
     ],
     "prompt_number": 50
    },
    {
     "cell_type": "heading",
     "level": 3,
     "metadata": {},
     "source": [
      "Easier cutting \u2014 `Hmisc` package"
     ]
    },
    {
     "cell_type": "code",
     "collapsed": false,
     "input": [
      "install.packages('Hmisc')"
     ],
     "language": "python",
     "metadata": {},
     "outputs": [
      {
       "output_type": "stream",
       "stream": "stderr",
       "text": [
        "Installing package into \u2018/home/vagrant/R/x86_64-pc-linux-gnu-library/3.1\u2019\n",
        "(as \u2018lib\u2019 is unspecified)\n"
       ]
      },
      {
       "output_type": "stream",
       "stream": "stderr",
       "text": [
        "also installing the dependencies \u2018survival\u2019, \u2018Formula\u2019, \u2018latticeExtra\u2019, \u2018cluster\u2019, \u2018rpart\u2019, \u2018acepack\u2019\n",
        "\n"
       ]
      },
      {
       "output_type": "stream",
       "stream": "stdout",
       "text": [
        "\n",
        "The downloaded source packages are in\n",
        "\t\u2018/tmp/RtmpsCvRMm/downloaded_packages\u2019\n"
       ]
      }
     ],
     "prompt_number": 52
    },
    {
     "cell_type": "code",
     "collapsed": false,
     "input": [
      "library(Hmisc)"
     ],
     "language": "python",
     "metadata": {},
     "outputs": [
      {
       "output_type": "stream",
       "stream": "stderr",
       "text": [
        "Loading required package: grid\n"
       ]
      },
      {
       "output_type": "stream",
       "stream": "stderr",
       "text": [
        "Loading required package: lattice\n"
       ]
      },
      {
       "output_type": "stream",
       "stream": "stderr",
       "text": [
        "Loading required package: survival\n"
       ]
      },
      {
       "output_type": "stream",
       "stream": "stderr",
       "text": [
        "Loading required package: splines\n"
       ]
      },
      {
       "output_type": "stream",
       "stream": "stderr",
       "text": [
        "Loading required package: Formula\n"
       ]
      },
      {
       "output_type": "stream",
       "stream": "stderr",
       "text": [
        "\n",
        "Attaching package: \u2018Hmisc\u2019\n",
        "\n"
       ]
      },
      {
       "output_type": "stream",
       "stream": "stderr",
       "text": [
        "The following objects are masked from \u2018package:base\u2019:\n",
        "\n",
        "    format.pval, round.POSIXt, trunc.POSIXt, units\n",
        "\n"
       ]
      }
     ],
     "prompt_number": 53
    },
    {
     "cell_type": "code",
     "collapsed": false,
     "input": [
      "# cut it in G many groups\n",
      "# according to quantiles?!?\n",
      "\n",
      "restData$zipGroups = cut2(restData$zipCode, g = 4)\n",
      "\n",
      "table(restData$zipGroups)"
     ],
     "language": "python",
     "metadata": {},
     "outputs": [
      {
       "metadata": {},
       "output_type": "pyout",
       "prompt_number": 54,
       "text": [
        "\n",
        "[-21226,21205) [ 21205,21220) [ 21220,21227) [ 21227,21287] \n",
        "           338            375            300            314 "
       ]
      }
     ],
     "prompt_number": 54
    },
    {
     "cell_type": "heading",
     "level": 3,
     "metadata": {},
     "source": [
      "Creating factor variables \u2014 `factor()`"
     ]
    },
    {
     "cell_type": "code",
     "collapsed": false,
     "input": [
      "# zipCode is an integer variable when loaded into R\n",
      "# but we might want to turn it into a factor variable\n",
      "#   * take integer\n",
      "#   * return factor\n",
      "\n",
      "restData$zcf <- factor(restData$zipCode)\n",
      "\n",
      "restData$zcf[1:10]"
     ],
     "language": "python",
     "metadata": {},
     "outputs": [
      {
       "metadata": {},
       "output_type": "pyout",
       "prompt_number": 55,
       "text": [
        " [1] 21206 21231 21224 21211 21223 21218 21205 21211 21205 21231\n",
        "32 Levels: -21226 21201 21202 21205 21206 21207 21208 21209 21210 ... 21287"
       ]
      }
     ],
     "prompt_number": 55
    },
    {
     "cell_type": "code",
     "collapsed": false,
     "input": [
      "class(restData$zcf)"
     ],
     "language": "python",
     "metadata": {},
     "outputs": [
      {
       "metadata": {},
       "output_type": "pyout",
       "prompt_number": 56,
       "text": [
        "[1] \"factor\""
       ]
      }
     ],
     "prompt_number": 56
    },
    {
     "cell_type": "markdown",
     "metadata": {},
     "source": [
      "---"
     ]
    },
    {
     "cell_type": "heading",
     "level": 2,
     "metadata": {},
     "source": [
      "Reshaping Data"
     ]
    },
    {
     "cell_type": "code",
     "collapsed": false,
     "input": [],
     "language": "python",
     "metadata": {},
     "outputs": []
    },
    {
     "cell_type": "markdown",
     "metadata": {},
     "source": [
      "---"
     ]
    },
    {
     "cell_type": "heading",
     "level": 2,
     "metadata": {},
     "source": [
      "Merging Data"
     ]
    },
    {
     "cell_type": "code",
     "collapsed": false,
     "input": [],
     "language": "python",
     "metadata": {},
     "outputs": []
    }
   ],
   "metadata": {}
  }
 ]
}